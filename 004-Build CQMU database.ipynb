{
 "cells": [
  {
   "cell_type": "markdown",
   "id": "339126ca",
   "metadata": {},
   "source": [
    "# Import package"
   ]
  },
  {
   "cell_type": "code",
   "execution_count": null,
   "id": "47bccfc4",
   "metadata": {},
   "outputs": [],
   "source": [
    "import pandas as pd\n",
    "import numpy as np\n",
    "import matplotlib.pyplot as plt\n",
    "import shutil,subprocess\n",
    "import os\n",
    "import subprocess\n",
    "import re\n",
    "import mzbatch\n",
    "from pyopenms import MSExperiment,MzMLFile,PeakPickerHiRes\n",
    "import time\n",
    "import pyopenms\n",
    "from pyopenms import Plotting\n",
    "import importlib as imp\n",
    "imp.reload(mzbatch)"
   ]
  },
  {
   "cell_type": "code",
   "execution_count": null,
   "id": "c9a2d25d",
   "metadata": {},
   "outputs": [],
   "source": [
    "# Set path\n",
    "root_path = '../../Fulaoshi/230821_mzML/'\n",
    "middle_list = ['700_Amide','700_C18','873_Amide','873_C18','3545_Amide','3545_C18','BC_Amide','BC_C18']\n",
    "batch_list = ['700_Amide','700_C18','873_Amide','873_C18','3545_Amide','3545_C18','BC_Amide','BC_C18']\n",
    "out_root_path = '../../Fulaoshi/230821_mzML_res/rerun240410'"
   ]
  },
  {
   "cell_type": "markdown",
   "id": "c7541bc2-87ec-40d7-b4bc-2e2fc888e969",
   "metadata": {},
   "source": [
    "# Construct the filtered secondary gallery"
   ]
  },
  {
   "cell_type": "code",
   "execution_count": 702,
   "id": "c2e283f4-4c2d-4d46-99e8-5bd9214c0dac",
   "metadata": {
    "tags": []
   },
   "outputs": [
    {
     "data": {
      "text/plain": [
       "(2430425, 19)"
      ]
     },
     "execution_count": 702,
     "metadata": {},
     "output_type": "execute_result"
    }
   ],
   "source": [
    "# con_MS2_info_all_df = pd.read_pickle(f'{out_root_path}/concat_MS2_info_best_df.pkl')\n",
    "con_MS2_info_all_df = pd.read_pickle(f'{out_root_path}/concat_MS2_info_all_df.pkl')\n",
    "con_MS2_info_all_df = con_MS2_info_all_df.reset_index(drop=True)\n",
    "con_MS2_info_all_df = con_MS2_info_all_df.astype('str')\n",
    "con_MS2_info_all_df = con_MS2_info_all_df[(con_MS2_info_all_df['filename']!=\"False\")&(con_MS2_info_all_df['EV']!=\"204060\")]\n",
    "con_MS2_info_all_df.shape"
   ]
  },
  {
   "cell_type": "code",
   "execution_count": 703,
   "id": "4b275829-3858-47c7-be09-366ae8a52974",
   "metadata": {
    "tags": []
   },
   "outputs": [
    {
     "name": "stdout",
     "output_type": "stream",
     "text": [
      "(2614930, 21)\n"
     ]
    },
    {
     "data": {
      "text/html": [
       "<div>\n",
       "<style scoped>\n",
       "    .dataframe tbody tr th:only-of-type {\n",
       "        vertical-align: middle;\n",
       "    }\n",
       "\n",
       "    .dataframe tbody tr th {\n",
       "        vertical-align: top;\n",
       "    }\n",
       "\n",
       "    .dataframe thead th {\n",
       "        text-align: right;\n",
       "    }\n",
       "</style>\n",
       "<table border=\"1\" class=\"dataframe\">\n",
       "  <thead>\n",
       "    <tr style=\"text-align: right;\">\n",
       "      <th></th>\n",
       "      <th>batch</th>\n",
       "      <th>sampleid</th>\n",
       "      <th>CAS No.</th>\n",
       "      <th>EV</th>\n",
       "      <th>pos_neg</th>\n",
       "      <th>mz</th>\n",
       "      <th>Product Name</th>\n",
       "      <th>filename</th>\n",
       "      <th>refer_valid</th>\n",
       "      <th>ref_rt</th>\n",
       "      <th>...</th>\n",
       "      <th>is_max_ms1</th>\n",
       "      <th>ms1_intensity</th>\n",
       "      <th>is_max_mol</th>\n",
       "      <th>mol_intensity</th>\n",
       "      <th>is_max_base</th>\n",
       "      <th>base_intensity</th>\n",
       "      <th>ms1_base_rate</th>\n",
       "      <th>ms1_mol_rate</th>\n",
       "      <th>bscp</th>\n",
       "      <th>filepath</th>\n",
       "    </tr>\n",
       "  </thead>\n",
       "  <tbody>\n",
       "    <tr>\n",
       "      <th>0</th>\n",
       "      <td>700_Amide</td>\n",
       "      <td>S98</td>\n",
       "      <td>576-42-1</td>\n",
       "      <td>1</td>\n",
       "      <td>neg</td>\n",
       "      <td>209.03029</td>\n",
       "      <td>D-Glucaric acid (potassium)</td>\n",
       "      <td>576-42-1_NCE1_neg_MS2_12037_802.39.csv</td>\n",
       "      <td>1</td>\n",
       "      <td>826.2</td>\n",
       "      <td>...</td>\n",
       "      <td>0</td>\n",
       "      <td>690369.0</td>\n",
       "      <td>0</td>\n",
       "      <td>488907.75</td>\n",
       "      <td>0</td>\n",
       "      <td>488907.75</td>\n",
       "      <td>1.412063932306248</td>\n",
       "      <td>1.412063932306248</td>\n",
       "      <td>700_Amide+S98+576-42-1+neg</td>\n",
       "      <td>../../Fulaoshi/230821_mzML_res/rerun240410/700...</td>\n",
       "    </tr>\n",
       "    <tr>\n",
       "      <th>1</th>\n",
       "      <td>700_Amide</td>\n",
       "      <td>S98</td>\n",
       "      <td>576-42-1</td>\n",
       "      <td>1</td>\n",
       "      <td>neg</td>\n",
       "      <td>209.03029</td>\n",
       "      <td>D-Glucaric acid (potassium)</td>\n",
       "      <td>576-42-1_NCE1_neg_MS2_12081_805.6.csv</td>\n",
       "      <td>1</td>\n",
       "      <td>826.2</td>\n",
       "      <td>...</td>\n",
       "      <td>0</td>\n",
       "      <td>1036211.3125</td>\n",
       "      <td>0</td>\n",
       "      <td>752876.25</td>\n",
       "      <td>0</td>\n",
       "      <td>752876.25</td>\n",
       "      <td>1.376336831584208</td>\n",
       "      <td>1.376336831584208</td>\n",
       "      <td>700_Amide+S98+576-42-1+neg</td>\n",
       "      <td>../../Fulaoshi/230821_mzML_res/rerun240410/700...</td>\n",
       "    </tr>\n",
       "    <tr>\n",
       "      <th>2</th>\n",
       "      <td>700_Amide</td>\n",
       "      <td>S98</td>\n",
       "      <td>576-42-1</td>\n",
       "      <td>1</td>\n",
       "      <td>neg</td>\n",
       "      <td>209.03029</td>\n",
       "      <td>D-Glucaric acid (potassium)</td>\n",
       "      <td>576-42-1_NCE1_neg_MS2_12126_808.7.csv</td>\n",
       "      <td>1</td>\n",
       "      <td>826.2</td>\n",
       "      <td>...</td>\n",
       "      <td>0</td>\n",
       "      <td>1241551.125</td>\n",
       "      <td>0</td>\n",
       "      <td>969256.9</td>\n",
       "      <td>0</td>\n",
       "      <td>969256.9</td>\n",
       "      <td>1.2809309121245358</td>\n",
       "      <td>1.2809309121245358</td>\n",
       "      <td>700_Amide+S98+576-42-1+neg</td>\n",
       "      <td>../../Fulaoshi/230821_mzML_res/rerun240410/700...</td>\n",
       "    </tr>\n",
       "    <tr>\n",
       "      <th>3</th>\n",
       "      <td>700_Amide</td>\n",
       "      <td>S98</td>\n",
       "      <td>576-42-1</td>\n",
       "      <td>1</td>\n",
       "      <td>neg</td>\n",
       "      <td>209.03029</td>\n",
       "      <td>D-Glucaric acid (potassium)</td>\n",
       "      <td>576-42-1_NCE1_neg_MS2_12171_811.87.csv</td>\n",
       "      <td>1</td>\n",
       "      <td>826.2</td>\n",
       "      <td>...</td>\n",
       "      <td>0</td>\n",
       "      <td>1603654.625</td>\n",
       "      <td>0</td>\n",
       "      <td>1158187.0</td>\n",
       "      <td>0</td>\n",
       "      <td>1158187.0</td>\n",
       "      <td>1.384624956937006</td>\n",
       "      <td>1.384624956937006</td>\n",
       "      <td>700_Amide+S98+576-42-1+neg</td>\n",
       "      <td>../../Fulaoshi/230821_mzML_res/rerun240410/700...</td>\n",
       "    </tr>\n",
       "    <tr>\n",
       "      <th>4</th>\n",
       "      <td>700_Amide</td>\n",
       "      <td>S98</td>\n",
       "      <td>576-42-1</td>\n",
       "      <td>1</td>\n",
       "      <td>neg</td>\n",
       "      <td>209.03029</td>\n",
       "      <td>D-Glucaric acid (potassium)</td>\n",
       "      <td>576-42-1_NCE1_neg_MS2_12221_815.4.csv</td>\n",
       "      <td>1</td>\n",
       "      <td>826.2</td>\n",
       "      <td>...</td>\n",
       "      <td>0</td>\n",
       "      <td>1752998.75</td>\n",
       "      <td>0</td>\n",
       "      <td>1276483.2</td>\n",
       "      <td>0</td>\n",
       "      <td>1276483.2</td>\n",
       "      <td>1.3733034245965792</td>\n",
       "      <td>1.3733034245965792</td>\n",
       "      <td>700_Amide+S98+576-42-1+neg</td>\n",
       "      <td>../../Fulaoshi/230821_mzML_res/rerun240410/700...</td>\n",
       "    </tr>\n",
       "  </tbody>\n",
       "</table>\n",
       "<p>5 rows × 21 columns</p>\n",
       "</div>"
      ],
      "text/plain": [
       "       batch sampleid   CAS No. EV pos_neg         mz  \\\n",
       "0  700_Amide      S98  576-42-1  1     neg  209.03029   \n",
       "1  700_Amide      S98  576-42-1  1     neg  209.03029   \n",
       "2  700_Amide      S98  576-42-1  1     neg  209.03029   \n",
       "3  700_Amide      S98  576-42-1  1     neg  209.03029   \n",
       "4  700_Amide      S98  576-42-1  1     neg  209.03029   \n",
       "\n",
       "                  Product Name                                filename  \\\n",
       "0  D-Glucaric acid (potassium)  576-42-1_NCE1_neg_MS2_12037_802.39.csv   \n",
       "1  D-Glucaric acid (potassium)   576-42-1_NCE1_neg_MS2_12081_805.6.csv   \n",
       "2  D-Glucaric acid (potassium)   576-42-1_NCE1_neg_MS2_12126_808.7.csv   \n",
       "3  D-Glucaric acid (potassium)  576-42-1_NCE1_neg_MS2_12171_811.87.csv   \n",
       "4  D-Glucaric acid (potassium)   576-42-1_NCE1_neg_MS2_12221_815.4.csv   \n",
       "\n",
       "  refer_valid ref_rt  ... is_max_ms1 ms1_intensity is_max_mol mol_intensity  \\\n",
       "0           1  826.2  ...          0      690369.0          0     488907.75   \n",
       "1           1  826.2  ...          0  1036211.3125          0     752876.25   \n",
       "2           1  826.2  ...          0   1241551.125          0      969256.9   \n",
       "3           1  826.2  ...          0   1603654.625          0     1158187.0   \n",
       "4           1  826.2  ...          0    1752998.75          0     1276483.2   \n",
       "\n",
       "  is_max_base base_intensity       ms1_base_rate        ms1_mol_rate  \\\n",
       "0           0      488907.75   1.412063932306248   1.412063932306248   \n",
       "1           0      752876.25   1.376336831584208   1.376336831584208   \n",
       "2           0       969256.9  1.2809309121245358  1.2809309121245358   \n",
       "3           0      1158187.0   1.384624956937006   1.384624956937006   \n",
       "4           0      1276483.2  1.3733034245965792  1.3733034245965792   \n",
       "\n",
       "                         bscp  \\\n",
       "0  700_Amide+S98+576-42-1+neg   \n",
       "1  700_Amide+S98+576-42-1+neg   \n",
       "2  700_Amide+S98+576-42-1+neg   \n",
       "3  700_Amide+S98+576-42-1+neg   \n",
       "4  700_Amide+S98+576-42-1+neg   \n",
       "\n",
       "                                            filepath  \n",
       "0  ../../Fulaoshi/230821_mzML_res/rerun240410/700...  \n",
       "1  ../../Fulaoshi/230821_mzML_res/rerun240410/700...  \n",
       "2  ../../Fulaoshi/230821_mzML_res/rerun240410/700...  \n",
       "3  ../../Fulaoshi/230821_mzML_res/rerun240410/700...  \n",
       "4  ../../Fulaoshi/230821_mzML_res/rerun240410/700...  \n",
       "\n",
       "[5 rows x 21 columns]"
      ]
     },
     "execution_count": 703,
     "metadata": {},
     "output_type": "execute_result"
    }
   ],
   "source": [
    "con_MS2_info_all_df = pd.read_pickle(f'{out_root_path}/concat_MS2_info_all_df.pkl')\n",
    "con_MS2_info_all_df = con_MS2_info_all_df.astype('str')\n",
    "con_MS2_info_all_df = con_MS2_info_all_df[(con_MS2_info_all_df['filename']!=\"False\")]\n",
    "con_MS2_info_all_df = con_MS2_info_all_df.reset_index(drop=True)\n",
    "con_MS2_info_all_df['bscp']=con_MS2_info_all_df['batch']+'+'+con_MS2_info_all_df['sampleid'].astype(str)+'+'+con_MS2_info_all_df['CAS No.']+'+'+con_MS2_info_all_df['pos_neg']\n",
    "con_MS2_info_all_df['filepath'] = out_root_path+'/'+con_MS2_info_all_df['batch']+'/NCE_compound/'+con_MS2_info_all_df['sampleid']+'/'+con_MS2_info_all_df['CAS No.']+\"_NCE\"+con_MS2_info_all_df['EV']+\"_\"+con_MS2_info_all_df['pos_neg']+'/'+con_MS2_info_all_df['filename']\n",
    "print(con_MS2_info_all_df.shape)\n",
    "con_MS2_info_all_df.head()"
   ]
  },
  {
   "cell_type": "code",
   "execution_count": 705,
   "id": "c90201ea-8341-442e-9cba-92ff475fdff3",
   "metadata": {
    "tags": []
   },
   "outputs": [
    {
     "data": {
      "text/plain": [
       "Index(['batch', 'sampleid', 'CAS No.', 'EV', 'pos_neg', 'mz', 'Product Name',\n",
       "       'filename', 'refer_valid', 'ref_rt', 'ref_intensity', 'is_max_ms1',\n",
       "       'ms1_intensity', 'is_max_mol', 'mol_intensity', 'is_max_base',\n",
       "       'base_intensity', 'ms1_base_rate', 'ms1_mol_rate', 'bscp', 'filepath'],\n",
       "      dtype='object')"
      ]
     },
     "execution_count": 705,
     "metadata": {},
     "output_type": "execute_result"
    }
   ],
   "source": [
    "con_MS2_info_all_df.columns"
   ]
  },
  {
   "cell_type": "code",
   "execution_count": 550,
   "id": "a916330b-6846-43b6-a880-d173f298a397",
   "metadata": {
    "tags": []
   },
   "outputs": [
    {
     "data": {
      "text/plain": [
       "(42, 4)"
      ]
     },
     "execution_count": 550,
     "metadata": {},
     "output_type": "execute_result"
    }
   ],
   "source": [
    "low_diff = theo_mz - mzbatch.get_mz_lowlimit(theo_mz,diff=10)\n",
    "mask_in_range = (((low_diff<one_ms2_df[\"mass_diff\"]) & (one_ms2_df[\"mass_diff\"]<= 0.99999)) | \n",
    "                ((3 <= one_ms2_df[\"mass_diff\"]) & (one_ms2_df[\"mass_diff\"] <= 13)) | \n",
    "                ((21 <= one_ms2_df[\"mass_diff\"]) & (one_ms2_df[\"mass_diff\"] <= 24)))\n",
    "# 取反\n",
    "mask_out_of_range = ~mask_in_range\n",
    "one_ms2_df_filtered = one_ms2_df[mask_out_of_range]\n",
    "one_ms2_df_filtered.shape"
   ]
  },
  {
   "cell_type": "code",
   "execution_count": 546,
   "id": "c070d4b4-46d4-4496-8537-adf5f4c9a37c",
   "metadata": {
    "tags": []
   },
   "outputs": [
    {
     "data": {
      "text/plain": [
       "(0.006701007390006453, 0.006701007390006453)"
      ]
     },
     "execution_count": 546,
     "metadata": {},
     "output_type": "execute_result"
    }
   ],
   "source": [
    "theo_mz = float(theo_mz)\n",
    "theo_mz - mzbatch.get_mz_range(theo_mz,diff=11)[0], theo_mz - mzbatch.get_mz_lowlimit(theo_mz,diff=11)"
   ]
  },
  {
   "cell_type": "code",
   "execution_count": null,
   "id": "3d0fb327-3f14-49cb-81dc-cfd879a9b24f",
   "metadata": {
    "tags": []
   },
   "outputs": [
    {
     "name": "stdout",
     "output_type": "stream",
     "text": [
      "batch                                               873_Amide\n",
      "mz                                                  144.06551\n",
      "bscp                                 873_Amide+2+542-32-5+pos\n",
      "filepath    ../../Fulaoshi/230821_mzML_res/rerun240410/873...\n",
      "Name: 287808, dtype: object\n",
      "报错,873_Amide+2+542-32-5+pos。内容：[Errno 2] No such file or directory: '../../Fulaoshi/230821_mzML_res/rerun240410/873_Amide/NCE_filter_fragment/873_Amide+2+542-32-5+pos.csv'\n"
     ]
    }
   ],
   "source": [
    "for i in con_MS2_info_all_df.index[0:]:\n",
    "    print(con_MS2_info_all_df.loc[i,[\"batch\",\"mz\",\"bscp\",\"filepath\"]])\n",
    "    if i%10000 == 0:\n",
    "        print(i)\n",
    "    batch,theo_mz,bscp,filepath = con_MS2_info_all_df.loc[i,[\"batch\",\"mz\",\"bscp\",\"filepath\"]]\n",
    "    theo_mz = float(theo_mz)\n",
    "    one_ms2_df = pd.read_csv(filepath,index_col=0)\n",
    "    one_ms2_df = one_ms2_df[one_ms2_df[\"Intensity\"]!=0]\n",
    "    # Filter unreasonable ranges\n",
    "    one_ms2_df[\"mass_diff\"] = theo_mz-one_ms2_df[\"Mass\"]\n",
    "    low_diff = theo_mz - mzbatch.get_mz_lowlimit(theo_mz,diff=10)\n",
    "    mask_in_range = (((low_diff<one_ms2_df[\"mass_diff\"]) & (one_ms2_df[\"mass_diff\"]<= 0.99999)) | \n",
    "                    ((3 <= one_ms2_df[\"mass_diff\"]) & (one_ms2_df[\"mass_diff\"] <= 13)) | \n",
    "                    ((21 <= one_ms2_df[\"mass_diff\"]) & (one_ms2_df[\"mass_diff\"] <= 24)))\n",
    "    mask_out_of_range = ~mask_in_range # Take the inverse\n",
    "    one_ms2_df = one_ms2_df[mask_out_of_range]\n",
    "    \n",
    "    newfile = filepath.replace(\"NCE_compound\",\"NCE_compound_filter\")\n",
    "    end_index = newfile.rfind(\"/\") + 1  # Find the position of the second last slash\n",
    "    newpath = newfile[:end_index]\n",
    "\n",
    "    if not os.path.exists(newpath):\n",
    "        os.makedirs(newpath)\n",
    "    while True:\n",
    "        if os.path.exists(newpath):\n",
    "            break\n",
    "\n",
    "    try:\n",
    "        filter_fragment_df = pd.read_csv(f'{out_root_path}/{batch}/NCE_filter_fragment/{bscp}.csv',index_col=0)\n",
    "    except Exception as e:\n",
    "        print(f\"Error,{bscp}. Details: {e}\")\n",
    "        one_ms2_df.to_csv(newfile)\n",
    "        continue\n",
    "    filter_fragment_list = eval(filter_fragment_df.iloc[0,-1])\n",
    "\n",
    "    lows,ups = mzbatch.get_mz_range(one_ms2_df[\"Mass\"])\n",
    "    lows,ups = np.array(lows), np.array(ups)\n",
    "\n",
    "    temp_compare_df = pd.DataFrame({'cal_fragment':filter_fragment_list})\n",
    "\n",
    "    valid_matrix = (temp_compare_df['cal_fragment'].values >= lows[:, None]) & \\\n",
    "                   (temp_compare_df['cal_fragment'].values <= ups[:, None])\n",
    "    valid_list = valid_matrix.any(axis=1)\n",
    "    one_ms2_df['valid_list'] = valid_list\n",
    "    fragmentpeak_df = one_ms2_df[one_ms2_df[\"valid_list\"]==True].loc[:,[\"Mass\",\"Intensity\"]]\n",
    "    fragmentpeak_df = fragmentpeak_df.reset_index(drop=True)\n",
    "\n",
    "    fragmentpeak_df.to_csv(newfile)\n"
   ]
  },
  {
   "cell_type": "markdown",
   "id": "0f32bdb3-7d0b-4e14-89cd-2e8f80506ce8",
   "metadata": {},
   "source": [
    "## Check whether the data is complete"
   ]
  },
  {
   "cell_type": "code",
   "execution_count": 640,
   "id": "74a98d6f-4b44-4248-a134-41ff6526d75f",
   "metadata": {
    "tags": []
   },
   "outputs": [],
   "source": [
    "for i in con_MS2_info_all_df.index[0:]:\n",
    "    filter_filepath = con_MS2_info_all_df.loc[i,\"filepath\"].replace(\"NCE_compound\",\"NCE_compound_filter\")\n",
    "    if not os.path.exists(filter_filepath):\n",
    "        print(\"index:【\", i,\"】\\n\", con_MS2_info_all_df.loc[i,['batch', 'sampleid', 'CAS No.', 'EV', 'pos_neg', 'mz']])\n",
    "        break "
   ]
  }
 ],
 "metadata": {
  "kernelspec": {
   "display_name": "Python 3 (ipykernel)",
   "language": "python",
   "name": "python3"
  },
  "language_info": {
   "codemirror_mode": {
    "name": "ipython",
    "version": 3
   },
   "file_extension": ".py",
   "mimetype": "text/x-python",
   "name": "python",
   "nbconvert_exporter": "python",
   "pygments_lexer": "ipython3",
   "version": "3.8.13"
  }
 },
 "nbformat": 4,
 "nbformat_minor": 5
}
