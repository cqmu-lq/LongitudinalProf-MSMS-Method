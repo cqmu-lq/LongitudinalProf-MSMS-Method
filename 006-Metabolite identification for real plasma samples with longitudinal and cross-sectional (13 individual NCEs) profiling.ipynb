{
 "cells": [
  {
   "cell_type": "code",
   "execution_count": 347,
   "id": "f488b9b0-d7f2-469b-b190-e6ff65b3457d",
   "metadata": {
    "tags": []
   },
   "outputs": [],
   "source": [
    "import pandas as pd\n",
    "import numpy as np\n",
    "import os\n",
    "import mzbatch\n",
    "from sklearn.metrics.pairwise import cosine_similarity\n",
    "import importlib as imp\n",
    "imp.reload(mzbatch)\n",
    "import subprocess\n",
    "import warnings\n",
    "warnings.filterwarnings(\"ignore\") "
   ]
  },
  {
   "cell_type": "markdown",
   "id": "ed225e9c-a379-4f37-a1bd-3faa36e24215",
   "metadata": {
    "toc-hr-collapsed": true
   },
   "source": [
    "# Basic parameter"
   ]
  },
  {
   "cell_type": "code",
   "execution_count": 374,
   "id": "811845be-a103-463b-bb57-8349edd52105",
   "metadata": {
    "tags": []
   },
   "outputs": [
    {
     "data": {
      "text/plain": [
       "'BloodYin240307_Amide_neg'"
      ]
     },
     "execution_count": 374,
     "metadata": {},
     "output_type": "execute_result"
    }
   ],
   "source": [
    "# analysis_batch, sepuzhu,pos_neg,filesampleid = \"BloodNaoLiu240807\",\"Amide\",\"pos\",\"QCidentify_2\"\n",
    "# analysis_batch, sepuzhu,pos_neg,filesampleid = \"BloodNaoLiu240807\",\"Amide\",\"neg\",\"QCidentify_2\"\n",
    "# analysis_batch, sepuzhu,pos_neg,filesampleid = \"BloodNaoLiu240807\",\"C18\",\"pos\",\"QCidentify_2\"\n",
    "# analysis_batch, sepuzhu,pos_neg,filesampleid = \"BloodNaoLiu240807\",\"C18\",\"neg\",\"QCidentify_2\"\n",
    "# analysis_batch,sepuzhu,pos_neg,filesampleid = \"BloodYin240307\",\"Amide\",\"pos\",\"QCidentify_1\"\n",
    "analysis_batch,sepuzhu,pos_neg,filesampleid = \"BloodYin240307\",\"Amide\",\"neg\",\"QCidentify_1\"\n",
    "# analysis_batch,sepuzhu,pos_neg,filesampleid = \"BloodYin240307\",\"C18\",\"pos\",\"QCidentify_1\"\n",
    "# analysis_batch,sepuzhu,pos_neg,filesampleid = \"BloodYin240307\",\"C18\",\"neg\",\"QCidentify_1\"\n",
    "\n",
    "analysis_path = f\"{analysis_batch}_{sepuzhu}_{pos_neg}\"\n",
    "analysis_path\n"
   ]
  },
  {
   "cell_type": "code",
   "execution_count": null,
   "id": "ea9885e0-a297-46eb-8d41-314ceea71311",
   "metadata": {
    "tags": []
   },
   "outputs": [],
   "source": [
    "# Set diff parameters\n",
    "standard_raw_diff = 15\n",
    "standard_QC_diff = 15\n"
   ]
  },
  {
   "cell_type": "code",
   "execution_count": 377,
   "id": "345f02cf-549b-4e7c-9f52-57eeb3a7da6a",
   "metadata": {
    "tags": []
   },
   "outputs": [],
   "source": [
    "root_path = f'../../Fulaoshi/230821_mzML/{analysis_path}/'\n",
    "# middle_list = ['873_Amide','873_C18']\n",
    "middle_list = ['700_Amide','700_C18','873_Amide','873_C18','3545_Amide','3545_C18','BC_Amide','BC_C18']\n",
    "out_root_path = f'../../Fulaoshi/230821_mzML_res/{analysis_path}'\n",
    "standard13_ms2_path = '../../Fulaoshi/230821_mzML_res/rerun240410/'\n",
    "ev13_list = [1,10,15,20,25,30,35,40,50,60,70,80,100]\n"
   ]
  },
  {
   "cell_type": "code",
   "execution_count": null,
   "id": "95703d58-949c-41a5-833f-7f06f1bf7a14",
   "metadata": {
    "tags": []
   },
   "outputs": [
    {
     "data": {
      "text/html": [
       "<div>\n",
       "<style scoped>\n",
       "    .dataframe tbody tr th:only-of-type {\n",
       "        vertical-align: middle;\n",
       "    }\n",
       "\n",
       "    .dataframe tbody tr th {\n",
       "        vertical-align: top;\n",
       "    }\n",
       "\n",
       "    .dataframe thead th {\n",
       "        text-align: right;\n",
       "    }\n",
       "</style>\n",
       "<table border=\"1\" class=\"dataframe\">\n",
       "  <thead>\n",
       "    <tr style=\"text-align: right;\">\n",
       "      <th></th>\n",
       "      <th>batch</th>\n",
       "      <th>sepuzhu</th>\n",
       "      <th>sampleid</th>\n",
       "      <th>Product Name</th>\n",
       "      <th>CAS No.</th>\n",
       "      <th>Formula</th>\n",
       "      <th>M.Wt</th>\n",
       "      <th>pos_neg</th>\n",
       "      <th>refer_RT</th>\n",
       "      <th>m/z</th>\n",
       "      <th>RT time</th>\n",
       "      <th>NL</th>\n",
       "      <th>bscp</th>\n",
       "      <th>Adduct</th>\n",
       "      <th>batch_sampleid</th>\n",
       "      <th>ev_nums</th>\n",
       "      <th>ev_list</th>\n",
       "    </tr>\n",
       "  </thead>\n",
       "  <tbody>\n",
       "    <tr>\n",
       "      <th>1104</th>\n",
       "      <td>873_C18</td>\n",
       "      <td>C18</td>\n",
       "      <td>26386</td>\n",
       "      <td>N6-Methyladenosine</td>\n",
       "      <td>1867-73-8</td>\n",
       "      <td>C11H15N5O4</td>\n",
       "      <td>281.27</td>\n",
       "      <td>pos</td>\n",
       "      <td>1</td>\n",
       "      <td>282.1196</td>\n",
       "      <td>285.0</td>\n",
       "      <td>133000000</td>\n",
       "      <td>873_C18+26386+1867-73-8+pos</td>\n",
       "      <td>[M+H]+</td>\n",
       "      <td>873_C18/26386</td>\n",
       "      <td>13</td>\n",
       "      <td>[1, 10, 15, 20, 25, 30, 35, 40, 50, 60, 70, 80...</td>\n",
       "    </tr>\n",
       "    <tr>\n",
       "      <th>1106</th>\n",
       "      <td>873_C18</td>\n",
       "      <td>C18</td>\n",
       "      <td>26386</td>\n",
       "      <td>Corticosterone</td>\n",
       "      <td>50-22-6</td>\n",
       "      <td>C21H30O4</td>\n",
       "      <td>346.46</td>\n",
       "      <td>pos</td>\n",
       "      <td>1</td>\n",
       "      <td>347.2216</td>\n",
       "      <td>874.8</td>\n",
       "      <td>111000000</td>\n",
       "      <td>873_C18+26386+50-22-6+pos</td>\n",
       "      <td>[M+H]+</td>\n",
       "      <td>873_C18/26386</td>\n",
       "      <td>13</td>\n",
       "      <td>[1, 10, 15, 20, 25, 30, 35, 40, 50, 60, 70, 80...</td>\n",
       "    </tr>\n",
       "  </tbody>\n",
       "</table>\n",
       "</div>"
      ],
      "text/plain": [
       "        batch sepuzhu sampleid        Product Name    CAS No.     Formula  \\\n",
       "1104  873_C18     C18    26386  N6-Methyladenosine  1867-73-8  C11H15N5O4   \n",
       "1106  873_C18     C18    26386      Corticosterone    50-22-6    C21H30O4   \n",
       "\n",
       "        M.Wt pos_neg  refer_RT       m/z  RT time         NL  \\\n",
       "1104  281.27     pos         1  282.1196    285.0  133000000   \n",
       "1106  346.46     pos         1  347.2216    874.8  111000000   \n",
       "\n",
       "                             bscp  Adduct batch_sampleid  ev_nums  \\\n",
       "1104  873_C18+26386+1867-73-8+pos  [M+H]+  873_C18/26386       13   \n",
       "1106    873_C18+26386+50-22-6+pos  [M+H]+  873_C18/26386       13   \n",
       "\n",
       "                                                ev_list  \n",
       "1104  [1, 10, 15, 20, 25, 30, 35, 40, 50, 60, 70, 80...  \n",
       "1106  [1, 10, 15, 20, 25, 30, 35, 40, 50, 60, 70, 80...  "
      ]
     },
     "execution_count": 379,
     "metadata": {},
     "output_type": "execute_result"
    }
   ],
   "source": [
    "\"\"\"240920 Modify Reference\"\"\"\n",
    "ref_all_df = pd.read_excel(\"../../Fulaoshi/230821_mzML/ref_all-revise20240920.xlsx\", index_col=0, sheet_name=\"Sheet2\")\n",
    "ref_all_df['batch_sampleid'] = ref_all_df['batch'].astype(str) + '/' + ref_all_df['sampleid'].astype(str)\n",
    "ref_all_df['bscp'] = ref_all_df['batch'] + '+' + ref_all_df['sampleid'].astype(str) + '+' + ref_all_df['CAS No.'].astype(str) + '+' + ref_all_df['pos_neg']\n",
    "ref_all_df.head(2)\n"
   ]
  },
  {
   "cell_type": "code",
   "execution_count": 380,
   "id": "15aed811-e158-4d9c-9cd2-610556164dfb",
   "metadata": {
    "tags": []
   },
   "outputs": [
    {
     "data": {
      "text/plain": [
       "(12484, 17)"
      ]
     },
     "execution_count": 380,
     "metadata": {},
     "output_type": "execute_result"
    }
   ],
   "source": [
    "ref_all_df.shape"
   ]
  },
  {
   "cell_type": "code",
   "execution_count": null,
   "id": "884a9fbf-417d-4cd1-9da0-4b19c315eea1",
   "metadata": {
    "tags": []
   },
   "outputs": [],
   "source": [
    "# Create 4 mz_list\n",
    "Amide_pos_mzlist = ref_all_df[(ref_all_df[\"sepuzhu\"] == \"Amide\") & (ref_all_df[\"pos_neg\"] == \"pos\")][\"m/z\"].tolist()\n",
    "Amide_pos_mzlist.sort()\n",
    "Amide_neg_mzlist = ref_all_df[(ref_all_df[\"sepuzhu\"] == \"Amide\") & (ref_all_df[\"pos_neg\"] == \"neg\")][\"m/z\"].tolist()\n",
    "Amide_neg_mzlist.sort()\n",
    "C18_pos_mzlist = ref_all_df[(ref_all_df[\"sepuzhu\"] == \"C18\") & (ref_all_df[\"pos_neg\"] == \"pos\")][\"m/z\"].tolist()\n",
    "C18_pos_mzlist.sort()\n",
    "C18_neg_mzlist = ref_all_df[(ref_all_df[\"sepuzhu\"] == \"C18\") & (ref_all_df[\"pos_neg\"] == \"neg\")][\"m/z\"].tolist()\n",
    "C18_neg_mzlist.sort()\n",
    "\n",
    "# Create the upper and lower bounds for the 4 mz_lists\n",
    "Ap_mzrange_list = [[i, mzbatch.get_mz_range(i, diff=standard_raw_diff)] for i in Amide_pos_mzlist]\n",
    "An_mzrange_list = [[i, mzbatch.get_mz_range(i, diff=standard_raw_diff)] for i in Amide_neg_mzlist]\n",
    "Cp_mzrange_list = [[i, mzbatch.get_mz_range(i, diff=standard_raw_diff)] for i in C18_pos_mzlist]\n",
    "Cn_mzrange_list = [[i, mzbatch.get_mz_range(i, diff=standard_raw_diff)] for i in C18_neg_mzlist]\n",
    "\n",
    "mzrange_dict = {\"Amide_pos\": Ap_mzrange_list, \"Amide_neg\": An_mzrange_list, \n",
    "                \"C18_pos\": Cp_mzrange_list, \"C18_neg\": Cn_mzrange_list}\n"
   ]
  },
  {
   "cell_type": "code",
   "execution_count": null,
   "id": "5bb1aa25-2462-4f14-98b8-64cba9e9759b",
   "metadata": {
    "tags": []
   },
   "outputs": [
    {
     "data": {
      "text/plain": [
       "(2715, 'Amide_neg')"
      ]
     },
     "execution_count": 382,
     "metadata": {},
     "output_type": "execute_result"
    }
   ],
   "source": [
    "\"\"\"Set mzrange_list\"\"\"\n",
    "mzrange_list = mzrange_dict[f\"{sepuzhu}_{pos_neg}\"]\n",
    "len(mzrange_list), f\"{sepuzhu}_{pos_neg}\"\n"
   ]
  },
  {
   "cell_type": "code",
   "execution_count": 385,
   "id": "01ee68be-122f-45f0-8bd1-e3a8760b2a7f",
   "metadata": {
    "tags": []
   },
   "outputs": [
    {
     "data": {
      "text/plain": [
       "('../../Fulaoshi/230821_mzML/BloodYin240307_Amide_neg//mzML/QCidentify_1-NCE1-neg.mzML',\n",
       " '../../Fulaoshi/230821_mzML/BloodYin240307_Amide_neg//pkl/QCidentify_1-NCE1-neg.pkl',\n",
       " '../../Fulaoshi/230821_mzML/BloodYin240307_Amide_neg//pkl_filter/QCidentify_1-NCE1-neg.pkl')"
      ]
     },
     "execution_count": 385,
     "metadata": {},
     "output_type": "execute_result"
    }
   ],
   "source": [
    "mzML_filename_list =[ f\"{root_path}/mzML/{filesampleid}-NCE{i}-{pos_neg}.mzML\" for i in ev13_list]\n",
    "pkl_filename_list = [f\"{root_path}/pkl/{filesampleid}-NCE{i}-{pos_neg}.pkl\" for i in ev13_list]\n",
    "pkl_filter_path_list = [i.replace(\"/pkl/\",\"/pkl_filter/\") for i in pkl_filename_list]\n",
    "mzML_filename_list[0], pkl_filename_list[0], pkl_filter_path_list[0]"
   ]
  },
  {
   "cell_type": "code",
   "execution_count": null,
   "id": "b42a8287-2dcd-4258-bfb0-7c00f64d3d6a",
   "metadata": {
    "tags": []
   },
   "outputs": [
    {
     "data": {
      "text/plain": [
       "['../../Fulaoshi/230821_mzML/BloodYin240307_Amide_neg//MS-DIAL/QCidentify_1-NCE1-neg.txt',\n",
       " '../../Fulaoshi/230821_mzML/BloodYin240307_Amide_neg//MS-DIAL/QCidentify_1-NCE10-neg.txt',\n",
       " '../../Fulaoshi/230821_mzML/BloodYin240307_Amide_neg//MS-DIAL/QCidentify_1-NCE15-neg.txt',\n",
       " '../../Fulaoshi/230821_mzML/BloodYin240307_Amide_neg//MS-DIAL/QCidentify_1-NCE20-neg.txt',\n",
       " '../../Fulaoshi/230821_mzML/BloodYin240307_Amide_neg//MS-DIAL/QCidentify_1-NCE25-neg.txt',\n",
       " '../../Fulaoshi/230821_mzML/BloodYin240307_Amide_neg//MS-DIAL/QCidentify_1-NCE30-neg.txt',\n",
       " '../../Fulaoshi/230821_mzML/BloodYin240307_Amide_neg//MS-DIAL/QCidentify_1-NCE35-neg.txt',\n",
       " '../../Fulaoshi/230821_mzML/BloodYin240307_Amide_neg//MS-DIAL/QCidentify_1-NCE40-neg.txt',\n",
       " '../../Fulaoshi/230821_mzML/BloodYin240307_Amide_neg//MS-DIAL/QCidentify_1-NCE50-neg.txt',\n",
       " '../../Fulaoshi/230821_mzML/BloodYin240307_Amide_neg//MS-DIAL/QCidentify_1-NCE60-neg.txt',\n",
       " '../../Fulaoshi/230821_mzML/BloodYin240307_Amide_neg//MS-DIAL/QCidentify_1-NCE70-neg.txt',\n",
       " '../../Fulaoshi/230821_mzML/BloodYin240307_Amide_neg//MS-DIAL/QCidentify_1-NCE80-neg.txt',\n",
       " '../../Fulaoshi/230821_mzML/BloodYin240307_Amide_neg//MS-DIAL/QCidentify_1-NCE100-neg.txt']"
      ]
     },
     "execution_count": 386,
     "metadata": {},
     "output_type": "execute_result"
    }
   ],
   "source": [
    "# Generate QC file list\n",
    "QC_filename_list = [f\"{root_path}/MS-DIAL/{filesampleid}-NCE{i}-{pos_neg}.txt\" for i in ev13_list]\n",
    "QC_filename_list\n"
   ]
  },
  {
   "cell_type": "code",
   "execution_count": null,
   "id": "36c8374d-263c-41ce-802f-ccacc5f8e2de",
   "metadata": {
    "tags": []
   },
   "outputs": [
    {
     "name": "stdout",
     "output_type": "stream",
     "text": [
      "(5827, 9)\n",
      "(5785, 9)\n",
      "(6010, 9)\n",
      "(5906, 9)\n",
      "(5916, 9)\n",
      "(5734, 9)\n",
      "(5761, 9)\n",
      "(5750, 9)\n",
      "(5752, 9)\n",
      "(5738, 9)\n",
      "(5711, 9)\n",
      "(5727, 9)\n",
      "(5685, 9)\n"
     ]
    }
   ],
   "source": [
    "# Filter raw files, only keep mz values in the 4000+ compounds list\n",
    "for i in range(len(mzML_filename_list)):\n",
    "    mzML_path = mzML_filename_list[i]\n",
    "    pkl_path = pkl_filename_list[i]\n",
    "    pkl_filter_folderpath = f\"{root_path}/pkl_filter/\"\n",
    "    pkl_filter_path = pkl_filter_path_list[i]\n",
    "    \n",
    "    raw_list = mzbatch.get_TIC_from_File(mzML_path, pkl_path)\n",
    "    raw_df = pd.DataFrame(raw_list)\n",
    "    raw_ms2_df = raw_df[raw_df[\"MSlevel\"] == 2]\n",
    "    \n",
    "    # Filter mz values in the 4000 compounds for MS2 data\n",
    "    valid_index_list = []  # List to store valid indices\n",
    "    for theo_mz, (mz_low, mz_up) in mzrange_list:\n",
    "        temp_df = raw_ms2_df[(raw_ms2_df['pecursor'] >= mz_low) & (raw_ms2_df['pecursor'] <= mz_up)]\n",
    "        if temp_df.shape[0] > 0:\n",
    "            valid_index_list.extend(temp_df.index.tolist())\n",
    "        # break\n",
    "    valid_index_list = list(set(valid_index_list))\n",
    "    valid_index_list.sort()\n",
    "    \n",
    "    # Output to file\n",
    "    if not os.path.exists(pkl_filter_folderpath):\n",
    "        os.makedirs(pkl_filter_folderpath)\n",
    "        while os.path.exists(pkl_filter_folderpath):\n",
    "            break\n",
    "    raw_ms2_df.loc[valid_index_list, :].to_pickle(pkl_filter_path)\n",
    "    print(raw_ms2_df.loc[valid_index_list, :].shape)\n"
   ]
  },
  {
   "cell_type": "markdown",
   "id": "4192b6c3-6d87-4ef2-a052-0c3a2959acc6",
   "metadata": {},
   "source": [
    "C18_pos 4681-5899\n",
    "C18_neg 8249-8700"
   ]
  },
  {
   "cell_type": "code",
   "execution_count": null,
   "id": "32fd52ae-a817-45b4-b969-4b8e87565717",
   "metadata": {
    "tags": []
   },
   "outputs": [],
   "source": [
    "# Put into a list\n",
    "raw_filter_ms2_df_list = [pd.read_pickle(i) for i in pkl_filter_path_list]\n"
   ]
  },
  {
   "cell_type": "code",
   "execution_count": null,
   "id": "28958da8-6c84-4cde-a1c1-fa41e81a8e91",
   "metadata": {
    "tags": []
   },
   "outputs": [
    {
     "name": "stdout",
     "output_type": "stream",
     "text": [
      "(129992, 6)\n"
     ]
    },
    {
     "data": {
      "text/html": [
       "<div>\n",
       "<style scoped>\n",
       "    .dataframe tbody tr th:only-of-type {\n",
       "        vertical-align: middle;\n",
       "    }\n",
       "\n",
       "    .dataframe tbody tr th {\n",
       "        vertical-align: top;\n",
       "    }\n",
       "\n",
       "    .dataframe thead th {\n",
       "        text-align: right;\n",
       "    }\n",
       "</style>\n",
       "<table border=\"1\" class=\"dataframe\">\n",
       "  <thead>\n",
       "    <tr style=\"text-align: right;\">\n",
       "      <th></th>\n",
       "      <th>RT left(min)</th>\n",
       "      <th>RT right (min)</th>\n",
       "      <th>Precursor m/z</th>\n",
       "      <th>Area</th>\n",
       "      <th>RT left(s)</th>\n",
       "      <th>RT right(s)</th>\n",
       "    </tr>\n",
       "  </thead>\n",
       "  <tbody>\n",
       "    <tr>\n",
       "      <th>66551</th>\n",
       "      <td>6.278</td>\n",
       "      <td>6.583</td>\n",
       "      <td>70.02985</td>\n",
       "      <td>9460</td>\n",
       "      <td>376.68</td>\n",
       "      <td>394.98</td>\n",
       "    </tr>\n",
       "    <tr>\n",
       "      <th>99946</th>\n",
       "      <td>20.587</td>\n",
       "      <td>20.909</td>\n",
       "      <td>70.35116</td>\n",
       "      <td>10324</td>\n",
       "      <td>1235.22</td>\n",
       "      <td>1254.54</td>\n",
       "    </tr>\n",
       "    <tr>\n",
       "      <th>4083</th>\n",
       "      <td>4.190</td>\n",
       "      <td>4.556</td>\n",
       "      <td>70.65295</td>\n",
       "      <td>14132</td>\n",
       "      <td>251.40</td>\n",
       "      <td>273.36</td>\n",
       "    </tr>\n",
       "    <tr>\n",
       "      <th>125495</th>\n",
       "      <td>5.726</td>\n",
       "      <td>5.814</td>\n",
       "      <td>70.94605</td>\n",
       "      <td>3069758</td>\n",
       "      <td>343.56</td>\n",
       "      <td>348.84</td>\n",
       "    </tr>\n",
       "    <tr>\n",
       "      <th>95740</th>\n",
       "      <td>5.838</td>\n",
       "      <td>6.291</td>\n",
       "      <td>70.94607</td>\n",
       "      <td>6222704</td>\n",
       "      <td>350.28</td>\n",
       "      <td>377.46</td>\n",
       "    </tr>\n",
       "    <tr>\n",
       "      <th>75618</th>\n",
       "      <td>5.371</td>\n",
       "      <td>5.799</td>\n",
       "      <td>70.94607</td>\n",
       "      <td>7426415</td>\n",
       "      <td>322.26</td>\n",
       "      <td>347.94</td>\n",
       "    </tr>\n",
       "    <tr>\n",
       "      <th>95477</th>\n",
       "      <td>5.358</td>\n",
       "      <td>5.821</td>\n",
       "      <td>70.94607</td>\n",
       "      <td>7816336</td>\n",
       "      <td>321.48</td>\n",
       "      <td>349.26</td>\n",
       "    </tr>\n",
       "    <tr>\n",
       "      <th>55783</th>\n",
       "      <td>5.869</td>\n",
       "      <td>6.335</td>\n",
       "      <td>70.94608</td>\n",
       "      <td>6407718</td>\n",
       "      <td>352.14</td>\n",
       "      <td>380.10</td>\n",
       "    </tr>\n",
       "    <tr>\n",
       "      <th>75921</th>\n",
       "      <td>5.799</td>\n",
       "      <td>6.304</td>\n",
       "      <td>70.94608</td>\n",
       "      <td>7484609</td>\n",
       "      <td>347.94</td>\n",
       "      <td>378.24</td>\n",
       "    </tr>\n",
       "    <tr>\n",
       "      <th>15379</th>\n",
       "      <td>5.455</td>\n",
       "      <td>5.799</td>\n",
       "      <td>70.94608</td>\n",
       "      <td>7870141</td>\n",
       "      <td>327.30</td>\n",
       "      <td>347.94</td>\n",
       "    </tr>\n",
       "  </tbody>\n",
       "</table>\n",
       "</div>"
      ],
      "text/plain": [
       "        RT left(min)  RT right (min)  Precursor m/z     Area  RT left(s)  \\\n",
       "66551          6.278           6.583       70.02985     9460      376.68   \n",
       "99946         20.587          20.909       70.35116    10324     1235.22   \n",
       "4083           4.190           4.556       70.65295    14132      251.40   \n",
       "125495         5.726           5.814       70.94605  3069758      343.56   \n",
       "95740          5.838           6.291       70.94607  6222704      350.28   \n",
       "75618          5.371           5.799       70.94607  7426415      322.26   \n",
       "95477          5.358           5.821       70.94607  7816336      321.48   \n",
       "55783          5.869           6.335       70.94608  6407718      352.14   \n",
       "75921          5.799           6.304       70.94608  7484609      347.94   \n",
       "15379          5.455           5.799       70.94608  7870141      327.30   \n",
       "\n",
       "        RT right(s)  \n",
       "66551        394.98  \n",
       "99946       1254.54  \n",
       "4083         273.36  \n",
       "125495       348.84  \n",
       "95740        377.46  \n",
       "75618        347.94  \n",
       "95477        349.26  \n",
       "55783        380.10  \n",
       "75921        378.24  \n",
       "15379        347.94  "
      ]
     },
     "execution_count": 402,
     "metadata": {},
     "output_type": "execute_result"
    }
   ],
   "source": [
    "# Filter MS-DIAL files\n",
    "# 240824 update: Merge 13 QC files\n",
    "QC_df_list = []\n",
    "for QC_filename in QC_filename_list[0:]:\n",
    "    QC35_df = pd.read_csv(QC_filename, index_col=0, sep=\"\\t\")\n",
    "    QC35_df = QC35_df.loc[:, [\"RT left(min)\", \"RT right (min)\", \"Precursor m/z\", \"Area\"]]\n",
    "    QC35_df[\"RT left(s)\"] = QC35_df[\"RT left(min)\"] * 60\n",
    "    QC35_df[\"RT right(s)\"] = QC35_df[\"RT right (min)\"] * 60\n",
    "    QC_df_list.append(QC35_df.copy(deep=True))\n",
    "\n",
    "con_QC_df = pd.concat(QC_df_list)\n",
    "con_QC_df.reset_index(drop=True, inplace=True)\n",
    "print(con_QC_df.shape)\n",
    "con_QC_df.tail(5)\n",
    "con_QC_df.sort_values(by=[\"Precursor m/z\"]).head(10)\n"
   ]
  },
  {
   "cell_type": "code",
   "execution_count": null,
   "id": "b055280d-1bcd-4a7e-8376-a2383342d6b6",
   "metadata": {
    "tags": []
   },
   "outputs": [
    {
     "name": "stdout",
     "output_type": "stream",
     "text": [
      "(13209, 7)\n"
     ]
    },
    {
     "data": {
      "text/plain": [
       "(   RT left(min)  RT right (min)  Precursor m/z     Area  RT left(s)  \\\n",
       " 0         7.317           7.932       73.02950  6344055      439.02   \n",
       " 1         7.382           7.883       73.02950  5578152      442.92   \n",
       " 2        11.110          11.682       73.02951  3567743      666.60   \n",
       " \n",
       "    RT right(s)  theo_mz  \n",
       " 0       475.92  73.0295  \n",
       " 1       472.98  73.0295  \n",
       " 2       700.92  73.0295  ,\n",
       "        RT left(min)  RT right (min)  Precursor m/z     Area  RT left(s)  \\\n",
       " 13206         4.007           4.615      956.58478  1555547      240.42   \n",
       " 13207         3.544           4.009      956.57910   841593      212.64   \n",
       " 13208         3.887           4.404      964.57935   277208      233.22   \n",
       " \n",
       "        RT right(s)    theo_mz  \n",
       " 13206       276.90  956.57407  \n",
       " 13207       240.54  956.57407  \n",
       " 13208       264.24  964.56524  )"
      ]
     },
     "execution_count": 399,
     "metadata": {},
     "output_type": "execute_result"
    }
   ],
   "source": [
    "# Filter QC35 based on mz, 240824 updated to filter con_QC\n",
    "QC_valid_index_list = []  # List to store valid indices\n",
    "theo_mz_list = []\n",
    "for theo_mz, (mz_low, mz_up) in mzrange_list[0:]:\n",
    "    temp_QC35_df = con_QC_df[(con_QC_df['Precursor m/z'] >= mz_low) & (con_QC_df['Precursor m/z'] <= mz_up)]\n",
    "    if temp_QC35_df.shape[0] > 0:\n",
    "        QC_valid_index_list.extend(temp_QC35_df.index.tolist())\n",
    "        theo_mz_list.extend([theo_mz] * temp_QC35_df.shape[0])\n",
    "    # break\n",
    "con_QC_filter_df = con_QC_df.loc[QC_valid_index_list, :].copy(deep=True)\n",
    "con_QC_filter_df[\"theo_mz\"] = theo_mz_list\n",
    "con_QC_filter_df.drop_duplicates(subset=['Precursor m/z', 'RT left(s)', 'RT right(s)', 'theo_mz'], inplace=True)\n",
    "con_QC_filter_df.sort_values(by=\"theo_mz\", inplace=True)\n",
    "con_QC_filter_df.reset_index(inplace=True, drop=True)\n",
    "\n",
    "# Output to file\n",
    "if not os.path.exists(pkl_filter_folderpath):\n",
    "    os.makedirs(pkl_filter_folderpath)\n",
    "    while os.path.exists(pkl_filter_folderpath):\n",
    "        break\n",
    "con_QC_filter_df.to_pickle(f\"{pkl_filter_folderpath}/con_QC_filter_df.pkl\")\n",
    "print(con_QC_filter_df.shape)\n",
    "con_QC_filter_df.head(3), con_QC_filter_df.tail(3)\n"
   ]
  },
  {
   "cell_type": "code",
   "execution_count": null,
   "id": "6291e918-5484-4546-9de1-8081d11035bc",
   "metadata": {
    "tags": []
   },
   "outputs": [
    {
     "name": "stdout",
     "output_type": "stream",
     "text": [
      "['theo_mz', 'ref_mz', 'ref_rt_left', 'ref_rt_right', 'Area', 'ms2_ev', 'ms2_index', 'ms2_mz', 'ms2_rt']\n"
     ]
    }
   ],
   "source": [
    "# Construct the DataFrame to store the results\n",
    "res_cols_list = [\"theo_mz\", \"ref_mz\", \"ref_rt_left\", \"ref_rt_right\", \"Area\", \"ms2_ev\", \"ms2_index\", \"ms2_mz\", \"ms2_rt\"]\n",
    "print(res_cols_list[0:])\n"
   ]
  },
  {
   "cell_type": "code",
   "execution_count": null,
   "id": "f115f8b8-9d30-4505-a0a2-fec899fe2543",
   "metadata": {
    "tags": []
   },
   "outputs": [],
   "source": [
    "# Align based on QC: find each energy mz within 15ppm, and rt within range\n",
    "res_df = pd.DataFrame(columns=res_cols_list)\n",
    "n = 0\n",
    "for QC35_filter_index in con_QC_filter_df.index[0:]:  # QC35 is always 1\n",
    "    theo_mz, ref_mz, ref_rt_left, ref_rt_right, Area = con_QC_filter_df.loc[QC35_filter_index, ['theo_mz', 'Precursor m/z', \"RT left(s)\", \"RT right(s)\", \"Area\"]]\n",
    "    theo_mz_low, theo_mz_up = mzbatch.get_mz_range(theo_mz, diff=standard_QC_diff)\n",
    "    \n",
    "    for i, raw_filter_ms2_df in enumerate(raw_filter_ms2_df_list[0:]):\n",
    "        ms2_ev = ev13_list[i]  # Use this energy level as the reference\n",
    "        ms2_temp_df = raw_filter_ms2_df[((raw_filter_ms2_df['pecursor'] >= theo_mz_low) & (raw_filter_ms2_df['pecursor'] <= theo_mz_up)) \n",
    "                                        & ((raw_filter_ms2_df['RT'] >= ref_rt_left) & (raw_filter_ms2_df['RT'] <= ref_rt_right))].copy(deep=True)\n",
    "        if ms2_temp_df.shape[0] > 0:\n",
    "            for ms2_index in ms2_temp_df.index:\n",
    "                ms2_mz, ms2_rt = ms2_temp_df.loc[ms2_index, [\"pecursor\", \"RT\"]]\n",
    "                res_df.loc[n] = [theo_mz, ref_mz, ref_rt_left, ref_rt_right, Area, ms2_ev, ms2_index, ms2_mz, ms2_rt]\n",
    "                n += 1\n",
    "        # break\n"
   ]
  },
  {
   "cell_type": "code",
   "execution_count": null,
   "id": "24a06d1f-0d4b-4952-8d4e-62517769e853",
   "metadata": {
    "tags": []
   },
   "outputs": [],
   "source": [
    "res_df.to_csv(f\"{out_root_path}/res_df_firstfilter.csv\")"
   ]
  },
  {
   "cell_type": "markdown",
   "id": "b66eae2d-07d4-483f-9ee1-d23e7dfa0f35",
   "metadata": {},
   "source": [
    "### Increase the first order intensity of each chart"
   ]
  },
  {
   "cell_type": "code",
   "execution_count": null,
   "id": "deae4a8b-ede2-49ac-9402-b8cb2d04f506",
   "metadata": {
    "tags": []
   },
   "outputs": [],
   "source": [
    "# Filter to get all MS1 spectra\n",
    "raw_df_list = [pd.DataFrame(pd.read_pickle(i)) for i in pkl_filename_list]\n",
    "raw_ms1_df_list = [raw_df[raw_df[\"MSlevel\"] == 1] for raw_df in raw_df_list]\n"
   ]
  },
  {
   "cell_type": "code",
   "execution_count": null,
   "id": "d5b0aa9a-387b-4caf-98d5-3820675c02f7",
   "metadata": {
    "tags": []
   },
   "outputs": [],
   "source": [
    "ms1_intensity_list = []\n",
    "for ref_index in res_df.index[0:]:\n",
    "    ms2_ev, ms2_mz, ms2_rt = res_df.loc[ref_index,[\"ms2_ev\",\"ms2_mz\",\"ms2_rt\"]]\n",
    "    ms2_ev_index = ev13_list.index(ms2_ev)\n",
    "    ms2_mz_low,ms2_mz_up = mzbatch.get_mz_range(ms2_mz)\n",
    "    \n",
    "    raw_ms1_df = raw_ms1_df_list[ms2_ev_index] \n",
    "    ms1_df = pd.DataFrame(raw_ms1_df[raw_ms1_df[\"RT\"] < ms2_rt].iloc[-1,-2],columns=[\"Mass\",\"Intensity\"])\n",
    "    ms1_intensity_filter_df  = ms1_df[(ms1_df['Mass'] >= ms2_mz_low) & (ms1_df['Mass'] <= ms2_mz_up)]\n",
    "    if ms1_intensity_filter_df.shape[0]>0:\n",
    "        ms1_intensity_list.append(ms1_intensity_filter_df[\"Intensity\"].max())\n",
    "    else:\n",
    "        ms1_intensity_list.append(-1)\n"
   ]
  },
  {
   "cell_type": "code",
   "execution_count": 2062,
   "id": "8bff952a-09ec-4b24-a495-53fb60802c51",
   "metadata": {
    "tags": []
   },
   "outputs": [
    {
     "data": {
      "text/plain": [
       "(274324, 26060)"
      ]
     },
     "execution_count": 2062,
     "metadata": {},
     "output_type": "execute_result"
    }
   ],
   "source": [
    "len(ms1_intensity_list),ms1_intensity_list.count(-1)"
   ]
  },
  {
   "cell_type": "code",
   "execution_count": 2063,
   "id": "1531bec7-9fba-4183-a46b-1ba67ce82641",
   "metadata": {
    "tags": []
   },
   "outputs": [],
   "source": [
    "res_df[\"ms1_intensity\"] = ms1_intensity_list"
   ]
  },
  {
   "cell_type": "code",
   "execution_count": null,
   "id": "8dd32f07-9c7b-4a59-98fe-747ec52910c5",
   "metadata": {
    "tags": []
   },
   "outputs": [],
   "source": [
    "res_outpath = f\"{out_root_path}/aligned_file.csv\"\n",
    "if not os.path.exists(os.path.dirname(res_outpath)):\n",
    "    os.makedirs(os.path.dirname(res_outpath))\n",
    "    while os.path.exists(os.path.dirname(res_outpath)):\n",
    "        break\n",
    "res_df.to_csv(res_outpath)\n"
   ]
  },
  {
   "cell_type": "markdown",
   "id": "ff5e5aa7-da2c-4391-ba1c-61b28f3a9156",
   "metadata": {
    "tags": []
   },
   "source": [
    "# Discard the -1 and keep only the diagram with the highest first-order strength\n",
    "    "
   ]
  },
  {
   "cell_type": "code",
   "execution_count": null,
   "id": "6df601c2-ccf8-4f9d-9c4c-f2034fa632a4",
   "metadata": {
    "tags": []
   },
   "outputs": [
    {
     "data": {
      "text/plain": [
       "(248264, 10)"
      ]
     },
     "execution_count": 2067,
     "metadata": {},
     "output_type": "execute_result"
    }
   ],
   "source": [
    "# Drop entries with -1\n",
    "res_nofu1_df = res_df[res_df[\"ms1_intensity\"] != -1]\n",
    "res_nofu1_df.shape\n"
   ]
  },
  {
   "cell_type": "code",
   "execution_count": 2070,
   "id": "766634ab-817b-4203-aaba-3247aa947a4c",
   "metadata": {
    "tags": []
   },
   "outputs": [
    {
     "data": {
      "text/plain": [
       "(84181, 10)"
      ]
     },
     "execution_count": 2070,
     "metadata": {},
     "output_type": "execute_result"
    }
   ],
   "source": [
    "max_ms1_indexes = res_nofu1_df.groupby(by=['theo_mz','ref_rt_left','ref_rt_right','ms2_ev'])['ms1_intensity'].idxmax()\n",
    "res_maxms1_df = res_nofu1_df.loc[max_ms1_indexes,]\n",
    "res_maxms1_df.shape"
   ]
  },
  {
   "cell_type": "code",
   "execution_count": 2071,
   "id": "16f2d9c0-81f7-4481-8285-9a438d8f7eeb",
   "metadata": {
    "tags": []
   },
   "outputs": [],
   "source": [
    "res_groupby_df = res_maxms1_df.groupby(['theo_mz','ref_mz', 'ref_rt_left', 'ref_rt_right']).agg({\n",
    "    'ms2_ev': list,\n",
    "    'ms2_index': list\n",
    "}).reset_index()\n",
    "res_groupby_df['ms2_ev'] = res_groupby_df['ms2_ev'].apply(lambda x: [int(i) for i in x])\n",
    "res_groupby_df['ms2_index'] = res_groupby_df['ms2_index'].apply(lambda x: [int(i) for i in x])"
   ]
  },
  {
   "cell_type": "code",
   "execution_count": 2073,
   "id": "64e9d47e-e866-4426-a94e-5e801eb126fe",
   "metadata": {
    "tags": []
   },
   "outputs": [],
   "source": [
    "res_groupby_df.to_csv(f\"{out_root_path}/res_groupby_df.csv\")"
   ]
  },
  {
   "cell_type": "code",
   "execution_count": 2172,
   "id": "c2f72bb2-e79a-4995-b713-ba9369990b17",
   "metadata": {
    "tags": []
   },
   "outputs": [
    {
     "data": {
      "text/html": [
       "<div>\n",
       "<style scoped>\n",
       "    .dataframe tbody tr th:only-of-type {\n",
       "        vertical-align: middle;\n",
       "    }\n",
       "\n",
       "    .dataframe tbody tr th {\n",
       "        vertical-align: top;\n",
       "    }\n",
       "\n",
       "    .dataframe thead th {\n",
       "        text-align: right;\n",
       "    }\n",
       "</style>\n",
       "<table border=\"1\" class=\"dataframe\">\n",
       "  <thead>\n",
       "    <tr style=\"text-align: right;\">\n",
       "      <th></th>\n",
       "      <th>theo_mz</th>\n",
       "      <th>ref_mz</th>\n",
       "      <th>ref_rt_left</th>\n",
       "      <th>ref_rt_right</th>\n",
       "      <th>ms2_ev</th>\n",
       "      <th>ms2_index</th>\n",
       "    </tr>\n",
       "  </thead>\n",
       "  <tbody>\n",
       "    <tr>\n",
       "      <th>0</th>\n",
       "      <td>72.99311</td>\n",
       "      <td>72.99302</td>\n",
       "      <td>44.16</td>\n",
       "      <td>62.64</td>\n",
       "      <td>[1, 10, 15, 20, 25, 30, 35, 40, 50, 60, 70, 80...</td>\n",
       "      <td>[801, 811, 847, 835, 821, 826, 846, 791, 836, ...</td>\n",
       "    </tr>\n",
       "    <tr>\n",
       "      <th>1</th>\n",
       "      <td>72.99311</td>\n",
       "      <td>72.99305</td>\n",
       "      <td>40.44</td>\n",
       "      <td>61.68</td>\n",
       "      <td>[1, 10, 15, 20, 25, 30, 35, 40, 50, 60, 70, 80...</td>\n",
       "      <td>[801, 811, 847, 835, 821, 826, 846, 791, 836, ...</td>\n",
       "    </tr>\n",
       "    <tr>\n",
       "      <th>2</th>\n",
       "      <td>72.99311</td>\n",
       "      <td>72.99306</td>\n",
       "      <td>40.74</td>\n",
       "      <td>66.18</td>\n",
       "      <td>[1, 10, 15, 20, 25, 30, 35, 40, 50, 60, 70, 80...</td>\n",
       "      <td>[801, 811, 847, 835, 821, 826, 846, 791, 836, ...</td>\n",
       "    </tr>\n",
       "    <tr>\n",
       "      <th>3</th>\n",
       "      <td>72.99311</td>\n",
       "      <td>72.99306</td>\n",
       "      <td>41.16</td>\n",
       "      <td>60.90</td>\n",
       "      <td>[1, 10, 15, 20, 25, 30, 35, 40, 50, 60, 70, 80...</td>\n",
       "      <td>[801, 811, 847, 835, 821, 826, 846, 791, 836, ...</td>\n",
       "    </tr>\n",
       "    <tr>\n",
       "      <th>4</th>\n",
       "      <td>72.99311</td>\n",
       "      <td>72.99307</td>\n",
       "      <td>40.50</td>\n",
       "      <td>63.30</td>\n",
       "      <td>[1, 10, 15, 20, 25, 30, 35, 40, 50, 60, 70, 80...</td>\n",
       "      <td>[801, 811, 847, 835, 821, 826, 846, 791, 836, ...</td>\n",
       "    </tr>\n",
       "    <tr>\n",
       "      <th>...</th>\n",
       "      <td>...</td>\n",
       "      <td>...</td>\n",
       "      <td>...</td>\n",
       "      <td>...</td>\n",
       "      <td>...</td>\n",
       "      <td>...</td>\n",
       "    </tr>\n",
       "    <tr>\n",
       "      <th>7373</th>\n",
       "      <td>873.15198</td>\n",
       "      <td>873.14972</td>\n",
       "      <td>882.42</td>\n",
       "      <td>900.48</td>\n",
       "      <td>[1, 10, 15, 20, 25, 30, 35, 40, 50, 80, 100]</td>\n",
       "      <td>[13962, 13912, 13961, 13997, 13911, 13961, 139...</td>\n",
       "    </tr>\n",
       "    <tr>\n",
       "      <th>7374</th>\n",
       "      <td>873.15198</td>\n",
       "      <td>873.14978</td>\n",
       "      <td>880.74</td>\n",
       "      <td>901.14</td>\n",
       "      <td>[1, 10, 15, 20, 25, 30, 35, 40, 50, 80, 100]</td>\n",
       "      <td>[13962, 13912, 13961, 13997, 13911, 13961, 139...</td>\n",
       "    </tr>\n",
       "    <tr>\n",
       "      <th>7375</th>\n",
       "      <td>873.15198</td>\n",
       "      <td>873.14984</td>\n",
       "      <td>883.02</td>\n",
       "      <td>899.40</td>\n",
       "      <td>[1, 10, 15, 20, 25, 30, 35, 40, 50, 80, 100]</td>\n",
       "      <td>[13962, 13912, 13961, 13997, 13911, 13961, 139...</td>\n",
       "    </tr>\n",
       "    <tr>\n",
       "      <th>7376</th>\n",
       "      <td>873.15198</td>\n",
       "      <td>873.15088</td>\n",
       "      <td>883.74</td>\n",
       "      <td>899.58</td>\n",
       "      <td>[1, 10, 15, 20, 25, 30, 35, 40, 50, 80, 100]</td>\n",
       "      <td>[13962, 13912, 13961, 13997, 13911, 13961, 139...</td>\n",
       "    </tr>\n",
       "    <tr>\n",
       "      <th>7377</th>\n",
       "      <td>873.15198</td>\n",
       "      <td>873.15173</td>\n",
       "      <td>883.02</td>\n",
       "      <td>899.94</td>\n",
       "      <td>[1, 10, 15, 20, 25, 30, 35, 40, 50, 80, 100]</td>\n",
       "      <td>[13962, 13912, 13961, 13997, 13911, 13961, 139...</td>\n",
       "    </tr>\n",
       "  </tbody>\n",
       "</table>\n",
       "<p>7378 rows × 6 columns</p>\n",
       "</div>"
      ],
      "text/plain": [
       "        theo_mz     ref_mz  ref_rt_left  ref_rt_right  \\\n",
       "0      72.99311   72.99302        44.16         62.64   \n",
       "1      72.99311   72.99305        40.44         61.68   \n",
       "2      72.99311   72.99306        40.74         66.18   \n",
       "3      72.99311   72.99306        41.16         60.90   \n",
       "4      72.99311   72.99307        40.50         63.30   \n",
       "...         ...        ...          ...           ...   \n",
       "7373  873.15198  873.14972       882.42        900.48   \n",
       "7374  873.15198  873.14978       880.74        901.14   \n",
       "7375  873.15198  873.14984       883.02        899.40   \n",
       "7376  873.15198  873.15088       883.74        899.58   \n",
       "7377  873.15198  873.15173       883.02        899.94   \n",
       "\n",
       "                                                 ms2_ev  \\\n",
       "0     [1, 10, 15, 20, 25, 30, 35, 40, 50, 60, 70, 80...   \n",
       "1     [1, 10, 15, 20, 25, 30, 35, 40, 50, 60, 70, 80...   \n",
       "2     [1, 10, 15, 20, 25, 30, 35, 40, 50, 60, 70, 80...   \n",
       "3     [1, 10, 15, 20, 25, 30, 35, 40, 50, 60, 70, 80...   \n",
       "4     [1, 10, 15, 20, 25, 30, 35, 40, 50, 60, 70, 80...   \n",
       "...                                                 ...   \n",
       "7373       [1, 10, 15, 20, 25, 30, 35, 40, 50, 80, 100]   \n",
       "7374       [1, 10, 15, 20, 25, 30, 35, 40, 50, 80, 100]   \n",
       "7375       [1, 10, 15, 20, 25, 30, 35, 40, 50, 80, 100]   \n",
       "7376       [1, 10, 15, 20, 25, 30, 35, 40, 50, 80, 100]   \n",
       "7377       [1, 10, 15, 20, 25, 30, 35, 40, 50, 80, 100]   \n",
       "\n",
       "                                              ms2_index  \n",
       "0     [801, 811, 847, 835, 821, 826, 846, 791, 836, ...  \n",
       "1     [801, 811, 847, 835, 821, 826, 846, 791, 836, ...  \n",
       "2     [801, 811, 847, 835, 821, 826, 846, 791, 836, ...  \n",
       "3     [801, 811, 847, 835, 821, 826, 846, 791, 836, ...  \n",
       "4     [801, 811, 847, 835, 821, 826, 846, 791, 836, ...  \n",
       "...                                                 ...  \n",
       "7373  [13962, 13912, 13961, 13997, 13911, 13961, 139...  \n",
       "7374  [13962, 13912, 13961, 13997, 13911, 13961, 139...  \n",
       "7375  [13962, 13912, 13961, 13997, 13911, 13961, 139...  \n",
       "7376  [13962, 13912, 13961, 13997, 13911, 13961, 139...  \n",
       "7377  [13962, 13912, 13961, 13997, 13911, 13961, 139...  \n",
       "\n",
       "[7378 rows x 6 columns]"
      ]
     },
     "execution_count": 2172,
     "metadata": {},
     "output_type": "execute_result"
    }
   ],
   "source": [
    "res_groupby_df = pd.read_csv(f\"{out_root_path}/res_groupby_df.csv\",index_col=0)\n",
    "res_groupby_df"
   ]
  },
  {
   "cell_type": "markdown",
   "id": "c25db817-9612-4c74-9a96-6fab6db9c0c6",
   "metadata": {},
   "source": [
    "# Add sample file"
   ]
  },
  {
   "cell_type": "code",
   "execution_count": null,
   "id": "925fd537-51f5-44e1-b6ed-b07b21423abc",
   "metadata": {
    "tags": []
   },
   "outputs": [
    {
     "name": "stdout",
     "output_type": "stream",
     "text": [
      "Amide_pos 111\n",
      "Amide_neg 111\n",
      "C18_pos 111\n",
      "C18_neg 111\n"
     ]
    },
    {
     "data": {
      "text/plain": [
       "[None, None, None, None]"
      ]
     },
     "execution_count": 17,
     "metadata": {},
     "output_type": "execute_result"
    }
   ],
   "source": [
    "\"\"\"Construct Area_cols_dict for Yin\"\"\"\n",
    "def get_Area_cols_dict():\n",
    "    Area_cols_dict = {}\n",
    "    for temp_sepuzhu, temp_pos_neg in [['Amide', 'pos'], ['Amide', 'neg'], ['C18', 'pos'], ['C18', 'neg']]:\n",
    "        MS_DIAL_list = os.listdir(f\"../../Fulaoshi/230821_mzML/BloodYin240307_{temp_sepuzhu}_{temp_pos_neg}/MS-DIAL\")\n",
    "        Area13_filename_list = [i for i in MS_DIAL_list if i.startswith(\"Area\")]\n",
    "        Area13_df = pd.read_csv(f\"../../Fulaoshi/230821_mzML/BloodYin240307_{temp_sepuzhu}_{temp_pos_neg}/MS-DIAL/{Area13_filename_list[0]}\", sep=\"\\t\", index_col=0)\n",
    "        Area_cols_list = [i for i in Area13_df.columns if ((i.strip().endswith(f\"-{temp_pos_neg}\") & (i.count('-') == 2) & (i.count('_') == 0)))]\n",
    "        Area_cols_dict[f\"{temp_sepuzhu}_{temp_pos_neg}\"] = Area_cols_list\n",
    "    return Area_cols_dict\n",
    "\n",
    "Area_cols_dict = get_Area_cols_dict()\n",
    "[print(i, len(v)) for i, v in Area_cols_dict.items()]\n"
   ]
  },
  {
   "cell_type": "code",
   "execution_count": null,
   "id": "31917c46-473e-4142-b6fd-091e60165645",
   "metadata": {
    "tags": []
   },
   "outputs": [],
   "source": [
    "# \"\"\"Parameter changes for rerun on 240915\"\"\"\n",
    "# # analysis_batch, sepuzhu, pos_neg, filesampleid = \"BloodYin240307\", \"Amide\", \"pos\", \"QCidentify_1\"\n",
    "# # analysis_batch, sepuzhu, pos_neg, filesampleid = \"BloodYin240307\", \"Amide\", \"neg\", \"QCidentify_1\"\n",
    "# analysis_batch, sepuzhu, pos_neg, filesampleid = \"BloodYin240307\", \"C18\", \"pos\", \"QCidentify_1\"\n",
    "analysis_batch, sepuzhu, pos_neg, filesampleid = \"BloodYin240307\", \"C18\", \"neg\", \"QCidentify_1\"\n",
    "\n",
    "analysis_path = f\"{analysis_batch}_{sepuzhu}_{pos_neg}\"\n",
    "\n",
    "root_path = f'../../Fulaoshi/230821_mzML/{analysis_path}/'\n",
    "# middle_list = ['873_Amide', '873_C18']\n",
    "middle_list = ['700_Amide', '700_C18', '873_Amide', '873_C18', '3545_Amide', '3545_C18', 'BC_Amide', 'BC_C18']\n",
    "out_root_path = f'../../Fulaoshi/230821_mzML_res/{analysis_path}'\n",
    "standard13_ms2_path = '../../Fulaoshi/230821_mzML_res/rerun240410/'\n",
    "ev13_list = [1, 10, 15, 20, 25, 30, 35, 40, 50, 60, 70, 80, 100]\n"
   ]
  },
  {
   "cell_type": "code",
   "execution_count": 299,
   "id": "268a35aa-1003-44bb-b331-ee9c053be682",
   "metadata": {
    "tags": []
   },
   "outputs": [
    {
     "data": {
      "text/plain": [
       "('../../Fulaoshi/230821_mzML/BloodYin240307_C18_neg/',\n",
       " ['Area_1_2024_08_27_13_13_16.txt'])"
      ]
     },
     "execution_count": 299,
     "metadata": {},
     "output_type": "execute_result"
    }
   ],
   "source": [
    "MS_DIAL_list = os.listdir(f\"{root_path}/MS-DIAL\")\n",
    "Area13_filename_list = [i for i in MS_DIAL_list if i.startswith(\"Area\")]\n",
    "root_path, Area13_filename_list"
   ]
  },
  {
   "cell_type": "code",
   "execution_count": 301,
   "id": "373cafd4-2253-449e-b5b0-346eb1c42f46",
   "metadata": {
    "tags": []
   },
   "outputs": [
    {
     "data": {
      "text/html": [
       "<div>\n",
       "<style scoped>\n",
       "    .dataframe tbody tr th:only-of-type {\n",
       "        vertical-align: middle;\n",
       "    }\n",
       "\n",
       "    .dataframe tbody tr th {\n",
       "        vertical-align: top;\n",
       "    }\n",
       "\n",
       "    .dataframe thead th {\n",
       "        text-align: right;\n",
       "    }\n",
       "</style>\n",
       "<table border=\"1\" class=\"dataframe\">\n",
       "  <thead>\n",
       "    <tr style=\"text-align: right;\">\n",
       "      <th></th>\n",
       "      <th>Average Rt(min)</th>\n",
       "      <th>Average Mz</th>\n",
       "      <th>Metabolite name</th>\n",
       "      <th>Adduct type</th>\n",
       "      <th>Post curation result</th>\n",
       "      <th>Fill %</th>\n",
       "      <th>MS/MS assigned</th>\n",
       "      <th>Reference RT</th>\n",
       "      <th>Reference m/z</th>\n",
       "      <th>Formula</th>\n",
       "      <th>...</th>\n",
       "      <th>QC-NCE204060-neg-15</th>\n",
       "      <th>QC-NCE204060-neg-16</th>\n",
       "      <th>QC-NCE204060-neg-17</th>\n",
       "      <th>QC-NCE204060-neg-18</th>\n",
       "      <th>QC-NCE204060-neg-7</th>\n",
       "      <th>QC-NCE204060-neg-8</th>\n",
       "      <th>QC-NCE204060-neg-9</th>\n",
       "      <th>1</th>\n",
       "      <th>1.1</th>\n",
       "      <th>Average Rt(s)</th>\n",
       "    </tr>\n",
       "    <tr>\n",
       "      <th>Alignment ID</th>\n",
       "      <th></th>\n",
       "      <th></th>\n",
       "      <th></th>\n",
       "      <th></th>\n",
       "      <th></th>\n",
       "      <th></th>\n",
       "      <th></th>\n",
       "      <th></th>\n",
       "      <th></th>\n",
       "      <th></th>\n",
       "      <th></th>\n",
       "      <th></th>\n",
       "      <th></th>\n",
       "      <th></th>\n",
       "      <th></th>\n",
       "      <th></th>\n",
       "      <th></th>\n",
       "      <th></th>\n",
       "      <th></th>\n",
       "      <th></th>\n",
       "      <th></th>\n",
       "    </tr>\n",
       "  </thead>\n",
       "  <tbody>\n",
       "    <tr>\n",
       "      <th>0</th>\n",
       "      <td>4.21</td>\n",
       "      <td>70.01294</td>\n",
       "      <td>Unknown</td>\n",
       "      <td>[M-H]-</td>\n",
       "      <td>NaN</td>\n",
       "      <td>0.01</td>\n",
       "      <td>False</td>\n",
       "      <td>NaN</td>\n",
       "      <td>NaN</td>\n",
       "      <td>NaN</td>\n",
       "      <td>...</td>\n",
       "      <td>0</td>\n",
       "      <td>4435</td>\n",
       "      <td>0</td>\n",
       "      <td>0</td>\n",
       "      <td>4276</td>\n",
       "      <td>3997</td>\n",
       "      <td>0</td>\n",
       "      <td>1304.424001</td>\n",
       "      <td>1507.990433</td>\n",
       "      <td>252.6</td>\n",
       "    </tr>\n",
       "    <tr>\n",
       "      <th>1</th>\n",
       "      <td>19.55</td>\n",
       "      <td>70.01971</td>\n",
       "      <td>no MS2: Oxazol</td>\n",
       "      <td>[M+H]+</td>\n",
       "      <td>NaN</td>\n",
       "      <td>0.01</td>\n",
       "      <td>False</td>\n",
       "      <td>-1.0</td>\n",
       "      <td>70.0287</td>\n",
       "      <td>C3H3NO</td>\n",
       "      <td>...</td>\n",
       "      <td>0</td>\n",
       "      <td>0</td>\n",
       "      <td>0</td>\n",
       "      <td>0</td>\n",
       "      <td>0</td>\n",
       "      <td>12559</td>\n",
       "      <td>0</td>\n",
       "      <td>2949.437947</td>\n",
       "      <td>3718.834778</td>\n",
       "      <td>1173.0</td>\n",
       "    </tr>\n",
       "  </tbody>\n",
       "</table>\n",
       "<p>2 rows × 188 columns</p>\n",
       "</div>"
      ],
      "text/plain": [
       "              Average Rt(min)  Average Mz Metabolite name Adduct type  \\\n",
       "Alignment ID                                                            \n",
       "0                        4.21    70.01294         Unknown      [M-H]-   \n",
       "1                       19.55    70.01971  no MS2: Oxazol      [M+H]+   \n",
       "\n",
       "              Post curation result  Fill %  MS/MS assigned  Reference RT  \\\n",
       "Alignment ID                                                               \n",
       "0                              NaN    0.01           False           NaN   \n",
       "1                              NaN    0.01           False          -1.0   \n",
       "\n",
       "              Reference m/z Formula  ... QC-NCE204060-neg-15  \\\n",
       "Alignment ID                         ...                       \n",
       "0                       NaN     NaN  ...                   0   \n",
       "1                   70.0287  C3H3NO  ...                   0   \n",
       "\n",
       "             QC-NCE204060-neg-16 QC-NCE204060-neg-17  QC-NCE204060-neg-18  \\\n",
       "Alignment ID                                                                \n",
       "0                           4435                   0                    0   \n",
       "1                              0                   0                    0   \n",
       "\n",
       "              QC-NCE204060-neg-7  QC-NCE204060-neg-8  QC-NCE204060-neg-9  \\\n",
       "Alignment ID                                                               \n",
       "0                           4276                3997                   0   \n",
       "1                              0               12559                   0   \n",
       "\n",
       "                        1          1.1  Average Rt(s)  \n",
       "Alignment ID                                           \n",
       "0             1304.424001  1507.990433          252.6  \n",
       "1             2949.437947  3718.834778         1173.0  \n",
       "\n",
       "[2 rows x 188 columns]"
      ]
     },
     "execution_count": 301,
     "metadata": {},
     "output_type": "execute_result"
    }
   ],
   "source": [
    "Area13_df = pd.read_csv(f\"{root_path}/MS-DIAL/{Area13_filename_list[0]}\", sep=\"\\t\",index_col=0)\n",
    "Area13_df[\"Average Rt(s)\"] = Area13_df[\"Average Rt(min)\"]*60\n",
    "Area13_df.head(2)"
   ]
  },
  {
   "cell_type": "code",
   "execution_count": null,
   "id": "54086f71-f865-4862-af50-c6b41b776e15",
   "metadata": {
    "tags": []
   },
   "outputs": [
    {
     "data": {
      "text/plain": [
       "(111, ['20231225-10-neg', '20231225-11-neg', '20231225-12-neg'])"
      ]
     },
     "execution_count": 302,
     "metadata": {},
     "output_type": "execute_result"
    }
   ],
   "source": [
    "# Area_cols_list = [i for i in Area13_df.columns if i.startswith(\"QCidentify\")]\n",
    "# Area_204060_colname = [i for i in Area_cols_list if '204060' in i][0]\n",
    "# Area_cols_list.remove(Area_204060_colname)\n",
    "# Change on 240817:\n",
    "\"\"\"Brain tumor data\"\"\"\n",
    "# Area_cols_list = [i for i in Area13_df.columns if ((i.strip().endswith(f\"-{pos_neg}\") & (i.count('-'))))]\n",
    "\"\"\"Yin data\"\"\"\n",
    "# Area_cols_list = [i for i in Area13_df.columns if ((i.strip().endswith(f\"-{pos_neg}\") & (i.count('-') == 2) & (i.count('_') == 0)))]\n",
    "Area_cols_list = Area_cols_dict[f\"{sepuzhu}_{pos_neg}\"]\n",
    "\n",
    "Area_lens = len(Area_cols_list)\n",
    "\n",
    "len(Area_cols_list), Area_cols_list[0:3]\n"
   ]
  },
  {
   "cell_type": "code",
   "execution_count": 306,
   "id": "b411630a-08e4-426b-a44c-31e514e5f79c",
   "metadata": {
    "tags": []
   },
   "outputs": [],
   "source": [
    "res_groupby_df = pd.read_csv(f\"{out_root_path}/res_groupby_df.csv\",index_col=0)"
   ]
  },
  {
   "cell_type": "code",
   "execution_count": null,
   "id": "c5ea05c2-3a48-414d-b6f0-9da9765587a5",
   "metadata": {
    "tags": []
   },
   "outputs": [],
   "source": [
    "Area13_3list = []\n",
    "for res_groupby_index in res_groupby_df.index[0:]:\n",
    "    res_groupby_mz, res_groupby_rt_low, res_groupby_rt_up = res_groupby_df.loc[res_groupby_index, ['ref_mz', 'ref_rt_left', 'ref_rt_right']] # Use theoretical mz as of 240915\n",
    "    res_groupby_mz_low, res_groupby_mz_up = mzbatch.get_mz_range(res_groupby_mz, diff=10)\n",
    "    \n",
    "    # Filter Area13_df based on mz and rt ranges\n",
    "    temp_Area13_df = Area13_df[\n",
    "        ((Area13_df['Average Mz'] >= res_groupby_mz_low) & (Area13_df['Average Mz'] <= res_groupby_mz_up)) &\n",
    "        ((Area13_df['Average Rt(s)'] >= res_groupby_rt_low) & (Area13_df['Average Rt(s)'] <= res_groupby_rt_up))\n",
    "    ]\n",
    "    \n",
    "    if temp_Area13_df.shape[0] == 1:\n",
    "        Area13_3list.append(temp_Area13_df.loc[:, Area_cols_list].values.tolist())\n",
    "    elif temp_Area13_df.shape[0] > 1:\n",
    "        # 240910 modification: retain all entries\n",
    "        Area13_3list.append(temp_Area13_df.loc[:, Area_cols_list].values.tolist())\n",
    "    else:\n",
    "        Area13_3list.append(-1)\n"
   ]
  },
  {
   "cell_type": "code",
   "execution_count": 312,
   "id": "42624459-dfd0-4c72-a3c7-207965fcc9a8",
   "metadata": {
    "tags": []
   },
   "outputs": [],
   "source": [
    "res_groupby_df[\"Area13_2list\"] = Area13_3list"
   ]
  },
  {
   "cell_type": "code",
   "execution_count": 314,
   "id": "01c1bcd5-0f93-4dd5-8d28-2a36b176a40c",
   "metadata": {
    "tags": []
   },
   "outputs": [
    {
     "name": "stdout",
     "output_type": "stream",
     "text": [
      "(8646, 7)\n"
     ]
    }
   ],
   "source": [
    "print(res_groupby_df.shape)\n",
    "# res_groupby_df[res_groupby_df[\"Area13_2list\"].apply(lambda x:x==-1)].head(2)"
   ]
  },
  {
   "cell_type": "code",
   "execution_count": 317,
   "id": "af7689eb-8d3b-4230-b313-a890fa0863c5",
   "metadata": {
    "tags": []
   },
   "outputs": [],
   "source": [
    "res_groupby_df.to_csv(f\"{out_root_path}/res_groupby_Area13_01df.csv\")"
   ]
  },
  {
   "cell_type": "markdown",
   "id": "d5eaf6a8-92da-497b-a485-ff0801b14cda",
   "metadata": {
    "tags": []
   },
   "source": [
    "### Processing res_groupby_df"
   ]
  },
  {
   "cell_type": "code",
   "execution_count": 318,
   "id": "855edc8e-6604-4bd2-8b98-f6106b80fd86",
   "metadata": {
    "tags": []
   },
   "outputs": [],
   "source": [
    "def fangda(x):\n",
    "    if x=='-1' or x=='[[]]':\n",
    "        return [[-1]*Area_lens]\n",
    "    else:\n",
    "        return x"
   ]
  },
  {
   "cell_type": "code",
   "execution_count": 319,
   "id": "2a1e1c2e-d52e-4dd8-9949-89665b2f44bf",
   "metadata": {
    "tags": []
   },
   "outputs": [],
   "source": [
    "# analysis_batch, sepuzhu,pos_neg = \"BloodNaoLiu240807\",\"Amide\",\"pos\"\n",
    "# analysis_batch, sepuzhu,pos_neg = \"BloodNaoLiu240807\",\"Amide\",\"neg\"\n",
    "# analysis_batch, sepuzhu,pos_neg = \"BloodNaoLiu240807\",\"C18\",\"pos\"\n",
    "# analysis_batch, sepuzhu,pos_neg = \"BloodNaoLiu240807\",\"C18\",\"neg\"\n",
    "\n",
    "# analysis_path = f\"{analysis_batch}_{sepuzhu}_{pos_neg}\"\n",
    "# out_root_path = f'../../Fulaoshi/230821_mzML_res/{analysis_path}'"
   ]
  },
  {
   "cell_type": "code",
   "execution_count": null,
   "id": "eba8e851-b849-4afb-aebb-990b4b416fef",
   "metadata": {
    "tags": []
   },
   "outputs": [
    {
     "data": {
      "text/html": [
       "<div>\n",
       "<style scoped>\n",
       "    .dataframe tbody tr th:only-of-type {\n",
       "        vertical-align: middle;\n",
       "    }\n",
       "\n",
       "    .dataframe tbody tr th {\n",
       "        vertical-align: top;\n",
       "    }\n",
       "\n",
       "    .dataframe thead th {\n",
       "        text-align: right;\n",
       "    }\n",
       "</style>\n",
       "<table border=\"1\" class=\"dataframe\">\n",
       "  <thead>\n",
       "    <tr style=\"text-align: right;\">\n",
       "      <th></th>\n",
       "      <th>theo_mz</th>\n",
       "      <th>ref_mz</th>\n",
       "      <th>ref_rt_left</th>\n",
       "      <th>ref_rt_right</th>\n",
       "      <th>ms2_ev</th>\n",
       "      <th>ms2_index</th>\n",
       "      <th>Area13_2list</th>\n",
       "    </tr>\n",
       "  </thead>\n",
       "  <tbody>\n",
       "    <tr>\n",
       "      <th>45</th>\n",
       "      <td>75.00876</td>\n",
       "      <td>75.00875</td>\n",
       "      <td>57.24</td>\n",
       "      <td>67.2</td>\n",
       "      <td>[1, 10, 15, 20, 25, 30, 35, 40, 50, 60, 70, 80...</td>\n",
       "      <td>[906, 897, 912, 902, 901, 908, 906, 896, 913, ...</td>\n",
       "      <td>-1</td>\n",
       "    </tr>\n",
       "    <tr>\n",
       "      <th>46</th>\n",
       "      <td>75.00876</td>\n",
       "      <td>75.00875</td>\n",
       "      <td>57.30</td>\n",
       "      <td>67.5</td>\n",
       "      <td>[1, 10, 15, 20, 25, 30, 35, 40, 50, 60, 70, 80...</td>\n",
       "      <td>[906, 897, 912, 902, 901, 908, 906, 896, 913, ...</td>\n",
       "      <td>-1</td>\n",
       "    </tr>\n",
       "  </tbody>\n",
       "</table>\n",
       "</div>"
      ],
      "text/plain": [
       "     theo_mz    ref_mz  ref_rt_left  ref_rt_right  \\\n",
       "45  75.00876  75.00875        57.24          67.2   \n",
       "46  75.00876  75.00875        57.30          67.5   \n",
       "\n",
       "                                               ms2_ev  \\\n",
       "45  [1, 10, 15, 20, 25, 30, 35, 40, 50, 60, 70, 80...   \n",
       "46  [1, 10, 15, 20, 25, 30, 35, 40, 50, 60, 70, 80...   \n",
       "\n",
       "                                            ms2_index Area13_2list  \n",
       "45  [906, 897, 912, 902, 901, 908, 906, 896, 913, ...           -1  \n",
       "46  [906, 897, 912, 902, 901, 908, 906, 896, 913, ...           -1  "
      ]
     },
     "execution_count": 321,
     "metadata": {},
     "output_type": "execute_result"
    }
   ],
   "source": [
    "# Process res_groupby_df\n",
    "res_groupby_df = pd.read_csv(f\"{out_root_path}/res_groupby_Area13_01df.csv\", index_col=0)\n",
    "res_groupby_df[res_groupby_df[\"Area13_2list\"].apply(lambda x: x == '-1')].head(2)\n"
   ]
  },
  {
   "cell_type": "code",
   "execution_count": 322,
   "id": "6dc4db1f-3ba1-4af3-af79-a7170e4ac9e0",
   "metadata": {
    "tags": []
   },
   "outputs": [],
   "source": [
    "res_groupby_df[\"Area13_2list\"] = res_groupby_df[\"Area13_2list\"].apply(lambda x:fangda(x))\n",
    "# res_groupby_df.to_csv(f\"{out_root_path}/res_groupby_Area13_df.csv\")"
   ]
  },
  {
   "cell_type": "code",
   "execution_count": 323,
   "id": "fa75974a-782a-4143-b788-92db171a61ec",
   "metadata": {
    "tags": []
   },
   "outputs": [
    {
     "data": {
      "text/html": [
       "<div>\n",
       "<style scoped>\n",
       "    .dataframe tbody tr th:only-of-type {\n",
       "        vertical-align: middle;\n",
       "    }\n",
       "\n",
       "    .dataframe tbody tr th {\n",
       "        vertical-align: top;\n",
       "    }\n",
       "\n",
       "    .dataframe thead th {\n",
       "        text-align: right;\n",
       "    }\n",
       "</style>\n",
       "<table border=\"1\" class=\"dataframe\">\n",
       "  <thead>\n",
       "    <tr style=\"text-align: right;\">\n",
       "      <th></th>\n",
       "      <th>theo_mz</th>\n",
       "      <th>ref_mz</th>\n",
       "      <th>ref_rt_left</th>\n",
       "      <th>ref_rt_right</th>\n",
       "      <th>ms2_ev</th>\n",
       "      <th>ms2_index</th>\n",
       "      <th>Area13_2list</th>\n",
       "    </tr>\n",
       "  </thead>\n",
       "  <tbody>\n",
       "    <tr>\n",
       "      <th>45</th>\n",
       "      <td>75.00876</td>\n",
       "      <td>75.00875</td>\n",
       "      <td>57.24</td>\n",
       "      <td>67.2</td>\n",
       "      <td>[1, 10, 15, 20, 25, 30, 35, 40, 50, 60, 70, 80...</td>\n",
       "      <td>[906, 897, 912, 902, 901, 908, 906, 896, 913, ...</td>\n",
       "      <td>[[-1, -1, -1, -1, -1, -1, -1, -1, -1, -1, -1, ...</td>\n",
       "    </tr>\n",
       "    <tr>\n",
       "      <th>46</th>\n",
       "      <td>75.00876</td>\n",
       "      <td>75.00875</td>\n",
       "      <td>57.30</td>\n",
       "      <td>67.5</td>\n",
       "      <td>[1, 10, 15, 20, 25, 30, 35, 40, 50, 60, 70, 80...</td>\n",
       "      <td>[906, 897, 912, 902, 901, 908, 906, 896, 913, ...</td>\n",
       "      <td>[[-1, -1, -1, -1, -1, -1, -1, -1, -1, -1, -1, ...</td>\n",
       "    </tr>\n",
       "  </tbody>\n",
       "</table>\n",
       "</div>"
      ],
      "text/plain": [
       "     theo_mz    ref_mz  ref_rt_left  ref_rt_right  \\\n",
       "45  75.00876  75.00875        57.24          67.2   \n",
       "46  75.00876  75.00875        57.30          67.5   \n",
       "\n",
       "                                               ms2_ev  \\\n",
       "45  [1, 10, 15, 20, 25, 30, 35, 40, 50, 60, 70, 80...   \n",
       "46  [1, 10, 15, 20, 25, 30, 35, 40, 50, 60, 70, 80...   \n",
       "\n",
       "                                            ms2_index  \\\n",
       "45  [906, 897, 912, 902, 901, 908, 906, 896, 913, ...   \n",
       "46  [906, 897, 912, 902, 901, 908, 906, 896, 913, ...   \n",
       "\n",
       "                                         Area13_2list  \n",
       "45  [[-1, -1, -1, -1, -1, -1, -1, -1, -1, -1, -1, ...  \n",
       "46  [[-1, -1, -1, -1, -1, -1, -1, -1, -1, -1, -1, ...  "
      ]
     },
     "execution_count": 323,
     "metadata": {},
     "output_type": "execute_result"
    }
   ],
   "source": [
    "res_groupby_df[res_groupby_df[\"Area13_2list\"].apply(lambda x:x==[[-1]*Area_lens])].head(2)"
   ]
  },
  {
   "cell_type": "code",
   "execution_count": 326,
   "id": "0d9eda8b-1cd3-4fd7-bedf-b9edfc4a8a00",
   "metadata": {
    "tags": []
   },
   "outputs": [],
   "source": [
    "res_groupby_df.to_csv(f\"{out_root_path}/res_groupby_Area13_02df.csv\")"
   ]
  },
  {
   "cell_type": "code",
   "execution_count": 327,
   "id": "9edf2f4f-dca3-4e48-af01-c49b8fedbff3",
   "metadata": {
    "tags": []
   },
   "outputs": [
    {
     "data": {
      "text/plain": [
       "(8646, 7)"
      ]
     },
     "execution_count": 327,
     "metadata": {},
     "output_type": "execute_result"
    }
   ],
   "source": [
    "res_groupby_df.shape"
   ]
  },
  {
   "cell_type": "code",
   "execution_count": 328,
   "id": "29794f71-74ac-41cd-b2e8-8b8239cbcca7",
   "metadata": {
    "tags": []
   },
   "outputs": [],
   "source": [
    "res_groupby_df[\"Area13_2list\"] = res_groupby_df[\"Area13_2list\"].apply(lambda x:eval(str(x)))"
   ]
  },
  {
   "cell_type": "code",
   "execution_count": null,
   "id": "8fa3a18b-02b9-4ee2-9421-1914f6a9d9db",
   "metadata": {
    "tags": []
   },
   "outputs": [],
   "source": [
    "# Split Area13_2list into multiple rows\n",
    "res_groupby_df = res_groupby_df.explode(\"Area13_2list\")\n"
   ]
  },
  {
   "cell_type": "code",
   "execution_count": 330,
   "id": "a9740974-93a9-4e42-9048-9d27192a813a",
   "metadata": {
    "tags": []
   },
   "outputs": [
    {
     "data": {
      "text/plain": [
       "(9203, 7)"
      ]
     },
     "execution_count": 330,
     "metadata": {},
     "output_type": "execute_result"
    }
   ],
   "source": [
    "res_groupby_df.shape"
   ]
  },
  {
   "cell_type": "code",
   "execution_count": 331,
   "id": "7f6af2c5-4e95-4670-8435-630f529cd9f1",
   "metadata": {
    "tags": []
   },
   "outputs": [],
   "source": [
    "res_groupby_df.reset_index(drop=True,inplace=True)"
   ]
  },
  {
   "cell_type": "code",
   "execution_count": 332,
   "id": "c18aa369-e358-4455-b0ee-bd0a87d3b22f",
   "metadata": {
    "tags": []
   },
   "outputs": [],
   "source": [
    "res_groupby_df.to_csv(f\"{out_root_path}/res_groupby_Area13_03df.csv\")\n"
   ]
  },
  {
   "cell_type": "markdown",
   "id": "9188e4a2-d21f-43e6-9f38-d398051eae5f",
   "metadata": {
    "tags": []
   },
   "source": [
    "# Build merge13\n",
    "\n",
    "- Separate the pluses and minuses"
   ]
  },
  {
   "cell_type": "code",
   "execution_count": 337,
   "id": "5b78e254-3e8f-4973-a2ec-3553e47a7167",
   "metadata": {
    "tags": []
   },
   "outputs": [],
   "source": [
    "res_groupby_df = pd.read_csv(f\"{out_root_path}/res_groupby_Area13_03df.csv\",index_col=0)"
   ]
  },
  {
   "cell_type": "code",
   "execution_count": null,
   "id": "096e95a2-400a-4c97-aeb4-5e48e04ebc2c",
   "metadata": {
    "tags": []
   },
   "outputs": [],
   "source": [
    "for res_groupby_index in res_groupby_df.index[0:]:\n",
    "    ms2_ev_list, ms2_index_list = res_groupby_df.loc[res_groupby_index, [\"ms2_ev\", \"ms2_index\"]]\n",
    "    ms2_ev_list = eval(ms2_ev_list)\n",
    "    ms2_index_list = eval(ms2_index_list)\n",
    "    \n",
    "    con_ms2_df_list = []\n",
    "    for i, ms2_ev in enumerate(ms2_ev_list):\n",
    "        ms2_index = ms2_index_list[i]\n",
    "        \n",
    "        j = ev13_list.index(ms2_ev)\n",
    "        raw_df = raw_df_list[j]\n",
    "        one_ms2_df = pd.DataFrame(raw_df.loc[ms2_index, \"peaks\"], columns=[\"Mass\", \"Intensity\"])\n",
    "        one_ms2_df = mzbatch.round_df(one_ms2_df, 1e6)\n",
    "        one_ms2_df.set_index(['Mass'], inplace=True)\n",
    "        con_ms2_df_list.append(one_ms2_df)\n",
    "    \n",
    "    con_ms2_df = pd.concat(con_ms2_df_list, axis=1)\n",
    "    con_ms2_cols = [int(i) for i in ms2_ev_list]\n",
    "    con_ms2_df.columns = con_ms2_cols\n",
    "    con_ms2_df = con_ms2_df.fillna(0)\n",
    "    \n",
    "    # Sort the dataframe by index\n",
    "    con_ms2_df = con_ms2_df.sort_index()\n",
    "    \n",
    "    # Output to file\n",
    "    merge13_outpath = f\"{out_root_path}/NCE_merge13/\"\n",
    "    if not os.path.exists(merge13_outpath):\n",
    "        os.makedirs(merge13_outpath)\n",
    "        while os.path.exists(merge13_outpath):\n",
    "            break\n",
    "    \n",
    "    con_ms2_df.to_csv(f\"{merge13_outpath}/{res_groupby_index}.csv\")\n"
   ]
  },
  {
   "cell_type": "markdown",
   "id": "3cdcf499-ee73-406f-8db2-cb1a9b6327c1",
   "metadata": {},
   "source": [
    "# Calculated according to merge13"
   ]
  },
  {
   "cell_type": "code",
   "execution_count": null,
   "id": "107c3a09-6460-481e-bc40-f2ab7f54ffd1",
   "metadata": {
    "tags": []
   },
   "outputs": [],
   "source": [
    "# Read standard graph\n",
    "def read_bscp_merge13file(bscp):\n",
    "    batch, sampleid, cas, pos_neg = bscp.split(\"+\")\n",
    "    filepath = f\"{standard13_ms2_path}/{batch}/NCE_merge13/{bscp}.csv\"\n",
    "    # print(filepath)\n",
    "    if not os.path.exists(filepath):\n",
    "        return pd.DataFrame(columns=[-1])\n",
    "    data_df = pd.read_csv(filepath, index_col=0)\n",
    "    return data_df\n"
   ]
  },
  {
   "cell_type": "code",
   "execution_count": 93,
   "id": "31cc3b11-135f-4b36-bf5a-d6529e778e2d",
   "metadata": {
    "tags": []
   },
   "outputs": [],
   "source": [
    "def change_cols(data_df, ev_intersection_list, col_pre):\n",
    "    data_df = data_df.loc[:,ev_intersection_list]\n",
    "    data_cols = [f\"{col_pre}_{i}\" for i in data_df.columns]\n",
    "    data_df.columns = data_cols\n",
    "    return data_df"
   ]
  },
  {
   "cell_type": "markdown",
   "id": "a2617e74-70ae-4171-aad6-3459e3018f82",
   "metadata": {
    "tags": []
   },
   "source": [
    "### Build the underlying data"
   ]
  },
  {
   "cell_type": "code",
   "execution_count": null,
   "id": "d35f1fdf-1d5d-400f-93df-c1cf8c4d0398",
   "metadata": {
    "tags": []
   },
   "outputs": [],
   "source": [
    "\"\"\"Parameter settings\"\"\"\n",
    "sim_method_list = [\"cosine\", \"jaccard\", \"entropy\"]\n",
    "\n",
    "curr_pattern = [sepuzhu, pos_neg]\n",
    "\n",
    "# sim_method = sim_method_list[0]\n",
    "sim_method = sim_method_list[1]\n",
    "# sim_method = sim_method_list[2]\n"
   ]
  },
  {
   "cell_type": "code",
   "execution_count": null,
   "id": "b3ddf381-4b24-4770-9082-c95720478082",
   "metadata": {
    "tags": []
   },
   "outputs": [],
   "source": [
    "\"\"\"Parameters related to ev\"\"\"\n",
    "ev_13_list = [1, 10, 15, 20, 25, 30, 35, 40, 50, 60, 70, 80, 100]\n",
    "ev_0160_list = [1, 10, 15, 20, 25, 30, 35, 40, 50, 60]\n",
    "ev_0170_list = [1, 10, 15, 20, 25, 30, 35, 40, 50, 60, 70]\n",
    "ev_2060_list = [20, 25, 30, 35, 40, 50, 60]\n",
    "ev_204060_list = [20, 40, 60]\n",
    "ev_select_dict = {\"ev13\": ev_13_list, \"ev0160\": ev_0160_list, \"ev0170\": ev_0170_list, \"ev2060\": ev_2060_list, \"ev204060\": ev_204060_list}\n",
    "\n",
    "ev_select_name = \"ev13\"\n",
    "ev_select_list = ev_select_dict[ev_select_name]\n"
   ]
  },
  {
   "cell_type": "code",
   "execution_count": null,
   "id": "9c6c67ce-c5f1-40d6-9d6c-cb174b6f80d3",
   "metadata": {
    "tags": []
   },
   "outputs": [
    {
     "name": "stdout",
     "output_type": "stream",
     "text": [
      "900\n",
      "1025 ['sepuzhu', 'pos_neg', 'bscp1']\n"
     ]
    }
   ],
   "source": [
    "\"\"\"Result column names\"\"\"\n",
    "top_colist = []\n",
    "[top_colist.extend([f\"top_{i}\", f\"top_{i}_sum\", f\"top_{i}_ev13\"]) for i in range(1, 301)]\n",
    "print(len(top_colist))\n",
    "align_res_cols = [\"sepuzhu\", \"pos_neg\", \"bscp1\", \"b1_name\", \"b1_adduct\", \"b1_no0_linenums\",\n",
    "                  \"b2_index\", \"b2_mz\", \"b2_rt_left\", \"b2_rt_right\", \"b2_no0_linenums\",\n",
    "                  \"ev_nums\", \"ev_list\", \"Area13_2list\"] + top_colist + Area_cols_list\n",
    "print(len(align_res_cols), align_res_cols[0:3])\n"
   ]
  },
  {
   "cell_type": "code",
   "execution_count": null,
   "id": "c80c3ede-2e5a-4a10-ac51-3a56c978d8dd",
   "metadata": {
    "tags": []
   },
   "outputs": [
    {
     "name": "stdout",
     "output_type": "stream",
     "text": [
      "(3139, 17)\n"
     ]
    },
    {
     "data": {
      "text/html": [
       "<div>\n",
       "<style scoped>\n",
       "    .dataframe tbody tr th:only-of-type {\n",
       "        vertical-align: middle;\n",
       "    }\n",
       "\n",
       "    .dataframe tbody tr th {\n",
       "        vertical-align: top;\n",
       "    }\n",
       "\n",
       "    .dataframe thead th {\n",
       "        text-align: right;\n",
       "    }\n",
       "</style>\n",
       "<table border=\"1\" class=\"dataframe\">\n",
       "  <thead>\n",
       "    <tr style=\"text-align: right;\">\n",
       "      <th></th>\n",
       "      <th>batch</th>\n",
       "      <th>sepuzhu</th>\n",
       "      <th>sampleid</th>\n",
       "      <th>Product Name</th>\n",
       "      <th>CAS No.</th>\n",
       "      <th>Formula</th>\n",
       "      <th>M.Wt</th>\n",
       "      <th>pos_neg</th>\n",
       "      <th>refer_RT</th>\n",
       "      <th>m/z</th>\n",
       "      <th>RT time</th>\n",
       "      <th>NL</th>\n",
       "      <th>bscp</th>\n",
       "      <th>Adduct</th>\n",
       "      <th>batch_sampleid</th>\n",
       "      <th>ev_nums</th>\n",
       "      <th>ev_list</th>\n",
       "    </tr>\n",
       "  </thead>\n",
       "  <tbody>\n",
       "    <tr>\n",
       "      <th>1105</th>\n",
       "      <td>873_C18</td>\n",
       "      <td>C18</td>\n",
       "      <td>26386</td>\n",
       "      <td>N6-Methyladenosine</td>\n",
       "      <td>1867-73-8</td>\n",
       "      <td>C11H15N5O4</td>\n",
       "      <td>281.27</td>\n",
       "      <td>neg</td>\n",
       "      <td>1</td>\n",
       "      <td>280.10512</td>\n",
       "      <td>372.0</td>\n",
       "      <td>8140000</td>\n",
       "      <td>873_C18+26386+1867-73-8+neg</td>\n",
       "      <td>[M-H]-</td>\n",
       "      <td>873_C18/26386</td>\n",
       "      <td>13</td>\n",
       "      <td>[1, 10, 15, 20, 25, 30, 35, 40, 50, 60, 70, 80...</td>\n",
       "    </tr>\n",
       "    <tr>\n",
       "      <th>1107</th>\n",
       "      <td>873_C18</td>\n",
       "      <td>C18</td>\n",
       "      <td>26386</td>\n",
       "      <td>Corticosterone</td>\n",
       "      <td>50-22-6</td>\n",
       "      <td>C21H30O4</td>\n",
       "      <td>346.46</td>\n",
       "      <td>neg</td>\n",
       "      <td>1</td>\n",
       "      <td>345.20713</td>\n",
       "      <td>874.8</td>\n",
       "      <td>921000</td>\n",
       "      <td>873_C18+26386+50-22-6+neg</td>\n",
       "      <td>[M-H]-</td>\n",
       "      <td>873_C18/26386</td>\n",
       "      <td>13</td>\n",
       "      <td>[1, 10, 15, 20, 25, 30, 35, 40, 50, 60, 70, 80...</td>\n",
       "    </tr>\n",
       "  </tbody>\n",
       "</table>\n",
       "</div>"
      ],
      "text/plain": [
       "        batch sepuzhu sampleid        Product Name    CAS No.     Formula  \\\n",
       "1105  873_C18     C18    26386  N6-Methyladenosine  1867-73-8  C11H15N5O4   \n",
       "1107  873_C18     C18    26386      Corticosterone    50-22-6    C21H30O4   \n",
       "\n",
       "        M.Wt pos_neg  refer_RT        m/z  RT time       NL  \\\n",
       "1105  281.27     neg         1  280.10512    372.0  8140000   \n",
       "1107  346.46     neg         1  345.20713    874.8   921000   \n",
       "\n",
       "                             bscp  Adduct batch_sampleid  ev_nums  \\\n",
       "1105  873_C18+26386+1867-73-8+neg  [M-H]-  873_C18/26386       13   \n",
       "1107    873_C18+26386+50-22-6+neg  [M-H]-  873_C18/26386       13   \n",
       "\n",
       "                                                ev_list  \n",
       "1105  [1, 10, 15, 20, 25, 30, 35, 40, 50, 60, 70, 80...  \n",
       "1107  [1, 10, 15, 20, 25, 30, 35, 40, 50, 60, 70, 80...  "
      ]
     },
     "execution_count": 97,
     "metadata": {},
     "output_type": "execute_result"
    }
   ],
   "source": [
    "\"\"\"Select reference corresponding to the pattern\"\"\"\n",
    "pattern_ref_df = ref_all_df[(ref_all_df[\"sepuzhu\"] == sepuzhu) & (ref_all_df[\"pos_neg\"] == pos_neg)]\n",
    "pattern_bscp_list = pattern_ref_df[\"bscp\"].unique().tolist()\n",
    "print(pattern_ref_df.shape)\n",
    "pattern_ref_df.head(2)\n"
   ]
  },
  {
   "cell_type": "markdown",
   "id": "b396bef6-681b-4a93-9f8d-2520b09715b4",
   "metadata": {},
   "source": [
    "### Start calculation"
   ]
  },
  {
   "cell_type": "code",
   "execution_count": 98,
   "id": "a06521e1-1b30-450d-b474-370af149b90e",
   "metadata": {
    "tags": []
   },
   "outputs": [
    {
     "data": {
      "text/plain": [
       "(7707, 7)"
      ]
     },
     "execution_count": 98,
     "metadata": {},
     "output_type": "execute_result"
    }
   ],
   "source": [
    "res_groupby_df.shape"
   ]
  },
  {
   "cell_type": "markdown",
   "id": "eeda8628-9b46-4ea2-ac39-540c83e5011f",
   "metadata": {},
   "source": [
    "#### Calculation loop"
   ]
  },
  {
   "cell_type": "code",
   "execution_count": 101,
   "id": "ed59c457-aeb5-4457-9b12-b652482c9a92",
   "metadata": {
    "tags": []
   },
   "outputs": [
    {
     "data": {
      "text/plain": [
       "((7707, 7), '../../Fulaoshi/230821_mzML_res/BloodYin240307_C18_neg')"
      ]
     },
     "execution_count": 101,
     "metadata": {},
     "output_type": "execute_result"
    }
   ],
   "source": [
    "res_groupby_df.shape,out_root_path"
   ]
  },
  {
   "cell_type": "code",
   "execution_count": null,
   "id": "7671468e-4839-48da-994b-8f91098437a5",
   "metadata": {
    "tags": []
   },
   "outputs": [],
   "source": [
    "import numpy as np\n",
    "\n",
    "def cal_fragment(fragment_mzrange_list, b2_mzlist):\n",
    "    # Convert the list to a NumPy array\n",
    "    b2_mzarray = np.array(b2_mzlist)\n",
    "    fragment_mzrange_array = np.array(fragment_mzrange_list) * 1e6\n",
    "    # Separate the lower and upper limits of the range\n",
    "    ilow = fragment_mzrange_array[:, 0]\n",
    "    iup = fragment_mzrange_array[:, 1]\n",
    "    # Use boolean indexing to find elements that meet the conditions\n",
    "    mask = (b2_mzarray[:, np.newaxis] >= ilow) & (b2_mzarray[:, np.newaxis] <= iup)\n",
    "    # Find all matching m/z values\n",
    "    matched_indices = np.where(mask.any(axis=1))[0]\n",
    "    fragment_mzlist = b2_mzarray[matched_indices]\n",
    "    # fragment_mzlist = (fragment_mzlist * 1e6).astype(int).tolist()\n",
    "    return fragment_mzlist\n",
    "\n",
    "cal_fragment(fragment_mzrange_list, b2_mzlist)\n"
   ]
  },
  {
   "cell_type": "code",
   "execution_count": null,
   "id": "564c6a2d-1865-4733-9d72-30580c68a18a",
   "metadata": {
    "tags": []
   },
   "outputs": [],
   "source": [
    "\"\"\"Add fragment filtering test\"\"\"\n",
    "# Use b1's fragments to filter b2\n",
    "filter_fragment_path = f\"../../Fulaoshi/230821_mzML_res/rerun240410/{batch1}/NCE_filter_fragment/{bscp1}.csv\"\n",
    "if os.path.exists(filter_fragment_path):\n",
    "    fragment_list = eval(pd.read_csv(filter_fragment_path, index_col=0)[\"filter_fragment\"].tolist()[0])\n",
    "# fragment_mzrange_list = [mzbatch.get_mz_range(i) for i in fragment_list]\n",
    "fragment_mzrange_list = mzbatch.get_mz_range_matrix(fragment_list)\n",
    "\n",
    "b2_mzlist = (b2_df.index / 1e6).tolist()\n",
    "fragment_res_list = cal_fragment(fragment_mzrange_list, b2_mzlist)\n",
    "# No fragments means no similarity calculation with b1\n",
    "# if len(fragment_res_list) == 0:\n",
    "#     continue\n"
   ]
  },
  {
   "cell_type": "code",
   "execution_count": null,
   "id": "43ac5029-17bc-4c28-bbd7-e18e0aa552e6",
   "metadata": {
    "tags": []
   },
   "outputs": [],
   "source": [
    "# b1 contains the standard spectrum, b2 contains the spectrum of the actual sample\n",
    "b1_align_res_df = pd.DataFrame(columns=align_res_cols) # Create a new DataFrame, reconstruction is too slow\n",
    "for sim_method in sim_method_list[1:2]:\n",
    "\n",
    "    for pattern_ref_index in pattern_ref_df.index[0:10]:\n",
    "\n",
    "        # Basic data for b1\n",
    "        b1_mz, b1_rt, bscp1, b1_name, b1_adduct = pattern_ref_df.loc[pattern_ref_index, [\"m/z\", \"RT time\", \"bscp\", \"Product Name\", \"Adduct\"]]\n",
    "        batch1, sampleid1, cas1, pos_neg1 = bscp1.split(\"+\")\n",
    "        b1_mz_low, b1_mz_up = mzbatch.get_mz_range(b1_mz, diff=15)\n",
    "        b1_align_res_df = b1_align_res_df.iloc[0:0]\n",
    "        \n",
    "        # Find b1 fragments\n",
    "        filter_fragment_path = f\"../../Fulaoshi/230821_mzML_res/rerun240410/{batch1}/NCE_filter_fragment/{bscp1}.csv\"\n",
    "        if not os.path.exists(filter_fragment_path):\n",
    "            print(f\"{bscp1} has no fragments\")\n",
    "            continue\n",
    "        fragment_list = eval(pd.read_csv(filter_fragment_path, index_col=0)[\"filter_fragment\"].tolist()[0])\n",
    "        fragment_mzrange_list = mzbatch.get_mz_range_matrix(fragment_list, diff=15)\n",
    "\n",
    "        # Reference for b2\n",
    "        temp_res_df = res_groupby_df[((res_groupby_df['ref_mz'] >= b1_mz_low) & (res_groupby_df['ref_mz'] <= b1_mz_up))].copy(deep=True)\n",
    "                                     # & ((res_groupby_df['ref_rt_right'] >= b1_rt) & (res_groupby_df['ref_rt_left'] <= b1_rt))].copy(deep=True)\n",
    "        # Read b2\n",
    "        n = 0\n",
    "        for temp_res_index in temp_res_df.index[0:]:\n",
    "            b2_mz, b2_rt_left, b2_rt_right, b2_Area13_2list = temp_res_df.loc[temp_res_index, [\"ref_mz\", \"ref_rt_left\", \"ref_rt_right\", \"Area13_2list\"]]\n",
    "            if type(b2_Area13_2list) == str:\n",
    "                b2_Area13_2list = eval(b2_Area13_2list)\n",
    "            # Read data, first read b2, if no filtered b2 fragments, continue to the next loop\n",
    "            b2_df = pd.read_csv(f\"{out_root_path}/NCE_merge13/{temp_res_index}.csv\", index_col=0)\n",
    "            # Filter b2 fragments\n",
    "            b2_mzlist = b2_df.index.tolist()\n",
    "            # print(len(b2_mzlist))\n",
    "            fragment_res_list = cal_fragment(fragment_mzrange_list, b2_mzlist)\n",
    "            # If there are no fragments, do not calculate similarity with b1\n",
    "            if len(fragment_res_list) == 0:\n",
    "                # print(f\"Unknown alignment graph {temp_res_index}, no common fragments, {len(fragment_res_list)}\")\n",
    "                continue\n",
    "            # print(f\"==== {bscp1} and unknown graph {temp_res_index} have common fragments, {len(fragment_res_list)}\")\n",
    "            \n",
    "            # Filter b2 based on fragment results\n",
    "            b2_df = b2_df.loc[fragment_res_list, :]\n",
    "            b2_df[\"new_mass\"] = np.around(np.array(fragment_res_list) / 1e4).astype(int)\n",
    "            b2_df = b2_df.set_index(\"new_mass\")\n",
    "            b2_df = b2_df.groupby(b2_df.index).max()\n",
    "            b2_df = mzbatch.to_relative_abundance(b2_df)\n",
    "            b2_df = b2_df.mask(b2_df < 0.02, 0)\n",
    "            b2_df = b2_df[(b2_df != 0).any(axis=1)]\n",
    "            \n",
    "            b1_df = read_bscp_merge13file(bscp1)\n",
    "            b1_df = b1_df.mask(b1_df < 0.02, 0)\n",
    "            b1_df = b1_df[(b1_df != 0).any(axis=1)]\n",
    "\n",
    "            # ev select intersection\n",
    "            ev1_list = [int(i) for i in b1_df.columns.tolist()]\n",
    "            ev2_list = [int(i) for i in b2_df.columns.tolist()]\n",
    "            ev_select_list = ev13_list\n",
    "            ev_intersection_list = list(set(ev1_list) & set(ev2_list) & set(ev_select_list))\n",
    "            ev_intersection_list.sort()\n",
    "            if len(ev_intersection_list) == 0:\n",
    "                continue\n",
    "            ev_intersection_list = [str(i) for i in ev_intersection_list]\n",
    "            b1_cols = [f\"b1_{i}\" for i in ev_intersection_list]  # Energy columns of b1\n",
    "            b2_cols = [f\"b2_{i}\" for i in ev_intersection_list]  # Energy columns of b2\n",
    "\n",
    "            b1_df = change_cols(b1_df, ev_intersection_list, \"b1\")\n",
    "            b2_df = change_cols(b2_df, ev_intersection_list, \"b2\")\n",
    "            # Merge b1 and b2\n",
    "            b12_df = pd.concat([b1_df, b2_df], axis=1)\n",
    "            b12_df = b12_df.fillna(0)\n",
    "            b12_df = b12_df.sort_index()\n",
    "\n",
    "            if b12_df.shape[0] == 0:\n",
    "                print(f\"b1: {bscp1}, b2: {bscp2} is empty\")\n",
    "                continue\n",
    "\n",
    "            # Add group column, continuous differences of 1 are grouped together\n",
    "            b12_df['group'] = (b12_df.index.to_series().diff() != 1).cumsum()\n",
    "            b12_bak_df = b12_df.copy(deep=True)\n",
    "\n",
    "            # Output the maximum value of continuous segments, if the maximum value is greater than 2, output the filename\n",
    "            # if b12_df.groupby('group').size().max() > 2:\n",
    "            #     print(f\"Maximum continuous: {b12_df.groupby('group').size().max()}\", b12_df.shape, f\"{align_out_path}/{bscp2}.csv\")\n",
    "                # break\n",
    "\n",
    "            # Take the maximum of each row\n",
    "            b12_df = b12_df.groupby('group').agg(lambda x: x.max())\n",
    "            # Remove the group column and set the minimum index value as the new index\n",
    "            b12_df.index = b12_bak_df.groupby('group').apply(lambda x: x.index.min()).values\n",
    "\n",
    "            # Calculate vertical similarity, otherwise it will cause an error\n",
    "            if sim_method == \"cosine\":\n",
    "                b12_df[\"cosine\"] = np.square(np.diag(cosine_similarity(b12_df.loc[:, b1_cols].to_numpy(), b12_df.loc[:, b2_cols].to_numpy())))\n",
    "            elif sim_method == \"jaccard\":\n",
    "                b12_df[\"jaccard\"] = np.diag(mzbatch.fu_jaccard_similarity_matrix(b12_df.loc[:, b1_cols].to_numpy(), b12_df.loc[:, b2_cols].to_numpy()))\n",
    "            elif sim_method == \"entropy\":\n",
    "                b12_df[\"entropy\"] = np.diag(mzbatch.entropy_similarity(b12_df.loc[:, b1_cols].to_numpy(), b12_df.loc[:, b2_cols].to_numpy()))\n",
    "\n",
    "            # Output path for merging energy files\n",
    "            align_out_path = f\"{out_root_path}/{batch1}/NCE_align_{sim_method}_{ev_select_name}/{bscp1}\"\n",
    "            if not os.path.exists(align_out_path):\n",
    "                os.makedirs(align_out_path)\n",
    "                while os.path.exists(align_out_path):\n",
    "                    break\n",
    "\n",
    "            # Calculate the summed intensity of b1 and b2\n",
    "            b12_df[\"b1_sum_intensity\"] = b12_df.loc[:, b1_cols].sum(axis=1)\n",
    "            b12_df[\"b2_sum_intensity\"] = b12_df.loc[:, b2_cols].sum(axis=1)\n",
    "            b12_df[\"b12_sum_intensity\"] = b12_df[\"b1_sum_intensity\"] + b12_df[\"b2_sum_intensity\"]\n",
    "            b12_df.to_csv(f\"{align_out_path}/{temp_res_index}.csv\")\n",
    "\n",
    "            \"\"\"Output the vertical similarity results to NCE_align_res\"\"\"\n",
    "            b12_no0_df = b12_df[~(b12_df[b1_cols] == 0).all(axis=1)]  # Filter rows where all 13 columns of b1 are not 0\n",
    "            b12_no0_sort_df = b12_no0_df.sort_values(by=\"b12_sum_intensity\", ascending=False)  # Sort by summed intensity column, take top\n",
    "            # b1_no0_linenums = b12_no0_sort_df.shape[0]\n",
    "\n",
    "            b2_no0_df = b12_df[~(b12_df[b2_cols] == 0).all(axis=1)]\n",
    "            # b2_no0_linenums = b2_no0_df.shape[0]\n",
    "            b1_no0_linenums = b12_df[b12_df[b1_cols].sum(axis=1) != 0].shape[0]\n",
    "            b2_no0_linenums = b12_df[b12_df[b2_cols].sum(axis=1) != 0].shape[0]\n",
    "            # print(b1_no0_linenums, b2_no0_linenums)\n",
    "\n",
    "            top_res_list = []\n",
    "            # There are only top\n"
   ]
  },
  {
   "cell_type": "markdown",
   "id": "4d44af07-269b-4c1e-a1e9-019cc3bdd181",
   "metadata": {},
   "source": [
    "## Merge files"
   ]
  },
  {
   "cell_type": "code",
   "execution_count": 70,
   "id": "5daa4e7d-b937-4b96-b33d-67568bc40fe3",
   "metadata": {
    "tags": []
   },
   "outputs": [],
   "source": [
    "batch_list = ['700_Amide','700_C18','873_Amide','873_C18','3545_Amide','3545_C18','BC_Amide','BC_C18']\n",
    "sim_method_list = [\"cosine\", \"jaccard\", \"entropy\"][:]\n",
    "ev_type_list = ['ev13', 'ev204060']\n",
    "# out_root_path_list = ['../../Fulaoshi/230821_mzML_res/BloodNaoLiu240807_Amide_pos','../../Fulaoshi/230821_mzML_res/BloodNaoLiu240807_Amide_neg',\n",
    "#                      '../../Fulaoshi/230821_mzML_res/BloodNaoLiu240807_C18_pos','../../Fulaoshi/230821_mzML_res/BloodNaoLiu240807_C18_neg']\n",
    "out_root_path_list = ['../../Fulaoshi/230821_mzML_res/BloodYin240307_Amide_pos/','../../Fulaoshi/230821_mzML_res/BloodYin240307_Amide_neg/',\n",
    "                     '../../Fulaoshi/230821_mzML_res/BloodYin240307_C18_pos/','../../Fulaoshi/230821_mzML_res/BloodYin240307_C18_neg/']"
   ]
  },
  {
   "cell_type": "code",
   "execution_count": 71,
   "id": "6b088ffd-8016-4d44-89b6-481cc2a71f34",
   "metadata": {
    "tags": []
   },
   "outputs": [
    {
     "name": "stdout",
     "output_type": "stream",
     "text": [
      "12\n",
      "0 ('../../Fulaoshi/230821_mzML_res/BloodYin240307_Amide_pos/', 'cosine', 'ev13')\n",
      "1 ('../../Fulaoshi/230821_mzML_res/BloodYin240307_Amide_pos/', 'jaccard', 'ev13')\n",
      "2 ('../../Fulaoshi/230821_mzML_res/BloodYin240307_Amide_pos/', 'entropy', 'ev13')\n",
      "3 ('../../Fulaoshi/230821_mzML_res/BloodYin240307_Amide_neg/', 'cosine', 'ev13')\n",
      "4 ('../../Fulaoshi/230821_mzML_res/BloodYin240307_Amide_neg/', 'jaccard', 'ev13')\n",
      "5 ('../../Fulaoshi/230821_mzML_res/BloodYin240307_Amide_neg/', 'entropy', 'ev13')\n",
      "6 ('../../Fulaoshi/230821_mzML_res/BloodYin240307_C18_pos/', 'cosine', 'ev13')\n",
      "7 ('../../Fulaoshi/230821_mzML_res/BloodYin240307_C18_pos/', 'jaccard', 'ev13')\n",
      "8 ('../../Fulaoshi/230821_mzML_res/BloodYin240307_C18_pos/', 'entropy', 'ev13')\n",
      "9 ('../../Fulaoshi/230821_mzML_res/BloodYin240307_C18_neg/', 'cosine', 'ev13')\n",
      "10 ('../../Fulaoshi/230821_mzML_res/BloodYin240307_C18_neg/', 'jaccard', 'ev13')\n",
      "11 ('../../Fulaoshi/230821_mzML_res/BloodYin240307_C18_neg/', 'entropy', 'ev13')\n"
     ]
    }
   ],
   "source": [
    "import itertools\n",
    "combine_file_list = list(itertools.product(out_root_path_list,sim_method_list[0:],ev_type_list[0:1] ))\n",
    "# [print(i,v) for i,v in enumerate(combine_file_list)]\n",
    "print(len(combine_file_list))\n",
    "for i,v in enumerate(combine_file_list):\n",
    "    print(i,v)\n"
   ]
  },
  {
   "cell_type": "markdown",
   "id": "df3a3dc8-7e6c-4990-822e-54817bf79e7f",
   "metadata": {
    "tags": []
   },
   "source": [
    "#### Merge to the batch directory"
   ]
  },
  {
   "cell_type": "code",
   "execution_count": null,
   "id": "9cb9ce56-b087-4265-b3df-e88bacaa5041",
   "metadata": {},
   "outputs": [],
   "source": [
    "# Merge 01 to each batch\n",
    "for i_path, sim_method, ev_select in combine_file_list[10:11]:\n",
    "    for batch in batch_list:\n",
    "        # Result file\n",
    "        align_res_outpath = f'{i_path}/{batch}/NCE_align_res_{sim_method}_{ev_select}'\n",
    "        align_res_df_list = []\n",
    "        try:\n",
    "            for align_res_filename in os.listdir(align_res_outpath):\n",
    "                one_align_res_df = pd.read_csv(f'{align_res_outpath}/{align_res_filename}', index_col=0)\n",
    "                align_res_df_list.append(one_align_res_df)\n",
    "        except Exception as e:\n",
    "            continue\n",
    "\n",
    "        align_res_all_df = pd.concat(align_res_df_list)\n",
    "        # similar_all_df.to_excel(f'{i_path}/{batch}/similar_all_df.xlsx')\n",
    "        align_res_all_df.to_csv(f'{i_path}/{batch}/align_res_{sim_method}_{ev_select}_all_df.csv')\n"
   ]
  },
  {
   "cell_type": "markdown",
   "id": "a6de42bf-6d3c-4cd0-8a33-f604583bdbf8",
   "metadata": {},
   "source": [
    "#### Merge files under each batch into the total directory"
   ]
  },
  {
   "cell_type": "code",
   "execution_count": 121,
   "id": "9bb681e9-b669-4ea3-85fa-5be36f91e674",
   "metadata": {
    "tags": []
   },
   "outputs": [],
   "source": [
    "for i_path,sim_method,ev_select in combine_file_list[9:10]:\n",
    "    batch_align_res_df_list = []\n",
    "    for batch in batch_list:\n",
    "        try:\n",
    "            batch_align_res_df = pd.read_csv(f'{i_path}/{batch}/align_res_{sim_method}_{ev_select}_all_df.csv', index_col=0)\n",
    "        except Exception as e:\n",
    "            continue\n",
    "        batch_align_res_df_list.append(batch_align_res_df)\n",
    "\n",
    "    if batch_align_res_df_list==[]:\n",
    "        continue\n",
    "    con_align_res_df = pd.concat(batch_align_res_df_list)\n",
    "    # con_align_res_df.to_csv(f'{i_path}/con_align_res_{sim_method}_{ev_select}_all_df.csv')"
   ]
  },
  {
   "cell_type": "code",
   "execution_count": 124,
   "id": "3c28a107-b400-4d5c-9116-4fdef012c7af",
   "metadata": {
    "tags": []
   },
   "outputs": [],
   "source": [
    "duplicates_colist = [col for col in con_align_res_df.columns if not col.startswith(\"b2_\")]"
   ]
  },
  {
   "cell_type": "code",
   "execution_count": null,
   "id": "c28cbc29-518c-4766-9257-ce8d708e0852",
   "metadata": {
    "tags": []
   },
   "outputs": [],
   "source": [
    "quchong_df = con_align_res_df.drop_duplicates(subset=duplicates_colist)\n",
    "quchong_df.to_csv(f'{i_path}/deduplicated_con_align_res_{sim_method}_{ev_select}_all_df.csv')\n"
   ]
  },
  {
   "cell_type": "markdown",
   "id": "ee84ddbc-8199-481b-bd56-50e15d02d50d",
   "metadata": {},
   "source": [
    "# Calculate horizontal similarity"
   ]
  },
  {
   "cell_type": "code",
   "execution_count": 6,
   "id": "263e9cff-a0a5-4fd0-910b-6e128531fbcd",
   "metadata": {
    "tags": []
   },
   "outputs": [],
   "source": [
    "align_out_path = f\"{out_root_path}/{batch1}/NCE_align_{sim_method}_{ev_select_name}/{bscp1}\""
   ]
  },
  {
   "cell_type": "code",
   "execution_count": 36,
   "id": "87580251-68c4-4200-8ce1-292c360ea4e0",
   "metadata": {
    "tags": []
   },
   "outputs": [],
   "source": [
    "base_cols =[\"sepuzhu\", \"pos_neg\", \n",
    "               \"bscp1\", \"b1_name\", \"b1_adduct\", \n",
    "               \"b2_index\", \"_mz\", \"b2_rt_left\", \"b2_rt_right\"]\n",
    "con_sim_df = pd.DataFrame(columns=[\"sepuzhu\", \"pos_neg\", \n",
    "                                   \"bscp1\", \"b1_name\", \"b1_adduct\", \n",
    "                                   \"b2_index\", \"b2_mz\", \"b2_rt_left\", \"b2_rt_right\", \"b2_Area13_2list\",\n",
    "                                   'b1_1', 'b1_10', 'b1_15', 'b1_20', 'b1_25', 'b1_30', \n",
    "                                   'b1_35', 'b1_40', 'b1_50', 'b1_60', 'b1_70', 'b1_80', 'b1_100'])"
   ]
  },
  {
   "cell_type": "code",
   "execution_count": 37,
   "id": "c562440b-abc7-4b31-afa0-dd2aaf378a20",
   "metadata": {
    "tags": []
   },
   "outputs": [
    {
     "name": "stdout",
     "output_type": "stream",
     "text": [
      "0 ('Amide', 'pos', 'cosine', 'ev13')\n",
      "1 ('Amide', 'pos', 'jaccard', 'ev13')\n",
      "2 ('Amide', 'pos', 'entropy', 'ev13')\n",
      "3 ('Amide', 'neg', 'cosine', 'ev13')\n",
      "4 ('Amide', 'neg', 'jaccard', 'ev13')\n",
      "5 ('Amide', 'neg', 'entropy', 'ev13')\n",
      "6 ('C18', 'pos', 'cosine', 'ev13')\n",
      "7 ('C18', 'pos', 'jaccard', 'ev13')\n",
      "8 ('C18', 'pos', 'entropy', 'ev13')\n",
      "9 ('C18', 'neg', 'cosine', 'ev13')\n",
      "10 ('C18', 'neg', 'jaccard', 'ev13')\n",
      "11 ('C18', 'neg', 'entropy', 'ev13')\n"
     ]
    },
    {
     "data": {
      "text/plain": [
       "12"
      ]
     },
     "execution_count": 37,
     "metadata": {},
     "output_type": "execute_result"
    }
   ],
   "source": [
    "import itertools\n",
    "l1_list = [\"Amide\",\"C18\"]\n",
    "l2_list = [\"pos\",\"neg\"]\n",
    "l3_list = [\"cosine\",\"jaccard\",\"entropy\"]\n",
    "l4_list = ['ev13', 'ev204060'][0:1]\n",
    "heng_combine_list = list(itertools.product(l1_list, l2_list, l3_list,l4_list))\n",
    "[print(i,v) for i,v in enumerate(heng_combine_list)]\n",
    "len(heng_combine_list)"
   ]
  },
  {
   "cell_type": "code",
   "execution_count": 39,
   "id": "dd5bce46-6620-4d28-9eed-9c41144939ea",
   "metadata": {
    "tags": []
   },
   "outputs": [
    {
     "name": "stdout",
     "output_type": "stream",
     "text": [
      "900\n"
     ]
    }
   ],
   "source": [
    "top_colist=[]\n",
    "[top_colist.extend([f\"top_{i}\",f\"top_{i}_sum\",f\"top_{i}_ev13\"]) for i in range(1,301)]\n",
    "print(len(top_colist))\n",
    "align_res_cols = [\"sepuzhu\",\"pos_neg\", \"bscp1\",\"b1_name\",\"b1_adduct\",\"b1_no0_linenums\",\n",
    "                  \"b2_index\",\"b2_mz\",\"b2_rt_left\",\"b2_rt_right\",\"b2_no0_linenums\",\n",
    "                  \"ev_nums\",\"ev_list\",\"Area13_2list\"] + top_colist + Area_cols_list"
   ]
  },
  {
   "cell_type": "code",
   "execution_count": null,
   "id": "4fc5fd92-4c8b-4716-8d5f-b1207d14c207",
   "metadata": {
    "tags": []
   },
   "outputs": [],
   "source": [
    "# b1 stores concatenated spectra, b2 stores actual sample spectra\n",
    "for heng_sepuzhu, heng_pos_neg, heng_sim_method, heng_ev_select in heng_combine_list[7:8]:\n",
    "    sim_df_list = []\n",
    "    res_groupby_df_path = f'../../Fulaoshi/230821_mzML_res/{analysis_batch}_{heng_sepuzhu}_{heng_pos_neg}/res_groupby_Area13_03df.csv'\n",
    "    res_groupby_df = pd.read_csv(res_groupby_df_path, index_col=0)\n",
    "    pattern_ref_df = ref_all_df[(ref_all_df[\"sepuzhu\"] == heng_sepuzhu) & (ref_all_df[\"pos_neg\"] == heng_pos_neg)]\n",
    "    Area_cols_list = Area_cols_dict[f\"{heng_sepuzhu}_{heng_pos_neg}\"]\n",
    "    align_res_cols = [\"sepuzhu\", \"pos_neg\", \"bscp1\", \"b1_name\", \"b1_adduct\", \"b1_no0_linenums\",\n",
    "                      \"b2_index\", \"b2_mz\", \"b2_rt_left\", \"b2_rt_right\", \"b2_no0_linenums\",\n",
    "                      \"ev_nums\", \"ev_list\", \"Area13_2list\"] + top_colist + Area_cols_list\n",
    "    \n",
    "    n = 0\n",
    "    j = 0\n",
    "    for pattern_ref_index in pattern_ref_df.index[0:]:\n",
    "        # b1 basic data\n",
    "        b1_mz, b1_rt, bscp1, b1_name, b1_adduct = pattern_ref_df.loc[pattern_ref_index, [\"m/z\", \"RT time\", \"bscp\", \"Product Name\", \"Adduct\"]]\n",
    "        batch1, sampleid1, cas1, pos_neg1 = bscp1.split(\"+\")\n",
    "        b1_mz_low, b1_mz_up = mzbatch.get_mz_range(b1_mz, diff=15)\n",
    "        b1_align_res_df = pd.DataFrame(columns=align_res_cols)\n",
    "\n",
    "        # b2 reference\n",
    "        temp_res_df = res_groupby_df[((res_groupby_df['ref_mz'] >= b1_mz_low) & (res_groupby_df['ref_mz'] <= b1_mz_up))].copy(deep=True)\n",
    "        # Only proceed if there are corresponding results\n",
    "        if temp_res_df.shape[0] > 0:\n",
    "            j += 1\n",
    "            # print(\"111==\", pattern_ref_index, temp_res_df.shape, j)\n",
    "            # Read b2 data\n",
    "            n = 0\n",
    "            for temp_res_index in temp_res_df.index[0:]:\n",
    "                b2_mz, b2_rt_left, b2_rt_right, b2_Area13_2list = temp_res_df.loc[temp_res_index, [\"ref_mz\", \"ref_rt_left\", \"ref_rt_right\", \"Area13_2list\"]]\n",
    "                b2_Area13_2list = eval(b2_Area13_2list)\n",
    "                # Read alignment data\n",
    "                align_filepath = f'../../Fulaoshi/230821_mzML_res/{analysis_batch}_{heng_sepuzhu}_{heng_pos_neg}/{batch1}/NCE_align_{heng_sim_method}_{heng_ev_select}/{bscp1}/{temp_res_index}.csv'\n",
    "                try:\n",
    "                    align_file_df = pd.read_csv(align_filepath, index_col=0)\n",
    "                except Exception as e:\n",
    "                    # print(temp_res_index, bscp1, temp_res_index, e)\n",
    "                    continue\n",
    "                \n",
    "                align_file_df = align_file_df.iloc[:, 0:-4]\n",
    "                b1_cols = [i for i in align_file_df.columns if i.startswith(\"b1_\")]\n",
    "                b2_cols = [i for i in align_file_df.columns if i.startswith(\"b2_\")]\n",
    "                \n",
    "                # Calculate similarity\n",
    "                if heng_sim_method == \"cosine\":\n",
    "                    pos_sim_list = np.square(np.diag(cosine_similarity(align_file_df.loc[:, b1_cols].T.to_numpy(), align_file_df.loc[:, b2_cols].T.to_numpy())))\n",
    "                elif heng_sim_method == \"jaccard\":\n",
    "                    pos_sim_list = np.diag(mzbatch.fu_jaccard_similarity_matrix(align_file_df.loc[:, b1_cols].T.to_numpy(), align_file_df.loc[:, b2_cols].T.to_numpy()))\n",
    "                elif heng_sim_method == \"entropy\":\n",
    "                    pos_sim_list = np.diag(mzbatch.entropy_similarity(align_file_df.loc[:, b1_cols].T.to_numpy(), align_file_df.loc[:, b2_cols].T.to_numpy()))\n",
    "                \n",
    "                pos_sim_list = list(pos_sim_list)\n",
    "                base_list = [heng_sepuzhu, heng_pos_neg, bscp1, b1_name, b1_adduct, temp_res_index, b2_mz, b2_rt_left, b2_rt_right]\n",
    "                sim_df_list.append(pd.DataFrame([base_list + pos_sim_list + b2_Area13_2list], columns=(base_cols + b1_cols + Area_cols_list)))\n",
    "    \n",
    "    if sim_df_list == []:\n",
    "        continue\n",
    "    # pd.concat(sim_df_list).to_csv(f\"../../Fulaoshi/230821_mzML_res/{analysis_batch}_{heng_sepuzhu}_{heng_pos_neg}/con_similar_{heng_sim_method}_{heng_ev_select}.csv\")\n"
   ]
  }
 ],
 "metadata": {
  "kernelspec": {
   "display_name": "Python 3 (ipykernel)",
   "language": "python",
   "name": "python3"
  },
  "language_info": {
   "codemirror_mode": {
    "name": "ipython",
    "version": 3
   },
   "file_extension": ".py",
   "mimetype": "text/x-python",
   "name": "python",
   "nbconvert_exporter": "python",
   "pygments_lexer": "ipython3",
   "version": "3.8.13"
  },
  "toc-autonumbering": true,
  "toc-showcode": true,
  "toc-showmarkdowntxt": true,
  "toc-showtags": false
 },
 "nbformat": 4,
 "nbformat_minor": 5
}
