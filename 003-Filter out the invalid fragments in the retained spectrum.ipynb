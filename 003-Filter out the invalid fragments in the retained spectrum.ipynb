{
 "cells": [
  {
   "cell_type": "markdown",
   "id": "7571134e-e360-40a1-9568-d48a043b07cc",
   "metadata": {},
   "source": [
    "# Check the rationality of the molecular formula and revise it"
   ]
  },
  {
   "cell_type": "code",
   "execution_count": 467,
   "id": "7b037ee9-4742-40da-982c-024f83a3c7fc",
   "metadata": {
    "tags": []
   },
   "outputs": [
    {
     "data": {
      "text/html": [
       "<div>\n",
       "<style scoped>\n",
       "    .dataframe tbody tr th:only-of-type {\n",
       "        vertical-align: middle;\n",
       "    }\n",
       "\n",
       "    .dataframe tbody tr th {\n",
       "        vertical-align: top;\n",
       "    }\n",
       "\n",
       "    .dataframe thead th {\n",
       "        text-align: right;\n",
       "    }\n",
       "</style>\n",
       "<table border=\"1\" class=\"dataframe\">\n",
       "  <thead>\n",
       "    <tr style=\"text-align: right;\">\n",
       "      <th></th>\n",
       "      <th>batch</th>\n",
       "      <th>sepuzhu</th>\n",
       "      <th>sampleid</th>\n",
       "      <th>Product Name</th>\n",
       "      <th>CAS No.</th>\n",
       "      <th>Formula</th>\n",
       "      <th>Corrected Formula</th>\n",
       "      <th>M.Wt</th>\n",
       "      <th>pos_neg</th>\n",
       "      <th>Adduct</th>\n",
       "      <th>refer_RT</th>\n",
       "      <th>m/z</th>\n",
       "      <th>RT time</th>\n",
       "      <th>NL</th>\n",
       "      <th>bscp</th>\n",
       "    </tr>\n",
       "  </thead>\n",
       "  <tbody>\n",
       "    <tr>\n",
       "      <th>0</th>\n",
       "      <td>873_Amide</td>\n",
       "      <td>Amide</td>\n",
       "      <td>26386</td>\n",
       "      <td>N6-Methyladenosine</td>\n",
       "      <td>1867-73-8</td>\n",
       "      <td>C11H15N5O4</td>\n",
       "      <td>C11H15N5O4</td>\n",
       "      <td>281.27</td>\n",
       "      <td>pos</td>\n",
       "      <td>[M+H]+</td>\n",
       "      <td>1</td>\n",
       "      <td>282.11960</td>\n",
       "      <td>196.2</td>\n",
       "      <td>117000000</td>\n",
       "      <td>873_Amide+26386+1867-73-8+pos</td>\n",
       "    </tr>\n",
       "    <tr>\n",
       "      <th>1</th>\n",
       "      <td>873_Amide</td>\n",
       "      <td>Amide</td>\n",
       "      <td>26386</td>\n",
       "      <td>N6-Methyladenosine</td>\n",
       "      <td>1867-73-8</td>\n",
       "      <td>C11H15N5O4</td>\n",
       "      <td>C11H15N5O4</td>\n",
       "      <td>281.27</td>\n",
       "      <td>neg</td>\n",
       "      <td>[M-H]-</td>\n",
       "      <td>1</td>\n",
       "      <td>280.10512</td>\n",
       "      <td>206.4</td>\n",
       "      <td>8250000</td>\n",
       "      <td>873_Amide+26386+1867-73-8+neg</td>\n",
       "    </tr>\n",
       "    <tr>\n",
       "      <th>2</th>\n",
       "      <td>873_Amide</td>\n",
       "      <td>Amide</td>\n",
       "      <td>26386</td>\n",
       "      <td>Corticosterone</td>\n",
       "      <td>50-22-6</td>\n",
       "      <td>C21H30O4</td>\n",
       "      <td>C21H30O4</td>\n",
       "      <td>346.46</td>\n",
       "      <td>pos</td>\n",
       "      <td>[M+H]+</td>\n",
       "      <td>1</td>\n",
       "      <td>347.22160</td>\n",
       "      <td>63.6</td>\n",
       "      <td>25400000</td>\n",
       "      <td>873_Amide+26386+50-22-6+pos</td>\n",
       "    </tr>\n",
       "    <tr>\n",
       "      <th>3</th>\n",
       "      <td>873_Amide</td>\n",
       "      <td>Amide</td>\n",
       "      <td>26386</td>\n",
       "      <td>Corticosterone</td>\n",
       "      <td>50-22-6</td>\n",
       "      <td>C21H30O4</td>\n",
       "      <td>C21H30O4</td>\n",
       "      <td>346.46</td>\n",
       "      <td>neg</td>\n",
       "      <td>[M-H]-</td>\n",
       "      <td>1</td>\n",
       "      <td>345.20713</td>\n",
       "      <td>63.6</td>\n",
       "      <td>3360000</td>\n",
       "      <td>873_Amide+26386+50-22-6+neg</td>\n",
       "    </tr>\n",
       "    <tr>\n",
       "      <th>4</th>\n",
       "      <td>873_Amide</td>\n",
       "      <td>Amide</td>\n",
       "      <td>26386</td>\n",
       "      <td>Hexylresorcinol</td>\n",
       "      <td>136-77-6</td>\n",
       "      <td>C12H18O2</td>\n",
       "      <td>C12H18O2</td>\n",
       "      <td>194.27</td>\n",
       "      <td>neg</td>\n",
       "      <td>[M-H]-</td>\n",
       "      <td>1</td>\n",
       "      <td>193.12340</td>\n",
       "      <td>57.0</td>\n",
       "      <td>27500000</td>\n",
       "      <td>873_Amide+26386+136-77-6+neg</td>\n",
       "    </tr>\n",
       "  </tbody>\n",
       "</table>\n",
       "</div>"
      ],
      "text/plain": [
       "       batch sepuzhu sampleid        Product Name    CAS No.     Formula  \\\n",
       "0  873_Amide   Amide    26386  N6-Methyladenosine  1867-73-8  C11H15N5O4   \n",
       "1  873_Amide   Amide    26386  N6-Methyladenosine  1867-73-8  C11H15N5O4   \n",
       "2  873_Amide   Amide    26386      Corticosterone    50-22-6    C21H30O4   \n",
       "3  873_Amide   Amide    26386      Corticosterone    50-22-6    C21H30O4   \n",
       "4  873_Amide   Amide    26386     Hexylresorcinol   136-77-6    C12H18O2   \n",
       "\n",
       "  Corrected Formula    M.Wt pos_neg  Adduct  refer_RT        m/z  RT time  \\\n",
       "0        C11H15N5O4  281.27     pos  [M+H]+         1  282.11960    196.2   \n",
       "1        C11H15N5O4  281.27     neg  [M-H]-         1  280.10512    206.4   \n",
       "2          C21H30O4  346.46     pos  [M+H]+         1  347.22160     63.6   \n",
       "3          C21H30O4  346.46     neg  [M-H]-         1  345.20713     63.6   \n",
       "4          C12H18O2  194.27     neg  [M-H]-         1  193.12340     57.0   \n",
       "\n",
       "          NL                           bscp  \n",
       "0  117000000  873_Amide+26386+1867-73-8+pos  \n",
       "1    8250000  873_Amide+26386+1867-73-8+neg  \n",
       "2   25400000    873_Amide+26386+50-22-6+pos  \n",
       "3    3360000    873_Amide+26386+50-22-6+neg  \n",
       "4   27500000   873_Amide+26386+136-77-6+neg  "
      ]
     },
     "execution_count": 467,
     "metadata": {},
     "output_type": "execute_result"
    }
   ],
   "source": [
    "ref_corr_df = pd.read_excel(f'{root_path}/ref_all-20240510-final.xlsx',sheet_name = \"concat\",index_col=0)\n",
    "ref_corr_df.head() "
   ]
  },
  {
   "cell_type": "code",
   "execution_count": null,
   "id": "033bb729-04fc-4675-88b6-b3269d68c581",
   "metadata": {
    "tags": []
   },
   "outputs": [],
   "source": [
    "for i in ref_corr_df.index:\n",
    "    mol1 = ref_corr_df.loc[0, \"Corrected Formula\"]\n",
    "    try:\n",
    "        # Decompose molecular formula\n",
    "        substance = Substance.from_formula(mol1)\n",
    "        composition_dict = substance.composition\n",
    "    except Exception as e:\n",
    "        print(i)\n",
    "        continue\n"
   ]
  },
  {
   "cell_type": "code",
   "execution_count": 466,
   "id": "73ece404-245c-49e0-ae0b-e1b98d2adc2b",
   "metadata": {
    "tags": []
   },
   "outputs": [
    {
     "data": {
      "text/plain": [
       "{6: 11, 1: 15, 7: 5, 8: 4}"
      ]
     },
     "execution_count": 466,
     "metadata": {},
     "output_type": "execute_result"
    }
   ],
   "source": [
    "composition_dict"
   ]
  },
  {
   "cell_type": "markdown",
   "id": "b4a0f270-78c4-4341-82d2-7e904f24870f",
   "metadata": {},
   "source": [
    "# Isotopes with a relative abundance of 100 are calculated\n",
    "- Build a dictionary that stores all element qualities with a relative abundance of 100"
   ]
  },
  {
   "cell_type": "code",
   "execution_count": 698,
   "id": "82467da5-6df2-4770-84de-84ea1900a90d",
   "metadata": {
    "tags": []
   },
   "outputs": [],
   "source": [
    "import periodictable\n",
    "from molmass import Formula\n",
    "from periodictable import elements\n",
    "from itertools import product\n",
    "from chempy import Substance\n",
    "import pandas as pd\n",
    "import mzbatch,os"
   ]
  },
  {
   "cell_type": "code",
   "execution_count": null,
   "id": "cc35193c-233d-4d69-8512-ce2d76ba9aaf",
   "metadata": {
    "tags": []
   },
   "outputs": [],
   "source": [
    "def multiply_dicts(dict1, dict2):\n",
    "    result = {}\n",
    "    keys_union = set(dict1.keys()).union(dict2.keys())\n",
    "    # print(keys_union)\n",
    "    \n",
    "    for key in keys_union:\n",
    "        value1 = dict1.get(key, 0)  # Default value set to 0 to avoid affecting multiplication result\n",
    "        value2 = dict2.get(key, 0)  # Default value set to 0 to avoid affecting multiplication result\n",
    "        result[key] = value1 * value2\n",
    "\n",
    "    return result\n"
   ]
  },
  {
   "cell_type": "code",
   "execution_count": null,
   "id": "2ccdc7ff-7f0f-46ae-a84b-8901a9315fe2",
   "metadata": {
    "tags": []
   },
   "outputs": [],
   "source": [
    "abundacne100_dict = {}  # Record isotopes with relative abundance of 100\n",
    "for i in range(1, 119):\n",
    "    abundacne_dict = {}  # Record absolute abundance for each element {1: 99.9885, 2: 0.0115, 3: 0, 4: 0, 5: 0, 6: 0}\n",
    "    elements = periodictable.elements[i]  # All isotopes of i\n",
    "    for j in elements:\n",
    "        abundacne_dict[j.isotope] = j.abundance\n",
    "    max_value = max(abundacne_dict.values())\n",
    "    if max_value == 0:\n",
    "        continue\n",
    "    normalized_dict = {key: value / max_value for key, value in abundacne_dict.items()}  # Convert absolute to relative\n",
    "    key_value1 = next(key for key, value in normalized_dict.items() if value == 1.0)  # Get key with value of 1\n",
    "    abundacne100_dict[i] = key_value1\n"
   ]
  },
  {
   "cell_type": "code",
   "execution_count": null,
   "id": "ba00d237-4592-4012-9fc8-8c4b152b10ae",
   "metadata": {
    "tags": []
   },
   "outputs": [],
   "source": [
    "abund_mass_dict = {}\n",
    "for i in abundacne100_dict.keys():\n",
    "    elements = periodictable.elements[i]  # All isotopes of i\n",
    "    for j in elements:\n",
    "        if j.isotope == abundacne100_dict[i]:\n",
    "            abund_mass_dict[i] = j.mass\n",
    "# Add electron mass\n",
    "abund_mass_dict[0] = Formula(\"H+\").mass - Formula(\"H\").mass\n"
   ]
  },
  {
   "cell_type": "code",
   "execution_count": null,
   "id": "7998231e-5455-4d94-ab60-5a9d5e45adcf",
   "metadata": {
    "tags": []
   },
   "outputs": [],
   "source": [
    "# Convert [{6: 0}, {6: 1}], [{1: 0}, {1: 1}, {1: 2}], [{17: 0}, {17: 1}] to {6: 0, 1: 0, 17: 0}\n",
    "def generate_combinations(*lists):\n",
    "    return [dict(sum(map(list, map(dict.items, combination)), [])) for combination in product(*lists)]\n",
    "\n",
    "# Filter valid combinations\n",
    "# {6: 8, 1: 9, 0: 1} >= {6: 0, 1: 0, 0: 0}\n",
    "def compare_dicts(dict1, dict2):\n",
    "    # If any value in dict1 is less than dict2, return False\n",
    "    for key in dict1:\n",
    "        if dict1[key] < dict2[key]:\n",
    "            return False\n",
    "    return True\n"
   ]
  },
  {
   "cell_type": "code",
   "execution_count": 559,
   "id": "4af486a8-b37a-4f85-a9ac-3d495227f2a5",
   "metadata": {
    "tags": []
   },
   "outputs": [
    {
     "data": {
      "text/plain": [
       "({1: 1, 11: 1}, 28, {6: 4, 8: 2}, 72)"
      ]
     },
     "execution_count": 559,
     "metadata": {},
     "output_type": "execute_result"
    }
   ],
   "source": [
    "composition_no0_dict = {6: 12, 1: 27, 8: 12, 11: 1}\n",
    "valence_dict = {key: valence_all_dict[key] for key, value in composition_no0_dict.items()}\n",
    "valence1_dict = {key: value for key, value in valence_dict.items() if value == 1}\n",
    "valencen_dict = {key: value for key, value in valence_dict.items() if value > 1}\n",
    "\n",
    "valence1_sum = sum(composition_no0_dict[key] * valence1_dict.get(key, 0) for key in valence1_dict)\n",
    "valencen_sum = sum(composition_no0_dict[key] * valencen_dict.get(key, 0) for key in valencen_dict)\n",
    "valence1_dict, valence1_sum, valencen_dict, valencen_sum"
   ]
  },
  {
   "cell_type": "code",
   "execution_count": 607,
   "id": "3f79a709-7dd5-4f2a-95e3-3641eebd7232",
   "metadata": {
    "tags": []
   },
   "outputs": [
    {
     "data": {
      "text/plain": [
       "True"
      ]
     },
     "execution_count": 607,
     "metadata": {},
     "output_type": "execute_result"
    }
   ],
   "source": [
    "valence_all_dict = {1:1, 3:1, 4:2, 5:3, 6:4, 7:5, 8:2, 9:1,\n",
    "                11:1, 12:3, 13:3, 14:4, 15:5, 16:4, 17:1, 19:1,\n",
    "               20:2, 24:6, 25:7, 26:3, 27:3, 29:2,\n",
    "                30:2,34:6,35:1,\n",
    "                47:1,\n",
    "                53:1,56:2,\n",
    "                83:5}\n",
    "# Enter: combinations_list\n",
    "# Output: Return True if reasonable, False if not\n",
    "# Note: H3C-NH-OH, calculation process: (4*1+5*1+2*1)-[2*(3-1)]+1=8, the first parenthesis is the total valency, the second parenthesis, the last +1 is the addition of H.\n",
    "# Description: The n element can hold a position of 1 that is greater than the sum of the valence of 1\n",
    "# Note: Taking into account NO2- ions, the highest setting of N is 5\n",
    "def cal_mol_reasonable(composition_no0_dict):\n",
    "    composition_no0_dict = {key: value for key, value in composition_no0_dict.items() if key != 0}\n",
    "    \n",
    "    valence_dict = {key: valence_all_dict[key] for key, value in composition_no0_dict.items()}\n",
    "    valence1_dict = {key: value for key, value in valence_dict.items() if value == 1}\n",
    "    valencen_dict = {key: value for key, value in valence_dict.items() if value > 1}\n",
    "    \n",
    "    valence1_sum = sum(composition_no0_dict[key] * valence1_dict.get(key, 0) for key in valence1_dict)\n",
    "    valencen_sum = sum(composition_no0_dict[key] * valencen_dict.get(key, 0) for key in valencen_dict)\n",
    "    valence1_sum, valencen_sum\n",
    "    \n",
    "    atomn_sum=sum([composition_no0_dict[key] for key, value in valencen_dict.items()])\n",
    "\n",
    "    result = valencen_sum-2*(atomn_sum-1)+1\n",
    "    if result>=valence1_sum:\n",
    "        return True\n",
    "    else:\n",
    "        return False\n",
    "\n",
    "cal_mol_reasonable({6: 12, 1: 27, 8: 12, 11: 1}) # C12H26O12Na +H(pos)\n",
    "cal_mol_reasonable({6: 1, 1: 6, 7: 1, 8: 1}) # H3C-NH-OH +H(pos)\n",
    "cal_mol_reasonable({6: 2, 1: 6}) # C2H6 +H"
   ]
  },
  {
   "cell_type": "code",
   "execution_count": null,
   "id": "2a952e8a-762e-4996-a0ff-8b328d653b28",
   "metadata": {
    "tags": []
   },
   "outputs": [],
   "source": [
    "def cal_mz_list(mol_formula, pos_neg):\n",
    "    substance = Substance.from_formula(mol_formula)\n",
    "    composition_dict = substance.composition\n",
    "    print(f\"Original molecular formula breakdown: {composition_dict}. Contains Na or K: {((11 in composition_dict.keys()) or (19 in composition_dict.keys()))}\")\n",
    "    \n",
    "    if ((11 in composition_dict.keys()) or (19 in composition_dict.keys())):\n",
    "        composition_dict[1] += 5\n",
    "    print(f\"After adding H5, molecular formula breakdown: {composition_dict}\")\n",
    "    \n",
    "    # Ions in mass spectrometry gain or lose H, not electrons\n",
    "    if pos_neg == \"pos\":\n",
    "        electronic = 1\n",
    "        composition_dict[1] = composition_dict[1] + 1\n",
    "    else:\n",
    "        electronic = -1\n",
    "        composition_dict[1] = composition_dict[1] - 1\n",
    "    print(composition_dict)\n",
    "    \n",
    "    if 0 in composition_dict:\n",
    "        del composition_dict[0]  # Remove electrons\n",
    "    \n",
    "    single_2list = []\n",
    "    for k, v in composition_dict.items():\n",
    "        single_combinations = list(product(range(v + 1), repeat=1))  # Single combinations\n",
    "        single_list = [dict(zip([k], i)) for i in single_combinations]\n",
    "        single_2list.append(single_list)\n",
    "    \n",
    "    combinations_list = generate_combinations(*single_2list)\n",
    "    print(\"All combinations:\", combinations_list[-1])\n",
    "    \n",
    "    combinations_list = [i for i in combinations_list if cal_mol_reasonable(i)]\n",
    "\n",
    "    combinations_list = [{**i, 0: electronic} for i in combinations_list]  # Combination list\n",
    "    combinations_filter_list = [i for i in combinations_list if compare_dicts(composition_dict, i)]\n",
    "    \n",
    "    mz_list = [sum(multiply_dicts(abund_mass_dict, i).values()) for i in combinations_filter_list]\n",
    "    mz_list = [x for x in mz_list if x >= 0]  # Filter for values greater than 0\n",
    "    \n",
    "    return mz_list\n"
   ]
  },
  {
   "cell_type": "code",
   "execution_count": 670,
   "id": "f4820ea9-4241-43f1-8f43-366d643fb8a1",
   "metadata": {
    "tags": []
   },
   "outputs": [
    {
     "name": "stdout",
     "output_type": "stream",
     "text": [
      "原分子式拆解:{6: 25, 1: 51, 9: 3, 7: 1, 8: 6, 11: 1}。有无Na或K：True\n",
      "增加H5分子式拆解:{6: 25, 1: 56, 9: 3, 7: 1, 8: 6, 11: 1}\n",
      "{6: 25, 1: 57, 9: 3, 7: 1, 8: 6, 11: 1}\n",
      "所有： {6: 25, 1: 57, 9: 3, 7: 1, 8: 6, 11: 1}\n"
     ]
    },
    {
     "data": {
      "text/plain": [
       "466.4102149554909"
      ]
     },
     "execution_count": 670,
     "metadata": {},
     "output_type": "execute_result"
    }
   ],
   "source": [
    "mz_list = cal_mz_list(mol_formula, pos_neg)\n",
    "mz_list[-1]"
   ]
  },
  {
   "cell_type": "code",
   "execution_count": 700,
   "id": "3b26727a-fd78-4e6a-8a90-7316cf11a1c5",
   "metadata": {
    "tags": []
   },
   "outputs": [],
   "source": [
    "root_path = '../../Fulaoshi/230821_mzML/'\n",
    "# middle_list = ['873_Amide','873_C18']\n",
    "middle_list = ['700_Amide','700_C18','873_Amide','873_C18','3545_Amide','3545_C18','BC_Amide','BC_C18']\n",
    "out_root_path = '../../Fulaoshi/230821_mzML_res/rerun240410'"
   ]
  },
  {
   "cell_type": "markdown",
   "id": "f31a034d-6650-4adc-babf-2082aeae2540",
   "metadata": {},
   "source": [
    "# Calculate mz_list from the reference file"
   ]
  },
  {
   "cell_type": "code",
   "execution_count": 701,
   "id": "a690228e-304f-463f-ad28-ab37b3fd2475",
   "metadata": {
    "tags": []
   },
   "outputs": [
    {
     "data": {
      "text/html": [
       "<div>\n",
       "<style scoped>\n",
       "    .dataframe tbody tr th:only-of-type {\n",
       "        vertical-align: middle;\n",
       "    }\n",
       "\n",
       "    .dataframe tbody tr th {\n",
       "        vertical-align: top;\n",
       "    }\n",
       "\n",
       "    .dataframe thead th {\n",
       "        text-align: right;\n",
       "    }\n",
       "</style>\n",
       "<table border=\"1\" class=\"dataframe\">\n",
       "  <thead>\n",
       "    <tr style=\"text-align: right;\">\n",
       "      <th></th>\n",
       "      <th>batch</th>\n",
       "      <th>sepuzhu</th>\n",
       "      <th>sampleid</th>\n",
       "      <th>Product Name</th>\n",
       "      <th>CAS No.</th>\n",
       "      <th>Formula</th>\n",
       "      <th>MW</th>\n",
       "      <th>pos_neg</th>\n",
       "      <th>is_valid</th>\n",
       "      <th>mz</th>\n",
       "      <th>ref_rt</th>\n",
       "      <th>NL</th>\n",
       "      <th>bscp</th>\n",
       "      <th>batch_sampleid</th>\n",
       "    </tr>\n",
       "  </thead>\n",
       "  <tbody>\n",
       "    <tr>\n",
       "      <th>0</th>\n",
       "      <td>873_Amide</td>\n",
       "      <td>Amide</td>\n",
       "      <td>26386</td>\n",
       "      <td>N6-Methyladenosine</td>\n",
       "      <td>1867-73-8</td>\n",
       "      <td>C11H15N5O4</td>\n",
       "      <td>281.27</td>\n",
       "      <td>pos</td>\n",
       "      <td>1</td>\n",
       "      <td>282.11960</td>\n",
       "      <td>196.2</td>\n",
       "      <td>117000000</td>\n",
       "      <td>873_Amide+26386+1867-73-8+pos</td>\n",
       "      <td>[M+H]+</td>\n",
       "    </tr>\n",
       "    <tr>\n",
       "      <th>1</th>\n",
       "      <td>873_Amide</td>\n",
       "      <td>Amide</td>\n",
       "      <td>26386</td>\n",
       "      <td>N6-Methyladenosine</td>\n",
       "      <td>1867-73-8</td>\n",
       "      <td>C11H15N5O4</td>\n",
       "      <td>281.27</td>\n",
       "      <td>neg</td>\n",
       "      <td>1</td>\n",
       "      <td>280.10512</td>\n",
       "      <td>206.4</td>\n",
       "      <td>8250000</td>\n",
       "      <td>873_Amide+26386+1867-73-8+neg</td>\n",
       "      <td>[M-H]-</td>\n",
       "    </tr>\n",
       "    <tr>\n",
       "      <th>2</th>\n",
       "      <td>873_Amide</td>\n",
       "      <td>Amide</td>\n",
       "      <td>26386</td>\n",
       "      <td>Corticosterone</td>\n",
       "      <td>50-22-6</td>\n",
       "      <td>C21H30O4</td>\n",
       "      <td>346.46</td>\n",
       "      <td>pos</td>\n",
       "      <td>1</td>\n",
       "      <td>347.22160</td>\n",
       "      <td>63.6</td>\n",
       "      <td>25400000</td>\n",
       "      <td>873_Amide+26386+50-22-6+pos</td>\n",
       "      <td>[M+H]+</td>\n",
       "    </tr>\n",
       "    <tr>\n",
       "      <th>3</th>\n",
       "      <td>873_Amide</td>\n",
       "      <td>Amide</td>\n",
       "      <td>26386</td>\n",
       "      <td>Corticosterone</td>\n",
       "      <td>50-22-6</td>\n",
       "      <td>C21H30O4</td>\n",
       "      <td>346.46</td>\n",
       "      <td>neg</td>\n",
       "      <td>1</td>\n",
       "      <td>345.20713</td>\n",
       "      <td>63.6</td>\n",
       "      <td>3360000</td>\n",
       "      <td>873_Amide+26386+50-22-6+neg</td>\n",
       "      <td>[M-H]-</td>\n",
       "    </tr>\n",
       "    <tr>\n",
       "      <th>4</th>\n",
       "      <td>873_Amide</td>\n",
       "      <td>Amide</td>\n",
       "      <td>26386</td>\n",
       "      <td>Hexylresorcinol</td>\n",
       "      <td>136-77-6</td>\n",
       "      <td>C12H18O2</td>\n",
       "      <td>194.27</td>\n",
       "      <td>neg</td>\n",
       "      <td>1</td>\n",
       "      <td>193.12340</td>\n",
       "      <td>57.0</td>\n",
       "      <td>27500000</td>\n",
       "      <td>873_Amide+26386+136-77-6+neg</td>\n",
       "      <td>[M-H]-</td>\n",
       "    </tr>\n",
       "    <tr>\n",
       "      <th>...</th>\n",
       "      <td>...</td>\n",
       "      <td>...</td>\n",
       "      <td>...</td>\n",
       "      <td>...</td>\n",
       "      <td>...</td>\n",
       "      <td>...</td>\n",
       "      <td>...</td>\n",
       "      <td>...</td>\n",
       "      <td>...</td>\n",
       "      <td>...</td>\n",
       "      <td>...</td>\n",
       "      <td>...</td>\n",
       "      <td>...</td>\n",
       "      <td>...</td>\n",
       "    </tr>\n",
       "    <tr>\n",
       "      <th>13663</th>\n",
       "      <td>700_C18</td>\n",
       "      <td>C18</td>\n",
       "      <td>S104</td>\n",
       "      <td>L-Allothreonine</td>\n",
       "      <td>28954-12-3</td>\n",
       "      <td>C4H9NO3</td>\n",
       "      <td>119.12</td>\n",
       "      <td>neg</td>\n",
       "      <td>1</td>\n",
       "      <td>118.05096</td>\n",
       "      <td>46.8</td>\n",
       "      <td>9.35E5</td>\n",
       "      <td>700_C18+S104+28954-12-3+neg</td>\n",
       "      <td>[M-H]-</td>\n",
       "    </tr>\n",
       "    <tr>\n",
       "      <th>13664</th>\n",
       "      <td>700_C18</td>\n",
       "      <td>C18</td>\n",
       "      <td>S104</td>\n",
       "      <td>3-O-Ethyl-L-ascorbic acid</td>\n",
       "      <td>86404-04-8</td>\n",
       "      <td>C8H12O6</td>\n",
       "      <td>204.18</td>\n",
       "      <td>neg</td>\n",
       "      <td>1</td>\n",
       "      <td>203.05611</td>\n",
       "      <td>307.8</td>\n",
       "      <td>9.02E5</td>\n",
       "      <td>700_C18+S104+86404-04-8+neg</td>\n",
       "      <td>[M-H]-</td>\n",
       "    </tr>\n",
       "    <tr>\n",
       "      <th>13665</th>\n",
       "      <td>700_C18</td>\n",
       "      <td>C18</td>\n",
       "      <td>S104</td>\n",
       "      <td>n6-(Aminoiminomethyl)lysine</td>\n",
       "      <td>yhh0927-1</td>\n",
       "      <td>C7H16N4O2</td>\n",
       "      <td>188.23</td>\n",
       "      <td>pos</td>\n",
       "      <td>1</td>\n",
       "      <td>189.13460</td>\n",
       "      <td>45.6</td>\n",
       "      <td>9.94E6</td>\n",
       "      <td>700_C18+S104+yhh0927-1+pos</td>\n",
       "      <td>[M+H]+</td>\n",
       "    </tr>\n",
       "    <tr>\n",
       "      <th>13666</th>\n",
       "      <td>700_C18</td>\n",
       "      <td>C18</td>\n",
       "      <td>S104</td>\n",
       "      <td>Galactosamine hydrochloride</td>\n",
       "      <td>1886979-58-3</td>\n",
       "      <td>C6H14ClNO5</td>\n",
       "      <td>215.63</td>\n",
       "      <td>pos</td>\n",
       "      <td>1</td>\n",
       "      <td>180.08664</td>\n",
       "      <td>43.8</td>\n",
       "      <td>2.15E7</td>\n",
       "      <td>700_C18+S104+1886979-58-3+pos</td>\n",
       "      <td>[M+H]+</td>\n",
       "    </tr>\n",
       "    <tr>\n",
       "      <th>13667</th>\n",
       "      <td>700_C18</td>\n",
       "      <td>C18</td>\n",
       "      <td>S104</td>\n",
       "      <td>L-Cysteine hydrochloride monohydrate</td>\n",
       "      <td>7048-04-6</td>\n",
       "      <td>C3H10ClNO3S</td>\n",
       "      <td>175.64</td>\n",
       "      <td>neg</td>\n",
       "      <td>1</td>\n",
       "      <td>120.01247</td>\n",
       "      <td>45.0</td>\n",
       "      <td>6.20E6</td>\n",
       "      <td>700_C18+S104+7048-04-6+neg</td>\n",
       "      <td>[M-H]-</td>\n",
       "    </tr>\n",
       "  </tbody>\n",
       "</table>\n",
       "<p>13668 rows × 14 columns</p>\n",
       "</div>"
      ],
      "text/plain": [
       "           batch sepuzhu sampleid                          Product Name  \\\n",
       "0      873_Amide   Amide    26386                    N6-Methyladenosine   \n",
       "1      873_Amide   Amide    26386                    N6-Methyladenosine   \n",
       "2      873_Amide   Amide    26386                        Corticosterone   \n",
       "3      873_Amide   Amide    26386                        Corticosterone   \n",
       "4      873_Amide   Amide    26386                       Hexylresorcinol   \n",
       "...          ...     ...      ...                                   ...   \n",
       "13663    700_C18     C18     S104                       L-Allothreonine   \n",
       "13664    700_C18     C18     S104             3-O-Ethyl-L-ascorbic acid   \n",
       "13665    700_C18     C18     S104           n6-(Aminoiminomethyl)lysine   \n",
       "13666    700_C18     C18     S104           Galactosamine hydrochloride   \n",
       "13667    700_C18     C18     S104  L-Cysteine hydrochloride monohydrate   \n",
       "\n",
       "            CAS No.      Formula      MW pos_neg  is_valid         mz  ref_rt  \\\n",
       "0         1867-73-8   C11H15N5O4  281.27     pos         1  282.11960   196.2   \n",
       "1         1867-73-8   C11H15N5O4  281.27     neg         1  280.10512   206.4   \n",
       "2           50-22-6     C21H30O4  346.46     pos         1  347.22160    63.6   \n",
       "3           50-22-6     C21H30O4  346.46     neg         1  345.20713    63.6   \n",
       "4          136-77-6     C12H18O2  194.27     neg         1  193.12340    57.0   \n",
       "...             ...          ...     ...     ...       ...        ...     ...   \n",
       "13663    28954-12-3      C4H9NO3  119.12     neg         1  118.05096    46.8   \n",
       "13664    86404-04-8      C8H12O6  204.18     neg         1  203.05611   307.8   \n",
       "13665     yhh0927-1    C7H16N4O2  188.23     pos         1  189.13460    45.6   \n",
       "13666  1886979-58-3   C6H14ClNO5  215.63     pos         1  180.08664    43.8   \n",
       "13667     7048-04-6  C3H10ClNO3S  175.64     neg         1  120.01247    45.0   \n",
       "\n",
       "              NL                           bscp batch_sampleid  \n",
       "0      117000000  873_Amide+26386+1867-73-8+pos         [M+H]+  \n",
       "1        8250000  873_Amide+26386+1867-73-8+neg         [M-H]-  \n",
       "2       25400000    873_Amide+26386+50-22-6+pos         [M+H]+  \n",
       "3        3360000    873_Amide+26386+50-22-6+neg         [M-H]-  \n",
       "4       27500000   873_Amide+26386+136-77-6+neg         [M-H]-  \n",
       "...          ...                            ...            ...  \n",
       "13663     9.35E5    700_C18+S104+28954-12-3+neg         [M-H]-  \n",
       "13664     9.02E5    700_C18+S104+86404-04-8+neg         [M-H]-  \n",
       "13665     9.94E6     700_C18+S104+yhh0927-1+pos         [M+H]+  \n",
       "13666     2.15E7  700_C18+S104+1886979-58-3+pos         [M+H]+  \n",
       "13667     6.20E6     700_C18+S104+7048-04-6+neg         [M-H]-  \n",
       "\n",
       "[13668 rows x 14 columns]"
      ]
     },
     "execution_count": 701,
     "metadata": {},
     "output_type": "execute_result"
    }
   ],
   "source": [
    "smi_ref_df = pd.read_excel(f'{root_path}/smi_ref_df.xlsx',index_col=0)\n",
    "smi_ref_df['bscp']=smi_ref_df['batch']+'+'+smi_ref_df['sampleid'].astype(str)+'+'+smi_ref_df['CAS No.']+'+'+smi_ref_df['pos_neg']\n",
    "smi_ref_df"
   ]
  },
  {
   "cell_type": "code",
   "execution_count": 685,
   "id": "d03aa4a6-cc1d-47c7-b688-299dc0597f86",
   "metadata": {
    "tags": []
   },
   "outputs": [],
   "source": [
    "bscp_list = smi_ref_df['bscp'].unique().tolist()"
   ]
  },
  {
   "cell_type": "code",
   "execution_count": 686,
   "id": "d013c045-33a5-469e-b671-e6fc8aaed6bc",
   "metadata": {
    "tags": []
   },
   "outputs": [
    {
     "data": {
      "text/plain": [
       "['873_Amide+26386+1867-73-8+pos',\n",
       " '873_Amide+26386+1867-73-8+neg',\n",
       " '873_Amide+26386+50-22-6+pos',\n",
       " '873_Amide+26386+50-22-6+neg',\n",
       " '873_Amide+26386+136-77-6+neg']"
      ]
     },
     "execution_count": 686,
     "metadata": {},
     "output_type": "execute_result"
    }
   ],
   "source": [
    "bscp_list[0:5]"
   ]
  },
  {
   "cell_type": "code",
   "execution_count": null,
   "id": "6952a45a-799c-434f-820b-0381d0894f68",
   "metadata": {
    "tags": []
   },
   "outputs": [
    {
     "name": "stdout",
     "output_type": "stream",
     "text": [
      "873_Amide+26386+1867-73-8+pos\n",
      "原分子式拆解:{6: 11, 1: 15, 7: 5, 8: 4}。有无Na或K：False\n",
      "增加H5分子式拆解:{6: 11, 1: 15, 7: 5, 8: 4}\n",
      "{6: 11, 1: 16, 7: 5, 8: 4}\n",
      "所有： {6: 11, 1: 16, 7: 5, 8: 4}\n"
     ]
    }
   ],
   "source": [
    "compare_mz_list = []  # For comparison with the provided data\n",
    "mz_2list = []\n",
    "for bscp in bscp_list[0:1]:\n",
    "    print(bscp)\n",
    "    \n",
    "    iloc01 = smi_ref_df.columns.get_loc('Formula')\n",
    "    iloc02 = smi_ref_df.columns.get_loc('pos_neg')\n",
    "    temp_smi_ref_df = smi_ref_df[smi_ref_df['bscp'] == bscp].copy()\n",
    "    mol_formula, pos_neg = temp_smi_ref_df.iloc[0, [iloc01, iloc02]]\n",
    "    mol_formula = str(mol_formula).strip()\n",
    "    \n",
    "    # Handle calculation errors\n",
    "    try:\n",
    "        mz_list = cal_mz_list(mol_formula, pos_neg)\n",
    "        # mz_2list.append(mz_list)\n",
    "        # compare_mz_list.append(mz_list[-1])\n",
    "        temp_smi_ref_df[\"cal_mz\"] = mz_list[-1]\n",
    "        temp_smi_ref_df[\"mz_list\"] = [mz_list]\n",
    "    except Exception as e:\n",
    "        print(\"Error:\", e)\n",
    "        # mz_2list.append([])\n",
    "        # compare_mz_list.append(-1)\n",
    "        temp_smi_ref_df[\"cal_mz\"] = -1\n",
    "        temp_smi_ref_df[\"mz_list\"] = [[]]\n",
    "    \n",
    "    temp_smi_ref_df.to_csv(f\"output/smi_ref_df/{bscp}.csv\")\n"
   ]
  },
  {
   "cell_type": "code",
   "execution_count": null,
   "id": "48a36872-9ba6-4c9c-99a7-b0b7dfc59cf1",
   "metadata": {
    "tags": []
   },
   "outputs": [],
   "source": [
    "# Data check\n",
    "for bscp in bscp_list:\n",
    "    if not os.path.exists(f\"output/smi_ref_df/{bscp}.csv\"):\n",
    "        print(bscp_list.index(bscp), bscp)\n",
    "        # break\n"
   ]
  },
  {
   "cell_type": "code",
   "execution_count": 474,
   "id": "a921f56b-cc57-477b-a0b4-a9ba7da29553",
   "metadata": {
    "tags": []
   },
   "outputs": [
    {
     "data": {
      "text/plain": [
       "13668"
      ]
     },
     "execution_count": 474,
     "metadata": {},
     "output_type": "execute_result"
    }
   ],
   "source": [
    "len(bscp_list)"
   ]
  },
  {
   "cell_type": "markdown",
   "id": "fa4d7605-2734-4dc0-85a4-a96ac0608de9",
   "metadata": {},
   "source": [
    "# Merge all data\n",
    "\n"
   ]
  },
  {
   "cell_type": "code",
   "execution_count": 690,
   "id": "3c860960-8557-4a35-9b55-183afa47cdda",
   "metadata": {
    "tags": []
   },
   "outputs": [
    {
     "name": "stdout",
     "output_type": "stream",
     "text": [
      "(13668, 16)\n"
     ]
    }
   ],
   "source": [
    "all_files_list = [f\"output/smi_ref_df/{bscp}.csv\" for bscp in bscp_list]\n",
    "merged_data_df = pd.DataFrame()\n",
    "for file in all_files_list:\n",
    "    df = pd.read_csv(file,index_col=0)\n",
    "    merged_data_df = pd.concat([merged_data_df, df], ignore_index=True)\n",
    "print(merged_data_df.shape)"
   ]
  },
  {
   "cell_type": "code",
   "execution_count": 696,
   "id": "c4ce250e-3b07-43db-acda-5ced6ad97025",
   "metadata": {
    "tags": []
   },
   "outputs": [],
   "source": [
    "# merged_data_df.to_excel('../../Fulaoshi/230821_mzML/smi_ref_df_mz_mzlist.xlsx',encoding='utf8')\n",
    "# merged_data_df.to_csv('../../Fulaoshi/230821_mzML/smi_ref_df_mz_mzlist.csv',encoding='utf8')\n",
    "merged_data_df.to_pickle('../../Fulaoshi/230821_mzML/smi_ref_df_mz_mzlist.pkl')"
   ]
  },
  {
   "cell_type": "code",
   "execution_count": 514,
   "id": "ff621482-8c0f-4867-89fb-eee3ab4f20f7",
   "metadata": {
    "tags": []
   },
   "outputs": [],
   "source": [
    "merged_data_df['diff'] = merged_data_df.apply(lambda x:mzbatch.cal_ppm(x['mz'],x['cal_mz']),axis=1)"
   ]
  },
  {
   "cell_type": "code",
   "execution_count": 515,
   "id": "01ef107a-4f07-4d8b-9940-1e907f5da4cd",
   "metadata": {
    "tags": []
   },
   "outputs": [],
   "source": [
    "merge_columns = ['batch', 'sepuzhu', 'sampleid', 'Product Name', 'CAS No.', 'Formula',\n",
    "       'MW', 'pos_neg', 'is_valid', 'mz', 'ref_rt', 'NL', 'cal_mz','diff']"
   ]
  },
  {
   "cell_type": "code",
   "execution_count": 516,
   "id": "6d5be04a-1e8f-49bb-a7e5-af219a836b94",
   "metadata": {
    "tags": []
   },
   "outputs": [],
   "source": [
    "merged_data_df.loc[:,merge_columns].to_csv('../../Fulaoshi/230821_mzML/smi_ref_df_mz_diff.csv')"
   ]
  },
  {
   "cell_type": "markdown",
   "id": "773e1989-3d40-4d68-aaec-6031f4920c74",
   "metadata": {},
   "source": [
    "# Check whether the bscp is incomplete and the file is empty"
   ]
  },
  {
   "cell_type": "code",
   "execution_count": null,
   "id": "bad10d29-cd97-4e41-b7a2-eb4f8f9141ab",
   "metadata": {
    "tags": []
   },
   "outputs": [],
   "source": [
    "all_files_list = [f\"output/smi_ref_df/{bscp}.csv\" for bscp in bscp_list]\n",
    "\n",
    "for file in all_files_list:\n",
    "    if not os.path.exists(file):\n",
    "        print(f\"File does not exist: {file}\")\n",
    "        continue\n",
    "    \n",
    "    check_df = pd.read_csv(file, index_col=0)\n",
    "    if check_df.shape[0] == 0:\n",
    "        print(f\"File is empty: {file}\")\n"
   ]
  },
  {
   "cell_type": "markdown",
   "id": "976c0d0c-056e-424b-a872-e17307041f8f",
   "metadata": {},
   "source": [
    "# Compare with the calculated m/z by Xcalibur "
   ]
  },
  {
   "cell_type": "code",
   "execution_count": null,
   "id": "77db1f7e-12b5-4549-ab50-81c50f4da728",
   "metadata": {
    "tags": []
   },
   "outputs": [],
   "source": [
    "formula_mz_df = pd.read_excel(\"input/ion_mass_test.xlsx\")\n"
   ]
  },
  {
   "cell_type": "code",
   "execution_count": null,
   "id": "6bd0c20a-3f57-4852-a504-ef3a77dbe760",
   "metadata": {
    "tags": []
   },
   "outputs": [],
   "source": [
    "test_mz_list = []\n",
    "for i in formula_mz_df.index:\n",
    "    mol_formula, pos_neg = formula_mz_df.loc[i, ['Molecular Formula', 'pos_neg']]\n",
    "    mz_list = cal_mz_list(mol_formula, pos_neg)\n",
    "    test_mz_list.append(mz_list[-1])\n"
   ]
  },
  {
   "cell_type": "code",
   "execution_count": 187,
   "id": "46c190ce-4e7e-4dee-84c3-90f9eeaa4758",
   "metadata": {
    "tags": []
   },
   "outputs": [
    {
     "data": {
      "text/html": [
       "<div>\n",
       "<style scoped>\n",
       "    .dataframe tbody tr th:only-of-type {\n",
       "        vertical-align: middle;\n",
       "    }\n",
       "\n",
       "    .dataframe tbody tr th {\n",
       "        vertical-align: top;\n",
       "    }\n",
       "\n",
       "    .dataframe thead th {\n",
       "        text-align: right;\n",
       "    }\n",
       "</style>\n",
       "<table border=\"1\" class=\"dataframe\">\n",
       "  <thead>\n",
       "    <tr style=\"text-align: right;\">\n",
       "      <th></th>\n",
       "      <th>分子式</th>\n",
       "      <th>pos_neg</th>\n",
       "      <th>m/z</th>\n",
       "      <th>cal_mz</th>\n",
       "      <th>diff</th>\n",
       "    </tr>\n",
       "  </thead>\n",
       "  <tbody>\n",
       "    <tr>\n",
       "      <th>0</th>\n",
       "      <td>C17H13Cl2F3N7O2S+</td>\n",
       "      <td>pos</td>\n",
       "      <td>506.01751</td>\n",
       "      <td>506.017510</td>\n",
       "      <td>0.00000</td>\n",
       "    </tr>\n",
       "    <tr>\n",
       "      <th>1</th>\n",
       "      <td>C17H12Cl2F3N7O2S+</td>\n",
       "      <td>pos</td>\n",
       "      <td>505.00968</td>\n",
       "      <td>505.009685</td>\n",
       "      <td>0.00000</td>\n",
       "    </tr>\n",
       "    <tr>\n",
       "      <th>2</th>\n",
       "      <td>C17H11Cl2F3N7O2S-</td>\n",
       "      <td>neg</td>\n",
       "      <td>504.00296</td>\n",
       "      <td>504.002957</td>\n",
       "      <td>0.00000</td>\n",
       "    </tr>\n",
       "    <tr>\n",
       "      <th>3</th>\n",
       "      <td>C62H113N11O12+2</td>\n",
       "      <td>pos</td>\n",
       "      <td>601.92796</td>\n",
       "      <td>1203.856470</td>\n",
       "      <td>-601.92851</td>\n",
       "    </tr>\n",
       "    <tr>\n",
       "      <th>4</th>\n",
       "      <td>C18H32O3Na+</td>\n",
       "      <td>pos</td>\n",
       "      <td>319.22437</td>\n",
       "      <td>319.224366</td>\n",
       "      <td>0.00000</td>\n",
       "    </tr>\n",
       "    <tr>\n",
       "      <th>5</th>\n",
       "      <td>C23H34O5Na+</td>\n",
       "      <td>pos</td>\n",
       "      <td>413.22985</td>\n",
       "      <td>413.229845</td>\n",
       "      <td>0.00000</td>\n",
       "    </tr>\n",
       "    <tr>\n",
       "      <th>6</th>\n",
       "      <td>C13H11BrNO3+</td>\n",
       "      <td>pos</td>\n",
       "      <td>307.99168</td>\n",
       "      <td>307.991682</td>\n",
       "      <td>0.00000</td>\n",
       "    </tr>\n",
       "    <tr>\n",
       "      <th>7</th>\n",
       "      <td>C25H53NO4P+</td>\n",
       "      <td>pos</td>\n",
       "      <td>462.37067</td>\n",
       "      <td>462.370672</td>\n",
       "      <td>0.00000</td>\n",
       "    </tr>\n",
       "    <tr>\n",
       "      <th>8</th>\n",
       "      <td>C21H15N2O2S-</td>\n",
       "      <td>neg</td>\n",
       "      <td>359.08597</td>\n",
       "      <td>359.085972</td>\n",
       "      <td>0.00000</td>\n",
       "    </tr>\n",
       "    <tr>\n",
       "      <th>9</th>\n",
       "      <td>C16H11O5-</td>\n",
       "      <td>neg</td>\n",
       "      <td>283.06120</td>\n",
       "      <td>283.061197</td>\n",
       "      <td>0.00000</td>\n",
       "    </tr>\n",
       "    <tr>\n",
       "      <th>10</th>\n",
       "      <td>C11H7O4+</td>\n",
       "      <td>pos</td>\n",
       "      <td>203.03389</td>\n",
       "      <td>203.033885</td>\n",
       "      <td>0.00000</td>\n",
       "    </tr>\n",
       "    <tr>\n",
       "      <th>11</th>\n",
       "      <td>C7H5N10+</td>\n",
       "      <td>pos</td>\n",
       "      <td>229.06932</td>\n",
       "      <td>229.069317</td>\n",
       "      <td>0.00000</td>\n",
       "    </tr>\n",
       "    <tr>\n",
       "      <th>12</th>\n",
       "      <td>C16O2H12N+</td>\n",
       "      <td>pos</td>\n",
       "      <td>250.08626</td>\n",
       "      <td>250.086255</td>\n",
       "      <td>0.00000</td>\n",
       "    </tr>\n",
       "    <tr>\n",
       "      <th>13</th>\n",
       "      <td>C5H10N+</td>\n",
       "      <td>pos</td>\n",
       "      <td>84.08078</td>\n",
       "      <td>84.080776</td>\n",
       "      <td>0.00000</td>\n",
       "    </tr>\n",
       "    <tr>\n",
       "      <th>14</th>\n",
       "      <td>C8H9+</td>\n",
       "      <td>pos</td>\n",
       "      <td>105.06988</td>\n",
       "      <td>105.069877</td>\n",
       "      <td>0.00000</td>\n",
       "    </tr>\n",
       "    <tr>\n",
       "      <th>15</th>\n",
       "      <td>C12H15+</td>\n",
       "      <td>pos</td>\n",
       "      <td>159.11683</td>\n",
       "      <td>159.116827</td>\n",
       "      <td>0.00000</td>\n",
       "    </tr>\n",
       "    <tr>\n",
       "      <th>16</th>\n",
       "      <td>C6H5O3-</td>\n",
       "      <td>neg</td>\n",
       "      <td>125.02442</td>\n",
       "      <td>125.024418</td>\n",
       "      <td>0.00000</td>\n",
       "    </tr>\n",
       "    <tr>\n",
       "      <th>17</th>\n",
       "      <td>C14H8O4-</td>\n",
       "      <td>neg</td>\n",
       "      <td>240.04281</td>\n",
       "      <td>240.042807</td>\n",
       "      <td>0.00000</td>\n",
       "    </tr>\n",
       "    <tr>\n",
       "      <th>18</th>\n",
       "      <td>C10H12N4O8P-</td>\n",
       "      <td>neg</td>\n",
       "      <td>347.03982</td>\n",
       "      <td>347.039823</td>\n",
       "      <td>0.00000</td>\n",
       "    </tr>\n",
       "    <tr>\n",
       "      <th>19</th>\n",
       "      <td>C30H32N5O5S-</td>\n",
       "      <td>neg</td>\n",
       "      <td>574.21296</td>\n",
       "      <td>574.212963</td>\n",
       "      <td>0.00000</td>\n",
       "    </tr>\n",
       "    <tr>\n",
       "      <th>20</th>\n",
       "      <td>C2H2N4O4-</td>\n",
       "      <td>neg</td>\n",
       "      <td>134.00815</td>\n",
       "      <td>146.008153</td>\n",
       "      <td>-12.00000</td>\n",
       "    </tr>\n",
       "  </tbody>\n",
       "</table>\n",
       "</div>"
      ],
      "text/plain": [
       "                  分子式 pos_neg        m/z       cal_mz       diff\n",
       "0   C17H13Cl2F3N7O2S+     pos  506.01751   506.017510    0.00000\n",
       "1   C17H12Cl2F3N7O2S+     pos  505.00968   505.009685    0.00000\n",
       "2   C17H11Cl2F3N7O2S-     neg  504.00296   504.002957    0.00000\n",
       "3     C62H113N11O12+2     pos  601.92796  1203.856470 -601.92851\n",
       "4         C18H32O3Na+     pos  319.22437   319.224366    0.00000\n",
       "5         C23H34O5Na+     pos  413.22985   413.229845    0.00000\n",
       "6        C13H11BrNO3+     pos  307.99168   307.991682    0.00000\n",
       "7         C25H53NO4P+     pos  462.37067   462.370672    0.00000\n",
       "8        C21H15N2O2S-     neg  359.08597   359.085972    0.00000\n",
       "9           C16H11O5-     neg  283.06120   283.061197    0.00000\n",
       "10           C11H7O4+     pos  203.03389   203.033885    0.00000\n",
       "11           C7H5N10+     pos  229.06932   229.069317    0.00000\n",
       "12         C16O2H12N+     pos  250.08626   250.086255    0.00000\n",
       "13            C5H10N+     pos   84.08078    84.080776    0.00000\n",
       "14              C8H9+     pos  105.06988   105.069877    0.00000\n",
       "15            C12H15+     pos  159.11683   159.116827    0.00000\n",
       "16            C6H5O3-     neg  125.02442   125.024418    0.00000\n",
       "17           C14H8O4-     neg  240.04281   240.042807    0.00000\n",
       "18       C10H12N4O8P-     neg  347.03982   347.039823    0.00000\n",
       "19       C30H32N5O5S-     neg  574.21296   574.212963    0.00000\n",
       "20          C2H2N4O4-     neg  134.00815   146.008153  -12.00000"
      ]
     },
     "execution_count": 187,
     "metadata": {},
     "output_type": "execute_result"
    }
   ],
   "source": [
    "formula_mz_df['cal_mz'] = test_mz_list\n",
    "formula_mz_df['diff'] = formula_mz_df['m/z'] - round(formula_mz_df['cal_mz'], 5)\n",
    "formula_mz_df"
   ]
  },
  {
   "cell_type": "markdown",
   "id": "c6545f53-1098-4d84-9bec-be27faf3436b",
   "metadata": {},
   "source": [
    "# Check that the molecular formula is correct"
   ]
  },
  {
   "cell_type": "code",
   "execution_count": 467,
   "id": "19d30652-5f39-4591-815a-3a88ad7a28c7",
   "metadata": {
    "tags": []
   },
   "outputs": [
    {
     "data": {
      "text/html": [
       "<div>\n",
       "<style scoped>\n",
       "    .dataframe tbody tr th:only-of-type {\n",
       "        vertical-align: middle;\n",
       "    }\n",
       "\n",
       "    .dataframe tbody tr th {\n",
       "        vertical-align: top;\n",
       "    }\n",
       "\n",
       "    .dataframe thead th {\n",
       "        text-align: right;\n",
       "    }\n",
       "</style>\n",
       "<table border=\"1\" class=\"dataframe\">\n",
       "  <thead>\n",
       "    <tr style=\"text-align: right;\">\n",
       "      <th></th>\n",
       "      <th>batch</th>\n",
       "      <th>sepuzhu</th>\n",
       "      <th>sampleid</th>\n",
       "      <th>Product Name</th>\n",
       "      <th>CAS No.</th>\n",
       "      <th>Formula</th>\n",
       "      <th>Corrected Formula</th>\n",
       "      <th>M.Wt</th>\n",
       "      <th>pos_neg</th>\n",
       "      <th>Adduct</th>\n",
       "      <th>refer_RT</th>\n",
       "      <th>m/z</th>\n",
       "      <th>RT time</th>\n",
       "      <th>NL</th>\n",
       "      <th>bscp</th>\n",
       "    </tr>\n",
       "  </thead>\n",
       "  <tbody>\n",
       "    <tr>\n",
       "      <th>0</th>\n",
       "      <td>873_Amide</td>\n",
       "      <td>Amide</td>\n",
       "      <td>26386</td>\n",
       "      <td>N6-Methyladenosine</td>\n",
       "      <td>1867-73-8</td>\n",
       "      <td>C11H15N5O4</td>\n",
       "      <td>C11H15N5O4</td>\n",
       "      <td>281.27</td>\n",
       "      <td>pos</td>\n",
       "      <td>[M+H]+</td>\n",
       "      <td>1</td>\n",
       "      <td>282.11960</td>\n",
       "      <td>196.2</td>\n",
       "      <td>117000000</td>\n",
       "      <td>873_Amide+26386+1867-73-8+pos</td>\n",
       "    </tr>\n",
       "    <tr>\n",
       "      <th>1</th>\n",
       "      <td>873_Amide</td>\n",
       "      <td>Amide</td>\n",
       "      <td>26386</td>\n",
       "      <td>N6-Methyladenosine</td>\n",
       "      <td>1867-73-8</td>\n",
       "      <td>C11H15N5O4</td>\n",
       "      <td>C11H15N5O4</td>\n",
       "      <td>281.27</td>\n",
       "      <td>neg</td>\n",
       "      <td>[M-H]-</td>\n",
       "      <td>1</td>\n",
       "      <td>280.10512</td>\n",
       "      <td>206.4</td>\n",
       "      <td>8250000</td>\n",
       "      <td>873_Amide+26386+1867-73-8+neg</td>\n",
       "    </tr>\n",
       "    <tr>\n",
       "      <th>2</th>\n",
       "      <td>873_Amide</td>\n",
       "      <td>Amide</td>\n",
       "      <td>26386</td>\n",
       "      <td>Corticosterone</td>\n",
       "      <td>50-22-6</td>\n",
       "      <td>C21H30O4</td>\n",
       "      <td>C21H30O4</td>\n",
       "      <td>346.46</td>\n",
       "      <td>pos</td>\n",
       "      <td>[M+H]+</td>\n",
       "      <td>1</td>\n",
       "      <td>347.22160</td>\n",
       "      <td>63.6</td>\n",
       "      <td>25400000</td>\n",
       "      <td>873_Amide+26386+50-22-6+pos</td>\n",
       "    </tr>\n",
       "    <tr>\n",
       "      <th>3</th>\n",
       "      <td>873_Amide</td>\n",
       "      <td>Amide</td>\n",
       "      <td>26386</td>\n",
       "      <td>Corticosterone</td>\n",
       "      <td>50-22-6</td>\n",
       "      <td>C21H30O4</td>\n",
       "      <td>C21H30O4</td>\n",
       "      <td>346.46</td>\n",
       "      <td>neg</td>\n",
       "      <td>[M-H]-</td>\n",
       "      <td>1</td>\n",
       "      <td>345.20713</td>\n",
       "      <td>63.6</td>\n",
       "      <td>3360000</td>\n",
       "      <td>873_Amide+26386+50-22-6+neg</td>\n",
       "    </tr>\n",
       "    <tr>\n",
       "      <th>4</th>\n",
       "      <td>873_Amide</td>\n",
       "      <td>Amide</td>\n",
       "      <td>26386</td>\n",
       "      <td>Hexylresorcinol</td>\n",
       "      <td>136-77-6</td>\n",
       "      <td>C12H18O2</td>\n",
       "      <td>C12H18O2</td>\n",
       "      <td>194.27</td>\n",
       "      <td>neg</td>\n",
       "      <td>[M-H]-</td>\n",
       "      <td>1</td>\n",
       "      <td>193.12340</td>\n",
       "      <td>57.0</td>\n",
       "      <td>27500000</td>\n",
       "      <td>873_Amide+26386+136-77-6+neg</td>\n",
       "    </tr>\n",
       "  </tbody>\n",
       "</table>\n",
       "</div>"
      ],
      "text/plain": [
       "       batch sepuzhu sampleid        Product Name    CAS No.     Formula  \\\n",
       "0  873_Amide   Amide    26386  N6-Methyladenosine  1867-73-8  C11H15N5O4   \n",
       "1  873_Amide   Amide    26386  N6-Methyladenosine  1867-73-8  C11H15N5O4   \n",
       "2  873_Amide   Amide    26386      Corticosterone    50-22-6    C21H30O4   \n",
       "3  873_Amide   Amide    26386      Corticosterone    50-22-6    C21H30O4   \n",
       "4  873_Amide   Amide    26386     Hexylresorcinol   136-77-6    C12H18O2   \n",
       "\n",
       "  Corrected Formula    M.Wt pos_neg  Adduct  refer_RT        m/z  RT time  \\\n",
       "0        C11H15N5O4  281.27     pos  [M+H]+         1  282.11960    196.2   \n",
       "1        C11H15N5O4  281.27     neg  [M-H]-         1  280.10512    206.4   \n",
       "2          C21H30O4  346.46     pos  [M+H]+         1  347.22160     63.6   \n",
       "3          C21H30O4  346.46     neg  [M-H]-         1  345.20713     63.6   \n",
       "4          C12H18O2  194.27     neg  [M-H]-         1  193.12340     57.0   \n",
       "\n",
       "          NL                           bscp  \n",
       "0  117000000  873_Amide+26386+1867-73-8+pos  \n",
       "1    8250000  873_Amide+26386+1867-73-8+neg  \n",
       "2   25400000    873_Amide+26386+50-22-6+pos  \n",
       "3    3360000    873_Amide+26386+50-22-6+neg  \n",
       "4   27500000   873_Amide+26386+136-77-6+neg  "
      ]
     },
     "execution_count": 467,
     "metadata": {},
     "output_type": "execute_result"
    }
   ],
   "source": [
    "ref_corr_df = pd.read_excel(f'{root_path}/ref_all-20240510-final.xlsx',sheet_name = \"concat\",index_col=0)\n",
    "ref_corr_df.head()"
   ]
  },
  {
   "cell_type": "code",
   "execution_count": null,
   "id": "91de767a-07e1-438a-b84a-b125dc6704b4",
   "metadata": {
    "tags": []
   },
   "outputs": [],
   "source": [
    "for i in ref_corr_df.index:\n",
    "    mol1 = ref_corr_df.loc[0,\"Corrected Formula\"]\n",
    "    try:\n",
    "        # Decompose molecular formula\n",
    "        substance = Substance.from_formula(mol1)\n",
    "        composition_dict = substance.composition\n",
    "    except Exception as e:\n",
    "        print(i)\n",
    "        continue"
   ]
  },
  {
   "cell_type": "code",
   "execution_count": 466,
   "id": "8e82245b-659d-4bfb-80eb-05dd9ae8d291",
   "metadata": {
    "tags": []
   },
   "outputs": [
    {
     "data": {
      "text/plain": [
       "{6: 11, 1: 15, 7: 5, 8: 4}"
      ]
     },
     "execution_count": 466,
     "metadata": {},
     "output_type": "execute_result"
    }
   ],
   "source": [
    "composition_dict"
   ]
  },
  {
   "cell_type": "markdown",
   "id": "0ae13865-d042-472d-8c76-6b14ceb16091",
   "metadata": {},
   "source": [
    "# 13 energy values that appear only once"
   ]
  },
  {
   "cell_type": "markdown",
   "id": "e14472ac-f2df-4948-9e15-8d84574d5ca2",
   "metadata": {
    "tags": []
   },
   "source": [
    "# Calculate valid m/z values\n",
    "- Merge the four graphs of 13 energy values\n",
    "- Use only 39, removing those that appear only once, but keep all of 1 energy and 100 energy, as 1 energy might be fully fragmented, and 100 energy might just start fragmenting\n",
    "- Fragment rationality: (mass_dif < -1) | (mass_dif <= 0.99999) | (3 <= mass_dif <= 13) | (21 <= mass_dif <= 24)\n",
    "# Use relative abundance to calculate similarity\n"
   ]
  },
  {
   "cell_type": "code",
   "execution_count": 135,
   "id": "a25ffdd4-d2b7-4e4b-947e-bae09614b5cb",
   "metadata": {
    "tags": []
   },
   "outputs": [],
   "source": [
    "import pandas as pd\n",
    "import numpy as np\n",
    "import os,json,ast\n",
    "import mzbatch\n",
    "from sklearn.metrics.pairwise import cosine_similarity\n",
    "import importlib as imp\n",
    "imp.reload(mzbatch)\n",
    "\n",
    "import warnings\n",
    "warnings.filterwarnings('ignore')"
   ]
  },
  {
   "cell_type": "markdown",
   "id": "28441016-e95c-4682-b8f6-8e32bbd5ea24",
   "metadata": {},
   "source": [
    "### 设置路径"
   ]
  },
  {
   "cell_type": "code",
   "execution_count": 222,
   "id": "9fe5554f-ca78-4dcb-b339-959b02e8b1da",
   "metadata": {
    "tags": []
   },
   "outputs": [],
   "source": [
    "root_path = '../../Fulaoshi/230821_mzML'\n",
    "# batch_list = ['873_Amide', '873_C18']\n",
    "batch_list = ['700_Amide','700_C18','873_Amide','873_C18','3545_Amide','3545_C18','BC_Amide','BC_C18']\n",
    "out_root_path = '../../Fulaoshi/230821_mzML_res/rerun240410'"
   ]
  },
  {
   "cell_type": "code",
   "execution_count": 398,
   "id": "fe9b99f0-f0e6-4b3f-bd42-32eef60057d4",
   "metadata": {
    "tags": []
   },
   "outputs": [],
   "source": [
    "concat_info_all_df = pd.read_pickle(f'{out_root_path}/concat_MS2_info_all_df.pkl')\n",
    "\n",
    "concat_info_all_df = concat_info_all_df[(concat_info_all_df['is_max_ms1']==1)|(concat_info_all_df['is_max_mol']==1)|(concat_info_all_df['is_max_base']==1)]\n",
    "# Discard rows where filename is false, these are cases where there are no files at that particular energy\n",
    "concat_info_all_df = concat_info_all_df[(concat_info_all_df['filename'].astype(str)!='False') & (concat_info_all_df['EV'].astype(str)!='204060')]"
   ]
  },
  {
   "cell_type": "code",
   "execution_count": 397,
   "id": "767e7890-d9d1-4549-8434-57ce56b95d68",
   "metadata": {
    "tags": []
   },
   "outputs": [
    {
     "name": "stdout",
     "output_type": "stream",
     "text": [
      "(220436, 19)\n"
     ]
    },
    {
     "data": {
      "text/html": [
       "<div>\n",
       "<style scoped>\n",
       "    .dataframe tbody tr th:only-of-type {\n",
       "        vertical-align: middle;\n",
       "    }\n",
       "\n",
       "    .dataframe tbody tr th {\n",
       "        vertical-align: top;\n",
       "    }\n",
       "\n",
       "    .dataframe thead th {\n",
       "        text-align: right;\n",
       "    }\n",
       "</style>\n",
       "<table border=\"1\" class=\"dataframe\">\n",
       "  <thead>\n",
       "    <tr style=\"text-align: right;\">\n",
       "      <th></th>\n",
       "      <th>batch</th>\n",
       "      <th>sampleid</th>\n",
       "      <th>CAS No.</th>\n",
       "      <th>EV</th>\n",
       "      <th>pos_neg</th>\n",
       "      <th>mz</th>\n",
       "      <th>Product Name</th>\n",
       "      <th>filename</th>\n",
       "      <th>refer_valid</th>\n",
       "      <th>ref_rt</th>\n",
       "      <th>ref_intensity</th>\n",
       "      <th>is_max_ms1</th>\n",
       "      <th>ms1_intensity</th>\n",
       "      <th>is_max_mol</th>\n",
       "      <th>mol_intensity</th>\n",
       "      <th>is_max_base</th>\n",
       "      <th>base_intensity</th>\n",
       "      <th>ms1_base_rate</th>\n",
       "      <th>ms1_mol_rate</th>\n",
       "    </tr>\n",
       "  </thead>\n",
       "  <tbody>\n",
       "    <tr>\n",
       "      <th>5</th>\n",
       "      <td>700_Amide</td>\n",
       "      <td>S98</td>\n",
       "      <td>576-42-1</td>\n",
       "      <td>1</td>\n",
       "      <td>neg</td>\n",
       "      <td>209.03029</td>\n",
       "      <td>D-Glucaric acid (potassium)</td>\n",
       "      <td>576-42-1_NCE1_neg_MS2_12266_818.46.csv</td>\n",
       "      <td>1</td>\n",
       "      <td>826.2</td>\n",
       "      <td>494000.0</td>\n",
       "      <td>1</td>\n",
       "      <td>1813332.750</td>\n",
       "      <td>0</td>\n",
       "      <td>1321181.9</td>\n",
       "      <td>0</td>\n",
       "      <td>1321181.90</td>\n",
       "      <td>1.372508</td>\n",
       "      <td>1.372508e+00</td>\n",
       "    </tr>\n",
       "    <tr>\n",
       "      <th>6</th>\n",
       "      <td>700_Amide</td>\n",
       "      <td>S98</td>\n",
       "      <td>576-42-1</td>\n",
       "      <td>1</td>\n",
       "      <td>neg</td>\n",
       "      <td>209.03029</td>\n",
       "      <td>D-Glucaric acid (potassium)</td>\n",
       "      <td>576-42-1_NCE1_neg_MS2_12311_821.59.csv</td>\n",
       "      <td>1</td>\n",
       "      <td>826.2</td>\n",
       "      <td>494000.0</td>\n",
       "      <td>0</td>\n",
       "      <td>1797438.750</td>\n",
       "      <td>1</td>\n",
       "      <td>1345650.5</td>\n",
       "      <td>1</td>\n",
       "      <td>1345650.50</td>\n",
       "      <td>1.335740</td>\n",
       "      <td>1.335740e+00</td>\n",
       "    </tr>\n",
       "    <tr>\n",
       "      <th>18</th>\n",
       "      <td>700_Amide</td>\n",
       "      <td>S98</td>\n",
       "      <td>576-42-1</td>\n",
       "      <td>10</td>\n",
       "      <td>neg</td>\n",
       "      <td>209.03029</td>\n",
       "      <td>D-Glucaric acid (potassium)</td>\n",
       "      <td>576-42-1_NCE10_neg_MS2_12301_818.49.csv</td>\n",
       "      <td>1</td>\n",
       "      <td>826.2</td>\n",
       "      <td>494000.0</td>\n",
       "      <td>1</td>\n",
       "      <td>1725657.875</td>\n",
       "      <td>0</td>\n",
       "      <td>1019900.4</td>\n",
       "      <td>0</td>\n",
       "      <td>1019900.40</td>\n",
       "      <td>1.691987</td>\n",
       "      <td>1.691987e+00</td>\n",
       "    </tr>\n",
       "    <tr>\n",
       "      <th>20</th>\n",
       "      <td>700_Amide</td>\n",
       "      <td>S98</td>\n",
       "      <td>576-42-1</td>\n",
       "      <td>10</td>\n",
       "      <td>neg</td>\n",
       "      <td>209.03029</td>\n",
       "      <td>D-Glucaric acid (potassium)</td>\n",
       "      <td>576-42-1_NCE10_neg_MS2_12391_824.7.csv</td>\n",
       "      <td>1</td>\n",
       "      <td>826.2</td>\n",
       "      <td>494000.0</td>\n",
       "      <td>0</td>\n",
       "      <td>1546713.875</td>\n",
       "      <td>1</td>\n",
       "      <td>1024069.9</td>\n",
       "      <td>1</td>\n",
       "      <td>1024069.90</td>\n",
       "      <td>1.510360</td>\n",
       "      <td>1.510360e+00</td>\n",
       "    </tr>\n",
       "    <tr>\n",
       "      <th>30</th>\n",
       "      <td>700_Amide</td>\n",
       "      <td>S98</td>\n",
       "      <td>576-42-1</td>\n",
       "      <td>100</td>\n",
       "      <td>neg</td>\n",
       "      <td>209.03029</td>\n",
       "      <td>D-Glucaric acid (potassium)</td>\n",
       "      <td>576-42-1_NCE100_neg_MS2_12196_811.45.csv</td>\n",
       "      <td>1</td>\n",
       "      <td>826.2</td>\n",
       "      <td>494000.0</td>\n",
       "      <td>0</td>\n",
       "      <td>1379039.500</td>\n",
       "      <td>0</td>\n",
       "      <td>-1.0</td>\n",
       "      <td>1</td>\n",
       "      <td>85472.31</td>\n",
       "      <td>16.134342</td>\n",
       "      <td>-1.379040e+06</td>\n",
       "    </tr>\n",
       "  </tbody>\n",
       "</table>\n",
       "</div>"
      ],
      "text/plain": [
       "        batch sampleid   CAS No.   EV pos_neg         mz  \\\n",
       "5   700_Amide      S98  576-42-1    1     neg  209.03029   \n",
       "6   700_Amide      S98  576-42-1    1     neg  209.03029   \n",
       "18  700_Amide      S98  576-42-1   10     neg  209.03029   \n",
       "20  700_Amide      S98  576-42-1   10     neg  209.03029   \n",
       "30  700_Amide      S98  576-42-1  100     neg  209.03029   \n",
       "\n",
       "                   Product Name                                  filename  \\\n",
       "5   D-Glucaric acid (potassium)    576-42-1_NCE1_neg_MS2_12266_818.46.csv   \n",
       "6   D-Glucaric acid (potassium)    576-42-1_NCE1_neg_MS2_12311_821.59.csv   \n",
       "18  D-Glucaric acid (potassium)   576-42-1_NCE10_neg_MS2_12301_818.49.csv   \n",
       "20  D-Glucaric acid (potassium)    576-42-1_NCE10_neg_MS2_12391_824.7.csv   \n",
       "30  D-Glucaric acid (potassium)  576-42-1_NCE100_neg_MS2_12196_811.45.csv   \n",
       "\n",
       "   refer_valid  ref_rt ref_intensity is_max_ms1  ms1_intensity is_max_mol  \\\n",
       "5            1   826.2      494000.0          1    1813332.750          0   \n",
       "6            1   826.2      494000.0          0    1797438.750          1   \n",
       "18           1   826.2      494000.0          1    1725657.875          0   \n",
       "20           1   826.2      494000.0          0    1546713.875          1   \n",
       "30           1   826.2      494000.0          0    1379039.500          0   \n",
       "\n",
       "    mol_intensity is_max_base  base_intensity  ms1_base_rate  ms1_mol_rate  \n",
       "5       1321181.9           0      1321181.90       1.372508  1.372508e+00  \n",
       "6       1345650.5           1      1345650.50       1.335740  1.335740e+00  \n",
       "18      1019900.4           0      1019900.40       1.691987  1.691987e+00  \n",
       "20      1024069.9           1      1024069.90       1.510360  1.510360e+00  \n",
       "30           -1.0           1        85472.31      16.134342 -1.379040e+06  "
      ]
     },
     "execution_count": 397,
     "metadata": {},
     "output_type": "execute_result"
    }
   ],
   "source": [
    "print(concat_info_all_df.shape)\n",
    "concat_info_all_df.head()"
   ]
  },
  {
   "cell_type": "code",
   "execution_count": 385,
   "id": "d1875e40-48bf-4afb-815e-4b028628b9ba",
   "metadata": {
    "tags": []
   },
   "outputs": [
    {
     "name": "stdout",
     "output_type": "stream",
     "text": [
      "(204910, 23)\n"
     ]
    },
    {
     "data": {
      "text/html": [
       "<div>\n",
       "<style scoped>\n",
       "    .dataframe tbody tr th:only-of-type {\n",
       "        vertical-align: middle;\n",
       "    }\n",
       "\n",
       "    .dataframe tbody tr th {\n",
       "        vertical-align: top;\n",
       "    }\n",
       "\n",
       "    .dataframe thead th {\n",
       "        text-align: right;\n",
       "    }\n",
       "</style>\n",
       "<table border=\"1\" class=\"dataframe\">\n",
       "  <thead>\n",
       "    <tr style=\"text-align: right;\">\n",
       "      <th></th>\n",
       "      <th>batch</th>\n",
       "      <th>sampleid</th>\n",
       "      <th>CAS No.</th>\n",
       "      <th>EV</th>\n",
       "      <th>pos_neg</th>\n",
       "      <th>mz</th>\n",
       "      <th>Product Name</th>\n",
       "      <th>filename</th>\n",
       "      <th>refer_valid</th>\n",
       "      <th>ref_rt</th>\n",
       "      <th>...</th>\n",
       "      <th>is_max_mol</th>\n",
       "      <th>mol_intensity</th>\n",
       "      <th>is_max_base</th>\n",
       "      <th>base_intensity</th>\n",
       "      <th>ms1_base_rate</th>\n",
       "      <th>ms1_mol_rate</th>\n",
       "      <th>filepath</th>\n",
       "      <th>bscp</th>\n",
       "      <th>bscep</th>\n",
       "      <th>batch_sampleid</th>\n",
       "    </tr>\n",
       "  </thead>\n",
       "  <tbody>\n",
       "    <tr>\n",
       "      <th>5</th>\n",
       "      <td>700_Amide</td>\n",
       "      <td>S98</td>\n",
       "      <td>576-42-1</td>\n",
       "      <td>1</td>\n",
       "      <td>neg</td>\n",
       "      <td>209.03029</td>\n",
       "      <td>D-Glucaric acid (potassium)</td>\n",
       "      <td>576-42-1_NCE1_neg_MS2_12266_818.46.csv</td>\n",
       "      <td>1</td>\n",
       "      <td>826.2</td>\n",
       "      <td>...</td>\n",
       "      <td>0</td>\n",
       "      <td>1321181.9</td>\n",
       "      <td>0</td>\n",
       "      <td>1321181.90</td>\n",
       "      <td>1.372508</td>\n",
       "      <td>1.372508e+00</td>\n",
       "      <td>../../Fulaoshi/230821_mzML_res/rerun240410/700...</td>\n",
       "      <td>700_Amide+S98+576-42-1+neg</td>\n",
       "      <td>700_Amide+S98+576-42-1+1+neg</td>\n",
       "      <td>700_Amide/S98</td>\n",
       "    </tr>\n",
       "    <tr>\n",
       "      <th>6</th>\n",
       "      <td>700_Amide</td>\n",
       "      <td>S98</td>\n",
       "      <td>576-42-1</td>\n",
       "      <td>1</td>\n",
       "      <td>neg</td>\n",
       "      <td>209.03029</td>\n",
       "      <td>D-Glucaric acid (potassium)</td>\n",
       "      <td>576-42-1_NCE1_neg_MS2_12311_821.59.csv</td>\n",
       "      <td>1</td>\n",
       "      <td>826.2</td>\n",
       "      <td>...</td>\n",
       "      <td>1</td>\n",
       "      <td>1345650.5</td>\n",
       "      <td>1</td>\n",
       "      <td>1345650.50</td>\n",
       "      <td>1.335740</td>\n",
       "      <td>1.335740e+00</td>\n",
       "      <td>../../Fulaoshi/230821_mzML_res/rerun240410/700...</td>\n",
       "      <td>700_Amide+S98+576-42-1+neg</td>\n",
       "      <td>700_Amide+S98+576-42-1+1+neg</td>\n",
       "      <td>700_Amide/S98</td>\n",
       "    </tr>\n",
       "    <tr>\n",
       "      <th>18</th>\n",
       "      <td>700_Amide</td>\n",
       "      <td>S98</td>\n",
       "      <td>576-42-1</td>\n",
       "      <td>10</td>\n",
       "      <td>neg</td>\n",
       "      <td>209.03029</td>\n",
       "      <td>D-Glucaric acid (potassium)</td>\n",
       "      <td>576-42-1_NCE10_neg_MS2_12301_818.49.csv</td>\n",
       "      <td>1</td>\n",
       "      <td>826.2</td>\n",
       "      <td>...</td>\n",
       "      <td>0</td>\n",
       "      <td>1019900.4</td>\n",
       "      <td>0</td>\n",
       "      <td>1019900.40</td>\n",
       "      <td>1.691987</td>\n",
       "      <td>1.691987e+00</td>\n",
       "      <td>../../Fulaoshi/230821_mzML_res/rerun240410/700...</td>\n",
       "      <td>700_Amide+S98+576-42-1+neg</td>\n",
       "      <td>700_Amide+S98+576-42-1+10+neg</td>\n",
       "      <td>700_Amide/S98</td>\n",
       "    </tr>\n",
       "    <tr>\n",
       "      <th>20</th>\n",
       "      <td>700_Amide</td>\n",
       "      <td>S98</td>\n",
       "      <td>576-42-1</td>\n",
       "      <td>10</td>\n",
       "      <td>neg</td>\n",
       "      <td>209.03029</td>\n",
       "      <td>D-Glucaric acid (potassium)</td>\n",
       "      <td>576-42-1_NCE10_neg_MS2_12391_824.7.csv</td>\n",
       "      <td>1</td>\n",
       "      <td>826.2</td>\n",
       "      <td>...</td>\n",
       "      <td>1</td>\n",
       "      <td>1024069.9</td>\n",
       "      <td>1</td>\n",
       "      <td>1024069.90</td>\n",
       "      <td>1.510360</td>\n",
       "      <td>1.510360e+00</td>\n",
       "      <td>../../Fulaoshi/230821_mzML_res/rerun240410/700...</td>\n",
       "      <td>700_Amide+S98+576-42-1+neg</td>\n",
       "      <td>700_Amide+S98+576-42-1+10+neg</td>\n",
       "      <td>700_Amide/S98</td>\n",
       "    </tr>\n",
       "    <tr>\n",
       "      <th>30</th>\n",
       "      <td>700_Amide</td>\n",
       "      <td>S98</td>\n",
       "      <td>576-42-1</td>\n",
       "      <td>100</td>\n",
       "      <td>neg</td>\n",
       "      <td>209.03029</td>\n",
       "      <td>D-Glucaric acid (potassium)</td>\n",
       "      <td>576-42-1_NCE100_neg_MS2_12196_811.45.csv</td>\n",
       "      <td>1</td>\n",
       "      <td>826.2</td>\n",
       "      <td>...</td>\n",
       "      <td>0</td>\n",
       "      <td>-1.0</td>\n",
       "      <td>1</td>\n",
       "      <td>85472.31</td>\n",
       "      <td>16.134342</td>\n",
       "      <td>-1.379040e+06</td>\n",
       "      <td>../../Fulaoshi/230821_mzML_res/rerun240410/700...</td>\n",
       "      <td>700_Amide+S98+576-42-1+neg</td>\n",
       "      <td>700_Amide+S98+576-42-1+100+neg</td>\n",
       "      <td>700_Amide/S98</td>\n",
       "    </tr>\n",
       "  </tbody>\n",
       "</table>\n",
       "<p>5 rows × 23 columns</p>\n",
       "</div>"
      ],
      "text/plain": [
       "        batch sampleid   CAS No.   EV pos_neg         mz  \\\n",
       "5   700_Amide      S98  576-42-1    1     neg  209.03029   \n",
       "6   700_Amide      S98  576-42-1    1     neg  209.03029   \n",
       "18  700_Amide      S98  576-42-1   10     neg  209.03029   \n",
       "20  700_Amide      S98  576-42-1   10     neg  209.03029   \n",
       "30  700_Amide      S98  576-42-1  100     neg  209.03029   \n",
       "\n",
       "                   Product Name                                  filename  \\\n",
       "5   D-Glucaric acid (potassium)    576-42-1_NCE1_neg_MS2_12266_818.46.csv   \n",
       "6   D-Glucaric acid (potassium)    576-42-1_NCE1_neg_MS2_12311_821.59.csv   \n",
       "18  D-Glucaric acid (potassium)   576-42-1_NCE10_neg_MS2_12301_818.49.csv   \n",
       "20  D-Glucaric acid (potassium)    576-42-1_NCE10_neg_MS2_12391_824.7.csv   \n",
       "30  D-Glucaric acid (potassium)  576-42-1_NCE100_neg_MS2_12196_811.45.csv   \n",
       "\n",
       "   refer_valid  ref_rt  ... is_max_mol mol_intensity  is_max_base  \\\n",
       "5            1   826.2  ...          0     1321181.9            0   \n",
       "6            1   826.2  ...          1     1345650.5            1   \n",
       "18           1   826.2  ...          0     1019900.4            0   \n",
       "20           1   826.2  ...          1     1024069.9            1   \n",
       "30           1   826.2  ...          0          -1.0            1   \n",
       "\n",
       "   base_intensity  ms1_base_rate  ms1_mol_rate  \\\n",
       "5      1321181.90       1.372508  1.372508e+00   \n",
       "6      1345650.50       1.335740  1.335740e+00   \n",
       "18     1019900.40       1.691987  1.691987e+00   \n",
       "20     1024069.90       1.510360  1.510360e+00   \n",
       "30       85472.31      16.134342 -1.379040e+06   \n",
       "\n",
       "                                             filepath  \\\n",
       "5   ../../Fulaoshi/230821_mzML_res/rerun240410/700...   \n",
       "6   ../../Fulaoshi/230821_mzML_res/rerun240410/700...   \n",
       "18  ../../Fulaoshi/230821_mzML_res/rerun240410/700...   \n",
       "20  ../../Fulaoshi/230821_mzML_res/rerun240410/700...   \n",
       "30  ../../Fulaoshi/230821_mzML_res/rerun240410/700...   \n",
       "\n",
       "                          bscp                           bscep batch_sampleid  \n",
       "5   700_Amide+S98+576-42-1+neg    700_Amide+S98+576-42-1+1+neg  700_Amide/S98  \n",
       "6   700_Amide+S98+576-42-1+neg    700_Amide+S98+576-42-1+1+neg  700_Amide/S98  \n",
       "18  700_Amide+S98+576-42-1+neg   700_Amide+S98+576-42-1+10+neg  700_Amide/S98  \n",
       "20  700_Amide+S98+576-42-1+neg   700_Amide+S98+576-42-1+10+neg  700_Amide/S98  \n",
       "30  700_Amide+S98+576-42-1+neg  700_Amide+S98+576-42-1+100+neg  700_Amide/S98  \n",
       "\n",
       "[5 rows x 23 columns]"
      ]
     },
     "execution_count": 385,
     "metadata": {},
     "output_type": "execute_result"
    }
   ],
   "source": [
    "concat_info_all_df['filepath'] = f'{out_root_path}/'+concat_info_all_df['batch']+'/NCE_compound/'+concat_info_all_df['sampleid'].astype(str)+'/'+concat_info_all_df['CAS No.']+'_NCE'+concat_info_all_df['EV'].astype(str)+'_'+concat_info_all_df['pos_neg']+'/'+concat_info_all_df['filename']\n",
    "concat_info_all_df['bscp']=concat_info_all_df['batch']+'+'+concat_info_all_df['sampleid'].astype(str)+'+'+concat_info_all_df['CAS No.']+'+'+concat_info_all_df['pos_neg']\n",
    "concat_info_all_df['bscep']=concat_info_all_df['batch']+'+'+concat_info_all_df['sampleid'].astype(str)+'+'+concat_info_all_df['CAS No.']+'+'+concat_info_all_df['EV'].astype(str)+'+'+concat_info_all_df['pos_neg']\n",
    "concat_info_all_df['batch_sampleid']=concat_info_all_df['batch']+'/'+concat_info_all_df['sampleid'].astype(str)\n",
    "print(concat_info_all_df.shape)\n",
    "concat_info_all_df.head()"
   ]
  },
  {
   "cell_type": "code",
   "execution_count": 362,
   "id": "749103d2-80b6-4072-83e2-379a98228d7a",
   "metadata": {
    "tags": []
   },
   "outputs": [
    {
     "data": {
      "text/plain": [
       "13642"
      ]
     },
     "execution_count": 362,
     "metadata": {},
     "output_type": "execute_result"
    }
   ],
   "source": [
    "bscp_list = concat_info_all_df['bscp'].unique().tolist()\n",
    "len(bscp_list)"
   ]
  },
  {
   "cell_type": "code",
   "execution_count": 230,
   "id": "693ad479-5bf3-426c-b413-9a1332032156",
   "metadata": {
    "tags": []
   },
   "outputs": [
    {
     "data": {
      "text/plain": [
       "348"
      ]
     },
     "execution_count": 230,
     "metadata": {},
     "output_type": "execute_result"
    }
   ],
   "source": [
    "batch_sampleid_list = concat_info_all_df['batch_sampleid'].unique().tolist()\n",
    "len(batch_sampleid_list)"
   ]
  },
  {
   "cell_type": "markdown",
   "id": "6a604c23-44a3-4e7b-9deb-1822e9427ed0",
   "metadata": {
    "tags": []
   },
   "source": [
    "# Calculate fragments for the 13 energy values and output to file"
   ]
  },
  {
   "cell_type": "code",
   "execution_count": 386,
   "id": "ed8b27f7-d942-48f1-98cb-6f1f85a3785d",
   "metadata": {
    "tags": []
   },
   "outputs": [],
   "source": [
    "def get_mz_count(temp13_df):\n",
    "    ms2_df_list = []\n",
    "    for i in temp13_df.index:\n",
    "        temp13_df['filename']=temp13_df['filename'].astype(str)\n",
    "        filename, filepath = temp13_df.loc[i,['filename','filepath']]\n",
    "        if filename=='False':\n",
    "            continue\n",
    "        one_ms2_df = pd.read_csv(filepath,index_col=0)\n",
    "        ms2_df_list.append(one_ms2_df)\n",
    "    \n",
    "    if ms2_df_list!=[]:\n",
    "        con_ms2_df = pd.concat(ms2_df_list)\n",
    "        con_ms2_df = con_ms2_df.reset_index(drop=True)\n",
    "\n",
    "        mz13_count_dict = {}\n",
    "        for i in con_ms2_df.index:\n",
    "            mz = con_ms2_df.loc[i,['Mass']].tolist()[0]\n",
    "            low,high = mzbatch.get_mz_range(mz)\n",
    "            nums = con_ms2_df[(con_ms2_df['Mass']>=low) & (con_ms2_df['Mass']<=high)].shape[0]\n",
    "            mz13_count_dict[mz]=nums\n",
    "        return mz13_count_dict, len(ms2_df_list)\n",
    "    else:\n",
    "        return {}, 0"
   ]
  },
  {
   "cell_type": "code",
   "execution_count": null,
   "id": "524defcf-88f9-47b8-8a42-b4f536b7f83e",
   "metadata": {
    "tags": []
   },
   "outputs": [],
   "source": [
    "n=0\n",
    "for bscp in bscp_list[0:1]:\n",
    "    fragment13_df = pd.DataFrame(columns=['batch', 'sampleid', 'CAS No.', 'pos_neg', 'mz', 'Product Name'\n",
    "                                      , 'file_nums','ev_nums', 'mz13_count_dict', 'mz13_count1_list'])\n",
    "    batch, sampleid, cas, pos_neg = bscp.split('+')\n",
    "    temp13_df = concat_info_all_df[(concat_info_all_df['batch']==batch) & (concat_info_all_df['sampleid'].astype(str)==sampleid) \n",
    "                                & (concat_info_all_df['CAS No.']==cas) & (concat_info_all_df['pos_neg']==pos_neg)]\n",
    "    ev_nums = temp13_df['EV'].unique().shape[0] \n",
    "    mz, product_name = temp13_df.iloc[0,[5,6]]\n",
    "    mz13_count_dict, file_nums = get_mz_count(temp13_df)\n",
    "    if mz13_count_dict=={}:\n",
    "        continue\n",
    "    if ev_nums == 13:\n",
    "        mz13_count1_list = [key for key, value in mz13_count_dict.items() if value > 1]\n",
    "        mz_only1_count_dict,file_nums_only1 = get_mz_count(temp13_df[temp13_df[\"EV\"]==1])\n",
    "        mz13_only1_count1_list = list(mz_only1_count_dict.keys())\n",
    "        mz_only100_count_dict,file_nums_only100 = get_mz_count(temp13_df[temp13_df[\"EV\"]==100])\n",
    "        mz13_only100_count1_list = list(mz_only100_count_dict.keys())\n",
    "        mz13_count1_list = list(set(mz13_count1_list+mz13_only1_count1_list+mz13_only100_count1_list))\n",
    "    else:\n",
    "        mz13_count1_list = list(mz13_count_dict.keys())\n",
    "    mz13_count1_list = sorted(mz13_count1_list)\n",
    "    fragment13_df.loc[n] = [batch, sampleid, cas, pos_neg, mz, product_name, file_nums, ev_nums, mz13_count_dict, mz13_count1_list]\n",
    "    n+=1\n",
    "    \n",
    "    fragment_batch_path = f'{out_root_path}/{batch}/NCE_fragment13'\n",
    "    if not os.path.exists(fragment_batch_path):\n",
    "        os.makedirs(fragment_batch_path)\n",
    "    while True:\n",
    "        if os.path.exists(fragment_batch_path):\n",
    "            break\n",
    "    fragment13_df.to_csv(f'{fragment_batch_path}/{bscp}.csv', encoding='utf-8-sig')\n",
    "    \n",
    "    break"
   ]
  },
  {
   "cell_type": "code",
   "execution_count": 276,
   "id": "bf4e6056-fb6d-448c-9168-9852999aa6c0",
   "metadata": {
    "tags": []
   },
   "outputs": [],
   "source": [
    "mz_only1_count_dict,file_nums_only1 = get_mz_count(temp13_df[temp13_df[\"EV\"]==1])\n",
    "mz_only100_count_dict,file_nums_only100 = get_mz_count(temp13_df[temp13_df[\"EV\"]==100])\n",
    "mz13_only1_count1_list = list(mz_only1_count_dict.keys())\n",
    "mz13_only100_count1_list = list(mz_only100_count_dict.keys())"
   ]
  },
  {
   "cell_type": "markdown",
   "id": "e8ba8a63-290c-45ef-8983-33375a48445d",
   "metadata": {},
   "source": [
    "### Check what doesn't by referring to the file"
   ]
  },
  {
   "cell_type": "code",
   "execution_count": 345,
   "id": "a07b15ce-b6b0-4439-9189-a3c48750501d",
   "metadata": {
    "tags": []
   },
   "outputs": [
    {
     "data": {
      "text/html": [
       "<div>\n",
       "<style scoped>\n",
       "    .dataframe tbody tr th:only-of-type {\n",
       "        vertical-align: middle;\n",
       "    }\n",
       "\n",
       "    .dataframe tbody tr th {\n",
       "        vertical-align: top;\n",
       "    }\n",
       "\n",
       "    .dataframe thead th {\n",
       "        text-align: right;\n",
       "    }\n",
       "</style>\n",
       "<table border=\"1\" class=\"dataframe\">\n",
       "  <thead>\n",
       "    <tr style=\"text-align: right;\">\n",
       "      <th></th>\n",
       "      <th>batch</th>\n",
       "      <th>sepuzhu</th>\n",
       "      <th>sampleid</th>\n",
       "      <th>Product Name</th>\n",
       "      <th>CAS No.</th>\n",
       "      <th>Formula</th>\n",
       "      <th>M.Wt</th>\n",
       "      <th>pos_neg</th>\n",
       "      <th>refer_RT</th>\n",
       "      <th>m/z</th>\n",
       "      <th>RT time</th>\n",
       "      <th>NL</th>\n",
       "      <th>bscp</th>\n",
       "      <th>batch_sampleid</th>\n",
       "    </tr>\n",
       "  </thead>\n",
       "  <tbody>\n",
       "    <tr>\n",
       "      <th>0</th>\n",
       "      <td>873_Amide</td>\n",
       "      <td>Amide</td>\n",
       "      <td>26386</td>\n",
       "      <td>N6-Methyladenosine</td>\n",
       "      <td>1867-73-8</td>\n",
       "      <td>C11H15N5O4</td>\n",
       "      <td>281.27</td>\n",
       "      <td>pos</td>\n",
       "      <td>1</td>\n",
       "      <td>282.11960</td>\n",
       "      <td>196.2</td>\n",
       "      <td>117000000</td>\n",
       "      <td>873_Amide+26386+1867-73-8+pos</td>\n",
       "      <td>873_Amide/26386</td>\n",
       "    </tr>\n",
       "    <tr>\n",
       "      <th>1</th>\n",
       "      <td>873_Amide</td>\n",
       "      <td>Amide</td>\n",
       "      <td>26386</td>\n",
       "      <td>N6-Methyladenosine</td>\n",
       "      <td>1867-73-8</td>\n",
       "      <td>C11H15N5O4</td>\n",
       "      <td>281.27</td>\n",
       "      <td>neg</td>\n",
       "      <td>1</td>\n",
       "      <td>280.10512</td>\n",
       "      <td>206.4</td>\n",
       "      <td>8250000</td>\n",
       "      <td>873_Amide+26386+1867-73-8+neg</td>\n",
       "      <td>873_Amide/26386</td>\n",
       "    </tr>\n",
       "    <tr>\n",
       "      <th>2</th>\n",
       "      <td>873_Amide</td>\n",
       "      <td>Amide</td>\n",
       "      <td>26386</td>\n",
       "      <td>Corticosterone</td>\n",
       "      <td>50-22-6</td>\n",
       "      <td>C21H30O4</td>\n",
       "      <td>346.46</td>\n",
       "      <td>pos</td>\n",
       "      <td>1</td>\n",
       "      <td>347.22160</td>\n",
       "      <td>63.6</td>\n",
       "      <td>25400000</td>\n",
       "      <td>873_Amide+26386+50-22-6+pos</td>\n",
       "      <td>873_Amide/26386</td>\n",
       "    </tr>\n",
       "    <tr>\n",
       "      <th>3</th>\n",
       "      <td>873_Amide</td>\n",
       "      <td>Amide</td>\n",
       "      <td>26386</td>\n",
       "      <td>Corticosterone</td>\n",
       "      <td>50-22-6</td>\n",
       "      <td>C21H30O4</td>\n",
       "      <td>346.46</td>\n",
       "      <td>neg</td>\n",
       "      <td>1</td>\n",
       "      <td>345.20713</td>\n",
       "      <td>63.6</td>\n",
       "      <td>3360000</td>\n",
       "      <td>873_Amide+26386+50-22-6+neg</td>\n",
       "      <td>873_Amide/26386</td>\n",
       "    </tr>\n",
       "    <tr>\n",
       "      <th>4</th>\n",
       "      <td>873_Amide</td>\n",
       "      <td>Amide</td>\n",
       "      <td>26386</td>\n",
       "      <td>Hexylresorcinol</td>\n",
       "      <td>136-77-6</td>\n",
       "      <td>C12H18O2</td>\n",
       "      <td>194.27</td>\n",
       "      <td>neg</td>\n",
       "      <td>1</td>\n",
       "      <td>193.12340</td>\n",
       "      <td>57.0</td>\n",
       "      <td>27500000</td>\n",
       "      <td>873_Amide+26386+136-77-6+neg</td>\n",
       "      <td>873_Amide/26386</td>\n",
       "    </tr>\n",
       "  </tbody>\n",
       "</table>\n",
       "</div>"
      ],
      "text/plain": [
       "       batch sepuzhu sampleid        Product Name    CAS No.     Formula  \\\n",
       "0  873_Amide   Amide    26386  N6-Methyladenosine  1867-73-8  C11H15N5O4   \n",
       "1  873_Amide   Amide    26386  N6-Methyladenosine  1867-73-8  C11H15N5O4   \n",
       "2  873_Amide   Amide    26386      Corticosterone    50-22-6    C21H30O4   \n",
       "3  873_Amide   Amide    26386      Corticosterone    50-22-6    C21H30O4   \n",
       "4  873_Amide   Amide    26386     Hexylresorcinol   136-77-6    C12H18O2   \n",
       "\n",
       "     M.Wt pos_neg  refer_RT        m/z  RT time         NL  \\\n",
       "0  281.27     pos         1  282.11960    196.2  117000000   \n",
       "1  281.27     neg         1  280.10512    206.4    8250000   \n",
       "2  346.46     pos         1  347.22160     63.6   25400000   \n",
       "3  346.46     neg         1  345.20713     63.6    3360000   \n",
       "4  194.27     neg         1  193.12340     57.0   27500000   \n",
       "\n",
       "                            bscp   batch_sampleid  \n",
       "0  873_Amide+26386+1867-73-8+pos  873_Amide/26386  \n",
       "1  873_Amide+26386+1867-73-8+neg  873_Amide/26386  \n",
       "2    873_Amide+26386+50-22-6+pos  873_Amide/26386  \n",
       "3    873_Amide+26386+50-22-6+neg  873_Amide/26386  \n",
       "4   873_Amide+26386+136-77-6+neg  873_Amide/26386  "
      ]
     },
     "execution_count": 345,
     "metadata": {},
     "output_type": "execute_result"
    }
   ],
   "source": [
    "ref_all_df = pd.read_excel(\"../../Fulaoshi/230821_mzML/ref_all.xlsx\",sheet_name=\"concat\",index_col=0)\n",
    "ref_all_df['batch_sampleid'] = ref_all_df['batch']+'/'+ref_all_df['sampleid']\n",
    "ref_all_df['bscp']=ref_all_df['batch']+'+'+ref_all_df['sampleid'].astype(str)+'+'+ref_all_df['CAS No.']+'+'+ref_all_df['pos_neg']\n",
    "ref_all_df.head()"
   ]
  },
  {
   "cell_type": "code",
   "execution_count": 351,
   "id": "978c4e0f-16be-4cc6-b9dd-bbebfda5dbd9",
   "metadata": {
    "tags": []
   },
   "outputs": [
    {
     "data": {
      "text/plain": [
       "13668"
      ]
     },
     "execution_count": 351,
     "metadata": {},
     "output_type": "execute_result"
    }
   ],
   "source": [
    "bscp_list = ref_all_df[\"bscp\"].unique().tolist()\n",
    "len(bscp_list)"
   ]
  },
  {
   "cell_type": "code",
   "execution_count": 352,
   "id": "35bf5a8d-15b7-48ed-a78f-a411d296b196",
   "metadata": {
    "tags": []
   },
   "outputs": [],
   "source": [
    "con_bscp_list = concat_info_all_df['bscp'].unique().tolist()"
   ]
  },
  {
   "cell_type": "code",
   "execution_count": 353,
   "id": "d7c0b6af-b6b6-4a59-bdc1-22ebe2bbf5b0",
   "metadata": {
    "tags": []
   },
   "outputs": [
    {
     "name": "stdout",
     "output_type": "stream",
     "text": [
      "13668 13642 26\n"
     ]
    }
   ],
   "source": [
    "unique_to_bscp_list = [item for item in bscp_list if item not in con_bscp_list]\n",
    "print(len(bscp_list), len(con_bscp_list), len(unique_to_bscp_list))"
   ]
  },
  {
   "cell_type": "code",
   "execution_count": 354,
   "id": "0c693ed3-705b-416c-bba4-d751f2125f86",
   "metadata": {
    "tags": []
   },
   "outputs": [
    {
     "name": "stdout",
     "output_type": "stream",
     "text": [
      "13668 13642 0\n"
     ]
    }
   ],
   "source": [
    "unique_to_con_bscp_list = [item for item in con_bscp_list if item not in bscp_list]\n",
    "print(len(bscp_list), len(con_bscp_list), len(unique_to_con_bscp_list))"
   ]
  },
  {
   "cell_type": "code",
   "execution_count": 357,
   "id": "6531246e-c777-4564-8274-489fdb070e4f",
   "metadata": {
    "tags": []
   },
   "outputs": [
    {
     "data": {
      "text/plain": [
       "('873_Amide+26386+1477-68-5+neg', 60)"
      ]
     },
     "execution_count": 357,
     "metadata": {},
     "output_type": "execute_result"
    }
   ],
   "source": [
    "unique_to_bscp_list[0], bscp_list.index(unique_to_bscp_list[0])"
   ]
  },
  {
   "cell_type": "markdown",
   "id": "9f4023b3-9294-4278-9cf2-afb0c276ed1d",
   "metadata": {},
   "source": [
    "# Merge all data"
   ]
  },
  {
   "cell_type": "markdown",
   "id": "924cdd65-b9d0-499a-a746-c2773c698f65",
   "metadata": {},
   "source": [
    "### Merge data for 13 energies"
   ]
  },
  {
   "cell_type": "code",
   "execution_count": 376,
   "id": "6da851b4-d5a9-4e9b-9760-c5d7d851ae19",
   "metadata": {
    "tags": []
   },
   "outputs": [],
   "source": [
    "for batch in batch_list:\n",
    "    fragment13_root_path = f'{out_root_path}/{batch}/NCE_fragment13' \n",
    "    fragment13_df_list = []\n",
    "\n",
    "    fragment13_filename_list = os.listdir(fragment13_root_path)\n",
    "    for fragment13_filename in fragment13_filename_list:\n",
    "        one_fragment13_df = pd.read_csv(f'{fragment13_root_path}/{fragment13_filename}',index_col=0)\n",
    "        fragment13_df_list.append(one_fragment13_df)\n",
    "\n",
    "    fragment13_all_df = pd.concat(fragment13_df_list)\n",
    "    fragment13_all_df.to_csv(f'{out_root_path}/{batch}/fragment13_all_df.csv')\n"
   ]
  },
  {
   "cell_type": "markdown",
   "id": "db67c7cf-eda9-47c6-ad35-e6767da96aa0",
   "metadata": {},
   "source": [
    "### Merge batch data"
   ]
  },
  {
   "cell_type": "code",
   "execution_count": 378,
   "id": "853a5f9e-35b0-4eae-8f58-57d7fe6d7ff2",
   "metadata": {
    "tags": []
   },
   "outputs": [],
   "source": [
    "batch_fragment13_df_list = []\n",
    "batch_fragment1_df_list = []\n",
    "\n",
    "for batch in batch_list:\n",
    "    \n",
    "    batch_fragment13_df = pd.read_csv(f'{out_root_path}/{batch}/fragment13_all_df.csv', index_col=0)\n",
    "    batch_fragment13_df_list.append(batch_fragment13_df)\n",
    "    \n",
    "con_fragment13_df = pd.concat(batch_fragment13_df_list)\n",
    "con_fragment13_df.to_csv(f'{out_root_path}/con_fragment13_df.csv')\n",
    "\n"
   ]
  },
  {
   "cell_type": "markdown",
   "id": "95c839af-514e-4e7c-a425-900258597167",
   "metadata": {},
   "source": [
    "# Merge the two filtered mz_list"
   ]
  },
  {
   "cell_type": "code",
   "execution_count": 194,
   "id": "76fd9d8c-c164-4c94-bc40-309d80d88dbd",
   "metadata": {
    "tags": []
   },
   "outputs": [],
   "source": [
    "import pandas as pd\n",
    "import ast,os\n",
    "import mzbatch\n",
    "import numpy as np"
   ]
  },
  {
   "cell_type": "markdown",
   "id": "3bd262a1-e2eb-4840-8f33-1b9a42c950b5",
   "metadata": {},
   "source": [
    "# Set path"
   ]
  },
  {
   "cell_type": "code",
   "execution_count": 229,
   "id": "eda680e3-9673-4f48-86f9-8843a6eecb23",
   "metadata": {
    "tags": []
   },
   "outputs": [],
   "source": [
    "root_path = '../../Fulaoshi/230821_mzML'\n",
    "batch_list = ['700_Amide','700_C18','873_Amide','873_C18','3545_Amide','3545_C18','BC_Amide','BC_C18']\n",
    "out_root_path = '../../Fulaoshi/230821_mzML_res/rerun240410'"
   ]
  },
  {
   "cell_type": "code",
   "execution_count": 230,
   "id": "484380d8-a594-4281-a0af-d0fba2ca3a25",
   "metadata": {
    "tags": []
   },
   "outputs": [
    {
     "name": "stdout",
     "output_type": "stream",
     "text": [
      "(13668, 14)\n"
     ]
    },
    {
     "data": {
      "text/html": [
       "<div>\n",
       "<style scoped>\n",
       "    .dataframe tbody tr th:only-of-type {\n",
       "        vertical-align: middle;\n",
       "    }\n",
       "\n",
       "    .dataframe tbody tr th {\n",
       "        vertical-align: top;\n",
       "    }\n",
       "\n",
       "    .dataframe thead th {\n",
       "        text-align: right;\n",
       "    }\n",
       "</style>\n",
       "<table border=\"1\" class=\"dataframe\">\n",
       "  <thead>\n",
       "    <tr style=\"text-align: right;\">\n",
       "      <th></th>\n",
       "      <th>batch</th>\n",
       "      <th>sepuzhu</th>\n",
       "      <th>sampleid</th>\n",
       "      <th>Product Name</th>\n",
       "      <th>CAS No.</th>\n",
       "      <th>Formula</th>\n",
       "      <th>MW</th>\n",
       "      <th>pos_neg</th>\n",
       "      <th>is_valid</th>\n",
       "      <th>mz</th>\n",
       "      <th>ref_rt</th>\n",
       "      <th>NL</th>\n",
       "      <th>bscp</th>\n",
       "      <th>batch_sampleid</th>\n",
       "    </tr>\n",
       "  </thead>\n",
       "  <tbody>\n",
       "    <tr>\n",
       "      <th>13663</th>\n",
       "      <td>700_C18</td>\n",
       "      <td>C18</td>\n",
       "      <td>S104</td>\n",
       "      <td>L-Allothreonine</td>\n",
       "      <td>28954-12-3</td>\n",
       "      <td>C4H9NO3</td>\n",
       "      <td>119.12</td>\n",
       "      <td>neg</td>\n",
       "      <td>1</td>\n",
       "      <td>118.05096</td>\n",
       "      <td>46.8</td>\n",
       "      <td>9.35E5</td>\n",
       "      <td>700_C18+S104+28954-12-3+neg</td>\n",
       "      <td>[M-H]-</td>\n",
       "    </tr>\n",
       "    <tr>\n",
       "      <th>13664</th>\n",
       "      <td>700_C18</td>\n",
       "      <td>C18</td>\n",
       "      <td>S104</td>\n",
       "      <td>3-O-Ethyl-L-ascorbic acid</td>\n",
       "      <td>86404-04-8</td>\n",
       "      <td>C8H12O6</td>\n",
       "      <td>204.18</td>\n",
       "      <td>neg</td>\n",
       "      <td>1</td>\n",
       "      <td>203.05611</td>\n",
       "      <td>307.8</td>\n",
       "      <td>9.02E5</td>\n",
       "      <td>700_C18+S104+86404-04-8+neg</td>\n",
       "      <td>[M-H]-</td>\n",
       "    </tr>\n",
       "    <tr>\n",
       "      <th>13665</th>\n",
       "      <td>700_C18</td>\n",
       "      <td>C18</td>\n",
       "      <td>S104</td>\n",
       "      <td>n6-(Aminoiminomethyl)lysine</td>\n",
       "      <td>yhh0927-1</td>\n",
       "      <td>C7H16N4O2</td>\n",
       "      <td>188.23</td>\n",
       "      <td>pos</td>\n",
       "      <td>1</td>\n",
       "      <td>189.13460</td>\n",
       "      <td>45.6</td>\n",
       "      <td>9.94E6</td>\n",
       "      <td>700_C18+S104+yhh0927-1+pos</td>\n",
       "      <td>[M+H]+</td>\n",
       "    </tr>\n",
       "    <tr>\n",
       "      <th>13666</th>\n",
       "      <td>700_C18</td>\n",
       "      <td>C18</td>\n",
       "      <td>S104</td>\n",
       "      <td>Galactosamine hydrochloride</td>\n",
       "      <td>1886979-58-3</td>\n",
       "      <td>C6H14ClNO5</td>\n",
       "      <td>215.63</td>\n",
       "      <td>pos</td>\n",
       "      <td>1</td>\n",
       "      <td>180.08664</td>\n",
       "      <td>43.8</td>\n",
       "      <td>2.15E7</td>\n",
       "      <td>700_C18+S104+1886979-58-3+pos</td>\n",
       "      <td>[M+H]+</td>\n",
       "    </tr>\n",
       "    <tr>\n",
       "      <th>13667</th>\n",
       "      <td>700_C18</td>\n",
       "      <td>C18</td>\n",
       "      <td>S104</td>\n",
       "      <td>L-Cysteine hydrochloride monohydrate</td>\n",
       "      <td>7048-04-6</td>\n",
       "      <td>C3H10ClNO3S</td>\n",
       "      <td>175.64</td>\n",
       "      <td>neg</td>\n",
       "      <td>1</td>\n",
       "      <td>120.01247</td>\n",
       "      <td>45.0</td>\n",
       "      <td>6.20E6</td>\n",
       "      <td>700_C18+S104+7048-04-6+neg</td>\n",
       "      <td>[M-H]-</td>\n",
       "    </tr>\n",
       "  </tbody>\n",
       "</table>\n",
       "</div>"
      ],
      "text/plain": [
       "         batch sepuzhu sampleid                          Product Name  \\\n",
       "13663  700_C18     C18     S104                       L-Allothreonine   \n",
       "13664  700_C18     C18     S104             3-O-Ethyl-L-ascorbic acid   \n",
       "13665  700_C18     C18     S104           n6-(Aminoiminomethyl)lysine   \n",
       "13666  700_C18     C18     S104           Galactosamine hydrochloride   \n",
       "13667  700_C18     C18     S104  L-Cysteine hydrochloride monohydrate   \n",
       "\n",
       "            CAS No.      Formula      MW pos_neg  is_valid         mz  ref_rt  \\\n",
       "13663    28954-12-3      C4H9NO3  119.12     neg         1  118.05096    46.8   \n",
       "13664    86404-04-8      C8H12O6  204.18     neg         1  203.05611   307.8   \n",
       "13665     yhh0927-1    C7H16N4O2  188.23     pos         1  189.13460    45.6   \n",
       "13666  1886979-58-3   C6H14ClNO5  215.63     pos         1  180.08664    43.8   \n",
       "13667     7048-04-6  C3H10ClNO3S  175.64     neg         1  120.01247    45.0   \n",
       "\n",
       "           NL                           bscp batch_sampleid  \n",
       "13663  9.35E5    700_C18+S104+28954-12-3+neg         [M-H]-  \n",
       "13664  9.02E5    700_C18+S104+86404-04-8+neg         [M-H]-  \n",
       "13665  9.94E6     700_C18+S104+yhh0927-1+pos         [M+H]+  \n",
       "13666  2.15E7  700_C18+S104+1886979-58-3+pos         [M+H]+  \n",
       "13667  6.20E6     700_C18+S104+7048-04-6+neg         [M-H]-  "
      ]
     },
     "execution_count": 230,
     "metadata": {},
     "output_type": "execute_result"
    }
   ],
   "source": [
    "smi_ref_df = pd.read_excel(f'{root_path}/smi_ref_df.xlsx',index_col=0)\n",
    "smi_ref_df['bscp']=smi_ref_df['batch']+'+'+smi_ref_df['sampleid'].astype(str)+'+'+smi_ref_df['CAS No.']+'+'+smi_ref_df['pos_neg']\n",
    "bscp_list = smi_ref_df['bscp'].unique().tolist()\n",
    "print(smi_ref_df.shape)\n",
    "smi_ref_df.tail()"
   ]
  },
  {
   "cell_type": "code",
   "execution_count": 232,
   "id": "f1dc25ee-23de-48c1-8be3-5056d0c04d45",
   "metadata": {
    "tags": []
   },
   "outputs": [
    {
     "name": "stdout",
     "output_type": "stream",
     "text": [
      "(13642, 10)\n"
     ]
    },
    {
     "data": {
      "text/html": [
       "<div>\n",
       "<style scoped>\n",
       "    .dataframe tbody tr th:only-of-type {\n",
       "        vertical-align: middle;\n",
       "    }\n",
       "\n",
       "    .dataframe tbody tr th {\n",
       "        vertical-align: top;\n",
       "    }\n",
       "\n",
       "    .dataframe thead th {\n",
       "        text-align: right;\n",
       "    }\n",
       "</style>\n",
       "<table border=\"1\" class=\"dataframe\">\n",
       "  <thead>\n",
       "    <tr style=\"text-align: right;\">\n",
       "      <th></th>\n",
       "      <th>batch</th>\n",
       "      <th>sampleid</th>\n",
       "      <th>CAS No.</th>\n",
       "      <th>pos_neg</th>\n",
       "      <th>mz</th>\n",
       "      <th>Product Name</th>\n",
       "      <th>file_nums</th>\n",
       "      <th>ev_nums</th>\n",
       "      <th>mz13_count_dict</th>\n",
       "      <th>mz13_count1_list</th>\n",
       "    </tr>\n",
       "  </thead>\n",
       "  <tbody>\n",
       "    <tr>\n",
       "      <th>0</th>\n",
       "      <td>700_Amide</td>\n",
       "      <td>S98</td>\n",
       "      <td>576-42-1</td>\n",
       "      <td>neg</td>\n",
       "      <td>209.03029</td>\n",
       "      <td>D-Glucaric acid (potassium)</td>\n",
       "      <td>24</td>\n",
       "      <td>13</td>\n",
       "      <td>{60.346050603148434: 1, 65.56717364328462: 1, ...</td>\n",
       "      <td>[46.78787664009276, 47.98073029899072, 49.0779...</td>\n",
       "    </tr>\n",
       "  </tbody>\n",
       "</table>\n",
       "</div>"
      ],
      "text/plain": [
       "       batch sampleid   CAS No. pos_neg         mz  \\\n",
       "0  700_Amide      S98  576-42-1     neg  209.03029   \n",
       "\n",
       "                  Product Name  file_nums  ev_nums  \\\n",
       "0  D-Glucaric acid (potassium)         24       13   \n",
       "\n",
       "                                     mz13_count_dict  \\\n",
       "0  {60.346050603148434: 1, 65.56717364328462: 1, ...   \n",
       "\n",
       "                                    mz13_count1_list  \n",
       "0  [46.78787664009276, 47.98073029899072, 49.0779...  "
      ]
     },
     "execution_count": 232,
     "metadata": {},
     "output_type": "execute_result"
    }
   ],
   "source": [
    "con_fragment13_df = pd.read_csv(f'{out_root_path}/con_fragment13_df.csv',index_col=0)\n",
    "print(con_fragment13_df.shape)\n",
    "con_fragment13_df.head(1)"
   ]
  },
  {
   "cell_type": "code",
   "execution_count": 199,
   "id": "dc49af94-b555-467c-9a62-33102a52a63f",
   "metadata": {
    "tags": []
   },
   "outputs": [
    {
     "data": {
      "text/plain": [
       "0      [46.78787664009276, 47.98073029899072, 49.0779...\n",
       "0      [59.30694548757083, 61.008287913769664, 63.023...\n",
       "1      [51.95411781404511, 55.65065645608881, 56.7898...\n",
       "1      [65.03856104965429, 65.038658436575, 65.038741...\n",
       "2      [50.03290768526243, 50.46216240915907, 51.0230...\n",
       "                             ...                        \n",
       "437    [53.00342654836226, 55.01893332440959, 55.0189...\n",
       "438    [87.00824423248562, 87.00872435089443, 87.0087...\n",
       "439    [56.4433289598851, 59.013749678915474, 59.0137...\n",
       "440    [53.27499476037805, 55.02994927928626, 55.0301...\n",
       "441    [40.34946568389486, 41.00328926857089, 41.0033...\n",
       "Name: mz13_count1_list, Length: 13642, dtype: object"
      ]
     },
     "execution_count": 199,
     "metadata": {},
     "output_type": "execute_result"
    }
   ],
   "source": [
    "con_fragment13_df[\"mz13_count1_list\"]"
   ]
  },
  {
   "cell_type": "code",
   "execution_count": 200,
   "id": "bc00d67e-3f98-463e-b082-df1e9e610dce",
   "metadata": {
    "tags": []
   },
   "outputs": [
    {
     "data": {
      "text/html": [
       "<div>\n",
       "<style scoped>\n",
       "    .dataframe tbody tr th:only-of-type {\n",
       "        vertical-align: middle;\n",
       "    }\n",
       "\n",
       "    .dataframe tbody tr th {\n",
       "        vertical-align: top;\n",
       "    }\n",
       "\n",
       "    .dataframe thead th {\n",
       "        text-align: right;\n",
       "    }\n",
       "</style>\n",
       "<table border=\"1\" class=\"dataframe\">\n",
       "  <thead>\n",
       "    <tr style=\"text-align: right;\">\n",
       "      <th></th>\n",
       "      <th>batch</th>\n",
       "      <th>sampleid</th>\n",
       "      <th>CAS No.</th>\n",
       "      <th>pos_neg</th>\n",
       "      <th>mz</th>\n",
       "      <th>Product Name</th>\n",
       "      <th>file_nums</th>\n",
       "      <th>ev_nums</th>\n",
       "      <th>mz13_count_dict</th>\n",
       "      <th>mz13_count1_list</th>\n",
       "    </tr>\n",
       "  </thead>\n",
       "  <tbody>\n",
       "  </tbody>\n",
       "</table>\n",
       "</div>"
      ],
      "text/plain": [
       "Empty DataFrame\n",
       "Columns: [batch, sampleid, CAS No., pos_neg, mz, Product Name, file_nums, ev_nums, mz13_count_dict, mz13_count1_list]\n",
       "Index: []"
      ]
     },
     "execution_count": 200,
     "metadata": {},
     "output_type": "execute_result"
    }
   ],
   "source": [
    "con_fragment13_df[con_fragment13_df[\"mz13_count1_list\"]==\"[]\"]"
   ]
  },
  {
   "cell_type": "markdown",
   "id": "01316648-8311-498b-a4d7-f17a75daf129",
   "metadata": {},
   "source": [
    "- Check if temp_con_fragment13_df is empty, indicating no files were found"
   ]
  },
  {
   "cell_type": "code",
   "execution_count": 202,
   "id": "580d4276-4569-40ad-80e7-e5aab4ec8bd2",
   "metadata": {
    "tags": []
   },
   "outputs": [
    {
     "data": {
      "text/plain": [
       "('873_Amide+26386+1867-73-8+pos', 13668)"
      ]
     },
     "execution_count": 202,
     "metadata": {},
     "output_type": "execute_result"
    }
   ],
   "source": [
    "bscp_list[0], len(bscp_list)"
   ]
  },
  {
   "cell_type": "code",
   "execution_count": 1,
   "id": "eb126d40-b7ff-4e58-907a-8ed87f21ae8c",
   "metadata": {
    "tags": []
   },
   "outputs": [
    {
     "data": {
      "text/plain": [
       "[[999.99, 1000.01], [1999.98, 2000.02], [2999.97, 3000.03]]"
      ]
     },
     "execution_count": 1,
     "metadata": {},
     "output_type": "execute_result"
    }
   ],
   "source": [
    "temp_outpath"
   ]
  },
  {
   "cell_type": "code",
   "execution_count": 220,
   "id": "26159700-41c7-4b01-b553-79aa525065f3",
   "metadata": {
    "tags": []
   },
   "outputs": [
    {
     "name": "stdout",
     "output_type": "stream",
     "text": [
      "873_Amide+2_2+2450-53-5+pos\n"
     ]
    }
   ],
   "source": [
    "for bscp in bscp_list[844:845]:\n",
    "    print(bscp)\n",
    "    batch, sampleid, cas, pos_neg = bscp.split(\"+\")\n",
    "    temp_df = smi_ref_df[smi_ref_df['bscp']==bscp].copy()\n",
    "    \n",
    "    try:\n",
    "        cal_mz_df = pd.read_csv(f'output/smi_ref_df/{bscp}.csv',index_col=0)\n",
    "        fragment13_df = pd.read_csv(f\"{out_root_path}/{batch}/NCE_fragment13/{bscp}.csv\",index_col=0)\n",
    "    except FileNotFoundError:\n",
    "        print(\"FileNotFound:\",f\"{out_root_path}/{batch}/NCE_fragment13/{bscp}.csv\")\n",
    "        continue\n",
    "    cal_mzlist = eval(cal_mz_df.iloc[0,-1])\n",
    "    fragment13_mzlist = eval(fragment13_df.iloc[0,-1])\n",
    "    \n",
    "    status_list = []\n",
    "    for j in fragment13_mzlist:\n",
    "        low,up = mzbatch.get_mz_range(j)\n",
    "        temp_compare_df = pd.DataFrame({'cal_fragment':cal_mzlist})\n",
    "        if temp_compare_df[(temp_compare_df['cal_fragment']>=low) & (temp_compare_df['cal_fragment']<=up)].shape[0]>0:\n",
    "            status_list.append(True)\n",
    "        else:\n",
    "            status_list.append(False)  \n",
    "\n",
    "    temp_valid_df = pd.DataFrame({'fragment':fragment13_mzlist,'is_valid':status_list})\n",
    "    fragment_valid_list = temp_valid_df[temp_valid_df['is_valid']]['fragment'].to_list()\n",
    "    fragment_valid_list = sorted(fragment_valid_list)\n",
    "    \n",
    "    temp_df['filter_fragment'] = [fragment_valid_list]\n",
    "    temp_outpath = f\"{out_root_path}/{batch}/NCE_filter_fragment/\"\n",
    "    if not os.path.exists(temp_outpath):\n",
    "        os.makedirs(temp_outpath)\n",
    "    while True:\n",
    "        if os.path.exists(temp_outpath):\n",
    "            break\n",
    "    temp_df.to_csv(f\"{temp_outpath}/{bscp}.csv\")\n",
    "    break\n",
    "    "
   ]
  },
  {
   "cell_type": "markdown",
   "id": "8f3f9b5d-f26c-4140-99d0-e3b2d17868d3",
   "metadata": {},
   "source": [
    "# Merge files"
   ]
  },
  {
   "cell_type": "code",
   "execution_count": 226,
   "id": "8ac48a82-c036-436a-9d28-cb5d6c7c9948",
   "metadata": {
    "tags": []
   },
   "outputs": [],
   "source": [
    "batch_list = ['700_Amide','700_C18','873_Amide','873_C18','3545_Amide','3545_C18','BC_Amide','BC_C18']"
   ]
  },
  {
   "cell_type": "code",
   "execution_count": null,
   "id": "825369a3-4955-466c-b3ca-aa51fe622cc3",
   "metadata": {
    "tags": []
   },
   "outputs": [],
   "source": [
    "for batch in batch_list:\n",
    "    fragment13_root_path = f'{out_root_path}/{batch}/NCE_filter_fragment' \n",
    "    fragment13_df_list = []\n",
    "\n",
    "    fragment13_filename_list = os.listdir(fragment13_root_path)\n",
    "    for fragment13_filename in fragment13_filename_list:\n",
    "        one_fragment13_df = pd.read_csv(f'{fragment13_root_path}/{fragment13_filename}',index_col=0)\n",
    "        fragment13_df_list.append(one_fragment13_df)\n",
    "\n",
    "    fragment13_all_df = pd.concat(fragment13_df_list)\n",
    "    fragment13_all_df.to_csv(f'{out_root_path}/{batch}/filter_fragment_df.csv')"
   ]
  },
  {
   "cell_type": "code",
   "execution_count": 228,
   "id": "47674472-d037-4a46-926b-ee8717c07eb4",
   "metadata": {
    "tags": []
   },
   "outputs": [],
   "source": [
    "batch_filter_fragment_df_list = []\n",
    "\n",
    "for batch in batch_list:\n",
    "    \n",
    "    batch_filter_fragment_df = pd.read_csv(f'{out_root_path}/{batch}/filter_fragment_df.csv', index_col=0)\n",
    "    batch_filter_fragment_df_list.append(batch_filter_fragment_df)\n",
    "    \n",
    "con_filter_fragment_df = pd.concat(batch_filter_fragment_df_list)\n",
    "con_filter_fragment_df.to_csv(f'{out_root_path}/con_filter_fragment_df.csv')\n"
   ]
  }
 ],
 "metadata": {
  "kernelspec": {
   "display_name": "Python 3 (ipykernel)",
   "language": "python",
   "name": "python3"
  },
  "language_info": {
   "codemirror_mode": {
    "name": "ipython",
    "version": 3
   },
   "file_extension": ".py",
   "mimetype": "text/x-python",
   "name": "python",
   "nbconvert_exporter": "python",
   "pygments_lexer": "ipython3",
   "version": "3.8.13"
  }
 },
 "nbformat": 4,
 "nbformat_minor": 5
}
