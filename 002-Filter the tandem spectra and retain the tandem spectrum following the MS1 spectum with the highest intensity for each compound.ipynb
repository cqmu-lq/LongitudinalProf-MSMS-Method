{
 "cells": [
  {
   "cell_type": "code",
   "execution_count": 1178,
   "id": "14d2c9e6-b068-4250-b3b1-63f3b7e9457d",
   "metadata": {
    "tags": []
   },
   "outputs": [
    {
     "data": {
      "text/plain": [
       "<module 'mzbatch' from '/mnt/nas231/资料备份/LQ/JupyterPro/Fulaoshi/mzbatch.py'>"
      ]
     },
     "execution_count": 1178,
     "metadata": {},
     "output_type": "execute_result"
    }
   ],
   "source": [
    "import pandas as pd\n",
    "import numpy as np\n",
    "import matplotlib.pyplot as plt\n",
    "import shutil,subprocess\n",
    "import os\n",
    "import subprocess\n",
    "import re\n",
    "import mzbatch\n",
    "from pyopenms import MSExperiment,MzMLFile,PeakPickerHiRes\n",
    "import time\n",
    "import pyopenms\n",
    "from pyopenms import Plotting\n",
    "import importlib as imp\n",
    "imp.reload(mzbatch) "
   ]
  },
  {
   "cell_type": "markdown",
   "id": "f1b55ed7-68a9-4a35-986c-e3520e1cfb36",
   "metadata": {},
   "source": [
    "Statistics on all MS/MS spectra"
   ]
  },
  {
   "cell_type": "code",
   "execution_count": 1132,
   "id": "0b6af101-6e77-4ddb-afe1-19f8e9d553bd",
   "metadata": {
    "tags": []
   },
   "outputs": [
    {
     "data": {
      "text/plain": [
       "\"['1867-73-8_NCE1_pos', '1867-73-8_NCE1_neg', '1867-73-8_NCE10_pos', '1867-73-8_NCE10_neg', '1867-73-8_NCE100_pos', '1867-73-8_NCE100_neg', '1867-73-8_NCE15_pos', '1867-73-8_NCE15_neg', '1867-73-8_NCE20_pos', '1867-73-8_NCE20_neg', '1867-73-8_NCE25_pos', '1867-73-8_NCE25_neg', '1867-73-8_NCE30_pos', '1867-73-8_NCE30_neg', '1867-73-8_NCE35_pos', '1867-73-8_NCE35_neg', '1867-73-8_NCE40_pos', '1867-73-8_NCE40_neg', '1867-73-8_NCE50_pos', '1867-73-8_NCE50_neg', '1867-73-8_NCE60_pos', '1867-73-8_NCE60_neg', '1867-73-8_NCE70_pos', '1867-73-8_NCE70_neg', '1867-73-8_NCE80_pos', '1867-73-8_NCE80_neg', '1867-73-8_NCE204060_pos', '1867-73-8_NCE204060_neg']\""
      ]
     },
     "execution_count": 1132,
     "metadata": {},
     "output_type": "execute_result"
    }
   ],
   "source": [
    "def get_246filename_list(filepre_list):\n",
    "    filename_list = []\n",
    "    ev_list = ['1', '10', '100', '15', '20', '25', '30', '35', '40', '50', '60','70', '80', '204060']\n",
    "    for filepre in filepre_list:\n",
    "        for ev in ev_list:\n",
    "            for tail in ['pos','neg']:\n",
    "                filename_list.append(f'{filepre}_NCE{ev}_{tail}')\n",
    "    return filename_list\n",
    "filename_list = get_246filename_list(['1867-73-8'])\n",
    "str(filename_list)"
   ]
  },
  {
   "cell_type": "code",
   "execution_count": null,
   "id": "841e1fb7-c933-4bcf-a1af-fbdca879c988",
   "metadata": {
    "tags": []
   },
   "outputs": [
    {
     "name": "stdout",
     "output_type": "stream",
     "text": [
      "===700_Amide===\n",
      "(13670, 14)\n"
     ]
    }
   ],
   "source": [
    "new_columns = ['batch', 'sampleid', 'CAS No.', 'EV', 'pos_neg', 'mz', 'Product Name', 'filename'\n",
    "               , 'refer_valid', 'ref_rt', 'ref_intensity','is_max_ms1'\n",
    "               , 'ms1_intensity','is_max_mol', 'mol_intensity','is_max_base', 'base_intensity']\n",
    "\n",
    "pre_batch = \"\"\n",
    "for batch_sampleid in batch_sampleid_list[320:321]:\n",
    "    MS2_info_df=pd.DataFrame(columns=['batch','sampleid','CAS No.','EV','pos_neg','mz','Product Name','filename'\n",
    "                                      , 'refer_valid', 'ref_rt', 'ref_intensity'\n",
    "                                      , 'ms1_intensity', 'mol_intensity', 'base_intensity'])\n",
    "    n=0\n",
    "    \n",
    "    batch,sampleid = batch_sampleid.split('/')\n",
    "    \n",
    "    if pre_batch != batch:\n",
    "        print(f'==={batch}===')\n",
    "        pre_batch=batch\n",
    "    temp_ref_df = ref_all_df[ref_all_df['batch_sampleid'] == batch_sampleid]\n",
    "    cas_list = temp_ref_df['CAS No.'].tolist()\n",
    "    foldername_list = get_246filename_list(cas_list) #['1867-73-8_NCE1_pos']\n",
    "    \n",
    "    for foldername in foldername_list:\n",
    "        \n",
    "        foldername_split_gang_list = foldername.split('_')\n",
    "        cas, ev, pos_neg = foldername_split_gang_list[0],foldername_split_gang_list[1][3:],foldername_split_gang_list[2]\n",
    "        \n",
    "        mask = ((temp_ref_df['batch']==batch) & (temp_ref_df['sampleid']==sampleid) & (temp_ref_df['CAS No.']==cas) & (temp_ref_df['pos_neg']==pos_neg))\n",
    "        if temp_ref_df[mask].shape[0]==0:\n",
    "            continue\n",
    "        pro_name, refer_valid,theo_mz,ref_rt,ref_intensity = temp_ref_df[mask].reset_index(drop=True).loc[0,\n",
    "                                                                           ['Product Name'\n",
    "                                                                           ,'refer_RT', 'm/z'\n",
    "                                                                           ,'RT time', 'NL']]\n",
    "        if pd.isna(ref_rt):\n",
    "            continue\n",
    "        \n",
    "        folderpath = f'{out_root_path}/{batch}/NCE_compound/{sampleid}/{foldername}'\n",
    "        if not os.path.exists(folderpath):\n",
    "            print('folderpath does not exist',folderpath)\n",
    "            continue\n",
    "        \n",
    "        ms2_filename_list = mzbatch.get_ms2_file(folderpath)\n",
    "        if ms2_filename_list == -1:\n",
    "            ms2_filename = False\n",
    "            MS2_info_df.loc[n]=[batch, sampleid, cas, ev, pos_neg, theo_mz, pro_name,ms2_filename\n",
    "                                , refer_valid, ref_rt, ref_intensity\n",
    "                                , -1, -1, -1]\n",
    "            n+=1\n",
    "            continue\n",
    "        for ms2_filename in ms2_filename_list:            \n",
    "            ms2_filename_gang_list = ms2_filename.split('_')\n",
    "            ms2_rt = float(ms2_filename_gang_list[-1][:-4])\n",
    "            ms1_file = f'{folderpath}/{foldername}_MS1.csv'\n",
    "            ms1_spec = pd.read_csv(ms1_file,index_col=0)\n",
    "            ms2_filename_gang_list = ms2_filename.split('_')\n",
    "            ms2_rt = float(ms2_filename_gang_list[-1][:-4])\n",
    "            ms1_intensity = ms1_spec[ms1_spec['rt'].values <= ms2_rt].iloc[-1,1]\n",
    "            \n",
    "            ms2_file = f'{folderpath}/{ms2_filename}'\n",
    "            intensity_df = pd.read_csv(ms2_file,index_col=0)\n",
    "            \n",
    "            mz_uplimit = mzbatch.get_mz_uplimit(theo_mz)\n",
    "            intensity_df = intensity_df[intensity_df['Mass']<=mz_uplimit]\n",
    "\n",
    "            basepeak_mass,basepeak_intensity = mzbatch.get_basepeak(intensity_df,theo_mz)\n",
    "\n",
    "            molpeak_mass,molpeak_intensity = mzbatch.get_real_val(intensity_df,theo_mz)\n",
    "\n",
    "            MS2_info_df.loc[n]=[batch, sampleid, cas, ev, pos_neg, theo_mz, pro_name,ms2_filename\n",
    "                                ,refer_valid,ref_rt,ref_intensity\n",
    "                                ,ms1_intensity,molpeak_intensity,basepeak_intensity]\n",
    "            n+=1\n",
    "            # break\n",
    "    print(MS2_info_df.shape)\n",
    "    max_ms1_indexes = MS2_info_df.groupby(by=['CAS No.','EV','pos_neg'])['ms1_intensity'].idxmax()\n",
    "    MS2_info_df['is_max_ms1']=0\n",
    "    MS2_info_df.loc[max_ms1_indexes,'is_max_ms1']=1\n",
    "    MS2_info_df.loc[MS2_info_df[MS2_info_df[\"ms1_intensity\"]==-1].index.to_list(),\"is_max_ms1\"]=0\n",
    "    MS2_info_df.loc[MS2_info_df[MS2_info_df[\"ms1_intensity\"]==0].index.to_list(),\"is_max_ms1\"]=0\n",
    "\n",
    "    max_mol_indexes = MS2_info_df.grou\n"
   ]
  },
  {
   "cell_type": "code",
   "execution_count": 663,
   "id": "26aa2224-3c8e-4cc3-bd3e-fee67be9ae64",
   "metadata": {
    "tags": []
   },
   "outputs": [],
   "source": [
    "max_ms1_indexes = MS2_info_df.groupby(by=['CAS No.','EV','pos_neg'])['ms1_intensity'].idxmax()\n",
    "MS2_info_df['is_max_ms1']=0\n",
    "MS2_info_df.loc[max_ms1_indexes,'is_max_ms1']=1\n",
    "MS2_info_df.loc[MS2_info_df[MS2_info_df[\"ms1_intensity\"]==-1].index.to_list(),\"is_max_ms1\"]=0\n",
    "MS2_info_df.loc[MS2_info_df[MS2_info_df[\"ms1_intensity\"]==0].index.to_list(),\"is_max_ms1\"]=0"
   ]
  },
  {
   "cell_type": "markdown",
   "id": "ae9b5814-fa46-4559-b970-38a23883e06e",
   "metadata": {},
   "source": [
    "# Check if the file does not exist and the result is empty"
   ]
  },
  {
   "cell_type": "code",
   "execution_count": null,
   "id": "3db41161-817c-451d-ba0c-6e8b18338321",
   "metadata": {
    "tags": []
   },
   "outputs": [],
   "source": [
    "for batch_sampleid in batch_sampleid_list:\n",
    "    batch,sampleid = batch_sampleid.split('/')\n",
    "    \n",
    "    info_file = f'{out_root_path}/{batch}/NCE_MS2_info/MS2_info_df_{sampleid}.csv'\n",
    "    if not os.path.exists(info_file):\n",
    "        print(f'does not exist: {batch} == {batch_sampleid_list.index(batch_sampleid)} == info_df_{sampleid}.csv')\n",
    "        continue\n",
    "        \n",
    "    one_info_df = pd.read_csv(f'{info_file}',index_col=0)\n",
    "    if one_info_df.shape[0]==0:\n",
    "        print(f'empty: {batch} == info_df_{sampleid}.csv')\n"
   ]
  },
  {
   "cell_type": "markdown",
   "id": "b9c5631f-d43d-4def-b9c0-cccd19c934e9",
   "metadata": {
    "tags": []
   },
   "source": [
    "# The info results of each batch are merged and eventually merged into the root directory info_all"
   ]
  },
  {
   "cell_type": "code",
   "execution_count": 1417,
   "id": "0504dda4-c6c5-4acb-837f-2bb5e7fce30f",
   "metadata": {
    "tags": []
   },
   "outputs": [
    {
     "name": "stdout",
     "output_type": "stream",
     "text": [
      "batch-(700_Amide) shape: (126468, 19), sum: 126468  \n",
      "batch-(700_C18) shape: (138760, 19), sum: 265228  \n",
      "batch-(873_Amide) shape: (157431, 19), sum: 422659  \n",
      "batch-(873_C18) shape: (168145, 19), sum: 590804  \n",
      "batch-(3545_Amide) shape: (910668, 19), sum: 1501472  \n",
      "batch-(3545_C18) shape: (1097830, 19), sum: 2599302  \n",
      "batch-(BC_Amide) shape: (11663, 19), sum: 2610965  \n",
      "batch-(BC_C18) shape: (4928, 19), sum: 2615893  \n"
     ]
    }
   ],
   "source": [
    "nums_sum = 0\n",
    "for batch in batch_list:\n",
    "    MS2_info_path = f'{out_root_path}/{batch}/NCE_MS2_info'\n",
    "    outfile = f'{out_root_path}/{batch}/MS2_info_all_df.csv'\n",
    "    \n",
    "    info_df_list = os.listdir(MS2_info_path)\n",
    "\n",
    "    merged_data_df = pd.DataFrame()\n",
    "    for info_df_file in info_df_list:\n",
    "        info_df_file_path =  f'{MS2_info_path}/{info_df_file}'\n",
    "        one_info_df = pd.read_csv(info_df_file_path,index_col=0)\n",
    "        merged_data_df = pd.concat([merged_data_df, one_info_df], ignore_index=True)\n",
    "    nums_sum += merged_data_df.shape[0]\n",
    "    # merged_data_df.to_excel(outfile)\n",
    "    merged_data_df.to_csv(outfile, encoding='utf-8-sig')   \n",
    "    print(f'batch-({batch}) shape: {merged_data_df.shape}, sum: {nums_sum}  ')"
   ]
  },
  {
   "cell_type": "code",
   "execution_count": 1418,
   "id": "7a820880-1aa2-4241-a76d-d65b6576ca21",
   "metadata": {
    "tags": []
   },
   "outputs": [
    {
     "name": "stderr",
     "output_type": "stream",
     "text": [
      "/tmp/ipykernel_2411273/2882656136.py:4: DtypeWarning: Columns (2) have mixed types. Specify dtype option on import or set low_memory=False.\n",
      "  batch_info_all_df = pd.read_csv(f'{out_root_path}/{batch}/MS2_info_all_df.csv',index_col=0)\n",
      "/tmp/ipykernel_2411273/2882656136.py:4: DtypeWarning: Columns (2) have mixed types. Specify dtype option on import or set low_memory=False.\n",
      "  batch_info_all_df = pd.read_csv(f'{out_root_path}/{batch}/MS2_info_all_df.csv',index_col=0)\n",
      "/tmp/ipykernel_2411273/2882656136.py:4: DtypeWarning: Columns (11) have mixed types. Specify dtype option on import or set low_memory=False.\n",
      "  batch_info_all_df = pd.read_csv(f'{out_root_path}/{batch}/MS2_info_all_df.csv',index_col=0)\n",
      "/tmp/ipykernel_2411273/2882656136.py:4: DtypeWarning: Columns (11) have mixed types. Specify dtype option on import or set low_memory=False.\n",
      "  batch_info_all_df = pd.read_csv(f'{out_root_path}/{batch}/MS2_info_all_df.csv',index_col=0)\n"
     ]
    }
   ],
   "source": [
    "concat_info_all_df = pd.DataFrame(columns=merged_data_df.columns)\n",
    "for batch in batch_list:\n",
    "    # batch_info_all_df = pd.read_excel(f'{out_root_path}/{batch}/MS2_info_all_df.xlsx',index_col=0)\n",
    "    batch_info_all_df = pd.read_csv(f'{out_root_path}/{batch}/MS2_info_all_df.csv',index_col=0)\n",
    "    concat_info_all_df = pd.concat([concat_info_all_df,batch_info_all_df])\n",
    "    # break\n",
    "concat_info_all_df.to_csv(f'{out_root_path}/concat_MS2_info_all_df.csv',encoding='utf-8-sig')\n",
    "concat_info_all_df.to_pickle(f'{out_root_path}/concat_MS2_info_all_df.pkl')"
   ]
  },
  {
   "cell_type": "code",
   "execution_count": 1419,
   "id": "21266f7a-8f20-454f-82b7-8e3f440aa3f6",
   "metadata": {
    "tags": []
   },
   "outputs": [
    {
     "data": {
      "text/plain": [
       "(2615893, 19)"
      ]
     },
     "execution_count": 1419,
     "metadata": {},
     "output_type": "execute_result"
    }
   ],
   "source": [
    "concat_info_all_df.shape"
   ]
  },
  {
   "cell_type": "markdown",
   "id": "1bc7238d-8cfe-4e48-9204-b685321e0182",
   "metadata": {
    "tags": []
   },
   "source": [
    "# Filter 39 spectra for each compound"
   ]
  },
  {
   "cell_type": "code",
   "execution_count": null,
   "id": "936fa115-2b01-4b65-a788-4c39ce06883d",
   "metadata": {
    "tags": []
   },
   "outputs": [
    {
     "name": "stdout",
     "output_type": "stream",
     "text": [
      "原始大小： (2615893, 19)\n",
      "(2614930, 20)\n"
     ]
    },
    {
     "data": {
      "text/html": [
       "<div>\n",
       "<style scoped>\n",
       "    .dataframe tbody tr th:only-of-type {\n",
       "        vertical-align: middle;\n",
       "    }\n",
       "\n",
       "    .dataframe tbody tr th {\n",
       "        vertical-align: top;\n",
       "    }\n",
       "\n",
       "    .dataframe thead th {\n",
       "        text-align: right;\n",
       "    }\n",
       "</style>\n",
       "<table border=\"1\" class=\"dataframe\">\n",
       "  <thead>\n",
       "    <tr style=\"text-align: right;\">\n",
       "      <th></th>\n",
       "      <th>batch</th>\n",
       "      <th>sampleid</th>\n",
       "      <th>CAS No.</th>\n",
       "      <th>EV</th>\n",
       "      <th>pos_neg</th>\n",
       "      <th>mz</th>\n",
       "      <th>Product Name</th>\n",
       "      <th>filename</th>\n",
       "      <th>refer_valid</th>\n",
       "      <th>ref_rt</th>\n",
       "      <th>ref_intensity</th>\n",
       "      <th>is_max_ms1</th>\n",
       "      <th>ms1_intensity</th>\n",
       "      <th>is_max_mol</th>\n",
       "      <th>mol_intensity</th>\n",
       "      <th>is_max_base</th>\n",
       "      <th>base_intensity</th>\n",
       "      <th>ms1_base_rate</th>\n",
       "      <th>ms1_mol_rate</th>\n",
       "      <th>bscpe</th>\n",
       "    </tr>\n",
       "  </thead>\n",
       "  <tbody>\n",
       "    <tr>\n",
       "      <th>0</th>\n",
       "      <td>700_Amide</td>\n",
       "      <td>S98</td>\n",
       "      <td>576-42-1</td>\n",
       "      <td>1</td>\n",
       "      <td>neg</td>\n",
       "      <td>209.03029</td>\n",
       "      <td>D-Glucaric acid (potassium)</td>\n",
       "      <td>576-42-1_NCE1_neg_MS2_12037_802.39.csv</td>\n",
       "      <td>1</td>\n",
       "      <td>826.2</td>\n",
       "      <td>494000.0</td>\n",
       "      <td>0</td>\n",
       "      <td>6.903690e+05</td>\n",
       "      <td>0</td>\n",
       "      <td>488907.75</td>\n",
       "      <td>0</td>\n",
       "      <td>488907.75</td>\n",
       "      <td>1.412064</td>\n",
       "      <td>1.412064</td>\n",
       "      <td>700_Amide+S98+576-42-1+neg+1</td>\n",
       "    </tr>\n",
       "    <tr>\n",
       "      <th>1</th>\n",
       "      <td>700_Amide</td>\n",
       "      <td>S98</td>\n",
       "      <td>576-42-1</td>\n",
       "      <td>1</td>\n",
       "      <td>neg</td>\n",
       "      <td>209.03029</td>\n",
       "      <td>D-Glucaric acid (potassium)</td>\n",
       "      <td>576-42-1_NCE1_neg_MS2_12081_805.6.csv</td>\n",
       "      <td>1</td>\n",
       "      <td>826.2</td>\n",
       "      <td>494000.0</td>\n",
       "      <td>0</td>\n",
       "      <td>1.036211e+06</td>\n",
       "      <td>0</td>\n",
       "      <td>752876.25</td>\n",
       "      <td>0</td>\n",
       "      <td>752876.25</td>\n",
       "      <td>1.376337</td>\n",
       "      <td>1.376337</td>\n",
       "      <td>700_Amide+S98+576-42-1+neg+1</td>\n",
       "    </tr>\n",
       "  </tbody>\n",
       "</table>\n",
       "</div>"
      ],
      "text/plain": [
       "       batch sampleid   CAS No. EV pos_neg         mz  \\\n",
       "0  700_Amide      S98  576-42-1  1     neg  209.03029   \n",
       "1  700_Amide      S98  576-42-1  1     neg  209.03029   \n",
       "\n",
       "                  Product Name                                filename  \\\n",
       "0  D-Glucaric acid (potassium)  576-42-1_NCE1_neg_MS2_12037_802.39.csv   \n",
       "1  D-Glucaric acid (potassium)   576-42-1_NCE1_neg_MS2_12081_805.6.csv   \n",
       "\n",
       "  refer_valid  ref_rt ref_intensity is_max_ms1  ms1_intensity is_max_mol  \\\n",
       "0           1   826.2      494000.0          0   6.903690e+05          0   \n",
       "1           1   826.2      494000.0          0   1.036211e+06          0   \n",
       "\n",
       "   mol_intensity is_max_base  base_intensity  ms1_base_rate  ms1_mol_rate  \\\n",
       "0      488907.75           0       488907.75       1.412064      1.412064   \n",
       "1      752876.25           0       752876.25       1.376337      1.376337   \n",
       "\n",
       "                          bscpe  \n",
       "0  700_Amide+S98+576-42-1+neg+1  \n",
       "1  700_Amide+S98+576-42-1+neg+1  "
      ]
     },
     "execution_count": 1446,
     "metadata": {},
     "output_type": "execute_result"
    }
   ],
   "source": [
    "# Read all ms2\n",
    "# concat_info_all_df = pd.read_pickle(f'{out_root_path}/concat_MS2_info_all_df.pkl')\n",
    "concat_info_all_df = pd.read_pickle('../../Fulaoshi/230821_mzML_res/rerun240410/concat_MS2_info_all_df.pkl')\n",
    "print(\"Original size:\", concat_info_all_df.shape)\n",
    "concat_info_all_df = concat_info_all_df.reset_index(drop=True)\n",
    "\n",
    "# Remove False entries\n",
    "concat_info_all_df = concat_info_all_df[concat_info_all_df[\"filename\"] != \"False\"]\n",
    "\n",
    "# Add primary peak and precursor peak ratios\n",
    "concat_info_all_df['bscpe'] = (\n",
    "    concat_info_all_df['batch'] + '+' +\n",
    "    concat_info_all_df['sampleid'].astype(str) + '+' +\n",
    "    concat_info_all_df['CAS No.'] + '+' +\n",
    "    concat_info_all_df['pos_neg'] + '+' +\n",
    "    concat_info_all_df['EV'].astype(str)\n",
    ")\n",
    "\n",
    "# Add base peak and precursor peak ratios\n",
    "concat_info_all_df[\"ms1_base_rate\"] = concat_info_all_df[\"ms1_intensity\"] / concat_info_all_df[\"base_intensity\"]\n",
    "concat_info_all_df[\"ms1_mol_rate\"] = concat_info_all_df[\"ms1_intensity\"] / concat_info_all_df[\"mol_intensity\"]\n",
    "\n",
    "print(concat_info_all_df.shape)\n",
    "concat_info_all_df.head(2)\n"
   ]
  },
  {
   "cell_type": "code",
   "execution_count": null,
   "id": "da4fd85a-4e8f-4b7d-b7bd-a61dd70a2fd9",
   "metadata": {
    "tags": []
   },
   "outputs": [],
   "source": [
    "# Filter 39 images\n",
    "con39_info_df = concat_info_all_df[\n",
    "    (concat_info_all_df['is_max_ms1'] == 1) |\n",
    "    (concat_info_all_df['is_max_mol'] == 1) |\n",
    "    (concat_info_all_df['is_max_base'] == 1)\n",
    "].copy()\n"
   ]
  },
  {
   "cell_type": "code",
   "execution_count": 1596,
   "id": "37ea8fe8-bc06-472d-955d-fbb196863816",
   "metadata": {
    "tags": []
   },
   "outputs": [
    {
     "data": {
      "text/plain": [
       "['873_Amide+26386+1867-73-8+pos+1',\n",
       " '873_Amide+26386+1867-73-8+pos+10',\n",
       " '873_Amide+26386+1867-73-8+pos+100',\n",
       " '873_Amide+26386+1867-73-8+pos+15',\n",
       " '873_Amide+26386+1867-73-8+pos+20',\n",
       " '873_Amide+26386+1867-73-8+pos+25',\n",
       " '873_Amide+26386+1867-73-8+pos+30',\n",
       " '873_Amide+26386+1867-73-8+pos+35',\n",
       " '873_Amide+26386+1867-73-8+pos+40',\n",
       " '873_Amide+26386+1867-73-8+pos+50',\n",
       " '873_Amide+26386+1867-73-8+pos+60',\n",
       " '873_Amide+26386+1867-73-8+pos+70',\n",
       " '873_Amide+26386+1867-73-8+pos+80',\n",
       " '873_Amide+26386+1867-73-8+pos+204060']"
      ]
     },
     "execution_count": 1596,
     "metadata": {},
     "output_type": "execute_result"
    }
   ],
   "source": [
    "def get_bscep_filename_list(bscp):\n",
    "    ev_list = ['1', '10', '100', '15', '20', '25', '30', '35', '40', '50', '60','70', '80', '204060']\n",
    "    return [f\"{bscp}+{ev}\" for ev in ev_list]\n",
    "get_bscep_filename_list(bscp_list[0])"
   ]
  },
  {
   "cell_type": "code",
   "execution_count": 1597,
   "id": "7913f3f9-be5c-4d8d-a871-266fa07e2f11",
   "metadata": {
    "tags": []
   },
   "outputs": [
    {
     "data": {
      "text/plain": [
       "191352"
      ]
     },
     "execution_count": 1597,
     "metadata": {},
     "output_type": "execute_result"
    }
   ],
   "source": [
    "bscp_list = ref_all_df['bscp'].unique().tolist()\n",
    "bscpe_all_list = []\n",
    "[bscpe_all_list.extend(get_bscep_filename_list(bscp)) for bscp in bscp_list]\n",
    "# bscpe_all_list = sum(bscpe_all_list,[])\n",
    "len(bscpe_all_list)"
   ]
  },
  {
   "cell_type": "code",
   "execution_count": 1601,
   "id": "98080df5-a809-4981-a9b6-61a99e4eac41",
   "metadata": {
    "tags": []
   },
   "outputs": [
    {
     "name": "stdout",
     "output_type": "stream",
     "text": [
      "(320, 20)\n"
     ]
    },
    {
     "data": {
      "text/plain": [
       "303"
      ]
     },
     "execution_count": 1601,
     "metadata": {},
     "output_type": "execute_result"
    }
   ],
   "source": [
    "print(con39_info_df[(con39_info_df[\"ms1_base_rate\"]>=100) & (con39_info_df[\"ms1_mol_rate\"]>=500)].shape)\n",
    "bscpe_100_500_list = con39_info_df[(con39_info_df[\"ms1_base_rate\"]>=100) & (con39_info_df[\"ms1_mol_rate\"]>=500)][\"bscpe\"].unique().tolist()\n",
    "len(bscpe_100_500_list)"
   ]
  },
  {
   "cell_type": "code",
   "execution_count": 1602,
   "id": "6f49cd8c-b63e-4e73-9ac5-6d41e3607814",
   "metadata": {
    "tags": []
   },
   "outputs": [
    {
     "data": {
      "text/plain": [
       "303"
      ]
     },
     "execution_count": 1602,
     "metadata": {},
     "output_type": "execute_result"
    }
   ],
   "source": [
    "len(bscpe_100_500_list)"
   ]
  },
  {
   "cell_type": "code",
   "execution_count": 1604,
   "id": "dda34123-9a2a-4b32-a76d-e4479afe9dc0",
   "metadata": {
    "tags": []
   },
   "outputs": [
    {
     "data": {
      "text/plain": [
       "1"
      ]
     },
     "execution_count": 1604,
     "metadata": {},
     "output_type": "execute_result"
    }
   ],
   "source": [
    "# bscpe_100_500_list.index(\"700_Amide+S89+74-81-7+neg+80\")\n",
    "bscpe = \"700_Amide+S89+74-81-7+neg+80\"\n",
    "con39_nums = con39_info_df[con39_info_df[\"bscpe\"]==bscpe].shape[0]\n",
    "con39_nums\n",
    "con39_100_500_nums = con39_info_df[(con39_info_df[\"bscpe\"]==bscpe) & (con39_info_df[\"ms1_base_rate\"]>=100) & (con39_info_df[\"ms1_mol_rate\"]>=500)].shape[0]\n",
    "con39_100_500_nums"
   ]
  },
  {
   "cell_type": "code",
   "execution_count": null,
   "id": "b877fca0-590e-49ee-9064-f4bdc08964dc",
   "metadata": {
    "tags": []
   },
   "outputs": [
    {
     "name": "stderr",
     "output_type": "stream",
     "text": [
      "Exception ignored in: <function ZipFile.__del__ at 0x7f56557284c0>\n",
      "Traceback (most recent call last):\n",
      "  File \"/home/panlab/Softwares/miniconda3/envs/py38_lq/lib/python3.8/zipfile.py\", line 1821, in __del__\n",
      "    self.close()\n",
      "  File \"/home/panlab/Softwares/miniconda3/envs/py38_lq/lib/python3.8/zipfile.py\", line 1838, in close\n",
      "    self.fp.seek(self.start_dir)\n",
      "ValueError: seek of closed file\n"
     ]
    }
   ],
   "source": [
    "con39_info_df2 = con39_info_df[(con39_info_df['is_max_ms1']==1) \n",
    "                                   | (con39_info_df['is_max_mol']==1) \n",
    "                                   | (con39_info_df['is_max_base']==1)].copy()\n",
    "con39_info_df2.to_excel(f'{out_root_path}/con39_info_df_39_figures_filtered_100500.xlsx')\n"
   ]
  },
  {
   "cell_type": "code",
   "execution_count": 1617,
   "id": "9da2f186-990a-4b62-9f22-efdfc5853267",
   "metadata": {
    "tags": []
   },
   "outputs": [
    {
     "data": {
      "text/plain": [
       "191352"
      ]
     },
     "execution_count": 1617,
     "metadata": {},
     "output_type": "execute_result"
    }
   ],
   "source": [
    "con39_info_df2[con39_info_df2['bscpe']==bscpe]\n",
    "con39_bscpe_dict = dict(con39_info_df2['bscpe'].value_counts())\n",
    "bscpe_all_dict={}\n",
    "for bscpe in bscpe_all_list:\n",
    "    if bscpe in con39_bscpe_dict.keys():        \n",
    "        bscpe_all_dict[bscpe] = con39_bscpe_dict[bscpe]\n",
    "    else:\n",
    "        bscpe_all_dict[bscpe] = 0\n",
    "len(bscpe_all_dict)"
   ]
  },
  {
   "cell_type": "code",
   "execution_count": 1618,
   "id": "97c7e241-9a03-4ff9-8fee-8c4b81d8d697",
   "metadata": {
    "tags": []
   },
   "outputs": [
    {
     "data": {
      "text/html": [
       "<div>\n",
       "<style scoped>\n",
       "    .dataframe tbody tr th:only-of-type {\n",
       "        vertical-align: middle;\n",
       "    }\n",
       "\n",
       "    .dataframe tbody tr th {\n",
       "        vertical-align: top;\n",
       "    }\n",
       "\n",
       "    .dataframe thead th {\n",
       "        text-align: right;\n",
       "    }\n",
       "</style>\n",
       "<table border=\"1\" class=\"dataframe\">\n",
       "  <thead>\n",
       "    <tr style=\"text-align: right;\">\n",
       "      <th></th>\n",
       "      <th>key</th>\n",
       "      <th>value</th>\n",
       "    </tr>\n",
       "  </thead>\n",
       "  <tbody>\n",
       "    <tr>\n",
       "      <th>0</th>\n",
       "      <td>873_Amide+26386+1867-73-8+pos+1</td>\n",
       "      <td>1</td>\n",
       "    </tr>\n",
       "    <tr>\n",
       "      <th>1</th>\n",
       "      <td>873_Amide+26386+1867-73-8+pos+10</td>\n",
       "      <td>1</td>\n",
       "    </tr>\n",
       "    <tr>\n",
       "      <th>2</th>\n",
       "      <td>873_Amide+26386+1867-73-8+pos+100</td>\n",
       "      <td>2</td>\n",
       "    </tr>\n",
       "    <tr>\n",
       "      <th>3</th>\n",
       "      <td>873_Amide+26386+1867-73-8+pos+15</td>\n",
       "      <td>1</td>\n",
       "    </tr>\n",
       "    <tr>\n",
       "      <th>4</th>\n",
       "      <td>873_Amide+26386+1867-73-8+pos+20</td>\n",
       "      <td>1</td>\n",
       "    </tr>\n",
       "  </tbody>\n",
       "</table>\n",
       "</div>"
      ],
      "text/plain": [
       "                                 key  value\n",
       "0    873_Amide+26386+1867-73-8+pos+1      1\n",
       "1   873_Amide+26386+1867-73-8+pos+10      1\n",
       "2  873_Amide+26386+1867-73-8+pos+100      2\n",
       "3   873_Amide+26386+1867-73-8+pos+15      1\n",
       "4   873_Amide+26386+1867-73-8+pos+20      1"
      ]
     },
     "execution_count": 1618,
     "metadata": {},
     "output_type": "execute_result"
    }
   ],
   "source": [
    "bscpe_count_df = pd.DataFrame.from_dict(bscpe_all_dict, orient='index', columns=['value'])\n",
    "bscpe_count_df['key'] = bscpe_count_df.index\n",
    "bscpe_count_df = bscpe_count_df[['key', 'value']]\n",
    "bscpe_count_df=bscpe_count_df.reset_index(drop=True)\n",
    "bscpe_count_df.to_csv(f'{out_root_path}/bscpe_count_df.csv')\n",
    "bscpe_count_df.head()"
   ]
  },
  {
   "cell_type": "code",
   "execution_count": 1619,
   "id": "c0f5486a-2826-4737-a94a-59c7bf34d651",
   "metadata": {
    "tags": []
   },
   "outputs": [
    {
     "name": "stdout",
     "output_type": "stream",
     "text": [
      "566 ['873_Amide+26386+2078-54-8+pos+204060', '873_Amide+26386+150-13-0+neg+204060', '873_Amide+26386+56-47-3+neg+204060', '873_Amide+26386+1477-68-5+neg+1', '873_Amide+26386+1477-68-5+neg+10']\n"
     ]
    }
   ],
   "source": [
    "bscpe_all_zero_keys = [key for key, value in bscpe_all_dict.items() if value == 0]\n",
    "print(len(bscpe_all_zero_keys),bscpe_all_zero_keys[0:5])"
   ]
  },
  {
   "cell_type": "code",
   "execution_count": 1622,
   "id": "8d4ba42f-fac9-40b7-8e30-bb34ca621528",
   "metadata": {
    "tags": []
   },
   "outputs": [],
   "source": [
    "max_ms1_39_indexes = con39_info_df2.groupby(by=['bscpe'])['ms1_intensity'].idxmax()\n",
    "con39_info_df2['is_max_ms1_39']=0\n",
    "con39_info_df2.loc[max_ms1_39_indexes,'is_max_ms1_39']=1\n"
   ]
  },
  {
   "cell_type": "code",
   "execution_count": 1624,
   "id": "1f6d86f8-6a1f-48c7-ba52-abc6dc3b873b",
   "metadata": {
    "tags": []
   },
   "outputs": [],
   "source": [
    "con1_info_df = con39_info_df2[con39_info_df2[\"is_max_ms1_39\"]==1]"
   ]
  },
  {
   "cell_type": "code",
   "execution_count": 1626,
   "id": "156c4848-0a5a-45ca-a670-eaad3617012f",
   "metadata": {
    "tags": []
   },
   "outputs": [
    {
     "data": {
      "text/plain": [
       "(190786, 21)"
      ]
     },
     "execution_count": 1626,
     "metadata": {},
     "output_type": "execute_result"
    }
   ],
   "source": [
    "con1_info_df.shape"
   ]
  },
  {
   "cell_type": "code",
   "execution_count": 1628,
   "id": "33ed0c8c-d54a-47d8-91ba-d96f54caecfb",
   "metadata": {
    "tags": []
   },
   "outputs": [
    {
     "name": "stdout",
     "output_type": "stream",
     "text": [
      "566 ['873_C18+26395+6038-19-3+neg+15', '873_C18+26388+89-57-6+pos+80', '873_Amide+26386+1477-68-5+neg+20', '873_Amide+26391+26020-14-4+neg+20', '873_Amide+3+87-99-0+pos+50']\n",
      "0 []\n"
     ]
    }
   ],
   "source": [
    "intersection_set = set(bscpe_all_list).intersection(set(con1_info_df[\"bscpe\"].unique().tolist()))\n",
    "len(intersection_set)\n",
    "\n",
    "left_difference_list = list(set(bscpe_all_list) - set(con1_info_df[\"bscpe\"].unique().tolist()))\n",
    "print(len(left_difference_list),left_difference_list[0:5])\n",
    "\n",
    "right_difference_list = list(set(con1_info_df[\"bscpe\"].unique().tolist()) - set(bscpe_all_list))\n",
    "print(len(right_difference_list),right_difference_list[0:5])"
   ]
  },
  {
   "cell_type": "code",
   "execution_count": 1629,
   "id": "e1a2a497-0743-41c7-a0c5-21f5fe900905",
   "metadata": {
    "tags": []
   },
   "outputs": [
    {
     "name": "stdout",
     "output_type": "stream",
     "text": [
      "154\n"
     ]
    }
   ],
   "source": [
    "from collections import Counter\n",
    "ref_all_df['scp']=ref_all_df['sepuzhu'].astype(str)+'+'+ref_all_df['CAS No.']+'+'+ref_all_df['pos_neg']\n",
    "scp_list = ref_all_df['scp'].tolist()\n",
    "scp_dict = dict(Counter(scp_list))\n",
    "scp_repeat_list = [key for key, value in scp_dict.items() if value >= 2]\n",
    "print(len(scp_repeat_list))\n"
   ]
  },
  {
   "cell_type": "code",
   "execution_count": 1632,
   "id": "b58e81be-ab1f-4a82-bb20-456ca823b9cd",
   "metadata": {
    "tags": []
   },
   "outputs": [
    {
     "name": "stderr",
     "output_type": "stream",
     "text": [
      "/tmp/ipykernel_2411273/556206305.py:2: SettingWithCopyWarning: \n",
      "A value is trying to be set on a copy of a slice from a DataFrame.\n",
      "Try using .loc[row_indexer,col_indexer] = value instead\n",
      "\n",
      "See the caveats in the documentation: https://pandas.pydata.org/pandas-docs/stable/user_guide/indexing.html#returning-a-view-versus-a-copy\n",
      "  con1_info_df[\"filepath\"] = con1_info_df['batch']+\"/NCE_compound/\"+con1_info_df['sampleid'].astype(str)+\"/\"+con1_info_df['CAS No.']+\"_NCE\"+con1_info_df['EV'].astype(str)+\"_\"+con1_info_df['pos_neg']+\"/\"+con1_info_df['filename']\n",
      "/tmp/ipykernel_2411273/556206305.py:3: SettingWithCopyWarning: \n",
      "A value is trying to be set on a copy of a slice from a DataFrame.\n",
      "Try using .loc[row_indexer,col_indexer] = value instead\n",
      "\n",
      "See the caveats in the documentation: https://pandas.pydata.org/pandas-docs/stable/user_guide/indexing.html#returning-a-view-versus-a-copy\n",
      "  con1_info_df[\"filter_filepath\"] = con1_info_df['batch']+\"/NCE_compound_filter/\"+con1_info_df['sampleid'].astype(str)+\"/\"+con1_info_df['CAS No.']+\"_NCE\"+con1_info_df['EV'].astype(str)+\"_\"+con1_info_df['pos_neg']+\"/\"+con1_info_df['filename']\n"
     ]
    }
   ],
   "source": [
    "con1_info_df[\"filepath\"] = con1_info_df['batch']+\"/NCE_compound/\"+con1_info_df['sampleid'].astype(str)+\"/\"+con1_info_df['CAS No.']+\"_NCE\"+con1_info_df['EV'].astype(str)+\"_\"+con1_info_df['pos_neg']+\"/\"+con1_info_df['filename']\n",
    "con1_info_df[\"filter_filepath\"] = con1_info_df['batch']+\"/NCE_compound_filter/\"+con1_info_df['sampleid'].astype(str)+\"/\"+con1_info_df['CAS No.']+\"_NCE\"+con1_info_df['EV'].astype(str)+\"_\"+con1_info_df['pos_neg']+\"/\"+con1_info_df['filename']\n",
    "con1_info_df.to_excel(f'{out_root_path}/con1_info_df.xlsx')"
   ]
  },
  {
   "cell_type": "code",
   "execution_count": 1634,
   "id": "690dccfb-008f-4c06-9490-294afcdc8f9d",
   "metadata": {
    "tags": []
   },
   "outputs": [
    {
     "data": {
      "text/plain": [
       "(190786, 23)"
      ]
     },
     "execution_count": 1634,
     "metadata": {},
     "output_type": "execute_result"
    }
   ],
   "source": [
    "con1_info_df.shape"
   ]
  },
  {
   "cell_type": "code",
   "execution_count": null,
   "id": "0e661c3e-9e27-4361-aeb6-64206244929d",
   "metadata": {
    "tags": []
   },
   "outputs": [],
   "source": [
    "con39_info_df = concat_info_all_df[\n",
    "    (concat_info_all_df['is_max_ms1'] == 1) |\n",
    "    (concat_info_all_df['is_max_mol'] == 1) |\n",
    "    (concat_info_all_df['is_max_base'] == 1)\n",
    "]\n",
    "\n",
    "# Remove entries with filename \"False\"\n",
    "con39_info_df = con39_info_df[con39_info_df[\"filename\"] != \"False\"]\n",
    "\n",
    "# Generate file path\n",
    "con39_info_df[\"filepath\"] = (\n",
    "    con39_info_df['batch'] + \"/NCE_compound/\" +\n",
    "    con39_info_df['sampleid'].astype(str) + \"/\" +\n",
    "    con39_info_df['CAS No.'] + \"_NCE\" + con39_info_df['EV'].astype(str) +\n",
    "    \"_\" + con39_info_df['pos_neg'] + \"/\" + con39_info_df['filename']\n",
    ")\n",
    "\n",
    "# con39_info_df.to_excel(f'{out_root_path}/con39_info_df_39_images_filtered_100x_500x_removed.xlsx')\n"
   ]
  },
  {
   "cell_type": "markdown",
   "id": "30a9cf4d-6ce3-4f8f-8e6d-044a9a9324e2",
   "metadata": {},
   "source": [
    "# Build the subsequent similarity calculation reference library smi_ref_df.xlsx and add 39 file names to it"
   ]
  },
  {
   "cell_type": "code",
   "execution_count": 693,
   "id": "d569e658-11dc-4949-b9a3-8d2a1e17e7ce",
   "metadata": {
    "tags": []
   },
   "outputs": [
    {
     "data": {
      "text/html": [
       "<div>\n",
       "<style scoped>\n",
       "    .dataframe tbody tr th:only-of-type {\n",
       "        vertical-align: middle;\n",
       "    }\n",
       "\n",
       "    .dataframe tbody tr th {\n",
       "        vertical-align: top;\n",
       "    }\n",
       "\n",
       "    .dataframe thead th {\n",
       "        text-align: right;\n",
       "    }\n",
       "</style>\n",
       "<table border=\"1\" class=\"dataframe\">\n",
       "  <thead>\n",
       "    <tr style=\"text-align: right;\">\n",
       "      <th></th>\n",
       "      <th>batch</th>\n",
       "      <th>sepuzhu</th>\n",
       "      <th>sampleid</th>\n",
       "      <th>Product Name</th>\n",
       "      <th>CAS No.</th>\n",
       "      <th>Formula</th>\n",
       "      <th>M.Wt</th>\n",
       "      <th>pos_neg</th>\n",
       "      <th>refer_RT</th>\n",
       "      <th>m/z</th>\n",
       "      <th>RT time</th>\n",
       "      <th>NL</th>\n",
       "      <th>bscp</th>\n",
       "      <th>Adduct</th>\n",
       "      <th>batch_sampleid</th>\n",
       "    </tr>\n",
       "  </thead>\n",
       "  <tbody>\n",
       "    <tr>\n",
       "      <th>0</th>\n",
       "      <td>873_Amide</td>\n",
       "      <td>Amide</td>\n",
       "      <td>26386</td>\n",
       "      <td>N6-Methyladenosine</td>\n",
       "      <td>1867-73-8</td>\n",
       "      <td>C11H15N5O4</td>\n",
       "      <td>281.27</td>\n",
       "      <td>pos</td>\n",
       "      <td>1</td>\n",
       "      <td>282.11960</td>\n",
       "      <td>196.2</td>\n",
       "      <td>117000000</td>\n",
       "      <td>873_Amide+26386+1867-73-8+pos</td>\n",
       "      <td>[M+H]+</td>\n",
       "      <td>873_Amide/26386</td>\n",
       "    </tr>\n",
       "    <tr>\n",
       "      <th>1</th>\n",
       "      <td>873_Amide</td>\n",
       "      <td>Amide</td>\n",
       "      <td>26386</td>\n",
       "      <td>N6-Methyladenosine</td>\n",
       "      <td>1867-73-8</td>\n",
       "      <td>C11H15N5O4</td>\n",
       "      <td>281.27</td>\n",
       "      <td>neg</td>\n",
       "      <td>1</td>\n",
       "      <td>280.10512</td>\n",
       "      <td>206.4</td>\n",
       "      <td>8250000</td>\n",
       "      <td>873_Amide+26386+1867-73-8+neg</td>\n",
       "      <td>[M-H]-</td>\n",
       "      <td>873_Amide/26386</td>\n",
       "    </tr>\n",
       "    <tr>\n",
       "      <th>2</th>\n",
       "      <td>873_Amide</td>\n",
       "      <td>Amide</td>\n",
       "      <td>26386</td>\n",
       "      <td>Corticosterone</td>\n",
       "      <td>50-22-6</td>\n",
       "      <td>C21H30O4</td>\n",
       "      <td>346.46</td>\n",
       "      <td>pos</td>\n",
       "      <td>1</td>\n",
       "      <td>347.22160</td>\n",
       "      <td>63.6</td>\n",
       "      <td>25400000</td>\n",
       "      <td>873_Amide+26386+50-22-6+pos</td>\n",
       "      <td>[M+H]+</td>\n",
       "      <td>873_Amide/26386</td>\n",
       "    </tr>\n",
       "    <tr>\n",
       "      <th>3</th>\n",
       "      <td>873_Amide</td>\n",
       "      <td>Amide</td>\n",
       "      <td>26386</td>\n",
       "      <td>Corticosterone</td>\n",
       "      <td>50-22-6</td>\n",
       "      <td>C21H30O4</td>\n",
       "      <td>346.46</td>\n",
       "      <td>neg</td>\n",
       "      <td>1</td>\n",
       "      <td>345.20713</td>\n",
       "      <td>63.6</td>\n",
       "      <td>3360000</td>\n",
       "      <td>873_Amide+26386+50-22-6+neg</td>\n",
       "      <td>[M-H]-</td>\n",
       "      <td>873_Amide/26386</td>\n",
       "    </tr>\n",
       "    <tr>\n",
       "      <th>4</th>\n",
       "      <td>873_Amide</td>\n",
       "      <td>Amide</td>\n",
       "      <td>26386</td>\n",
       "      <td>Hexylresorcinol</td>\n",
       "      <td>136-77-6</td>\n",
       "      <td>C12H18O2</td>\n",
       "      <td>194.27</td>\n",
       "      <td>neg</td>\n",
       "      <td>1</td>\n",
       "      <td>193.12340</td>\n",
       "      <td>57.0</td>\n",
       "      <td>27500000</td>\n",
       "      <td>873_Amide+26386+136-77-6+neg</td>\n",
       "      <td>[M-H]-</td>\n",
       "      <td>873_Amide/26386</td>\n",
       "    </tr>\n",
       "  </tbody>\n",
       "</table>\n",
       "</div>"
      ],
      "text/plain": [
       "       batch sepuzhu sampleid        Product Name    CAS No.     Formula  \\\n",
       "0  873_Amide   Amide    26386  N6-Methyladenosine  1867-73-8  C11H15N5O4   \n",
       "1  873_Amide   Amide    26386  N6-Methyladenosine  1867-73-8  C11H15N5O4   \n",
       "2  873_Amide   Amide    26386      Corticosterone    50-22-6    C21H30O4   \n",
       "3  873_Amide   Amide    26386      Corticosterone    50-22-6    C21H30O4   \n",
       "4  873_Amide   Amide    26386     Hexylresorcinol   136-77-6    C12H18O2   \n",
       "\n",
       "     M.Wt pos_neg  refer_RT        m/z  RT time         NL  \\\n",
       "0  281.27     pos         1  282.11960    196.2  117000000   \n",
       "1  281.27     neg         1  280.10512    206.4    8250000   \n",
       "2  346.46     pos         1  347.22160     63.6   25400000   \n",
       "3  346.46     neg         1  345.20713     63.6    3360000   \n",
       "4  194.27     neg         1  193.12340     57.0   27500000   \n",
       "\n",
       "                            bscp  Adduct   batch_sampleid  \n",
       "0  873_Amide+26386+1867-73-8+pos  [M+H]+  873_Amide/26386  \n",
       "1  873_Amide+26386+1867-73-8+neg  [M-H]-  873_Amide/26386  \n",
       "2    873_Amide+26386+50-22-6+pos  [M+H]+  873_Amide/26386  \n",
       "3    873_Amide+26386+50-22-6+neg  [M-H]-  873_Amide/26386  \n",
       "4   873_Amide+26386+136-77-6+neg  [M-H]-  873_Amide/26386  "
      ]
     },
     "execution_count": 693,
     "metadata": {},
     "output_type": "execute_result"
    }
   ],
   "source": [
    "ref_all_df = pd.read_excel(\"../../Fulaoshi/230821_mzML/ref_all.xlsx\",sheet_name=\"concat\",index_col=0)\n",
    "ref_all_df['batch_sampleid'] = ref_all_df['batch']+'/'+ref_all_df['sampleid']\n",
    "ref_all_df.head()"
   ]
  },
  {
   "cell_type": "code",
   "execution_count": 695,
   "id": "57b6ae11-557b-473d-9624-fc92f0442a4d",
   "metadata": {
    "tags": []
   },
   "outputs": [
    {
     "data": {
      "text/html": [
       "<div>\n",
       "<style scoped>\n",
       "    .dataframe tbody tr th:only-of-type {\n",
       "        vertical-align: middle;\n",
       "    }\n",
       "\n",
       "    .dataframe tbody tr th {\n",
       "        vertical-align: top;\n",
       "    }\n",
       "\n",
       "    .dataframe thead th {\n",
       "        text-align: right;\n",
       "    }\n",
       "</style>\n",
       "<table border=\"1\" class=\"dataframe\">\n",
       "  <thead>\n",
       "    <tr style=\"text-align: right;\">\n",
       "      <th></th>\n",
       "      <th>batch</th>\n",
       "      <th>sepuzhu</th>\n",
       "      <th>sampleid</th>\n",
       "      <th>Product Name</th>\n",
       "      <th>CAS No.</th>\n",
       "      <th>Formula</th>\n",
       "      <th>MW</th>\n",
       "      <th>pos_neg</th>\n",
       "      <th>is_valid</th>\n",
       "      <th>mz</th>\n",
       "      <th>ref_rt</th>\n",
       "      <th>NL</th>\n",
       "      <th>bscp</th>\n",
       "      <th>batch_sampleid</th>\n",
       "    </tr>\n",
       "  </thead>\n",
       "  <tbody>\n",
       "  </tbody>\n",
       "</table>\n",
       "</div>"
      ],
      "text/plain": [
       "Empty DataFrame\n",
       "Columns: [batch, sepuzhu, sampleid, Product Name, CAS No., Formula, MW, pos_neg, is_valid, mz, ref_rt, NL, bscp, batch_sampleid]\n",
       "Index: []"
      ]
     },
     "execution_count": 695,
     "metadata": {},
     "output_type": "execute_result"
    }
   ],
   "source": [
    "smi_ref_df = pd.DataFrame(columns=['batch', 'sepuzhu', 'sampleid', 'Product Name', 'CAS No.', 'Formula', 'MW'\n",
    "                      , 'pos_neg', 'is_valid', 'mz', 'ref_rt', 'NL', 'bscp','batch_sampleid'])\n",
    "smi_ref_df"
   ]
  },
  {
   "cell_type": "code",
   "execution_count": 699,
   "id": "c54a50c1-66cb-4251-8490-ffc403df050b",
   "metadata": {
    "tags": []
   },
   "outputs": [],
   "source": [
    "ref_all_df.columns = ['batch', 'sepuzhu', 'sampleid', 'Product Name', 'CAS No.', 'Formula', 'MW', 'pos_neg', 'is_valid', 'mz', 'ref_rt', 'NL', 'bscp','batch_sampleid',\"Adduct\"]\n",
    "smi_ref_df = ref_all_df.iloc[:,0:14]"
   ]
  },
  {
   "cell_type": "code",
   "execution_count": 701,
   "id": "4e208729-bc6e-46ff-86e0-c8199b2c042f",
   "metadata": {
    "tags": []
   },
   "outputs": [],
   "source": [
    "smi_ref_df.to_excel(f'{root_path}/smi_ref_df.xlsx')"
   ]
  },
  {
   "cell_type": "code",
   "execution_count": 141,
   "id": "01897088-1ece-4b70-9ee0-3a5bc51d0fb3",
   "metadata": {
    "tags": []
   },
   "outputs": [
    {
     "name": "stdout",
     "output_type": "stream",
     "text": [
      "(13671, 13)\n"
     ]
    },
    {
     "data": {
      "text/html": [
       "<div>\n",
       "<style scoped>\n",
       "    .dataframe tbody tr th:only-of-type {\n",
       "        vertical-align: middle;\n",
       "    }\n",
       "\n",
       "    .dataframe tbody tr th {\n",
       "        vertical-align: top;\n",
       "    }\n",
       "\n",
       "    .dataframe thead th {\n",
       "        text-align: right;\n",
       "    }\n",
       "</style>\n",
       "<table border=\"1\" class=\"dataframe\">\n",
       "  <thead>\n",
       "    <tr style=\"text-align: right;\">\n",
       "      <th></th>\n",
       "      <th>batch</th>\n",
       "      <th>sepuzhu</th>\n",
       "      <th>sampleid</th>\n",
       "      <th>Product Name</th>\n",
       "      <th>CAS No.</th>\n",
       "      <th>Formula</th>\n",
       "      <th>MW</th>\n",
       "      <th>pos_neg</th>\n",
       "      <th>is_valid</th>\n",
       "      <th>mz</th>\n",
       "      <th>ref_rt</th>\n",
       "      <th>NL</th>\n",
       "      <th>bscp</th>\n",
       "    </tr>\n",
       "  </thead>\n",
       "  <tbody>\n",
       "    <tr>\n",
       "      <th>0</th>\n",
       "      <td>873_Amide</td>\n",
       "      <td>Amide</td>\n",
       "      <td>26386</td>\n",
       "      <td>N6-Methyladenosine</td>\n",
       "      <td>1867-73-8</td>\n",
       "      <td>C11H15N5O4</td>\n",
       "      <td>281.27</td>\n",
       "      <td>pos</td>\n",
       "      <td>1</td>\n",
       "      <td>282.11960</td>\n",
       "      <td>196.2</td>\n",
       "      <td>117000000</td>\n",
       "      <td>873_Amide+26386+1867-73-8+pos</td>\n",
       "    </tr>\n",
       "    <tr>\n",
       "      <th>1</th>\n",
       "      <td>873_Amide</td>\n",
       "      <td>Amide</td>\n",
       "      <td>26386</td>\n",
       "      <td>N6-Methyladenosine</td>\n",
       "      <td>1867-73-8</td>\n",
       "      <td>C11H15N5O4</td>\n",
       "      <td>281.27</td>\n",
       "      <td>neg</td>\n",
       "      <td>1</td>\n",
       "      <td>280.10512</td>\n",
       "      <td>206.4</td>\n",
       "      <td>8250000</td>\n",
       "      <td>873_Amide+26386+1867-73-8+neg</td>\n",
       "    </tr>\n",
       "  </tbody>\n",
       "</table>\n",
       "</div>"
      ],
      "text/plain": [
       "       batch sepuzhu sampleid        Product Name    CAS No.     Formula  \\\n",
       "0  873_Amide   Amide    26386  N6-Methyladenosine  1867-73-8  C11H15N5O4   \n",
       "1  873_Amide   Amide    26386  N6-Methyladenosine  1867-73-8  C11H15N5O4   \n",
       "\n",
       "       MW pos_neg  is_valid         mz  ref_rt         NL  \\\n",
       "0  281.27     pos         1  282.11960   196.2  117000000   \n",
       "1  281.27     neg         1  280.10512   206.4    8250000   \n",
       "\n",
       "                            bscp  \n",
       "0  873_Amide+26386+1867-73-8+pos  \n",
       "1  873_Amide+26386+1867-73-8+neg  "
      ]
     },
     "execution_count": 141,
     "metadata": {},
     "output_type": "execute_result"
    }
   ],
   "source": [
    "smi_ref_df = pd.read_excel(f\"{root_path}/smi_ref_df.xlsx\",index_col=0)\n",
    "smi_ref_df['bscp']=smi_ref_df['batch']+'+'+smi_ref_df['sampleid'].astype(str)+'+'+smi_ref_df['CAS No.']+'+'+smi_ref_df['pos_neg']\n",
    "bscp_list = smi_ref_df['bscp'].unique().tolist()\n",
    "print(smi_ref_df.shape)\n",
    "smi_ref_df.head(2)"
   ]
  },
  {
   "cell_type": "code",
   "execution_count": 148,
   "id": "002859a5-1395-42ce-8232-130aa5c17d7c",
   "metadata": {
    "tags": []
   },
   "outputs": [],
   "source": [
    "filename_2list = []\n",
    "for bscp in bscp_list:\n",
    "    filename_list = con39_info_df[(con39_info_df[\"bscp\"] == bscp) & (con39_info_df[\"filename\"] != \"False\")][\"filename\"].to_list()\n",
    "    filename_2list.append(filename_list)\n",
    "smi_ref_df[\"filename_list\"] = filename_2list"
   ]
  },
  {
   "cell_type": "code",
   "execution_count": 149,
   "id": "ecdfdf14-fb39-411d-bd3d-a114884dda44",
   "metadata": {
    "tags": []
   },
   "outputs": [],
   "source": [
    "smi_ref_df.to_csv(f\"{root_path}/smi_ref_df_filenamelist.csv\")"
   ]
  },
  {
   "cell_type": "code",
   "execution_count": null,
   "id": "9700cc48-5943-489a-b84e-adf185a40886",
   "metadata": {},
   "outputs": [],
   "source": []
  }
 ],
 "metadata": {
  "kernelspec": {
   "display_name": "Python 3 (ipykernel)",
   "language": "python",
   "name": "python3"
  },
  "language_info": {
   "codemirror_mode": {
    "name": "ipython",
    "version": 3
   },
   "file_extension": ".py",
   "mimetype": "text/x-python",
   "name": "python",
   "nbconvert_exporter": "python",
   "pygments_lexer": "ipython3",
   "version": "3.8.13"
  }
 },
 "nbformat": 4,
 "nbformat_minor": 5
}
