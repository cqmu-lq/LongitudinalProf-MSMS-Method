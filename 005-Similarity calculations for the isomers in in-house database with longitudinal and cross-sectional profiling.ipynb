{
 "cells": [
  {
   "cell_type": "code",
   "execution_count": 1,
   "id": "c707a6a0-ae6e-4667-a2e9-fd20b0919b88",
   "metadata": {
    "tags": []
   },
   "outputs": [],
   "source": [
    "import pandas as pd\n",
    "import numpy as np\n",
    "import os\n",
    "import mzbatch\n",
    "from sklearn.metrics.pairwise import cosine_similarity\n",
    "import importlib as imp\n",
    "imp.reload(mzbatch)\n",
    "import subprocess\n",
    "import warnings\n",
    "warnings.filterwarnings(\"ignore\") "
   ]
  },
  {
   "cell_type": "code",
   "execution_count": 2,
   "id": "6f2da04c-b0d1-4d83-a254-c6094dd37d0c",
   "metadata": {
    "tags": []
   },
   "outputs": [],
   "source": [
    "root_path = '../../Fulaoshi/230821_mzML/'\n",
    "middle_list = ['700_Amide','700_C18','873_Amide','873_C18','3545_Amide','3545_C18','BC_Amide','BC_C18']\n",
    "out_root_path = '../../Fulaoshi/230821_mzML_res/rerun240410'"
   ]
  },
  {
   "cell_type": "code",
   "execution_count": null,
   "id": "78122fd8-aad8-4602-99ab-1a32f3c97145",
   "metadata": {
    "tags": []
   },
   "outputs": [
    {
     "data": {
      "text/html": [
       "<div>\n",
       "<style scoped>\n",
       "    .dataframe tbody tr th:only-of-type {\n",
       "        vertical-align: middle;\n",
       "    }\n",
       "\n",
       "    .dataframe tbody tr th {\n",
       "        vertical-align: top;\n",
       "    }\n",
       "\n",
       "    .dataframe thead th {\n",
       "        text-align: right;\n",
       "    }\n",
       "</style>\n",
       "<table border=\"1\" class=\"dataframe\">\n",
       "  <thead>\n",
       "    <tr style=\"text-align: right;\">\n",
       "      <th></th>\n",
       "      <th>batch</th>\n",
       "      <th>sepuzhu</th>\n",
       "      <th>sampleid</th>\n",
       "      <th>Product Name</th>\n",
       "      <th>CAS No.</th>\n",
       "      <th>Formula</th>\n",
       "      <th>M.Wt</th>\n",
       "      <th>pos_neg</th>\n",
       "      <th>refer_RT</th>\n",
       "      <th>m/z</th>\n",
       "      <th>RT time</th>\n",
       "      <th>NL</th>\n",
       "      <th>bscp</th>\n",
       "      <th>Adduct</th>\n",
       "      <th>batch_sampleid</th>\n",
       "      <th>ev_nums</th>\n",
       "      <th>ev_list</th>\n",
       "    </tr>\n",
       "  </thead>\n",
       "  <tbody>\n",
       "    <tr>\n",
       "      <th>1104</th>\n",
       "      <td>873_C18</td>\n",
       "      <td>C18</td>\n",
       "      <td>26386</td>\n",
       "      <td>N6-Methyladenosine</td>\n",
       "      <td>1867-73-8</td>\n",
       "      <td>C11H15N5O4</td>\n",
       "      <td>281.27</td>\n",
       "      <td>pos</td>\n",
       "      <td>1</td>\n",
       "      <td>282.11960</td>\n",
       "      <td>285.0</td>\n",
       "      <td>133000000</td>\n",
       "      <td>873_C18+26386+1867-73-8+pos</td>\n",
       "      <td>[M+H]+</td>\n",
       "      <td>873_C18/26386</td>\n",
       "      <td>13</td>\n",
       "      <td>[1, 10, 15, 20, 25, 30, 35, 40, 50, 60, 70, 80...</td>\n",
       "    </tr>\n",
       "    <tr>\n",
       "      <th>1106</th>\n",
       "      <td>873_C18</td>\n",
       "      <td>C18</td>\n",
       "      <td>26386</td>\n",
       "      <td>Corticosterone</td>\n",
       "      <td>50-22-6</td>\n",
       "      <td>C21H30O4</td>\n",
       "      <td>346.46</td>\n",
       "      <td>pos</td>\n",
       "      <td>1</td>\n",
       "      <td>347.22160</td>\n",
       "      <td>874.8</td>\n",
       "      <td>111000000</td>\n",
       "      <td>873_C18+26386+50-22-6+pos</td>\n",
       "      <td>[M+H]+</td>\n",
       "      <td>873_C18/26386</td>\n",
       "      <td>13</td>\n",
       "      <td>[1, 10, 15, 20, 25, 30, 35, 40, 50, 60, 70, 80...</td>\n",
       "    </tr>\n",
       "    <tr>\n",
       "      <th>1108</th>\n",
       "      <td>873_C18</td>\n",
       "      <td>C18</td>\n",
       "      <td>26386</td>\n",
       "      <td>Hexylresorcinol</td>\n",
       "      <td>136-77-6</td>\n",
       "      <td>C12H18O2</td>\n",
       "      <td>194.27</td>\n",
       "      <td>pos</td>\n",
       "      <td>1</td>\n",
       "      <td>195.13790</td>\n",
       "      <td>936.0</td>\n",
       "      <td>994000</td>\n",
       "      <td>873_C18+26386+136-77-6+pos</td>\n",
       "      <td>[M+H]+</td>\n",
       "      <td>873_C18/26386</td>\n",
       "      <td>13</td>\n",
       "      <td>[1, 10, 15, 20, 25, 30, 35, 40, 50, 60, 70, 80...</td>\n",
       "    </tr>\n",
       "    <tr>\n",
       "      <th>1110</th>\n",
       "      <td>873_C18</td>\n",
       "      <td>C18</td>\n",
       "      <td>26386</td>\n",
       "      <td>3,4-Dicaffeoylquinic acid</td>\n",
       "      <td>14534-61-3</td>\n",
       "      <td>C25H24O12</td>\n",
       "      <td>516.45</td>\n",
       "      <td>pos</td>\n",
       "      <td>1</td>\n",
       "      <td>517.13405</td>\n",
       "      <td>643.2</td>\n",
       "      <td>1010000</td>\n",
       "      <td>873_C18+26386+14534-61-3+pos</td>\n",
       "      <td>[M+H]+</td>\n",
       "      <td>873_C18/26386</td>\n",
       "      <td>13</td>\n",
       "      <td>[1, 10, 15, 20, 25, 30, 35, 40, 50, 60, 70, 80...</td>\n",
       "    </tr>\n",
       "    <tr>\n",
       "      <th>1112</th>\n",
       "      <td>873_C18</td>\n",
       "      <td>C18</td>\n",
       "      <td>26386</td>\n",
       "      <td>6-Benzylaminopurine</td>\n",
       "      <td>1214-39-7</td>\n",
       "      <td>C12H11N5</td>\n",
       "      <td>225.25</td>\n",
       "      <td>pos</td>\n",
       "      <td>1</td>\n",
       "      <td>226.10870</td>\n",
       "      <td>599.4</td>\n",
       "      <td>375000000</td>\n",
       "      <td>873_C18+26386+1214-39-7+pos</td>\n",
       "      <td>[M+H]+</td>\n",
       "      <td>873_C18/26386</td>\n",
       "      <td>13</td>\n",
       "      <td>[1, 10, 15, 20, 25, 30, 35, 40, 50, 60, 70, 80...</td>\n",
       "    </tr>\n",
       "  </tbody>\n",
       "</table>\n",
       "</div>"
      ],
      "text/plain": [
       "        batch sepuzhu sampleid               Product Name     CAS No.  \\\n",
       "1104  873_C18     C18    26386         N6-Methyladenosine   1867-73-8   \n",
       "1106  873_C18     C18    26386             Corticosterone     50-22-6   \n",
       "1108  873_C18     C18    26386            Hexylresorcinol    136-77-6   \n",
       "1110  873_C18     C18    26386  3,4-Dicaffeoylquinic acid  14534-61-3   \n",
       "1112  873_C18     C18    26386        6-Benzylaminopurine   1214-39-7   \n",
       "\n",
       "         Formula    M.Wt pos_neg  refer_RT        m/z  RT time         NL  \\\n",
       "1104  C11H15N5O4  281.27     pos         1  282.11960    285.0  133000000   \n",
       "1106    C21H30O4  346.46     pos         1  347.22160    874.8  111000000   \n",
       "1108    C12H18O2  194.27     pos         1  195.13790    936.0     994000   \n",
       "1110   C25H24O12  516.45     pos         1  517.13405    643.2    1010000   \n",
       "1112    C12H11N5  225.25     pos         1  226.10870    599.4  375000000   \n",
       "\n",
       "                              bscp  Adduct batch_sampleid  ev_nums  \\\n",
       "1104   873_C18+26386+1867-73-8+pos  [M+H]+  873_C18/26386       13   \n",
       "1106     873_C18+26386+50-22-6+pos  [M+H]+  873_C18/26386       13   \n",
       "1108    873_C18+26386+136-77-6+pos  [M+H]+  873_C18/26386       13   \n",
       "1110  873_C18+26386+14534-61-3+pos  [M+H]+  873_C18/26386       13   \n",
       "1112   873_C18+26386+1214-39-7+pos  [M+H]+  873_C18/26386       13   \n",
       "\n",
       "                                                ev_list  \n",
       "1104  [1, 10, 15, 20, 25, 30, 35, 40, 50, 60, 70, 80...  \n",
       "1106  [1, 10, 15, 20, 25, 30, 35, 40, 50, 60, 70, 80...  \n",
       "1108  [1, 10, 15, 20, 25, 30, 35, 40, 50, 60, 70, 80...  \n",
       "1110  [1, 10, 15, 20, 25, 30, 35, 40, 50, 60, 70, 80...  \n",
       "1112  [1, 10, 15, 20, 25, 30, 35, 40, 50, 60, 70, 80...  "
      ]
     },
     "execution_count": 3,
     "metadata": {},
     "output_type": "execute_result"
    }
   ],
   "source": [
    "\"\"\"Reference\"\"\"\n",
    "ref_all_df = pd.read_excel(\"../../Fulaoshi/230821_mzML/ref_all-revise20240626_处理只有13个能量.xlsx\",sheet_name=\"concat\",index_col=0)\n",
    "ref_all_df['batch_sampleid'] = ref_all_df['batch']+'/'+ref_all_df['sampleid'].astype(str)\n",
    "ref_all_df['bscp'] = ref_all_df['batch']+'+'+ref_all_df['sampleid'].astype(str)+'+'+ref_all_df['CAS No.']+'+'+ref_all_df['pos_neg']\n",
    "ref_all_df.head()\n"
   ]
  },
  {
   "cell_type": "code",
   "execution_count": 1812,
   "id": "c049e975-d1f6-489b-818f-90ec34818062",
   "metadata": {
    "tags": []
   },
   "outputs": [
    {
     "data": {
      "text/plain": [
       "(13354, 17)"
      ]
     },
     "execution_count": 1812,
     "metadata": {},
     "output_type": "execute_result"
    }
   ],
   "source": [
    "ref_all_df.shape"
   ]
  },
  {
   "cell_type": "code",
   "execution_count": 1666,
   "id": "fa628a5e-81ae-4fd3-94a6-96b4212e19ae",
   "metadata": {
    "tags": []
   },
   "outputs": [
    {
     "data": {
      "text/plain": [
       "13354"
      ]
     },
     "execution_count": 1666,
     "metadata": {},
     "output_type": "execute_result"
    }
   ],
   "source": [
    "bscp_list = ref_all_df['bscp'].unique().tolist()\n",
    "len(bscp_list)"
   ]
  },
  {
   "cell_type": "code",
   "execution_count": 1667,
   "id": "130d9a7f-985c-4edb-9ebb-a50da1d3276d",
   "metadata": {
    "tags": []
   },
   "outputs": [],
   "source": [
    "\"\"\" Add ev_nums and ev_list for ref_all \"\"\"\n",
    "ref_all_df[\"ev_nums\"]=0\n",
    "ref_all_df[\"ev_list\"]=\"\"\n",
    "for bscp in bscp_list:\n",
    "    temp_con1_df = con1_info_df[(con1_info_df[\"bscp\"]==bscp) & (con1_info_df[\"EV\"]!=204060)]\n",
    "    ev_list = temp_con1_df[\"EV\"].unique().tolist()\n",
    "    ev_list.sort()\n",
    "    ev_nums = len(ev_list)\n",
    "    ref_mask = (ref_all_df[\"bscp\"] == bscp)\n",
    "    ref_all_df.loc[ref_mask,[\"ev_nums\",\"ev_list\"]] = ev_nums,str(ev_list)\n",
    "    # break\n"
   ]
  },
  {
   "cell_type": "code",
   "execution_count": null,
   "id": "b076cd02-3c7b-478a-b851-366f6f822866",
   "metadata": {
    "tags": []
   },
   "outputs": [],
   "source": [
    "ref_all_df.to_csv(\"../../Fulaoshi/230821_mzML/ref_all_add_evlist_and_nums.csv\")"
   ]
  },
  {
   "cell_type": "code",
   "execution_count": null,
   "id": "aa329681-79a5-4225-8d1e-173fa79de363",
   "metadata": {
    "tags": []
   },
   "outputs": [],
   "source": [
    "ref_all_df = pd.read_csv(\"../../Fulaoshi/230821_mzML/ref_all_add_evlist_and_nums.csv\",index_col=0)"
   ]
  },
  {
   "cell_type": "code",
   "execution_count": 6,
   "id": "063cd94b-04ac-464b-9668-01074569ec7d",
   "metadata": {
    "tags": []
   },
   "outputs": [
    {
     "data": {
      "text/plain": [
       "(13354, 17)"
      ]
     },
     "execution_count": 6,
     "metadata": {},
     "output_type": "execute_result"
    }
   ],
   "source": [
    "ref_all_df.shape"
   ]
  },
  {
   "cell_type": "code",
   "execution_count": 7,
   "id": "6c825099-1b6b-4348-bb90-8e98d2c005f2",
   "metadata": {
    "tags": []
   },
   "outputs": [
    {
     "data": {
      "text/html": [
       "<div>\n",
       "<style scoped>\n",
       "    .dataframe tbody tr th:only-of-type {\n",
       "        vertical-align: middle;\n",
       "    }\n",
       "\n",
       "    .dataframe tbody tr th {\n",
       "        vertical-align: top;\n",
       "    }\n",
       "\n",
       "    .dataframe thead th {\n",
       "        text-align: right;\n",
       "    }\n",
       "</style>\n",
       "<table border=\"1\" class=\"dataframe\">\n",
       "  <thead>\n",
       "    <tr style=\"text-align: right;\">\n",
       "      <th></th>\n",
       "      <th>batch</th>\n",
       "      <th>sepuzhu</th>\n",
       "      <th>sampleid</th>\n",
       "      <th>Product Name</th>\n",
       "      <th>CAS No.</th>\n",
       "      <th>Formula</th>\n",
       "      <th>M.Wt</th>\n",
       "      <th>pos_neg</th>\n",
       "      <th>refer_RT</th>\n",
       "      <th>m/z</th>\n",
       "      <th>RT time</th>\n",
       "      <th>NL</th>\n",
       "      <th>bscp</th>\n",
       "      <th>Adduct</th>\n",
       "      <th>batch_sampleid</th>\n",
       "      <th>ev_nums</th>\n",
       "      <th>ev_list</th>\n",
       "    </tr>\n",
       "  </thead>\n",
       "  <tbody>\n",
       "    <tr>\n",
       "      <th>1104</th>\n",
       "      <td>873_C18</td>\n",
       "      <td>C18</td>\n",
       "      <td>26386</td>\n",
       "      <td>N6-Methyladenosine</td>\n",
       "      <td>1867-73-8</td>\n",
       "      <td>C11H15N5O4</td>\n",
       "      <td>281.27</td>\n",
       "      <td>pos</td>\n",
       "      <td>1</td>\n",
       "      <td>282.11960</td>\n",
       "      <td>285.0</td>\n",
       "      <td>133000000</td>\n",
       "      <td>873_C18+26386+1867-73-8+pos</td>\n",
       "      <td>[M+H]+</td>\n",
       "      <td>873_C18/26386</td>\n",
       "      <td>13</td>\n",
       "      <td>[1, 10, 15, 20, 25, 30, 35, 40, 50, 60, 70, 80...</td>\n",
       "    </tr>\n",
       "    <tr>\n",
       "      <th>1106</th>\n",
       "      <td>873_C18</td>\n",
       "      <td>C18</td>\n",
       "      <td>26386</td>\n",
       "      <td>Corticosterone</td>\n",
       "      <td>50-22-6</td>\n",
       "      <td>C21H30O4</td>\n",
       "      <td>346.46</td>\n",
       "      <td>pos</td>\n",
       "      <td>1</td>\n",
       "      <td>347.22160</td>\n",
       "      <td>874.8</td>\n",
       "      <td>111000000</td>\n",
       "      <td>873_C18+26386+50-22-6+pos</td>\n",
       "      <td>[M+H]+</td>\n",
       "      <td>873_C18/26386</td>\n",
       "      <td>13</td>\n",
       "      <td>[1, 10, 15, 20, 25, 30, 35, 40, 50, 60, 70, 80...</td>\n",
       "    </tr>\n",
       "    <tr>\n",
       "      <th>1108</th>\n",
       "      <td>873_C18</td>\n",
       "      <td>C18</td>\n",
       "      <td>26386</td>\n",
       "      <td>Hexylresorcinol</td>\n",
       "      <td>136-77-6</td>\n",
       "      <td>C12H18O2</td>\n",
       "      <td>194.27</td>\n",
       "      <td>pos</td>\n",
       "      <td>1</td>\n",
       "      <td>195.13790</td>\n",
       "      <td>936.0</td>\n",
       "      <td>994000</td>\n",
       "      <td>873_C18+26386+136-77-6+pos</td>\n",
       "      <td>[M+H]+</td>\n",
       "      <td>873_C18/26386</td>\n",
       "      <td>13</td>\n",
       "      <td>[1, 10, 15, 20, 25, 30, 35, 40, 50, 60, 70, 80...</td>\n",
       "    </tr>\n",
       "    <tr>\n",
       "      <th>1110</th>\n",
       "      <td>873_C18</td>\n",
       "      <td>C18</td>\n",
       "      <td>26386</td>\n",
       "      <td>3,4-Dicaffeoylquinic acid</td>\n",
       "      <td>14534-61-3</td>\n",
       "      <td>C25H24O12</td>\n",
       "      <td>516.45</td>\n",
       "      <td>pos</td>\n",
       "      <td>1</td>\n",
       "      <td>517.13405</td>\n",
       "      <td>643.2</td>\n",
       "      <td>1010000</td>\n",
       "      <td>873_C18+26386+14534-61-3+pos</td>\n",
       "      <td>[M+H]+</td>\n",
       "      <td>873_C18/26386</td>\n",
       "      <td>13</td>\n",
       "      <td>[1, 10, 15, 20, 25, 30, 35, 40, 50, 60, 70, 80...</td>\n",
       "    </tr>\n",
       "    <tr>\n",
       "      <th>1112</th>\n",
       "      <td>873_C18</td>\n",
       "      <td>C18</td>\n",
       "      <td>26386</td>\n",
       "      <td>6-Benzylaminopurine</td>\n",
       "      <td>1214-39-7</td>\n",
       "      <td>C12H11N5</td>\n",
       "      <td>225.25</td>\n",
       "      <td>pos</td>\n",
       "      <td>1</td>\n",
       "      <td>226.10870</td>\n",
       "      <td>599.4</td>\n",
       "      <td>375000000</td>\n",
       "      <td>873_C18+26386+1214-39-7+pos</td>\n",
       "      <td>[M+H]+</td>\n",
       "      <td>873_C18/26386</td>\n",
       "      <td>13</td>\n",
       "      <td>[1, 10, 15, 20, 25, 30, 35, 40, 50, 60, 70, 80...</td>\n",
       "    </tr>\n",
       "  </tbody>\n",
       "</table>\n",
       "</div>"
      ],
      "text/plain": [
       "        batch sepuzhu sampleid               Product Name     CAS No.  \\\n",
       "1104  873_C18     C18    26386         N6-Methyladenosine   1867-73-8   \n",
       "1106  873_C18     C18    26386             Corticosterone     50-22-6   \n",
       "1108  873_C18     C18    26386            Hexylresorcinol    136-77-6   \n",
       "1110  873_C18     C18    26386  3,4-Dicaffeoylquinic acid  14534-61-3   \n",
       "1112  873_C18     C18    26386        6-Benzylaminopurine   1214-39-7   \n",
       "\n",
       "         Formula    M.Wt pos_neg  refer_RT        m/z  RT time         NL  \\\n",
       "1104  C11H15N5O4  281.27     pos         1  282.11960    285.0  133000000   \n",
       "1106    C21H30O4  346.46     pos         1  347.22160    874.8  111000000   \n",
       "1108    C12H18O2  194.27     pos         1  195.13790    936.0     994000   \n",
       "1110   C25H24O12  516.45     pos         1  517.13405    643.2    1010000   \n",
       "1112    C12H11N5  225.25     pos         1  226.10870    599.4  375000000   \n",
       "\n",
       "                              bscp  Adduct batch_sampleid  ev_nums  \\\n",
       "1104   873_C18+26386+1867-73-8+pos  [M+H]+  873_C18/26386       13   \n",
       "1106     873_C18+26386+50-22-6+pos  [M+H]+  873_C18/26386       13   \n",
       "1108    873_C18+26386+136-77-6+pos  [M+H]+  873_C18/26386       13   \n",
       "1110  873_C18+26386+14534-61-3+pos  [M+H]+  873_C18/26386       13   \n",
       "1112   873_C18+26386+1214-39-7+pos  [M+H]+  873_C18/26386       13   \n",
       "\n",
       "                                                ev_list  \n",
       "1104  [1, 10, 15, 20, 25, 30, 35, 40, 50, 60, 70, 80...  \n",
       "1106  [1, 10, 15, 20, 25, 30, 35, 40, 50, 60, 70, 80...  \n",
       "1108  [1, 10, 15, 20, 25, 30, 35, 40, 50, 60, 70, 80...  \n",
       "1110  [1, 10, 15, 20, 25, 30, 35, 40, 50, 60, 70, 80...  \n",
       "1112  [1, 10, 15, 20, 25, 30, 35, 40, 50, 60, 70, 80...  "
      ]
     },
     "execution_count": 7,
     "metadata": {},
     "output_type": "execute_result"
    }
   ],
   "source": [
    "ref_all_df.head()"
   ]
  },
  {
   "cell_type": "code",
   "execution_count": 8,
   "id": "ca65e770-956a-45e2-8187-f8e5d69513e9",
   "metadata": {
    "tags": []
   },
   "outputs": [
    {
     "data": {
      "text/html": [
       "<div>\n",
       "<style scoped>\n",
       "    .dataframe tbody tr th:only-of-type {\n",
       "        vertical-align: middle;\n",
       "    }\n",
       "\n",
       "    .dataframe tbody tr th {\n",
       "        vertical-align: top;\n",
       "    }\n",
       "\n",
       "    .dataframe thead th {\n",
       "        text-align: right;\n",
       "    }\n",
       "</style>\n",
       "<table border=\"1\" class=\"dataframe\">\n",
       "  <thead>\n",
       "    <tr style=\"text-align: right;\">\n",
       "      <th></th>\n",
       "      <th>batch</th>\n",
       "      <th>sampleid</th>\n",
       "      <th>CAS No.</th>\n",
       "      <th>EV</th>\n",
       "      <th>pos_neg</th>\n",
       "      <th>mz</th>\n",
       "      <th>Product Name</th>\n",
       "      <th>filename</th>\n",
       "      <th>refer_valid</th>\n",
       "      <th>ref_rt</th>\n",
       "      <th>...</th>\n",
       "      <th>mol_intensity</th>\n",
       "      <th>is_max_base</th>\n",
       "      <th>base_intensity</th>\n",
       "      <th>ms1_base_rate</th>\n",
       "      <th>ms1_mol_rate</th>\n",
       "      <th>bscpe</th>\n",
       "      <th>is_max_ms1_39</th>\n",
       "      <th>filepath</th>\n",
       "      <th>filter_filepath</th>\n",
       "      <th>bscp</th>\n",
       "    </tr>\n",
       "  </thead>\n",
       "  <tbody>\n",
       "    <tr>\n",
       "      <th>5</th>\n",
       "      <td>700_Amide</td>\n",
       "      <td>S98</td>\n",
       "      <td>576-42-1</td>\n",
       "      <td>1</td>\n",
       "      <td>neg</td>\n",
       "      <td>209.03029</td>\n",
       "      <td>D-Glucaric acid (potassium)</td>\n",
       "      <td>576-42-1_NCE1_neg_MS2_12266_818.46.csv</td>\n",
       "      <td>1</td>\n",
       "      <td>826.2</td>\n",
       "      <td>...</td>\n",
       "      <td>1321181.90</td>\n",
       "      <td>0</td>\n",
       "      <td>1321181.90</td>\n",
       "      <td>1.372508</td>\n",
       "      <td>1.372508e+00</td>\n",
       "      <td>700_Amide+S98+576-42-1+neg+1</td>\n",
       "      <td>1</td>\n",
       "      <td>700_Amide/NCE_compound/S98/576-42-1_NCE1_neg/5...</td>\n",
       "      <td>700_Amide/NCE_compound_filter/S98/576-42-1_NCE...</td>\n",
       "      <td>700_Amide+S98+576-42-1+neg</td>\n",
       "    </tr>\n",
       "    <tr>\n",
       "      <th>18</th>\n",
       "      <td>700_Amide</td>\n",
       "      <td>S98</td>\n",
       "      <td>576-42-1</td>\n",
       "      <td>10</td>\n",
       "      <td>neg</td>\n",
       "      <td>209.03029</td>\n",
       "      <td>D-Glucaric acid (potassium)</td>\n",
       "      <td>576-42-1_NCE10_neg_MS2_12301_818.49.csv</td>\n",
       "      <td>1</td>\n",
       "      <td>826.2</td>\n",
       "      <td>...</td>\n",
       "      <td>1019900.40</td>\n",
       "      <td>0</td>\n",
       "      <td>1019900.40</td>\n",
       "      <td>1.691987</td>\n",
       "      <td>1.691987e+00</td>\n",
       "      <td>700_Amide+S98+576-42-1+neg+10</td>\n",
       "      <td>1</td>\n",
       "      <td>700_Amide/NCE_compound/S98/576-42-1_NCE10_neg/...</td>\n",
       "      <td>700_Amide/NCE_compound_filter/S98/576-42-1_NCE...</td>\n",
       "      <td>700_Amide+S98+576-42-1+neg</td>\n",
       "    </tr>\n",
       "    <tr>\n",
       "      <th>31</th>\n",
       "      <td>700_Amide</td>\n",
       "      <td>S98</td>\n",
       "      <td>576-42-1</td>\n",
       "      <td>100</td>\n",
       "      <td>neg</td>\n",
       "      <td>209.03029</td>\n",
       "      <td>D-Glucaric acid (potassium)</td>\n",
       "      <td>576-42-1_NCE100_neg_MS2_12241_814.59.csv</td>\n",
       "      <td>1</td>\n",
       "      <td>826.2</td>\n",
       "      <td>...</td>\n",
       "      <td>-1.00</td>\n",
       "      <td>0</td>\n",
       "      <td>81837.15</td>\n",
       "      <td>17.406986</td>\n",
       "      <td>-1.424538e+06</td>\n",
       "      <td>700_Amide+S98+576-42-1+neg+100</td>\n",
       "      <td>1</td>\n",
       "      <td>700_Amide/NCE_compound/S98/576-42-1_NCE100_neg...</td>\n",
       "      <td>700_Amide/NCE_compound_filter/S98/576-42-1_NCE...</td>\n",
       "      <td>700_Amide+S98+576-42-1+neg</td>\n",
       "    </tr>\n",
       "    <tr>\n",
       "      <th>42</th>\n",
       "      <td>700_Amide</td>\n",
       "      <td>S98</td>\n",
       "      <td>576-42-1</td>\n",
       "      <td>15</td>\n",
       "      <td>neg</td>\n",
       "      <td>209.03029</td>\n",
       "      <td>D-Glucaric acid (potassium)</td>\n",
       "      <td>576-42-1_NCE15_neg_MS2_12171_815.44.csv</td>\n",
       "      <td>1</td>\n",
       "      <td>826.2</td>\n",
       "      <td>...</td>\n",
       "      <td>685409.44</td>\n",
       "      <td>0</td>\n",
       "      <td>685409.44</td>\n",
       "      <td>2.262262</td>\n",
       "      <td>2.262262e+00</td>\n",
       "      <td>700_Amide+S98+576-42-1+neg+15</td>\n",
       "      <td>1</td>\n",
       "      <td>700_Amide/NCE_compound/S98/576-42-1_NCE15_neg/...</td>\n",
       "      <td>700_Amide/NCE_compound_filter/S98/576-42-1_NCE...</td>\n",
       "      <td>700_Amide+S98+576-42-1+neg</td>\n",
       "    </tr>\n",
       "    <tr>\n",
       "      <th>57</th>\n",
       "      <td>700_Amide</td>\n",
       "      <td>S98</td>\n",
       "      <td>576-42-1</td>\n",
       "      <td>20</td>\n",
       "      <td>neg</td>\n",
       "      <td>209.03029</td>\n",
       "      <td>D-Glucaric acid (potassium)</td>\n",
       "      <td>576-42-1_NCE20_neg_MS2_12266_818.88.csv</td>\n",
       "      <td>1</td>\n",
       "      <td>826.2</td>\n",
       "      <td>...</td>\n",
       "      <td>432622.44</td>\n",
       "      <td>0</td>\n",
       "      <td>432622.44</td>\n",
       "      <td>3.678289</td>\n",
       "      <td>3.678289e+00</td>\n",
       "      <td>700_Amide+S98+576-42-1+neg+20</td>\n",
       "      <td>1</td>\n",
       "      <td>700_Amide/NCE_compound/S98/576-42-1_NCE20_neg/...</td>\n",
       "      <td>700_Amide/NCE_compound_filter/S98/576-42-1_NCE...</td>\n",
       "      <td>700_Amide+S98+576-42-1+neg</td>\n",
       "    </tr>\n",
       "  </tbody>\n",
       "</table>\n",
       "<p>5 rows × 24 columns</p>\n",
       "</div>"
      ],
      "text/plain": [
       "        batch sampleid   CAS No.   EV pos_neg         mz  \\\n",
       "5   700_Amide      S98  576-42-1    1     neg  209.03029   \n",
       "18  700_Amide      S98  576-42-1   10     neg  209.03029   \n",
       "31  700_Amide      S98  576-42-1  100     neg  209.03029   \n",
       "42  700_Amide      S98  576-42-1   15     neg  209.03029   \n",
       "57  700_Amide      S98  576-42-1   20     neg  209.03029   \n",
       "\n",
       "                   Product Name                                  filename  \\\n",
       "5   D-Glucaric acid (potassium)    576-42-1_NCE1_neg_MS2_12266_818.46.csv   \n",
       "18  D-Glucaric acid (potassium)   576-42-1_NCE10_neg_MS2_12301_818.49.csv   \n",
       "31  D-Glucaric acid (potassium)  576-42-1_NCE100_neg_MS2_12241_814.59.csv   \n",
       "42  D-Glucaric acid (potassium)   576-42-1_NCE15_neg_MS2_12171_815.44.csv   \n",
       "57  D-Glucaric acid (potassium)   576-42-1_NCE20_neg_MS2_12266_818.88.csv   \n",
       "\n",
       "    refer_valid  ref_rt  ... mol_intensity  is_max_base  base_intensity  \\\n",
       "5             1   826.2  ...    1321181.90            0      1321181.90   \n",
       "18            1   826.2  ...    1019900.40            0      1019900.40   \n",
       "31            1   826.2  ...         -1.00            0        81837.15   \n",
       "42            1   826.2  ...     685409.44            0       685409.44   \n",
       "57            1   826.2  ...     432622.44            0       432622.44   \n",
       "\n",
       "    ms1_base_rate  ms1_mol_rate                           bscpe  \\\n",
       "5        1.372508  1.372508e+00    700_Amide+S98+576-42-1+neg+1   \n",
       "18       1.691987  1.691987e+00   700_Amide+S98+576-42-1+neg+10   \n",
       "31      17.406986 -1.424538e+06  700_Amide+S98+576-42-1+neg+100   \n",
       "42       2.262262  2.262262e+00   700_Amide+S98+576-42-1+neg+15   \n",
       "57       3.678289  3.678289e+00   700_Amide+S98+576-42-1+neg+20   \n",
       "\n",
       "    is_max_ms1_39                                           filepath  \\\n",
       "5               1  700_Amide/NCE_compound/S98/576-42-1_NCE1_neg/5...   \n",
       "18              1  700_Amide/NCE_compound/S98/576-42-1_NCE10_neg/...   \n",
       "31              1  700_Amide/NCE_compound/S98/576-42-1_NCE100_neg...   \n",
       "42              1  700_Amide/NCE_compound/S98/576-42-1_NCE15_neg/...   \n",
       "57              1  700_Amide/NCE_compound/S98/576-42-1_NCE20_neg/...   \n",
       "\n",
       "                                      filter_filepath  \\\n",
       "5   700_Amide/NCE_compound_filter/S98/576-42-1_NCE...   \n",
       "18  700_Amide/NCE_compound_filter/S98/576-42-1_NCE...   \n",
       "31  700_Amide/NCE_compound_filter/S98/576-42-1_NCE...   \n",
       "42  700_Amide/NCE_compound_filter/S98/576-42-1_NCE...   \n",
       "57  700_Amide/NCE_compound_filter/S98/576-42-1_NCE...   \n",
       "\n",
       "                          bscp  \n",
       "5   700_Amide+S98+576-42-1+neg  \n",
       "18  700_Amide+S98+576-42-1+neg  \n",
       "31  700_Amide+S98+576-42-1+neg  \n",
       "42  700_Amide+S98+576-42-1+neg  \n",
       "57  700_Amide+S98+576-42-1+neg  \n",
       "\n",
       "[5 rows x 24 columns]"
      ]
     },
     "execution_count": 8,
     "metadata": {},
     "output_type": "execute_result"
    }
   ],
   "source": [
    "con1_info_df = pd.read_excel(f'{out_root_path}/con1_info_df.xlsx',index_col=0)\n",
    "con1_info_df['bscp']=con1_info_df['batch']+'+'+con1_info_df['sampleid'].astype(str)+'+'+con1_info_df['CAS No.']+'+'+con1_info_df['pos_neg']\n",
    "con1_info_df.head()"
   ]
  },
  {
   "cell_type": "code",
   "execution_count": 9,
   "id": "d116124e-60db-4104-b822-2a3ff693afeb",
   "metadata": {
    "tags": []
   },
   "outputs": [
    {
     "data": {
      "text/plain": [
       "(190786,\n",
       " ['700_Amide+S98+576-42-1+neg+1',\n",
       "  '700_Amide+S98+576-42-1+neg+10',\n",
       "  '700_Amide+S98+576-42-1+neg+100',\n",
       "  '700_Amide+S98+576-42-1+neg+15',\n",
       "  '700_Amide+S98+576-42-1+neg+20'])"
      ]
     },
     "execution_count": 9,
     "metadata": {},
     "output_type": "execute_result"
    }
   ],
   "source": [
    "con1_info_df[\"bscpe\"] = con1_info_df['batch']+'+'+con1_info_df['sampleid'].astype(str)+'+'+con1_info_df['CAS No.']+'+'+con1_info_df['pos_neg']+'+'+con1_info_df['EV'].astype(str)\n",
    "bscpe_list = con1_info_df[\"bscpe\"].unique().tolist()\n",
    "len(bscpe_list), bscpe_list[0:5]"
   ]
  },
  {
   "cell_type": "code",
   "execution_count": 1593,
   "id": "99e2d6f9-4d91-4cb8-a362-b42e28e01427",
   "metadata": {
    "tags": []
   },
   "outputs": [],
   "source": [
    "con1_info_df[\"sepuzhu\"] = con1_info_df[\"batch\"].apply(lambda x:x.split(\"_\")[1])"
   ]
  },
  {
   "cell_type": "code",
   "execution_count": null,
   "id": "128ff5b9-37f1-4b32-b973-800c283ab5c4",
   "metadata": {
    "tags": []
   },
   "outputs": [
    {
     "data": {
      "text/plain": [
       "(56,\n",
       " ['Amide+neg+1',\n",
       "  'Amide+neg+10',\n",
       "  'Amide+neg+100',\n",
       "  'Amide+neg+15',\n",
       "  'Amide+neg+20'])"
      ]
     },
     "execution_count": 1595,
     "metadata": {},
     "output_type": "execute_result"
    }
   ],
   "source": [
    "# Mode list style sepuzhu+pos_neg+EV\n",
    "con1_info_df[\"spe\"] = con1_info_df['sepuzhu'].astype(str)+'+'+con1_info_df['pos_neg']+'+'+con1_info_df['EV'].astype(str)\n",
    "spe_list = con1_info_df[\"spe\"].unique().tolist()\n",
    "len(spe_list), spe_list[0:5]\n"
   ]
  },
  {
   "cell_type": "markdown",
   "id": "a62e7dc1-169c-4be0-a683-bb1910187876",
   "metadata": {},
   "source": [
    "# jaccard similarity"
   ]
  },
  {
   "cell_type": "code",
   "execution_count": 859,
   "id": "f023bc10-45b5-458f-a4da-c188344c8a0b",
   "metadata": {
    "tags": []
   },
   "outputs": [
    {
     "name": "stdout",
     "output_type": "stream",
     "text": [
      "Jaccard Similarity: 0.9909909909909907\n"
     ]
    }
   ],
   "source": [
    "import numpy as np\n",
    "\n",
    "def fu_jaccard_similarity_vector(P, Q):\n",
    "    dot_product = np.dot(P, Q)\n",
    "    sum_of_squares_p = np.dot(P, P)\n",
    "    sum_of_squares_q = np.dot(Q, Q)\n",
    "    \n",
    "    jaccard_index = dot_product / (sum_of_squares_p + sum_of_squares_q - dot_product)\n",
    "    return jaccard_index\n",
    "\n",
    "# Example vectors\n",
    "P = np.array([1, 2, 3])\n",
    "Q = np.array([1.1, 2.2, 3.3])\n",
    "\n",
    "# Calculate Jaccard similarity\n",
    "similarity = fu_jaccard_similarity(P, Q)\n",
    "print(f\"Jaccard Similarity: {similarity}\")\n"
   ]
  },
  {
   "cell_type": "code",
   "execution_count": 860,
   "id": "9563b28e-1f6e-4cb9-9e15-520ff863deec",
   "metadata": {
    "tags": []
   },
   "outputs": [
    {
     "name": "stdout",
     "output_type": "stream",
     "text": [
      "Jaccard Similarity Matrix:\n",
      " [[1.         0.54237288]\n",
      " [0.54237288 1.        ]]\n"
     ]
    }
   ],
   "source": [
    "import numpy as np\n",
    "\n",
    "def fu_jaccard_similarity_matrix(X, Y=None):\n",
    "    # If Y is None, use X for both arguments (i.e., compare all pairs within X)\n",
    "    if Y is None:\n",
    "        Y = X\n",
    "\n",
    "    # Ensure input is numpy arrays\n",
    "    X = np.atleast_2d(X)\n",
    "    Y = np.atleast_2d(Y)\n",
    "\n",
    "    # Compute dot products\n",
    "    dot_product = np.dot(X, Y.T)\n",
    "    \n",
    "    # Compute the sum of squares for each vector\n",
    "    sum_of_squares_X = np.sum(X ** 2, axis=1)[:, np.newaxis]  # Make column vector\n",
    "    sum_of_squares_Y = np.sum(Y ** 2, axis=1)  # Make row vector\n",
    "    \n",
    "    # Compute the Jaccard similarity matrix\n",
    "    denominator = sum_of_squares_X + sum_of_squares_Y - dot_product\n",
    "    jaccard_index = dot_product / denominator\n",
    "    \n",
    "    return jaccard_index\n",
    "\n",
    "# Example matrices\n",
    "X = np.array([[1, 2, 3], [4, 5, 6]])\n",
    "Y = np.array([[1, 2, 3], [4, 5, 6], [7, 8, 9]])\n",
    "\n",
    "# Calculate Jaccard similarity\n",
    "similarity_matrix = fu_jaccard_similarity_matrix(X)\n",
    "print(\"Jaccard Similarity Matrix:\\n\", similarity_matrix)\n"
   ]
  },
  {
   "cell_type": "markdown",
   "id": "39e397f4-62bb-4849-8b85-ecd59743ee86",
   "metadata": {
    "tags": []
   },
   "source": [
    "# Establish isomers, (positive and negative, different modes) references"
   ]
  },
  {
   "cell_type": "code",
   "execution_count": 1827,
   "id": "27bfb7b9-a42c-45c6-9a53-1332985aecc9",
   "metadata": {
    "tags": []
   },
   "outputs": [],
   "source": [
    "isomeride_df = pd.DataFrame(columns=[\"sepuzhu\", \"pos_neg\", \"bscp1\", \"b1_name\", \"b1_adduct\",\n",
    "                                     \"bscp2_list\", \"b2_name_list\", \"b2_adduct_list\"])"
   ]
  },
  {
   "cell_type": "code",
   "execution_count": 1828,
   "id": "fec4726b-04a1-4c4e-9ade-9c9176d647b3",
   "metadata": {
    "tags": []
   },
   "outputs": [],
   "source": [
    "pattern_list = [[\"Amide\",\"pos\"], [\"Amide\",\"neg\"], [\"C18\",\"pos\"], [\"C18\",\"neg\"]]\n",
    "ev14_list = [1,10,100,15,20,25,30,35,40,50,60,70,80,204060]\n",
    "# ev_list = ['1', '10', '100', '15', '20', '25', '30', '35', '40', '50', '60','70', '80']"
   ]
  },
  {
   "cell_type": "code",
   "execution_count": 2,
   "id": "673a7299-518e-4195-b1db-9e0833071cc0",
   "metadata": {
    "tags": []
   },
   "outputs": [],
   "source": [
    "\"\"\"Isomers\"\"\"\n",
    "n=0\n",
    "for [sepuzhu, pos_neg] in pattern_list:\n",
    "    ref_pattern_df = ref_all_df[(ref_all_df[\"sepuzhu\"]==sepuzhu) & (ref_all_df[\"pos_neg\"]==pos_neg)]\n",
    "    for i in ref_pattern_df.index:\n",
    "        bscp1, mz, b1_adduct, b1_name = ref_pattern_df.loc[i,[\"bscp\", \"m/z\", \"Adduct\", \"Product Name\"]]\n",
    "        ref_isomeride_df = ref_pattern_df[ref_pattern_df[\"m/z\"]==mz]\n",
    "        if ref_isomeride_df.shape[0]>1:\n",
    "            bscp2_list = ref_isomeride_df[\"bscp\"].tolist()\n",
    "            bscp2_list.remove(bscp1)\n",
    "            b2_adduct_list = ref_isomeride_df[\"Adduct\"].tolist()\n",
    "            b2_adduct_list.remove(b1_adduct)\n",
    "            b2_name_list = ref_isomeride_df[\"Product Name\"].tolist()\n",
    "            b2_name_list.remove(b1_name)\n",
    "            \n",
    "            isomeride_df.loc[n] = [sepuzhu, pos_neg, bscp1, b1_name, b1_adduct, \n",
    "                                   bscp2_list, b2_name_list, b2_adduct_list]\n",
    "            n+=1\n",
    "        # break\n"
   ]
  },
  {
   "cell_type": "code",
   "execution_count": 1833,
   "id": "1ce2ec7c-7935-4612-9dbd-70f7c2a9c0f4",
   "metadata": {
    "tags": []
   },
   "outputs": [
    {
     "data": {
      "text/html": [
       "<div>\n",
       "<style scoped>\n",
       "    .dataframe tbody tr th:only-of-type {\n",
       "        vertical-align: middle;\n",
       "    }\n",
       "\n",
       "    .dataframe tbody tr th {\n",
       "        vertical-align: top;\n",
       "    }\n",
       "\n",
       "    .dataframe thead th {\n",
       "        text-align: right;\n",
       "    }\n",
       "</style>\n",
       "<table border=\"1\" class=\"dataframe\">\n",
       "  <thead>\n",
       "    <tr style=\"text-align: right;\">\n",
       "      <th></th>\n",
       "      <th>sepuzhu</th>\n",
       "      <th>pos_neg</th>\n",
       "      <th>bscp1</th>\n",
       "      <th>b1_name</th>\n",
       "      <th>b1_adduct</th>\n",
       "      <th>bscp2_list</th>\n",
       "      <th>b2_name_list</th>\n",
       "      <th>b2_adduct_list</th>\n",
       "      <th>class</th>\n",
       "    </tr>\n",
       "  </thead>\n",
       "  <tbody>\n",
       "    <tr>\n",
       "      <th>0</th>\n",
       "      <td>Amide</td>\n",
       "      <td>pos</td>\n",
       "      <td>BC_Amide+S109+14534-61-3+pos</td>\n",
       "      <td>3,4-Dicaffeoylquinic acid</td>\n",
       "      <td>[M+H]+</td>\n",
       "      <td>[873_Amide+2_2+2450-53-5+pos]</td>\n",
       "      <td>[Isochlorogenic acid A]</td>\n",
       "      <td>[[M+H]+]</td>\n",
       "      <td>isomeride</td>\n",
       "    </tr>\n",
       "    <tr>\n",
       "      <th>1</th>\n",
       "      <td>Amide</td>\n",
       "      <td>pos</td>\n",
       "      <td>873_Amide+26386+56-12-2+pos</td>\n",
       "      <td>γ-Aminobutyric acid</td>\n",
       "      <td>[M+H]+</td>\n",
       "      <td>[873_Amide+26396+4249-19-8+pos, 873_Amide+2_1+...</td>\n",
       "      <td>[(S)-b-aminoisobutyric acid, NSC 16590, 3-Amin...</td>\n",
       "      <td>[[M+H]+, [M+H]+, [M+H]+, [M+H]+, [M+H]+, [M+H]+]</td>\n",
       "      <td>isomeride</td>\n",
       "    </tr>\n",
       "  </tbody>\n",
       "</table>\n",
       "</div>"
      ],
      "text/plain": [
       "  sepuzhu pos_neg                         bscp1                    b1_name  \\\n",
       "0   Amide     pos  BC_Amide+S109+14534-61-3+pos  3,4-Dicaffeoylquinic acid   \n",
       "1   Amide     pos   873_Amide+26386+56-12-2+pos        γ-Aminobutyric acid   \n",
       "\n",
       "  b1_adduct                                         bscp2_list  \\\n",
       "0    [M+H]+                      [873_Amide+2_2+2450-53-5+pos]   \n",
       "1    [M+H]+  [873_Amide+26396+4249-19-8+pos, 873_Amide+2_1+...   \n",
       "\n",
       "                                        b2_name_list  \\\n",
       "0                            [Isochlorogenic acid A]   \n",
       "1  [(S)-b-aminoisobutyric acid, NSC 16590, 3-Amin...   \n",
       "\n",
       "                                     b2_adduct_list      class  \n",
       "0                                          [[M+H]+]  isomeride  \n",
       "1  [[M+H]+, [M+H]+, [M+H]+, [M+H]+, [M+H]+, [M+H]+]  isomeride  "
      ]
     },
     "execution_count": 1833,
     "metadata": {},
     "output_type": "execute_result"
    }
   ],
   "source": [
    "isomeride_df[\"class\"]=\"isomeride\"\n",
    "isomeride_df.head(2)"
   ]
  },
  {
   "cell_type": "code",
   "execution_count": null,
   "id": "8a0c1bed-743f-41fe-aa31-88db0d7b2b6c",
   "metadata": {
    "tags": []
   },
   "outputs": [],
   "source": [
    "# Output to file\n",
    "isomeride_df.to_csv(f\"{out_root_path}/isomeride_df.csv\")\n"
   ]
  },
  {
   "cell_type": "code",
   "execution_count": 1839,
   "id": "8c4740c2-bb5b-46a8-9431-d0e38bb844b5",
   "metadata": {
    "tags": []
   },
   "outputs": [],
   "source": [
    "\"\"\"different patterns\"\"\"\n",
    "def change_pattern(b1_sepuzhu):\n",
    "    if b1_sepuzhu == \"Amide\":\n",
    "        return \"C18\"\n",
    "    elif b1_sepuzhu == \"C18\":\n",
    "        return \"Amide\""
   ]
  },
  {
   "cell_type": "code",
   "execution_count": 1928,
   "id": "0b0883ca-9e2d-46ef-961c-8eba1df09c76",
   "metadata": {
    "tags": []
   },
   "outputs": [],
   "source": [
    "diff_pattern_df = pd.DataFrame(columns=[\"sepuzhu\", \"pos_neg\", \"bscp1\", \"b1_name\", \"b1_adduct\",\n",
    "                                        \"bscp2_list\", \"b2_name_list\", \"b2_adduct_list\"])"
   ]
  },
  {
   "cell_type": "code",
   "execution_count": 1841,
   "id": "8704d9e2-41f2-4862-b77f-6984533a2336",
   "metadata": {
    "tags": []
   },
   "outputs": [],
   "source": [
    "m=0\n",
    "for i in ref_all_df.index:\n",
    "    b1_cols_list = ['sepuzhu','Product Name', 'CAS No.', 'pos_neg', 'bscp', 'Adduct']\n",
    "    # b2_cols_list = ['sepuzhu', 'pos_neg', 'bscp', 'Adduct']\n",
    "    b1_sepuzhu, b1_name, b1_cas, b1_pos_neg, bscp1, b1_adduct = ref_all_df.loc[i,b1_cols_list]\n",
    "    b2_sepuzhu = change_pattern(b1_sepuzhu)\n",
    "    b2_temp_df = ref_all_df[(ref_all_df[\"sepuzhu\"]==b2_sepuzhu) \n",
    "                            & (ref_all_df[\"CAS No.\"]==b1_cas) \n",
    "                            & (ref_all_df[\"pos_neg\"]==b1_pos_neg)]\n",
    "    if b2_temp_df.shape[0]==0:\n",
    "        continue\n",
    "    # bscp2_list = \n",
    "    bscp2_list = b2_temp_df[\"bscp\"].tolist()\n",
    "    b2_adduct_list = b2_temp_df[\"Adduct\"].tolist()\n",
    "    b2_name_list = b2_temp_df[\"Product Name\"].tolist()\n",
    "\n",
    "    diff_pattern_df.loc[m] = [b1_sepuzhu, b1_pos_neg, bscp1, b1_name, b1_adduct,\n",
    "                              bscp2_list, b2_name_list, b2_adduct_list]\n",
    "    m+=1\n",
    "    # break"
   ]
  },
  {
   "cell_type": "code",
   "execution_count": 1842,
   "id": "5ce3f249-b5df-4df4-9bdf-285f072c2a0e",
   "metadata": {
    "tags": []
   },
   "outputs": [],
   "source": [
    "diff_pattern_df[\"class\"] = \"diff_pattern\""
   ]
  },
  {
   "cell_type": "code",
   "execution_count": 1843,
   "id": "b74bf46f-6666-4f63-a3a2-8bc471264862",
   "metadata": {
    "tags": []
   },
   "outputs": [
    {
     "data": {
      "text/html": [
       "<div>\n",
       "<style scoped>\n",
       "    .dataframe tbody tr th:only-of-type {\n",
       "        vertical-align: middle;\n",
       "    }\n",
       "\n",
       "    .dataframe tbody tr th {\n",
       "        vertical-align: top;\n",
       "    }\n",
       "\n",
       "    .dataframe thead th {\n",
       "        text-align: right;\n",
       "    }\n",
       "</style>\n",
       "<table border=\"1\" class=\"dataframe\">\n",
       "  <thead>\n",
       "    <tr style=\"text-align: right;\">\n",
       "      <th></th>\n",
       "      <th>sepuzhu</th>\n",
       "      <th>pos_neg</th>\n",
       "      <th>bscp1</th>\n",
       "      <th>b1_name</th>\n",
       "      <th>b1_adduct</th>\n",
       "      <th>bscp2_list</th>\n",
       "      <th>b2_name_list</th>\n",
       "      <th>b2_adduct_list</th>\n",
       "      <th>class</th>\n",
       "    </tr>\n",
       "  </thead>\n",
       "  <tbody>\n",
       "    <tr>\n",
       "      <th>0</th>\n",
       "      <td>C18</td>\n",
       "      <td>pos</td>\n",
       "      <td>873_C18+26386+1867-73-8+pos</td>\n",
       "      <td>N6-Methyladenosine</td>\n",
       "      <td>[M+H]+</td>\n",
       "      <td>[873_Amide+26386+1867-73-8+pos]</td>\n",
       "      <td>[N6-Methyladenosine]</td>\n",
       "      <td>[[M+H]+]</td>\n",
       "      <td>diff_pattern</td>\n",
       "    </tr>\n",
       "    <tr>\n",
       "      <th>1</th>\n",
       "      <td>C18</td>\n",
       "      <td>pos</td>\n",
       "      <td>873_C18+26386+50-22-6+pos</td>\n",
       "      <td>Corticosterone</td>\n",
       "      <td>[M+H]+</td>\n",
       "      <td>[873_Amide+26386+50-22-6+pos]</td>\n",
       "      <td>[Corticosterone]</td>\n",
       "      <td>[[M+H]+]</td>\n",
       "      <td>diff_pattern</td>\n",
       "    </tr>\n",
       "  </tbody>\n",
       "</table>\n",
       "</div>"
      ],
      "text/plain": [
       "  sepuzhu pos_neg                        bscp1             b1_name b1_adduct  \\\n",
       "0     C18     pos  873_C18+26386+1867-73-8+pos  N6-Methyladenosine    [M+H]+   \n",
       "1     C18     pos    873_C18+26386+50-22-6+pos      Corticosterone    [M+H]+   \n",
       "\n",
       "                        bscp2_list          b2_name_list b2_adduct_list  \\\n",
       "0  [873_Amide+26386+1867-73-8+pos]  [N6-Methyladenosine]       [[M+H]+]   \n",
       "1    [873_Amide+26386+50-22-6+pos]      [Corticosterone]       [[M+H]+]   \n",
       "\n",
       "          class  \n",
       "0  diff_pattern  \n",
       "1  diff_pattern  "
      ]
     },
     "execution_count": 1843,
     "metadata": {},
     "output_type": "execute_result"
    }
   ],
   "source": [
    "diff_pattern_df.head(2)"
   ]
  },
  {
   "cell_type": "code",
   "execution_count": 1846,
   "id": "277cc7bd-19a6-496b-b064-42ad6b9b9fe4",
   "metadata": {
    "tags": []
   },
   "outputs": [
    {
     "data": {
      "text/plain": [
       "(11604, 9)"
      ]
     },
     "execution_count": 1846,
     "metadata": {},
     "output_type": "execute_result"
    }
   ],
   "source": [
    "diff_pattern_df.shape"
   ]
  },
  {
   "cell_type": "code",
   "execution_count": 1929,
   "id": "8c773fc0-b816-4023-9d8f-d14fb8f93dcd",
   "metadata": {
    "tags": []
   },
   "outputs": [
    {
     "data": {
      "text/html": [
       "<div>\n",
       "<style scoped>\n",
       "    .dataframe tbody tr th:only-of-type {\n",
       "        vertical-align: middle;\n",
       "    }\n",
       "\n",
       "    .dataframe tbody tr th {\n",
       "        vertical-align: top;\n",
       "    }\n",
       "\n",
       "    .dataframe thead th {\n",
       "        text-align: right;\n",
       "    }\n",
       "</style>\n",
       "<table border=\"1\" class=\"dataframe\">\n",
       "  <thead>\n",
       "    <tr style=\"text-align: right;\">\n",
       "      <th></th>\n",
       "      <th>sepuzhu</th>\n",
       "      <th>pos_neg</th>\n",
       "      <th>bscp1</th>\n",
       "      <th>b1_name</th>\n",
       "      <th>b1_adduct</th>\n",
       "      <th>bscp2_list</th>\n",
       "      <th>b2_name_list</th>\n",
       "      <th>b2_adduct_list</th>\n",
       "      <th>class</th>\n",
       "    </tr>\n",
       "  </thead>\n",
       "  <tbody>\n",
       "    <tr>\n",
       "      <th>5064</th>\n",
       "      <td>C18</td>\n",
       "      <td>neg</td>\n",
       "      <td>700_C18+S104+28954-12-3+neg</td>\n",
       "      <td>L-Allothreonine</td>\n",
       "      <td>[M-H]-</td>\n",
       "      <td>[873_C18+26391+672-15-1+neg, 873_C18+26396+72-...</td>\n",
       "      <td>[L-Homoserine, L-Threonine, D-Allothreonine]</td>\n",
       "      <td>[[M-H]-, [M-H]-, [M-H]-]</td>\n",
       "      <td>isomeride</td>\n",
       "    </tr>\n",
       "    <tr>\n",
       "      <th>5065</th>\n",
       "      <td>C18</td>\n",
       "      <td>neg</td>\n",
       "      <td>700_C18+S104+7048-04-6+neg</td>\n",
       "      <td>L-Cysteine hydrochloride monohydrate</td>\n",
       "      <td>[M-H]-</td>\n",
       "      <td>[873_C18+26397+52-90-4+neg]</td>\n",
       "      <td>[L-Cysteine]</td>\n",
       "      <td>[[M-H]-]</td>\n",
       "      <td>isomeride</td>\n",
       "    </tr>\n",
       "  </tbody>\n",
       "</table>\n",
       "</div>"
      ],
      "text/plain": [
       "     sepuzhu pos_neg                        bscp1  \\\n",
       "5064     C18     neg  700_C18+S104+28954-12-3+neg   \n",
       "5065     C18     neg   700_C18+S104+7048-04-6+neg   \n",
       "\n",
       "                                   b1_name b1_adduct  \\\n",
       "5064                       L-Allothreonine    [M-H]-   \n",
       "5065  L-Cysteine hydrochloride monohydrate    [M-H]-   \n",
       "\n",
       "                                             bscp2_list  \\\n",
       "5064  [873_C18+26391+672-15-1+neg, 873_C18+26396+72-...   \n",
       "5065                        [873_C18+26397+52-90-4+neg]   \n",
       "\n",
       "                                      b2_name_list            b2_adduct_list  \\\n",
       "5064  [L-Homoserine, L-Threonine, D-Allothreonine]  [[M-H]-, [M-H]-, [M-H]-]   \n",
       "5065                                  [L-Cysteine]                  [[M-H]-]   \n",
       "\n",
       "          class  \n",
       "5064  isomeride  \n",
       "5065  isomeride  "
      ]
     },
     "execution_count": 1929,
     "metadata": {},
     "output_type": "execute_result"
    }
   ],
   "source": [
    "\"\"\"Merge isomeride_df和diff_pattern_df\"\"\"\n",
    "con_isomeride_df = pd.concat([isomeride_df,diff_pattern_df])\n",
    "con_isomeride_df.reset_index(inplace=True,drop=True)\n",
    "con_isomeride_df.tail(2)"
   ]
  },
  {
   "cell_type": "code",
   "execution_count": 1933,
   "id": "f0e92037-0517-4ad3-9133-0303ffeb51f0",
   "metadata": {
    "tags": []
   },
   "outputs": [
    {
     "data": {
      "text/plain": [
       "(5066, 9)"
      ]
     },
     "execution_count": 1933,
     "metadata": {},
     "output_type": "execute_result"
    }
   ],
   "source": [
    "con_isomeride_df.shape"
   ]
  },
  {
   "cell_type": "code",
   "execution_count": null,
   "id": "abe542a1-8695-4bba-bd44-6a8915019d5a",
   "metadata": {
    "tags": []
   },
   "outputs": [],
   "source": [
    "# Output to file\n",
    "con_isomeride_df.to_csv(f\"{out_root_path}/con_isomeride_df.csv\")"
   ]
  },
  {
   "cell_type": "code",
   "execution_count": 13,
   "id": "a500450a-4b6e-44cf-8000-2d34188395ef",
   "metadata": {
    "tags": []
   },
   "outputs": [],
   "source": [
    "con_isomeride_df = pd.read_csv(f\"{out_root_path}/con_isomeride_df.csv\")"
   ]
  },
  {
   "cell_type": "code",
   "execution_count": 1854,
   "id": "b318b613-173f-439a-a0f4-2862c208112c",
   "metadata": {
    "tags": []
   },
   "outputs": [
    {
     "name": "stdout",
     "output_type": "stream",
     "text": [
      "Index(['batch', 'sampleid', 'CAS No.', 'EV', 'pos_neg', 'mz', 'Product Name',\n",
      "       'filename', 'refer_valid', 'ref_rt', 'ref_intensity', 'is_max_ms1',\n",
      "       'ms1_intensity', 'is_max_mol', 'mol_intensity', 'is_max_base',\n",
      "       'base_intensity', 'ms1_base_rate', 'ms1_mol_rate', 'bscpe',\n",
      "       'is_max_ms1_39', 'filepath', 'filter_filepath', 'bscp', 'sepuzhu',\n",
      "       'spe'],\n",
      "      dtype='object')\n"
     ]
    },
    {
     "data": {
      "text/html": [
       "<div>\n",
       "<style scoped>\n",
       "    .dataframe tbody tr th:only-of-type {\n",
       "        vertical-align: middle;\n",
       "    }\n",
       "\n",
       "    .dataframe tbody tr th {\n",
       "        vertical-align: top;\n",
       "    }\n",
       "\n",
       "    .dataframe thead th {\n",
       "        text-align: right;\n",
       "    }\n",
       "</style>\n",
       "<table border=\"1\" class=\"dataframe\">\n",
       "  <thead>\n",
       "    <tr style=\"text-align: right;\">\n",
       "      <th></th>\n",
       "      <th>batch</th>\n",
       "      <th>sampleid</th>\n",
       "      <th>CAS No.</th>\n",
       "      <th>EV</th>\n",
       "      <th>pos_neg</th>\n",
       "      <th>mz</th>\n",
       "      <th>Product Name</th>\n",
       "      <th>filename</th>\n",
       "      <th>refer_valid</th>\n",
       "      <th>ref_rt</th>\n",
       "      <th>...</th>\n",
       "      <th>base_intensity</th>\n",
       "      <th>ms1_base_rate</th>\n",
       "      <th>ms1_mol_rate</th>\n",
       "      <th>bscpe</th>\n",
       "      <th>is_max_ms1_39</th>\n",
       "      <th>filepath</th>\n",
       "      <th>filter_filepath</th>\n",
       "      <th>bscp</th>\n",
       "      <th>sepuzhu</th>\n",
       "      <th>spe</th>\n",
       "    </tr>\n",
       "  </thead>\n",
       "  <tbody>\n",
       "    <tr>\n",
       "      <th>5</th>\n",
       "      <td>700_Amide</td>\n",
       "      <td>S98</td>\n",
       "      <td>576-42-1</td>\n",
       "      <td>1</td>\n",
       "      <td>neg</td>\n",
       "      <td>209.03029</td>\n",
       "      <td>D-Glucaric acid (potassium)</td>\n",
       "      <td>576-42-1_NCE1_neg_MS2_12266_818.46.csv</td>\n",
       "      <td>1</td>\n",
       "      <td>826.2</td>\n",
       "      <td>...</td>\n",
       "      <td>1321181.9</td>\n",
       "      <td>1.372508</td>\n",
       "      <td>1.372508</td>\n",
       "      <td>700_Amide+S98+576-42-1+neg+1</td>\n",
       "      <td>1</td>\n",
       "      <td>700_Amide/NCE_compound/S98/576-42-1_NCE1_neg/5...</td>\n",
       "      <td>700_Amide/NCE_compound_filter/S98/576-42-1_NCE...</td>\n",
       "      <td>700_Amide+S98+576-42-1+neg</td>\n",
       "      <td>Amide</td>\n",
       "      <td>Amide+neg+1</td>\n",
       "    </tr>\n",
       "  </tbody>\n",
       "</table>\n",
       "<p>1 rows × 26 columns</p>\n",
       "</div>"
      ],
      "text/plain": [
       "       batch sampleid   CAS No.  EV pos_neg         mz  \\\n",
       "5  700_Amide      S98  576-42-1   1     neg  209.03029   \n",
       "\n",
       "                  Product Name                                filename  \\\n",
       "5  D-Glucaric acid (potassium)  576-42-1_NCE1_neg_MS2_12266_818.46.csv   \n",
       "\n",
       "   refer_valid  ref_rt  ... base_intensity  ms1_base_rate  ms1_mol_rate  \\\n",
       "5            1   826.2  ...      1321181.9       1.372508      1.372508   \n",
       "\n",
       "                          bscpe  is_max_ms1_39  \\\n",
       "5  700_Amide+S98+576-42-1+neg+1              1   \n",
       "\n",
       "                                            filepath  \\\n",
       "5  700_Amide/NCE_compound/S98/576-42-1_NCE1_neg/5...   \n",
       "\n",
       "                                     filter_filepath  \\\n",
       "5  700_Amide/NCE_compound_filter/S98/576-42-1_NCE...   \n",
       "\n",
       "                         bscp  sepuzhu          spe  \n",
       "5  700_Amide+S98+576-42-1+neg    Amide  Amide+neg+1  \n",
       "\n",
       "[1 rows x 26 columns]"
      ]
     },
     "execution_count": 1854,
     "metadata": {},
     "output_type": "execute_result"
    }
   ],
   "source": [
    "print(con1_info_df.columns)\n",
    "con1_info_df.head(1)"
   ]
  },
  {
   "cell_type": "markdown",
   "id": "a5ca92fa-3c8b-4d4a-8214-61fa2e64da64",
   "metadata": {
    "tags": []
   },
   "source": [
    "# cross-sectional similarity calculation"
   ]
  },
  {
   "cell_type": "code",
   "execution_count": null,
   "id": "4bf8f385-779b-4ac3-bf39-c5520169961c",
   "metadata": {
    "tags": []
   },
   "outputs": [],
   "source": [
    "\"\"\"Calculate the similarity between bscp1 and each element in bscp2_list\"\"\"\n",
    "sim_method_list = [\"cosine\", \"jaccard\", \"entropy\"]\n",
    "for sim_method in sim_method_list[1:2]:\n",
    "    # Iterate through each row\n",
    "    for i in con_isomeride_df.index[2488:2489]:\n",
    "        if i % 100 == 0:\n",
    "            print(\"==\", i)\n",
    "        sepuzhu, pos_neg, bscp1, b1_name, b1_adduct, bscp2_list, b2_name_list, b2_adduct_list, class_ = con_isomeride_df.loc[i, :]\n",
    "        batch, sampleid, cas, pos_neg = bscp1.split(\"+\")\n",
    "        temp_bscp_list = [bscp1] + bscp2_list\n",
    "        # Iterate through each energy level\n",
    "        for ev in ev14_list:\n",
    "            # print(\"111\")\n",
    "            temp_bscpe_list = [f\"{bscp}+{ev}\" for bscp in temp_bscp_list]\n",
    "\n",
    "            bscpe_ms2_list = []\n",
    "            for bscpe in temp_bscpe_list:\n",
    "                temp_con1_info_df = con1_info_df[con1_info_df[\"bscpe\"] == bscpe]\n",
    "                if temp_con1_info_df.shape[0] > 0:\n",
    "                    temp_filepath, theo_mz = temp_con1_info_df.loc[temp_con1_info_df.index[0], [\"filter_filepath\", \"mz\"]]\n",
    "                    temp_bscpe = mzbatch.read_data(f\"{out_root_path}/{temp_filepath}\", theo_mz, rate=100)\n",
    "                    bscpe_ms2_list.append(temp_bscpe)\n",
    "                else:\n",
    "                    # print(f\"With {temp_bscpe_list[0]} as the reference, the corresponding {bscpe} was not found\")\n",
    "                    bscpe_ms2_list.append(pd.DataFrame({\"Intensity\": 0}, index=[-1]).rename_axis('Mass'))\n",
    "            temp_bscpe_df = pd.concat(bscpe_ms2_list, axis=1)\n",
    "            temp_bscpe_df.columns = [-1] + list(range(len(bscpe_ms2_list) - 1))\n",
    "            temp_bscpe_df = temp_bscpe_df.fillna(0)\n",
    "            temp_bscpe_df = mzbatch.to_relative_abundance(temp_bscpe_df)  # 240805 convert to relative abundance!! Very important\n",
    "            pos_sim_list = mzbatch.cal_pos_sim(temp_bscpe_df, sim_method=sim_method)\n",
    "\n",
    "            # Non-zero count for each column\n",
    "            no0_nums_list = temp_bscpe_df.ne(0).sum(axis=0).tolist()\n",
    "            bscp1_no0_nums_list = no0_nums_list[0]\n",
    "            bscp2_no0_nums_list = no0_nums_list[1:]\n",
    "            # Generate output file\n",
    "            out_folder = f\"{out_root_path}/{batch}/NCE_similar_{sim_method}/{sampleid}/\"\n",
    "            if not os.path.exists(out_folder):\n",
    "                os.makedirs(out_folder)\n",
    "                while os.path.exists(out_folder):\n",
    "                    break\n",
    "            out_filename = f\"{temp_bscpe_list[0][temp_bscpe_list[0].index('+', temp_bscpe_list[0].index('+') + 1) + 1:]}\"\n",
    "            pd.DataFrame({\"sepuzhu\": sepuzhu, \"pos_neg\": pos_neg, \"ev\": ev, \"class\": class_,\n",
    "                          \"bscp1\": bscp1, \"b1_name\": b1_name, \"b1_adduct\": b1_adduct,\n",
    "                          \"bscp2\": bscp2_list, \"b2_name\": b2_name_list, \"b2_adduct\": b2_adduct_list,\n",
    "                          \"pos_sim\": pos_sim_list, \"square_pos_sim\": np.square(pos_sim_list),\n",
    "                          \"bscp1_no0_nums_list\": bscp1_no0_nums_list,\n",
    "                          \"bscp2_no0_nums_list\": bscp2_no0_nums_list}).to_csv(f\"{out_folder}/{out_filename}.csv\")\n",
    "            # print(\"Finished saving\")\n",
    "\n",
    "                # break\n",
    "            # break\n",
    "        # break1\n",
    "    # break\n"
   ]
  },
  {
   "cell_type": "markdown",
   "id": "f9dff4c2-aeaf-430e-a587-909416eea366",
   "metadata": {},
   "source": [
    "## Merge files\n",
    "- The two sim_methods are merged separately"
   ]
  },
  {
   "cell_type": "code",
   "execution_count": 17,
   "id": "7898ebcb-7247-4756-a12d-663cc5cce78b",
   "metadata": {
    "tags": []
   },
   "outputs": [],
   "source": [
    "batch_list = ['700_Amide','700_C18','873_Amide','873_C18','3545_Amide','3545_C18','BC_Amide','BC_C18']\n",
    "sim_method_list = [\"cosine\", \"jaccard\", \"entropy\"]"
   ]
  },
  {
   "cell_type": "code",
   "execution_count": null,
   "id": "0568c139-75d1-422f-aff9-6c070ebf0cad",
   "metadata": {
    "tags": []
   },
   "outputs": [],
   "source": [
    "# Merge single batch\n",
    "# sim_method = sim_method_list[0]\n",
    "# sim_method = sim_method_list[1]\n",
    "sim_method = sim_method_list[2]\n",
    "for batch in batch_list:\n",
    "    # Result file\n",
    "    similar_root_path = f'{out_root_path}/{batch}/NCE_similar_{sim_method}'\n",
    "    similar_df_list = []\n",
    "    \n",
    "    for root, dirs, files in os.walk(similar_root_path):\n",
    "        for similar_filename in files:\n",
    "            one_similar_df = pd.read_csv(f'{root}/{similar_filename}', index_col=0)\n",
    "            similar_df_list.append(one_similar_df)\n",
    "\n",
    "    similar_all_df = pd.concat(similar_df_list)\n",
    "    # similar_all_df.to_excel(f'{out_root_path}/{batch}/similar_all_df.xlsx')\n",
    "    similar_all_df.to_csv(f'{out_root_path}/{batch}/similar_{sim_method}_all_df.csv')\n"
   ]
  },
  {
   "cell_type": "code",
   "execution_count": null,
   "id": "33cb5e73-95f8-43eb-befb-76f14252cac9",
   "metadata": {
    "tags": []
   },
   "outputs": [],
   "source": [
    "# Merge all batches\n",
    "batch_similar_df_list = []\n",
    "\n",
    "for batch in batch_list:\n",
    "    batch_similar_df = pd.read_csv(f'{out_root_path}/{batch}/similar_{sim_method}_all_df.csv', index_col=0)\n",
    "    batch_similar_df_list.append(batch_similar_df)\n",
    "    \n",
    "con_similar_df = pd.concat(batch_similar_df_list)\n",
    "con_similar_df.to_csv(f'{out_root_path}/con_similar_{sim_method}_all_df.csv')\n"
   ]
  },
  {
   "cell_type": "markdown",
   "id": "4b8f613e-cf98-417b-bba9-7860ca765f91",
   "metadata": {},
   "source": [
    "#Longitudinal calculation"
   ]
  },
  {
   "cell_type": "code",
   "execution_count": 1577,
   "id": "0acac323-f736-4ccd-af93-1bd2ee97718f",
   "metadata": {
    "tags": []
   },
   "outputs": [
    {
     "data": {
      "text/plain": [
       "(17289, 9)"
      ]
     },
     "execution_count": 1577,
     "metadata": {},
     "output_type": "execute_result"
    }
   ],
   "source": [
    "con_isomeride_df.shape"
   ]
  },
  {
   "cell_type": "code",
   "execution_count": 1633,
   "id": "6822b57d-36a3-4fa5-b9b5-0c6d6f85bdec",
   "metadata": {
    "tags": []
   },
   "outputs": [],
   "source": [
    "\"\"\" Build standard_ms2_df, behavior mz, as energy \"\"\"\n",
    "def make_standard_ms2_df(temp_con1_info_df,out_res_path,temp_bscp):\n",
    "    standard_ms2_list = []\n",
    "    for standard_index in temp_con1_info_df.index:\n",
    "        mz, filter_filepath = temp_con1_info_df.loc[standard_index,[\"mz\", \"filter_filepath\"]]\n",
    "        one_ms2_df = mzbatch.read_data(f'{out_root_path}/{filter_filepath}',mz,rate=100)\n",
    "        standard_ms2_list.append(one_ms2_df)\n",
    "    standard_ms2_df = pd.concat(standard_ms2_list,axis=1)\n",
    "    standard_ms2_df.columns = temp_con1_info_df[\"EV\"].tolist()\n",
    "    standard_ms2_df = standard_ms2_df.fillna(0)\n",
    "    standard_ms2_df = mzbatch.to_relative_abundance(standard_ms2_df)\n",
    "    standard_ms2_df = standard_ms2_df.sort_index()\n",
    "    ev_list = temp_con1_info_df[\"EV\"].unique().tolist()\n",
    "    ev_list.sort()\n",
    "    standard_ms2_df = standard_ms2_df.loc[:,ev_list]\n",
    "    standard_ms2_df.to_csv(f\"{out_res_path}/{temp_bscp}.csv\")"
   ]
  },
  {
   "cell_type": "code",
   "execution_count": null,
   "id": "f3f44ab9-81d2-4a66-853f-6fb06b59804d",
   "metadata": {
    "tags": []
   },
   "outputs": [],
   "source": [
    "\"\"\" A collection of 13 energies per compound is constructed according to the bscp. Output to NCE_merge13 with the file name bscp\"\"\"\n",
    "for temp_bscp in bscp_list[1984:1985]:\n",
    "    # temp_bscp = \"700_C18+S101+56-73-5+pos\"\n",
    "    # temp_bscp = \"873_Amide+26386+1477-68-5+neg\" # No files found\n",
    "    batch,sampleid,cas,pos_neg = temp_bscp.split(\"+\")\n",
    "    temp_con1_info_df = con1_info_df[(con1_info_df['bscp'] == temp_bscp) & (con1_info_df['EV'] != 204060)].copy()\n",
    "    if temp_con1_info_df.shape[0]==0:\n",
    "        print(temp_bscp, \"No energy files found\")\n",
    "        continue\n",
    "    out_res_path = f\"{out_root_path}/{batch}/NCE_merge13/\"\n",
    "    if not os.path.exists(out_res_path):\n",
    "        os.makedirs(out_res_path)\n",
    "        while os.path.exists(out_res_path):\n",
    "            break\n",
    "    make_standard_ms2_df(temp_con1_info_df,out_res_path,temp_bscp)\n",
    "    # break"
   ]
  },
  {
   "cell_type": "code",
   "execution_count": 1585,
   "id": "8a802b9a-a6eb-4819-964c-69aa273ed9f4",
   "metadata": {
    "tags": []
   },
   "outputs": [],
   "source": [
    "def change_cols(data_df, ev_intersection_list, col_pre):\n",
    "    data_df = data_df.loc[:,ev_intersection_list]\n",
    "    data_cols = [f\"{col_pre}_{i}\" for i in data_df.columns]\n",
    "    data_df.columns = data_cols\n",
    "    return data_df"
   ]
  },
  {
   "cell_type": "code",
   "execution_count": 1588,
   "id": "1f4b9b18-598f-4802-935e-afaadb729310",
   "metadata": {
    "tags": []
   },
   "outputs": [
    {
     "data": {
      "text/plain": [
       "(2, 13)"
      ]
     },
     "execution_count": 1588,
     "metadata": {},
     "output_type": "execute_result"
    }
   ],
   "source": [
    "def read_bscp_merge13file(bscp):\n",
    "    batch,sampleid,cas,pos_neg = bscp.split(\"+\")\n",
    "    filepath = f\"{out_root_path}/{batch}/NCE_merge13/{bscp}.csv\"\n",
    "    # print(filepath)\n",
    "    if not os.path.exists(filepath):\n",
    "        return pd.DataFrame(columns=[-1])\n",
    "    data_df = pd.read_csv(filepath,index_col=0)\n",
    "    return data_df\n",
    "a = read_bscp_merge13file(bscp1)\n",
    "a.shape"
   ]
  },
  {
   "cell_type": "markdown",
   "id": "1d540ca9-ac87-47ed-b1d5-c9b9508bd205",
   "metadata": {
    "tags": []
   },
   "source": [
    "### Output NCE_align_cosine and NCE_align_res_cosine"
   ]
  },
  {
   "cell_type": "code",
   "execution_count": null,
   "id": "2540fdb3-571f-4a38-85fe-28b15bec88ac",
   "metadata": {
    "tags": []
   },
   "outputs": [
    {
     "name": "stdout",
     "output_type": "stream",
     "text": [
      "60\n",
      "74 ['sepuzhu', 'pos_neg', 'class', 'bscp1', 'b1_name', 'b1_adduct', 'b1_no0_linenums', 'bscp2', 'b2_name', 'b2_adduct', 'b2_no0_linenums', 'ev_nums', 'ev_list', 'is_same', 'top_1', 'top_1_sum', 'top_1_ev13', 'top_2', 'top_2_sum', 'top_2_ev13', 'top_3', 'top_3_sum', 'top_3_ev13', 'top_4', 'top_4_sum', 'top_4_ev13', 'top_5', 'top_5_sum', 'top_5_ev13', 'top_6', 'top_6_sum', 'top_6_ev13', 'top_7', 'top_7_sum', 'top_7_ev13', 'top_8', 'top_8_sum', 'top_8_ev13', 'top_9', 'top_9_sum', 'top_9_ev13', 'top_10', 'top_10_sum', 'top_10_ev13', 'top_11', 'top_11_sum', 'top_11_ev13', 'top_12', 'top_12_sum', 'top_12_ev13', 'top_13', 'top_13_sum', 'top_13_ev13', 'top_14', 'top_14_sum', 'top_14_ev13', 'top_15', 'top_15_sum', 'top_15_ev13', 'top_16', 'top_16_sum', 'top_16_ev13', 'top_17', 'top_17_sum', 'top_17_ev13', 'top_18', 'top_18_sum', 'top_18_ev13', 'top_19', 'top_19_sum', 'top_19_ev13', 'top_20', 'top_20_sum', 'top_20_ev13']\n"
     ]
    }
   ],
   "source": [
    "\"\"\"Generate column names\"\"\"\n",
    "sim_method_list = [\"cosine\", \"jaccard\"]\n",
    "top_colist = []\n",
    "[top_colist.extend([f\"top_{i}\", f\"top_{i}_sum\", f\"top_{i}_ev13\"]) for i in range(1, 21)]\n",
    "print(len(top_colist))\n",
    "align_res_cols = [\"sepuzhu\", \"pos_neg\", \"class\", \"bscp1\", \"b1_name\", \"b1_adduct\", \"b1_no0_linenums\",\n",
    "                  \"bscp2\", \"b2_name\", \"b2_adduct\", \"b2_no0_linenums\", \"ev_nums\", \"ev_list\", \"is_same\"] + top_colist\n",
    "print(len(align_res_cols), align_res_cols)\n"
   ]
  },
  {
   "cell_type": "code",
   "execution_count": 1954,
   "id": "a3f8cabb-ff48-42ef-a2c3-b2ec4ccf91e2",
   "metadata": {
    "tags": []
   },
   "outputs": [
    {
     "data": {
      "text/plain": [
       "[1, 10, 15, 20, 25, 30, 35, 40, 50, 60, 70, 80, 100]"
      ]
     },
     "execution_count": 1954,
     "metadata": {},
     "output_type": "execute_result"
    }
   ],
   "source": [
    "ev_13_list = [1, 10, 15, 20, 25, 30, 35, 40, 50, 60, 70, 80, 100]\n",
    "ev_0160_list = [1, 10, 15, 20, 25, 30, 35, 40, 50, 60]\n",
    "ev_0170_list = [1, 10, 15, 20, 25, 30, 35, 40, 50, 60, 70]\n",
    "ev_2060_list = [20, 25, 30, 35, 40, 50, 60]\n",
    "ev_204060_list = [20, 40, 60]\n",
    "ev_select_dict = {\"ev13\":ev_13_list, \"ev0160\":ev_0160_list, \"ev0170\":ev_0170_list, \"ev2060\":ev_2060_list, \"ev204060\":ev_204060_list}\n",
    "ev_select_name = \"ev13\"\n",
    "ev_select_list = ev_select_dict[ev_select_name]\n",
    "ev_select_list"
   ]
  },
  {
   "cell_type": "code",
   "execution_count": 1755,
   "id": "84b92ec7-1c68-4fd6-a105-fa486d1c23c4",
   "metadata": {
    "tags": []
   },
   "outputs": [],
   "source": [
    "sim_method = sim_method_list[0]\n",
    "\n",
    "for i in con_isomeride_df.index[0:]:\n",
    "    sepuzhu, pos_neg, bscp1, b1_name, b1_adduct, bscp2_list, b2_name_list, b2_adduct_list, class_ = con_isomeride_df.loc[i,:]\n",
    "    batch1, sampleid1, cas1, pos_neg1 = bscp1.split(\"+\")\n",
    "    bscp1_align_res_df = pd.DataFrame(columns=align_res_cols)\n",
    "    n = 0\n",
    "    for b2_index, bscp2 in enumerate(bscp2_list):\n",
    "        \"\"\"Merge b1 and b2\"\"\"\n",
    "        batch2, sampleid2, cas2, pos_neg2 = bscp2.split(\"+\")\n",
    "        b2_adduct = b2_adduct_list[b2_index]\n",
    "        b2_name = b2_name_list[b2_index]\n",
    "    \n",
    "        # Get energy intersection\n",
    "        ref1_df = ref_all_df[ref_all_df[\"bscp\"] == bscp1]\n",
    "        ev1_nums, ev1_list = ref1_df.loc[ref1_df.index[0], [\"ev_nums\", \"ev_list\"]]\n",
    "        if ev1_nums == 0:\n",
    "            continue\n",
    "        ref2_df = ref_all_df[ref_all_df[\"bscp\"] == bscp2]\n",
    "        ev2_nums, ev2_list = ref2_df.loc[ref2_df.index[0], [\"ev_nums\", \"ev_list\"]]\n",
    "        if ev2_nums == 0:\n",
    "            continue\n",
    "        # Get intersection\n",
    "        ev1_list = eval(ev1_list)\n",
    "        ev2_list = eval(ev2_list)\n",
    "        ev_intersection_list = list(set(ev1_list) & set(ev2_list) & set(ev_select_list))\n",
    "        ev_intersection_list.sort()\n",
    "        if len(ev_intersection_list) == 0:\n",
    "            continue\n",
    "        b1_cols = [f\"b1_{i}\" for i in ev_intersection_list]  # b1 energy columns\n",
    "        b2_cols = [f\"b2_{i}\" for i in ev_intersection_list]  # b2 energy columns\n",
    "            \n",
    "        # Read files\n",
    "        ev_intersection_list = [str(i) for i in ev_intersection_list]\n",
    "        bscp1_df = read_bscp_merge13file(bscp1)\n",
    "        bscp1_df = change_cols(bscp1_df, ev_intersection_list, \"b1\")\n",
    "\n",
    "        bscp2_df = read_bscp_merge13file(bscp2)\n",
    "        bscp2_df = change_cols(bscp2_df, ev_intersection_list, \"b2\")\n",
    "\n",
    "        b12_df = pd.concat([bscp1_df, bscp2_df], axis=1)\n",
    "        b12_df = b12_df.fillna(0)\n",
    "        b12_df = b12_df.sort_index()\n",
    "        if b12_df.shape[0] == 0:\n",
    "            print(f\"b1:{bscp1}, b2:{bscp2} is empty\")\n",
    "            continue\n",
    "        \n",
    "        # Add group column, group consecutive differences of 1 together\n",
    "        b12_df['group'] = (b12_df.index.to_series().diff() != 1).cumsum()\n",
    "        b12_bak_df = b12_df.copy(deep=True)\n",
    "        # Take the maximum of each row\n",
    "        b12_df = b12_df.groupby('group').agg(lambda x: x.max())\n",
    "        # Remove the group column and set the smallest index value as the new index\n",
    "        b12_df.index = b12_bak_df.groupby('group').apply(lambda x: x.index.min()).values\n",
    "        \n",
    "        # Calculate vertical similarity, do not add columns beforehand, otherwise it will cause errors\n",
    "        if sim_method == \"cosine\":\n",
    "            b12_df[\"cosine\"] = np.square(np.diag(cosine_similarity(b12_df.loc[:, b1_cols].to_numpy(), b12_df.loc[:, b2_cols].to_numpy())))\n",
    "        else:\n",
    "            b12_df[\"jaccard\"] = np.diag(mzbatch.fu_jaccard_similarity_matrix(b12_df.loc[:, b1_cols].to_numpy(), b12_df.loc[:, b2_cols].to_numpy()))\n",
    "        align_out_path = f\"{out_root_path}/{batch1}/NCE_align_{sim_method}_{ev_select_name}/{bscp1}\"\n",
    "        \n",
    "        if not os.path.exists(align_out_path):\n",
    "            os.makedirs(align_out_path)\n",
    "            while os.path.exists(align_out_path):\n",
    "                break\n",
    "        # Calculate the sum intensity of b1 and b2\n",
    "        b12_df[\"b1_sum_intensity\"] = b12_df.loc[:, b1_cols].sum(axis=1)\n",
    "        b12_df[\"b2_sum_intensity\"] = b12_df.loc[:, b2_cols].sum(axis=1)\n",
    "        b12_df[\"b12_sum_intensity\"] = b12_df[\"b1_sum_intensity\"] + b12_df[\"b2_sum_intensity\"]\n",
    "        b12_df.to_csv(f\"{align_out_path}/{bscp2}.csv\")\n",
    "        \n",
    "        \"\"\"Output the results of vertical similarity statistics to NCE_align_res\"\"\"\n",
    "        b12_no0_df = b12_df[~(b12_df[b1_cols] == 0).all(axis=1)]  # Filter rows where all 13 columns of b1 are not 0\n",
    "        b12_no0_sort_df = b12_no0_df.sort_values(by=\"b12_sum_intensity\", ascending=False)  # Sort by the sum intensity column, take top\n",
    "        b1_no0_linenums = b12_no0_sort_df.shape[0]\n",
    "        \n",
    "        b2_no0_df = b12_df[~(b12_df[b2_cols] == 0).all(axis=1)]\n",
    "        b2_no0_linenums = b2_no0_df.shape[0]\n",
    "\n",
    "        is_same = (cas1 == cas2)\n",
    "        top_res_list = []\n",
    "        # Total only topn, max is 20\n",
    "        len_topn = b12_no0_sort_df.shape[0] \n",
    "        if len_topn > 20:\n",
    "            len_topn = 20\n",
    "        for i in range(20):\n",
    "            if i < len_topn:\n",
    "                topi_index = b12_no0_sort_df.index[i]\n",
    "                topi = b12_no0_sort_df.loc[topi_index, sim_method]\n",
    "                topi_sum = [b12_no0_sort_df.loc[topi_index, \"b1_sum_intensity\"], b12_no0_sort_df.loc[topi_index, \"b2_sum_intensity\"]]\n",
    "                topi_ev13 = [np.round(b12_no0_sort_df.loc[topi_index, b1_cols], 4).tolist(),\n",
    "                             np.round(b12_no0_sort_df.loc[topi_index, b2_cols], 4).tolist()]\n",
    "                top_res_list.extend([topi, topi_sum, topi_ev13])\n",
    "            else:\n",
    "                top_res_list.extend([-1, -1, -1])\n",
    "        bscp1_align_res_df.loc[n] = [sepuzhu, pos_neg, class_, bscp1, b1_name, b1_adduct, b1_no0_linenums,\n",
    "                                     bscp2, b2_name, b2_adduct, b2_no0_linenums,\n",
    "                                     len(ev_intersection_list), ev_intersection_list, is_same] + top_res_list\n",
    "        n += 1\n",
    "        \n",
    "    align_res_outpath = f\"{out_root_path}/{batch1}/NCE_align_res_{sim_method}_{ev_select_name}/\"\n",
    "    if not os.path.exists(align_res_outpath):\n",
    "        os.makedirs(align_res_outpath)\n",
    "        while os.path.exists(align_res_outpath):\n",
    "            break\n",
    "    # if os.path.exists(f\"{align_res_outpath}/{bscp1}.csv\"):\n",
    "    #     bscp1_align_res_df.to_csv(f\"{align_res_outpath}/{bscp1}.csv\", mode=\"a\", header=False)\n",
    "    # else:\n",
    "    bscp1_align_res_df.to_csv(f\"{align_res_outpath}/{bscp1}_{class_}.csv\")\n",
    "    \n",
    "    # break"
   ]
  },
  {
   "cell_type": "markdown",
   "id": "96769932-9713-43d5-8b8a-e786519e2784",
   "metadata": {},
   "source": [
    "## Merge files"
   ]
  },
  {
   "cell_type": "code",
   "execution_count": 1983,
   "id": "9adf0511-60d0-41d8-b0d3-2c89424f7eca",
   "metadata": {
    "tags": []
   },
   "outputs": [],
   "source": [
    "batch_list = ['700_Amide','700_C18','873_Amide','873_C18','3545_Amide','3545_C18','BC_Amide','BC_C18']\n",
    "sim_method_list = [\"cosine\", \"jaccard\", \"entropy\"]"
   ]
  },
  {
   "cell_type": "code",
   "execution_count": null,
   "id": "6761c4aa-9677-4367-8f27-0c3947da807f",
   "metadata": {
    "tags": []
   },
   "outputs": [],
   "source": [
    "for sim_method in sim_method_list:\n",
    "    for ev_select in ev_select_dict.keys():\n",
    "    # for ev_select in [\"ev13\"]:\n",
    "\n",
    "        for batch in batch_list:\n",
    "            # Result file\n",
    "            align_res_outpath = f'{out_root_path}/{batch}/NCE_align_res_{sim_method}_{ev_select}'\n",
    "            align_res_df_list = []\n",
    "\n",
    "            for align_res_filename in os.listdir(align_res_outpath):\n",
    "                one_align_res_df = pd.read_csv(f'{align_res_outpath}/{align_res_filename}', index_col=0)\n",
    "                align_res_df_list.append(one_align_res_df)\n",
    "\n",
    "            align_res_all_df = pd.concat(align_res_df_list)\n",
    "            # similar_all_df.to_excel(f'{out_root_path}/{batch}/similar_all_df.xlsx')\n",
    "            align_res_all_df.to_csv(f'{out_root_path}/{batch}/align_res_{sim_method}_{ev_select}_all_df.csv')\n"
   ]
  },
  {
   "cell_type": "code",
   "execution_count": null,
   "id": "974d3374-3890-4bdb-b87c-764df80873d5",
   "metadata": {
    "tags": []
   },
   "outputs": [],
   "source": [
    "for sim_method in sim_method_list:\n",
    "    for ev_select in ev_select_dict.keys():\n",
    "    # for ev_select in [\"ev13\"]:\n",
    "        batch_align_res_df_list = []  # Modified on 0605\n",
    "        for batch in batch_list:\n",
    "            batch_align_res_df = pd.read_csv(f'{out_root_path}/{batch}/align_res_{sim_method}_{ev_select}_all_df.csv', index_col=0)\n",
    "            batch_align_res_df_list.append(batch_align_res_df)\n",
    "\n",
    "        con_align_res_df = pd.concat(batch_align_res_df_list)\n",
    "        con_align_res_df.to_csv(f'{out_root_path}/con_align_res_{sim_method}_{ev_select}_all_df.csv')\n"
   ]
  }
 ],
 "metadata": {
  "kernelspec": {
   "display_name": "Python 3 (ipykernel)",
   "language": "python",
   "name": "python3"
  },
  "language_info": {
   "codemirror_mode": {
    "name": "ipython",
    "version": 3
   },
   "file_extension": ".py",
   "mimetype": "text/x-python",
   "name": "python",
   "nbconvert_exporter": "python",
   "pygments_lexer": "ipython3",
   "version": "3.8.13"
  }
 },
 "nbformat": 4,
 "nbformat_minor": 5
}
